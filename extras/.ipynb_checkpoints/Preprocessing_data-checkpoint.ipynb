{
 "cells": [
  {
   "cell_type": "markdown",
   "id": "c3111b3b",
   "metadata": {},
   "source": [
    "Khi xử lý dữ liệu, chúng ta thường nên bắt đầu từ những dữ liệu nhỏ trước, vì khi dữ liệu càng lớn thì quá trình xử lý đòi hỏi rất nhiều tài nguyên từ bộ nhớ máy tính đến thời gian xử lý dữ liệu. Đặc biệt là khi dữ liệu chúng ta chưa từng tiếp xúc với nó hoặc không thể nắm hết thông tin về nó, chúng ta sẽ phải trải nghiệm tìm hiểu về các đặc tính và ý nghĩa của các đặc tính đó trong dữ liệu. \n",
    "\n",
    "Trong thế giới thực, dữ liệu mà ta xử lý cũng có trường hợp ít, nhưng cũng có trường hợp dữ liệu rất nhiều. Nếu bạn không rút gọn những dữ liệu đó, bạn sẽ gặp rắc rối rất lớn về thời hạn mà công việc cho phép, có khi đến ngày deadline, bạn cũng chưa làm đâu vào đâu thì thực sự rất phiền phức. Do đó, một trong những vấn đề cơ bản cũng là rất quan trọng trong lĩnh vực `Data Science` đó là `preprocessing data`.\n",
    "\n",
    "Ở bài này, bài viết sẽ hướng dẫn các bạn cách đẻ tách dữ liệu thành những dữ liệu nhỏ hơn để phục vụ cho việc trải nghiệm trước khi tiến hành những bước quan trọng về sau như xây dựng mô hình, cải thiện mô hình...\n",
    "\n",
    "Bạn sẽ cần tải xuống dữ liệu từ link sau : \n",
    "https://www.kaggle.com/kmader/food41 \n",
    "\n",
    "Đoạn code dưới đây thực hiện các nội dung bao gồm :\n",
    "* Tập dữ liệu binary class (tách sushi/tacos thành train & test folders)\n",
    "* 10% dữ liệu của Tập dữ liệu binary class  (tachs sushi/tacos thành train & test folders) \n",
    "* 10 class của tập dữ liệu (tách 10 classes thành train & test folders)\n",
    "* 10% dữ liệu của 10 class dataset (lấy ngẫu nhiên 10% của training data, nhưng giũ nguyên test data )\n",
    "* Tạo tất cả class của tập dữ liệu (tách tất cả classes thành train & test folders)\n",
    "* 10% dữ liệu của tất cả các class (lấy ngẫu nhiên 10% của training data, giữ nguyên test data)\n"
   ]
  },
  {
   "cell_type": "code",
   "execution_count": 1,
   "id": "e7d0f215",
   "metadata": {},
   "outputs": [],
   "source": [
    "import os \n",
    "import sys\n",
    "import shutil"
   ]
  },
  {
   "cell_type": "code",
   "execution_count": 2,
   "id": "feb1533d",
   "metadata": {
    "scrolled": true
   },
   "outputs": [],
   "source": [
    "# Nếu bạn chưa cài đặt thư viện tqdm thì cài đặt lần đầu\n",
    "# !conda install --yes --prefix {sys.prefix} -c conda-forge tqdm"
   ]
  },
  {
   "cell_type": "markdown",
   "id": "1f678b97",
   "metadata": {},
   "source": [
    "* Cần 10% tập dữ liệu chỉ có 2 class (chỉ lấy train data)\n",
    "* Cần 1% tập dữ liệu chỉ có 2 class\n",
    "* Cần 10 tập dữ liệu\n",
    "* Cần 10% class dataset\n",
    "* Cần 1% class dataset\n",
    "* Cần 10% của tất cả các tập dữ liệu"
   ]
  },
  {
   "cell_type": "markdown",
   "id": "eeebf157",
   "metadata": {},
   "source": [
    "Kiểm tra xem folder hiện tại đang chứa file hay tập tin gì"
   ]
  },
  {
   "cell_type": "code",
   "execution_count": 3,
   "id": "cf24813f",
   "metadata": {
    "scrolled": false
   },
   "outputs": [
    {
     "name": "stdout",
     "output_type": "stream",
     "text": [
      "Preprocessing_data.ipynb\r\n"
     ]
    }
   ],
   "source": [
    "!ls "
   ]
  },
  {
   "cell_type": "markdown",
   "id": "12b77d8b",
   "metadata": {},
   "source": [
    "Khi tải file về bạn có thể giải nén bằng cách : `click chuột phải` -> `extract here`\n",
    "\n",
    "Nếu muốn dùng code để giải nén thì bạn làm như sau:  \n",
    "\n",
    "Nhưng trước khi giải nén, bạn cần lưu ý có 2 trường hợp có thể xảy ra : \n",
    "1. Người nén file đã đưa tất cả các file vào trong 1 folder thì lúc này bạn giải nén sẽ chỉ xuất hiện 1 folder duy nhất trông rất gọn gàng.\n",
    "2. Người nén file chưa gom tất cả các file vào trong 1 folder, lúc này nếu không để ý mà giải nén vội vàng sẽ tạo rất nhiều file rất lộn xộn dẫn đến khó kiểm soát, nhất là khi folder đó của bạn trước đó chứa rất nhiều file sẵn có rồi.\n",
    "\n",
    "Do đó, tốt nhất bạn nên tạo một folder chứa file zip này rồi hãy giải nén. \n",
    "\n",
    "* Kiểm tra và tạo folder có tên data\n",
    "* Có thể sử dụng `mkdir data` hoặc sử dụng thư viện `os` trong python để tạo folder"
   ]
  },
  {
   "cell_type": "code",
   "execution_count": 4,
   "id": "98c150b4",
   "metadata": {},
   "outputs": [
    {
     "name": "stdout",
     "output_type": "stream",
     "text": [
      "Creating data folder successfully\n"
     ]
    }
   ],
   "source": [
    "if os.path.isdir(\"data\") : \n",
    "    print(\"Data has already been existing\")\n",
    "else : \n",
    "    os.mkdir(\"data\")\n",
    "    print(\"Creating data folder successfully\")\n"
   ]
  },
  {
   "cell_type": "markdown",
   "id": "7467751c",
   "metadata": {},
   "source": [
    "Sau đó, di chuyển file nén vào trong folder data mới được tạo"
   ]
  },
  {
   "cell_type": "code",
   "execution_count": 5,
   "id": "63ef06c3",
   "metadata": {},
   "outputs": [],
   "source": [
    "# Sử dụng lệnh của terminal \n",
    "# !mv archive.zip data # mv là lệnh chuyển file, archive.zip là tên file cần được chuyển, data chình là folder đích đến"
   ]
  },
  {
   "cell_type": "code",
   "execution_count": 6,
   "id": "095e4b39",
   "metadata": {
    "scrolled": true
   },
   "outputs": [
    {
     "name": "stdout",
     "output_type": "stream",
     "text": [
      "File not found.\n"
     ]
    }
   ],
   "source": [
    "# Sử dụng lệnh trong python\n",
    "if os.path.isfile(\"archive.zip\") : # Nếu file vẫn còn tồn tại trong folder hiện tại thì mới tiến hành dời file\n",
    "    shutil.move(\"archive.zip\",\"data\")\n",
    "    print(\"Move successfully\")\n",
    "else : \n",
    "    print(\"File not found.\")"
   ]
  },
  {
   "cell_type": "code",
   "execution_count": 7,
   "id": "a885e59f",
   "metadata": {},
   "outputs": [],
   "source": [
    "# Lúc này, folder data đã chứa file nén\n",
    "!ls data"
   ]
  },
  {
   "cell_type": "markdown",
   "id": "9e396704",
   "metadata": {},
   "source": [
    "Tiến hành giải nén file zip"
   ]
  },
  {
   "cell_type": "code",
   "execution_count": 8,
   "id": "b36cdfcf",
   "metadata": {},
   "outputs": [],
   "source": [
    "import zipfile"
   ]
  },
  {
   "cell_type": "markdown",
   "id": "1368fc1a",
   "metadata": {},
   "source": [
    "Kiểm tra folder hiện tại"
   ]
  },
  {
   "cell_type": "code",
   "execution_count": 9,
   "id": "b7dc6086",
   "metadata": {},
   "outputs": [
    {
     "data": {
      "text/plain": [
       "'extras'"
      ]
     },
     "execution_count": 9,
     "metadata": {},
     "output_type": "execute_result"
    }
   ],
   "source": [
    "# tạo hàm để kiểm tra vì có thể sử dụng sau này\n",
    "def get_current_dirname() : \n",
    "    \"\"\"\n",
    "    return current dirname working\n",
    "    \"\"\"\n",
    "    os.getcwd() # get current working directory\n",
    "    current_dirname = os.getcwd().split(\"/\")[-1]\n",
    "    return current_dirname\n",
    "\n",
    "get_current_dirname()"
   ]
  },
  {
   "cell_type": "markdown",
   "id": "12b38a4e",
   "metadata": {},
   "source": [
    "Nếu Folder hiện tại là `data` thì bỏ qua nếu không thì bạn cần thay đổi folder làm việc hiện tại"
   ]
  },
  {
   "cell_type": "code",
   "execution_count": 10,
   "id": "eb5cd396",
   "metadata": {},
   "outputs": [],
   "source": [
    "if get_current_dirname() != \"data\" : \n",
    "    os.chdir(\"data\")"
   ]
  },
  {
   "cell_type": "code",
   "execution_count": 11,
   "id": "b6f31a71",
   "metadata": {},
   "outputs": [
    {
     "data": {
      "text/plain": [
       "'data'"
      ]
     },
     "execution_count": 11,
     "metadata": {},
     "output_type": "execute_result"
    }
   ],
   "source": [
    "get_current_dirname()"
   ]
  },
  {
   "cell_type": "markdown",
   "id": "e095e676",
   "metadata": {},
   "source": [
    "OK, đã đúng với folder làm việc hiện tại. Bây giờ, ta sẽ tiến hành giải nén file, nhưng bạn nên tạo function để nếu có thể ta sẽ tái sử dụng tránh lặp đi lặp lại code quá nhiều lần."
   ]
  },
  {
   "cell_type": "code",
   "execution_count": 12,
   "id": "194d1849",
   "metadata": {},
   "outputs": [],
   "source": [
    "def unzip_file(filename) : \n",
    "    if os.path.isfile(filename) :\n",
    "        zipref = zipfile.ZipFile(filename, \"r\")\n",
    "        zipref.extractall()\n",
    "        zipref.close()\n",
    "        # Sau khi giải nén thì remove file zip \n",
    "        os.remove(filename)        \n",
    "        print(\"Extracted all and remove zip file!\")\n",
    "unzip_file(\"archive.zip\")    "
   ]
  },
  {
   "cell_type": "markdown",
   "id": "a7b9baf7",
   "metadata": {},
   "source": [
    "Sau khi giải nén, folder data hiện tại đã có các file sau : "
   ]
  },
  {
   "cell_type": "code",
   "execution_count": 13,
   "id": "a27b3bb9",
   "metadata": {
    "scrolled": true
   },
   "outputs": [
    {
     "data": {
      "text/plain": [
       "[]"
      ]
     },
     "execution_count": 13,
     "metadata": {},
     "output_type": "execute_result"
    }
   ],
   "source": [
    "os.listdir()"
   ]
  },
  {
   "cell_type": "markdown",
   "id": "afc2b94e",
   "metadata": {},
   "source": [
    "Kiểm tra folder `images`"
   ]
  },
  {
   "cell_type": "code",
   "execution_count": 14,
   "id": "91011f7a",
   "metadata": {
    "scrolled": true
   },
   "outputs": [
    {
     "data": {
      "text/plain": [
       "'data'"
      ]
     },
     "execution_count": 14,
     "metadata": {},
     "output_type": "execute_result"
    }
   ],
   "source": [
    "if os.path.isdir(\"images\") : \n",
    "    os.chdir(\"images\")\n",
    "get_current_dirname()    "
   ]
  },
  {
   "cell_type": "code",
   "execution_count": 15,
   "id": "a2b2c837",
   "metadata": {
    "scrolled": false
   },
   "outputs": [],
   "source": [
    "!ls"
   ]
  },
  {
   "cell_type": "markdown",
   "id": "b887aa3f",
   "metadata": {},
   "source": [
    "**Trước khi tiến hành các bước dưới đây, chúng ta cần thay đổi folder làm việc hiện tại sao cho folder này chứa notebook này**"
   ]
  },
  {
   "cell_type": "code",
   "execution_count": 16,
   "id": "a6ffb20e",
   "metadata": {},
   "outputs": [],
   "source": [
    "os.chdir(\"../..\")\n"
   ]
  },
  {
   "cell_type": "code",
   "execution_count": 17,
   "id": "700f2606",
   "metadata": {},
   "outputs": [
    {
     "name": "stdout",
     "output_type": "stream",
     "text": [
      "docs  extras  README.md\r\n"
     ]
    }
   ],
   "source": [
    "!ls"
   ]
  },
  {
   "cell_type": "code",
   "execution_count": 18,
   "id": "f6c20acc",
   "metadata": {},
   "outputs": [],
   "source": [
    "import json\n",
    "from tqdm.notebook import tqdm"
   ]
  },
  {
   "cell_type": "markdown",
   "id": "dec9723e",
   "metadata": {},
   "source": [
    "# Lấy labels ( trong JSON )"
   ]
  },
  {
   "cell_type": "code",
   "execution_count": 19,
   "id": "06c0b0d0",
   "metadata": {},
   "outputs": [],
   "source": [
    "def get_labels_json(label_path) : \n",
    "    \"\"\"\n",
    "    chấp nhận một đường dẫn label (ở dạng JSON) và trả về file như một Python Objects\n",
    "    \"\"\"\n",
    "    with open(label_path) as fs : \n",
    "        return json.load(fs)"
   ]
  },
  {
   "cell_type": "code",
   "execution_count": 20,
   "id": "a9f8993b",
   "metadata": {},
   "outputs": [
    {
     "ename": "FileNotFoundError",
     "evalue": "[Errno 2] No such file or directory: 'data/meta/meta/train.json'",
     "output_type": "error",
     "traceback": [
      "\u001b[0;31m---------------------------------------------------------------------------\u001b[0m",
      "\u001b[0;31mFileNotFoundError\u001b[0m                         Traceback (most recent call last)",
      "\u001b[0;32m<ipython-input-20-e235bff4131c>\u001b[0m in \u001b[0;36m<module>\u001b[0;34m\u001b[0m\n\u001b[0;32m----> 1\u001b[0;31m \u001b[0mtrain_labels\u001b[0m \u001b[0;34m=\u001b[0m \u001b[0mget_labels_json\u001b[0m\u001b[0;34m(\u001b[0m\u001b[0;34m\"data/meta/meta/train.json\"\u001b[0m\u001b[0;34m)\u001b[0m\u001b[0;34m\u001b[0m\u001b[0;34m\u001b[0m\u001b[0m\n\u001b[0m\u001b[1;32m      2\u001b[0m \u001b[0mtest_labels\u001b[0m \u001b[0;34m=\u001b[0m \u001b[0mget_labels_json\u001b[0m\u001b[0;34m(\u001b[0m\u001b[0;34m\"data/meta/meta/test.json\"\u001b[0m\u001b[0;34m)\u001b[0m\u001b[0;34m\u001b[0m\u001b[0;34m\u001b[0m\u001b[0m\n",
      "\u001b[0;32m<ipython-input-19-298ae8b5dab5>\u001b[0m in \u001b[0;36mget_labels_json\u001b[0;34m(label_path)\u001b[0m\n\u001b[1;32m      3\u001b[0m     \u001b[0mchấp\u001b[0m \u001b[0mnhận\u001b[0m \u001b[0mmột\u001b[0m \u001b[0mđường\u001b[0m \u001b[0mdẫn\u001b[0m \u001b[0mlabel\u001b[0m \u001b[0;34m(\u001b[0m\u001b[0mở\u001b[0m \u001b[0mdạng\u001b[0m \u001b[0mJSON\u001b[0m\u001b[0;34m)\u001b[0m \u001b[0mvà\u001b[0m \u001b[0mtrả\u001b[0m \u001b[0mvề\u001b[0m \u001b[0mfile\u001b[0m \u001b[0mnhư\u001b[0m \u001b[0mmột\u001b[0m \u001b[0mPython\u001b[0m \u001b[0mObjects\u001b[0m\u001b[0;34m\u001b[0m\u001b[0;34m\u001b[0m\u001b[0m\n\u001b[1;32m      4\u001b[0m     \"\"\"\n\u001b[0;32m----> 5\u001b[0;31m     \u001b[0;32mwith\u001b[0m \u001b[0mopen\u001b[0m\u001b[0;34m(\u001b[0m\u001b[0mlabel_path\u001b[0m\u001b[0;34m)\u001b[0m \u001b[0;32mas\u001b[0m \u001b[0mfs\u001b[0m \u001b[0;34m:\u001b[0m\u001b[0;34m\u001b[0m\u001b[0;34m\u001b[0m\u001b[0m\n\u001b[0m\u001b[1;32m      6\u001b[0m         \u001b[0;32mreturn\u001b[0m \u001b[0mjson\u001b[0m\u001b[0;34m.\u001b[0m\u001b[0mload\u001b[0m\u001b[0;34m(\u001b[0m\u001b[0mfs\u001b[0m\u001b[0;34m)\u001b[0m\u001b[0;34m\u001b[0m\u001b[0;34m\u001b[0m\u001b[0m\n",
      "\u001b[0;31mFileNotFoundError\u001b[0m: [Errno 2] No such file or directory: 'data/meta/meta/train.json'"
     ]
    }
   ],
   "source": [
    "train_labels = get_labels_json(\"data/meta/meta/train.json\")\n",
    "test_labels = get_labels_json(\"data/meta/meta/test.json\")"
   ]
  },
  {
   "cell_type": "code",
   "execution_count": null,
   "id": "c452fb6c",
   "metadata": {},
   "outputs": [],
   "source": [
    "def get_labels_txt(label_path) : \n",
    "    \"\"\"\n",
    "    chấp nhận một đường dẫn label (ở dạng txt) và trả về file như một Python Objects\n",
    "    \"\"\"\n",
    "    with open(label_path) as fs : \n",
    "        return list(fs.read().split(\"\\n\"))"
   ]
  },
  {
   "cell_type": "code",
   "execution_count": null,
   "id": "f42853c3",
   "metadata": {},
   "outputs": [],
   "source": [
    "len(train_labels), len(test_labels)"
   ]
  },
  {
   "cell_type": "markdown",
   "id": "48837042",
   "metadata": {},
   "source": [
    "Số label trong `train` và `test` đều là 101\n",
    "\n",
    "Tạo danh sách các label "
   ]
  },
  {
   "cell_type": "code",
   "execution_count": null,
   "id": "951f15d4",
   "metadata": {
    "scrolled": true
   },
   "outputs": [],
   "source": [
    "labels = []\n",
    "for key, values in train_labels.items() : \n",
    "    labels.append(key)\n",
    "str(labels)"
   ]
  },
  {
   "cell_type": "markdown",
   "id": "f8920c34",
   "metadata": {},
   "source": [
    "Ở mỗi class nên có 750 hình ảnh train, 250 hình test"
   ]
  },
  {
   "cell_type": "code",
   "execution_count": null,
   "id": "234c57c4",
   "metadata": {},
   "outputs": [],
   "source": [
    "print(len(train_labels[\"pho\"]))\n",
    "print(len(test_labels[\"pho\"]))"
   ]
  },
  {
   "cell_type": "markdown",
   "id": "4bed32ba",
   "metadata": {},
   "source": [
    "## Tạo folder cho target class và dời hình đến đó"
   ]
  },
  {
   "cell_type": "code",
   "execution_count": null,
   "id": "055e470e",
   "metadata": {
    "scrolled": true
   },
   "outputs": [],
   "source": [
    "def copy_images(parent_folder, subset_folder, dataset, target_labels) : \n",
    "    \"\"\"\n",
    "    Sao chép các tất cả các file có tên folder nằm trong list `target labels` đến `parent_folder/subset_folder/dataset` \n",
    "    \n",
    "    VD : Sao chép hình ảnh từ đến `data/pizza_subset/train/` & `data/apple_pie/train`\n",
    "    Tham số : \n",
    "    --------\n",
    "    parent_folder (str) : Đường dẫn liên kết của Folder gốc chứa tất cả data\n",
    "    subset_folder (str) : Đường dẫn để sao chép đến\n",
    "    dataset (str) : Tập dữ liệu (train hoặc test)\n",
    "    target_labels (list) : Danh sách tên của các folder muốn copy    \n",
    "    \"\"\"\n",
    "    # Lấy danh sách labels có sẵn \n",
    "    labels = get_labels_json(f\"data/meta/meta/{dataset}.json\")  \n",
    "    for label in target_labels : \n",
    "        # Tạo folder mới trong subset folder (folder copy)\n",
    "        os.makedirs(f\"{subset_folder}/{dataset}/{label}\", exist_ok=True)       \n",
    "        # Trước khi lặp hình ảnh, tạo list images_copied để lưu lại các image đã copied\n",
    "        images_copied = [] \n",
    "        \n",
    "        #Dùng vòng lặp để đi qua từng file image để sao chép đến subset folder          \n",
    "        for image_path in labels[label] :             \n",
    "            #Tạo đường dẫn file gốc \n",
    "            og_path = f\"{parent_folder}/{image_path}.jpg\"\n",
    "            # Tạo đường dẫn đến folder subset\n",
    "            new_path = f\"{subset_folder}/{dataset}/{image_path}.jpg\"\n",
    "\n",
    "            # Sử dụng thư viện shutil trong python để tiến hành copy\n",
    "            shutil.copy(og_path, new_path)\n",
    "            # Lưu trư image \n",
    "            images_copied.append(image_path)\n",
    "        print(f\"Đã sao chép {len(images_copied)} hình ảnh đến tập dữ liệu {dataset}. Đường dẫn liên kết : {subset_folder}/{dataset}/{label}\")"
   ]
  },
  {
   "cell_type": "markdown",
   "id": "b59e969c",
   "metadata": {},
   "source": [
    "## Tạo hàm lấy hình ảnh mẫu ngẫu nhiên"
   ]
  },
  {
   "cell_type": "code",
   "execution_count": null,
   "id": "170cf398",
   "metadata": {},
   "outputs": [],
   "source": [
    "import random\n",
    "import path\n",
    "def get_images_randomly(target_dir, new_dir, sample_amount = 0.1, random_state = 42) : \n",
    "    \"\"\"\n",
    "    Lấy một lượng mẫu hình ảnh ngẫu nhiên từ target_dir, sau đó sao chép vào new_dir\n",
    "    \n",
    "    VD: target_dir = data/images/apple_pie, new_dir= data/new_dir_name/train/apple_pie/X_percent_of_all_files        \n",
    "    Tham số\n",
    "    -----------\n",
    "    target_dir (str) : Đường dẫn liên kết đến Folder chứa tất cả hình ảnh của class mà bạn muốn lấy .\n",
    "    new_dir (str) : Đường dẫn liên kết đến Folder chuẩn bị chứa một lượng mẫu hình ảnh được sao chép từ target_dir.\n",
    "    sample_amount (float) : mặc định 0.1 (tương đương 10% trong tổng số file của class đó) - tỉ lệ số file ảnh được copy\n",
    "    random_state (int) : giá trị random seed\n",
    "    \"\"\"    \n",
    "    random.seed(random_state)\n",
    "    # Lấy danh sách các các tệp hình ảnh trong target_dir\n",
    "    images = [{dir_name : os.listdir(os.path.join(target_dir, dir_name))} for dir_name in os.listdir(target_dir)]\n",
    "    for image in images : \n",
    "        for label, values in image.items() : \n",
    "                print(f\"Đang xử lý {label}\")\n",
    "                sample_number = int(sample_amount * len(values))\n",
    "                print(f\"Thư mục {label} có tất cả {len(values)} file ảnh. Lấy ngẫu nhiên {sample_number} (tương đương {int(sample_amount * 100)}%) số mẫu \")\n",
    "                random_images = random.sample(values, k=sample_number)\n",
    "                # Tạo đường dẫn đến thư mục cần sao chép\n",
    "                new_target_dir = f\"{new_dir}/{label}\"\n",
    "                os.makedirs(new_target_dir,exist_ok=True)\n",
    "                images_copied = []\n",
    "                for img in random_images : \n",
    "                    # Đường dẫn gốc đến file ảnh                     \n",
    "                    og_path = f\"{target_dir}/{label}/{img}\"\n",
    "                    # Đường dẫn mới của file ảnh\n",
    "                    new_path = f\"{new_target_dir}/{img}\"\n",
    "                    # Copy từ đường dẫn gốc đến đường dẫn mới\n",
    "                    shutil.copy(og_path, new_path)\n",
    "                    images_copied.append(img)\n",
    "                print(f\"Đã sao chép {len(images_copied)} file ảnh từ {target_dir} đến {new_target_dir}\")\n",
    "                \n",
    "                # Chắc chắn số hình ảnh được copy là chính xác\n",
    "                assert len(os.listdir(new_target_dir)) == sample_number\n",
    "                assert len(images_copied) == sample_number\n",
    "    \n",
    "get_images_randomly(\"data/images\", \"data/new_data\", sample_amount=0.2)"
   ]
  },
  {
   "cell_type": "markdown",
   "id": "7bdfcabc",
   "metadata": {},
   "source": [
    "# Tạo 2 dữ liệu ( VD : pho, fried_rice)"
   ]
  },
  {
   "cell_type": "code",
   "execution_count": null,
   "id": "18bddafb",
   "metadata": {
    "scrolled": true
   },
   "outputs": [],
   "source": [
    "parent_folder = \"data/images\"\n",
    "subset_folder = \"data/pho_fried_rice\"\n",
    "datasets = [\"train\", \"test\"]\n",
    "target_labels = [\"pho\", \"fried_rice\"]\n",
    "\n",
    "for dataset in datasets : \n",
    "    copy_images(parent_folder, subset_folder, dataset, target_labels)"
   ]
  },
  {
   "cell_type": "code",
   "execution_count": null,
   "id": "2612fedc",
   "metadata": {},
   "outputs": [],
   "source": [
    "print(f\"Số lượng hình ảnh trainning của pho : {len(os.listdir('data/pho_fried_rice/train/pho'))}\")\n",
    "print(f\"Số lượng hình ảnh test pho : {len(os.listdir('data/pho_fried_rice/test/pho'))}\")"
   ]
  },
  {
   "cell_type": "code",
   "execution_count": null,
   "id": "bf5ac69d",
   "metadata": {},
   "outputs": [],
   "source": [
    "# Đảm bảo không có sự trùng lặp trong các train và test\n",
    "# Lấy filenames từ bộ train / test của mỗi class và đảm bảo đầu ra bằng 0\n",
    "pho_train_filenames = set(os.listdir(\"data/pho_fried_rice/train/pho/\"))\n",
    "pho_test_filenames = set(os.listdir(\"data/pho_fried_rice/test/pho/\"))\n",
    "\n",
    "# Chắc chắn rằng khi intersect (phép giao) giữa 2 set này sẽ phải rỗng\n",
    "if len(pho_train_filenames.intersection(pho_test_filenames)) == 0 : \n",
    "    print(\"OK\")\n",
    "else : \n",
    "    print(\"Trong set train hoặc set test có chứa filenames của set kia\")"
   ]
  },
  {
   "cell_type": "code",
   "execution_count": null,
   "id": "b8341c29",
   "metadata": {},
   "outputs": [],
   "source": [
    "# Đảm bảo không có sự trùng lặp trong các tập huấn luyện và kiểm tra\n",
    "# Lấy filenames từ bộ train / test của mỗi class và đảm bảo đầu ra bằng 0\n",
    "fried_rice_train_filenames = set(os.listdir(\"data/pho_fried_rice/train/pho/\"))\n",
    "fried_rice_test_filenames = set(os.listdir(\"data/pho_fried_rice/test/fried_rice/\"))\n",
    "\n",
    "# Chắc chắn rằng khi intersect (phép giao) giữa 2 set này sẽ phải rỗng\n",
    "if len(fried_rice_train_filenames.intersection(fried_rice_test_filenames)) == 0 : \n",
    "    print(\"OK\")\n",
    "else : \n",
    "    print(\"Trong set train hoặc set test có chứa filenames của set kia\")"
   ]
  },
  {
   "cell_type": "markdown",
   "id": "8e56b508",
   "metadata": {},
   "source": [
    "## Tạo 10% cho 2 lớp dữ liệu (binary class dataset)"
   ]
  },
  {
   "cell_type": "code",
   "execution_count": null,
   "id": "f5080840",
   "metadata": {},
   "outputs": [],
   "source": [
    "!ls data/pho_fried_rice/"
   ]
  },
  {
   "cell_type": "code",
   "execution_count": null,
   "id": "20599301",
   "metadata": {},
   "outputs": [],
   "source": [
    "# Tạo 10% dữ liệu cho tập dữ liệu của 2 class sushi và tacos được tạo sẵn  ở thư mục đã tạo phía trên (chỉ cho trainning)\n",
    "target_dir_10_percent = \"data/pho_fried_rice/train\"\n",
    "new_dir_10_percent = \"data/pho_fried_rice_10_percent/train\"\n",
    "\n",
    "get_images_randomly(target_dir_10_percent, new_dir_10_percent,)"
   ]
  },
  {
   "cell_type": "code",
   "execution_count": null,
   "id": "268329b0",
   "metadata": {
    "scrolled": true
   },
   "outputs": [],
   "source": [
    "# Tạo 1% dữ liệu cho tập dữ liệu của \n",
    "target_dir_1_percent = \"data/pho_fried_rice/train\"\n",
    "new_dir_1_percent = \"data/pho_fried_rice_1_percent/train\"\n",
    "\n",
    "\n",
    "get_images_randomly(target_dir_1_percent, new_dir_1_percent, sample_amount=0.01)"
   ]
  },
  {
   "cell_type": "markdown",
   "id": "313b7b60",
   "metadata": {},
   "source": [
    "## Quan sát hình ảnh"
   ]
  },
  {
   "cell_type": "code",
   "execution_count": null,
   "id": "aed5571d",
   "metadata": {},
   "outputs": [],
   "source": [
    "import matplotlib.pyplot as plt"
   ]
  },
  {
   "cell_type": "markdown",
   "id": "ce3de79a",
   "metadata": {},
   "source": [
    "Tạo function để quan sát hình ảnh ngẫu nhiên. Trong python có khá nhiều thư viện để đọc file hình ảnh thành matrix như `pillow` , `openCV`, hoặc từ `matplotlib`"
   ]
  },
  {
   "cell_type": "code",
   "execution_count": null,
   "id": "1c95b610",
   "metadata": {},
   "outputs": [],
   "source": [
    "import math\n",
    "import cv2\n",
    "\n",
    "def view_random_images(target_dir,target_class, num_files=10, num_cols=3) : \n",
    "    \"\"\"\n",
    "    Tạo hình ảnh ngẫu nhiên từ `target_dir/target_class` \n",
    "    Tham số : \n",
    "    -----------\n",
    "    target_dir (str) : Đường dẫn thư mục chứa class\n",
    "    target_class (str) : Tên class\n",
    "    num_files (int) : Số hình cần hiển thị min = 1, max = 20\n",
    "    num_cols (int) : Số hình trên 1 cột\n",
    "    \"\"\"\n",
    "    if num_files > 20 or num_files < 1 :\n",
    "        return \n",
    "    if num_cols > 5 or num_cols < 1: \n",
    "        num_cols = 3\n",
    "        \n",
    "    target_path = f\"{target_dir}/{target_class}\"\n",
    "    if os.path.isdir(target_path) : \n",
    "        image_names = os.listdir(target_path)\n",
    "        random_images = random.sample(image_names, k=num_files)    \n",
    "        \n",
    "        num_rows = math.ceil(num_files / num_cols)\n",
    "        plt.figure(figsize=(20,10))\n",
    "        for i, image_name in enumerate(random_images) :             \n",
    "            image_path = f\"{target_path}/{image_name}\"\n",
    "            # ==============================================\n",
    "            # Sử dung opencv để mở file hình ảnh dưới dạng matrix\n",
    "            img = cv2.imread(image_path)\n",
    "            # Vì cv2 đọc file ảnh dưới dang BGR color channel nên cần chuyển về RGB color Channel\n",
    "            img = img[:,:,::-1]\n",
    "            img = cv2.resize(img, dsize=(228,228), interpolation=cv2.INTER_AREA)\n",
    "            # ==============================================\n",
    "            # Sử dụng matplotlib\n",
    "            img = plt.imread(image_path)\n",
    "            # ==============================================\n",
    "            plt.subplot(num_rows, num_cols, i+1)            \n",
    "            plt.imshow(img)\n",
    "            plt.title(image_name, fontsize=18)\n",
    "            plt.axis(False)\n",
    "            plt.suptitle(target_class, fontsize=24)\n",
    "    else : \n",
    "        print(\"đường dẫn không chính xác\")\n",
    "        return "
   ]
  },
  {
   "cell_type": "code",
   "execution_count": null,
   "id": "bc098e28",
   "metadata": {},
   "outputs": [],
   "source": [
    "view_random_images(\"data/pho_fried_rice/train\", \"pho\",num_files=20,num_cols=5)"
   ]
  },
  {
   "cell_type": "code",
   "execution_count": null,
   "id": "24181a5b",
   "metadata": {},
   "outputs": [],
   "source": [
    "view_random_images(\"data/pho_fried_rice/train\", \"fried_rice\",num_files=20,num_cols=5)"
   ]
  },
  {
   "cell_type": "markdown",
   "id": "875924e9",
   "metadata": {},
   "source": [
    "## Tạo 10 class tập dữ liệu \n",
    "\n",
    "Lựa chọn 10 class và tạo folder với 10 tập dữ liệu này."
   ]
  },
  {
   "cell_type": "code",
   "execution_count": null,
   "id": "9f41556b",
   "metadata": {},
   "outputs": [],
   "source": [
    "!ls data/meta/meta/"
   ]
  },
  {
   "cell_type": "code",
   "execution_count": null,
   "id": "a6f55d61",
   "metadata": {},
   "outputs": [],
   "source": [
    "classes = []\n",
    "with open(\"data/meta/meta/classes.txt\") as fs : \n",
    "    class_names = fs.read()\n",
    "    class_names = class_names.split(\"\\n\")\n",
    "    ten_classes = random.sample(class_names, k=10)\n",
    "    print(ten_classes)\n",
    "    "
   ]
  },
  {
   "cell_type": "markdown",
   "id": "3c7e9abd",
   "metadata": {},
   "source": [
    "Tạo ngẫu nhiên 10 class thành công. Bây giờ ta sẽ tiến hành tạo folder cho 10 tập này"
   ]
  },
  {
   "cell_type": "code",
   "execution_count": null,
   "id": "4fa3a6b8",
   "metadata": {},
   "outputs": [],
   "source": [
    "parent_folder = \"data/images\"\n",
    "subset_folder = \"data/10_food_classes\"\n",
    "datasets = [\"train\", \"test\"]\n",
    "for dataset in datasets :        \n",
    "        copy_images(parent_folder,subset_folder, dataset,target_labels=ten_classes)"
   ]
  },
  {
   "cell_type": "code",
   "execution_count": null,
   "id": "15dad0bc",
   "metadata": {},
   "outputs": [],
   "source": [
    "view_random_images(\"data/10_food_classes/train\",ten_classes[3])"
   ]
  },
  {
   "cell_type": "code",
   "execution_count": null,
   "id": "2473a78d",
   "metadata": {},
   "outputs": [],
   "source": [
    "# Tạo 10% dữ liệu trong 10_food_classes (chỉ lấy trainning data)\n",
    "get_images_randomly(\"data/10_food_classes/train\", \"data/10_food_classes_10_percent/train\", sample_amount=0.1)"
   ]
  },
  {
   "cell_type": "code",
   "execution_count": null,
   "id": "8bd71cf1",
   "metadata": {
    "scrolled": true
   },
   "outputs": [],
   "source": [
    "# Tạo 1% dữ liệu trong 10_food_classes (chỉ lấy trainning data)\n",
    "get_images_randomly(\"data/10_food_classes/train\", \"data/10_food_classes_1_percent/train\", sample_amount=0.01)"
   ]
  },
  {
   "cell_type": "code",
   "execution_count": null,
   "id": "2a60c052",
   "metadata": {},
   "outputs": [],
   "source": [
    "# Sao chép thư mục 10 classes test vào thư muc 10 classes percentage\n",
    "ten_percent_test = \"data/10_food_classes/test/\"\n",
    "shutil.copytree(ten_percent_test, \"data/10_food_classes_10_percent/test\")\n",
    "shutil.copytree(ten_percent_test, \"data/10_food_classes_1_percent/test\")"
   ]
  },
  {
   "cell_type": "markdown",
   "id": "4060062a",
   "metadata": {},
   "source": [
    "## Tách toàn bộ tập dữ liệu  thành train và test"
   ]
  },
  {
   "cell_type": "code",
   "execution_count": null,
   "id": "934bbb74",
   "metadata": {},
   "outputs": [],
   "source": [
    "class_names = list(filter(lambda x : x, class_names))\n",
    "class_names"
   ]
  },
  {
   "cell_type": "code",
   "execution_count": null,
   "id": "148ee906",
   "metadata": {
    "scrolled": false
   },
   "outputs": [],
   "source": [
    "parent_folder = \"data/images\"\n",
    "subset_folder = \"data/all_food_classes\"\n",
    "datasets=[\"train\",\"test\"]\n",
    "\n",
    "for dataset in datasets : \n",
    "    copy_images(parent_folder, subset_folder, dataset, class_names)"
   ]
  },
  {
   "cell_type": "code",
   "execution_count": null,
   "id": "88c3ba58",
   "metadata": {},
   "outputs": [],
   "source": [
    "# Tạo 10% data cho all_food_class (Chỉ lấy train data)\n",
    "get_images_randomly(\"data/all_food_classes/train/\", \"data/all_food_classes_10_percent/train\")"
   ]
  },
  {
   "cell_type": "code",
   "execution_count": null,
   "id": "dc4b8150",
   "metadata": {},
   "outputs": [],
   "source": [
    "# Sao chép toàn bộ folder test vào tất cả các folder rút gọn\n",
    "ten_percent_test = \"data/all_food_classes/test/\"\n",
    "shutil.copytree(ten_percent_test, \"data/all_food_classes_10_percent/test\")"
   ]
  }
 ],
 "metadata": {
  "kernelspec": {
   "display_name": "Python 3",
   "language": "python",
   "name": "python3"
  },
  "language_info": {
   "codemirror_mode": {
    "name": "ipython",
    "version": 3
   },
   "file_extension": ".py",
   "mimetype": "text/x-python",
   "name": "python",
   "nbconvert_exporter": "python",
   "pygments_lexer": "ipython3",
   "version": "3.8.10"
  }
 },
 "nbformat": 4,
 "nbformat_minor": 5
}
