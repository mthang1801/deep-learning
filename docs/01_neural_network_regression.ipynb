{
 "cells": [
  {
   "cell_type": "markdown",
   "id": "f4e1cf02",
   "metadata": {},
   "source": [
    "# Xây dựng mô hình hồi quy với Neural Network trong Tensorflow\n",
    "\n",
    "Có rất nhiều định nghĩa về vấn đề hồi quy, nhưng trong trường hợp này có thể hiểu đơn giản là dự đoán một con số  của một thực thể dựa trên lượng dữ liệu thông tin nào đó giải thích hoặc mô tả về nó.\n",
    "\n",
    "Ví dụ : \n",
    "\n",
    "* Dự doán giá trị của một ngôi nhà khi có thông tin về nó (như diện tích, số phòng, số lầu, nhà nằm ở thành phố hay không, nhà có nằm ở mặt tiền hay trong hẻm...)\n",
    "* Dự đoán phí bảo hiểm cho một người dựa trên thông tin về giới tính, độ tuổi, tiền sử bệnh lý ... \n",
    "* Dự đoán vị trí các biên của một khung nhận diện ảnh \n",
    "* Dự đoán giá trị của một đồng tiền điện tử dựa trên dữ liệu lịch sử của nó.\n",
    "\n",
    "## Nội dung của notebook này : \n",
    "\n",
    "1. Tìm hiểu kiến trúc của mô hình hồi quy\n",
    "2. Tạo giả lập giá trị input và output để chuẩn bị xây dựng mô hình : \n",
    "    + `X` : biến đặc tính hay gọi là biến giải thích (inputs)\n",
    "    + `y` : biến kết quả hay biến phụ thuộc (output)\n",
    "3. Quan sát dữ liệu \n",
    "4. Xây dựng mô hình\n",
    "    + Tạo mô hình\n",
    "    + Compile mô hình\n",
    "        * Định nghĩa Loss Function\n",
    "        * Thiết lập optimizer\n",
    "        * Tạo evaluation metrics\n",
    "    + Fit mô hình\n",
    "5. Đánh giá mô hình\n",
    "    + Quan sát đồ thị\n",
    "    + Quan sát trainning curves\n",
    "    + So sánh giá trị dự đoán với giá trị thực tế\n",
    "6. Lưu mô hình\n",
    "7. Tải mô hình\n",
    "    \n",
    "##  1. Kiến trúc hồi quy với Neural Network\n",
    "\n",
    "Mô hình hồi quy sử dụng các biến độc lập hay biến giải thích để tìm mô hình phù hợp và sau đó xuất ra giá trị dự đoán.\n",
    "\n",
    "| **Hyperparameter** | **Giải thích** |\n",
    "| --- | --- |\n",
    "| Hình thái layer nhập vào (Input layer shape) | Có cùng hình thái với số lượng biến độc lập (VD (e.g. dự đoán giá nhà với 3 biến for #bedrooms, #bathrooms, #car_spaces) |\n",
    "| Layer ẩn (Hidden layer) | Số lượng layer ẩn minimum = 1 , maximum = infinity | \n",
    "| Số Neurol trên layer | Thường từ 10 đến 100 |\n",
    "| Hình thái layer xuất ra (Output layer shape) | Có hình thái tùy vào mong muốn (VD: xuất 1 giá trị cho giá cả nhà) | \n",
    "| Hidden activation | Thướng sử dụng [ReLU](https://www.kaggle.com/dansbecker/rectified-linear-units-relu-in-deep-learning) (rectified linear unit) | \n",
    "| Output activation | None, ReLu, Tanh, Logistic... |\n",
    "| Loss function | [MSE](https://en.wikipedia.org/wiki/Mean_squared_error) (mean square error) or [MAE](https://en.wikipedia.org/wiki/Mean_absolute_error) (mean absolute error)/Huber (combination of MAE/MSE) if outliers | \n",
    "| Optimizer | [SGD](https://www.tensorflow.org/api_docs/python/tf/keras/optimizers/SGD) (stochastic gradient descent), [Adam](https://www.tensorflow.org/api_docs/python/tf/keras/optimizers/Adam) | \n",
    "\n",
    "> **Lưu ý** : **hyperparameter** trong machine learning là những tham số đã được định nghĩa bởi nhà phát triển do đó khi sử dụng phải tuân theo các quy tắc đã được định sẵn, trái lại **parameter** thường mô tả những thứ mà bản thân mô hình được học.\n",
    "\n"
   ]
  },
  {
   "cell_type": "markdown",
   "id": "fdfa912a",
   "metadata": {},
   "source": [
    "## 2.  Giả lập giá trị input và output để chuẩn bị xây dựng mô hình "
   ]
  },
  {
   "cell_type": "code",
   "execution_count": 1,
   "id": "8a5fb4da",
   "metadata": {},
   "outputs": [],
   "source": [
    "# Import relevant libraries\n",
    "import numpy as np\n",
    "import matplotlib.pyplot as plt \n",
    "import tensorflow as tf"
   ]
  },
  {
   "cell_type": "code",
   "execution_count": 2,
   "id": "643568f4",
   "metadata": {},
   "outputs": [
    {
     "data": {
      "text/plain": [
       "<matplotlib.collections.PathCollection at 0x7f8408ac4a00>"
      ]
     },
     "execution_count": 2,
     "metadata": {},
     "output_type": "execute_result"
    },
    {
     "data": {
      "image/png": "[encoded data removed]",
      "text/plain": [
       "<Figure size 432x288 with 1 Axes>"
      ]
     },
     "metadata": {
      "needs_background": "light"
     },
     "output_type": "display_data"
    }
   ],
   "source": [
    "X = np.linspace(-10,15,9)\n",
    "y = np.linspace(0,24, 9)\n",
    "plt.scatter(X,y)"
   ]
  },
  {
   "cell_type": "markdown",
   "id": "ae8214b4",
   "metadata": {},
   "source": [
    "Trước khi xây dựng mô hình để dự đoán, bằng trực quan hoặc kiến thức toán học, bạn có thể tìm được mối liên hệ giữa `X` và `y` không ? \n",
    "\n",
    "Từ công thức vừa tìm, bạn thử dự đoán giá trị của `y` nếu `X = 20` là bao nhiêu ?"
   ]
  },
  {
   "cell_type": "markdown",
   "id": "ffb78b59",
   "metadata": {},
   "source": [
    "### Hình thái của giá trị input và output trong hồi quy \n",
    "\n",
    "Một trong những khái niệm quan trọng nhất khi làm việc trong Neural Network là input và output \n",
    "\n",
    "- `input` là những giá trị có ý nghĩa giải thích cho một đối tượng trong dữ liệu sẽ được đưa vào trong mô hình.\n",
    "- `output` là giá trị dự đoán hoặc giá trị kết quả sau khi mô hình xử lý xong input\n",
    "\n",
    "![example of input and output shapes for a housing price prediction problem](https://raw.githubusercontent.com/mrdbourke/tensorflow-deep-learning/main/images/01-input-and-output-shapes-housing-prices.png)\n",
    "\n",
    "*If you were working on building a machine learning algorithm for predicting housing prices, your inputs may be number of bedrooms, number of bathrooms and number of garages, giving you an input shape of 3 (3 different features). And since you're trying to predict the price of the house, your output shape would be 1.*"
   ]
  },
  {
   "cell_type": "markdown",
   "id": "73186be6",
   "metadata": {},
   "source": [
    "## 3. Xây dựng mô hình\n",
    "\n",
    "Ỏ phần trên chúng ta đã có dữ liệu cũng như biết được hình thái của input và output. Bây giờ sẽ tiến hành xây dựng mô hình Neural network cho nó.\n",
    "\n",
    "Trong Tensorflow, Có 3 bước điển hình để tạo mô hình train dữ liệu : \n",
    "\n",
    "- **Tạo mô hình** : Ghép các layers của Neural network lại với nhau ( sử dụng [Functional](https://www.tensorflow.org/guide/keras/functional) or [Sequential API](https://www.tensorflow.org/api_docs/python/tf/keras/Sequential)) hoặc import mô hình đã được xây dựng sẵn ( gọi là transfer learning)\n",
    "- **Compile mô hình** : Tại đây, mô hình sẽ đo lường độ hiệu quả thông qua loss / metrics cũng như chỉ ra cách cải thiện thông qua optimizer.\n",
    "- **Fit mô hình** : Mô hình sẽ cố gắng tìm mối liên hệ giữa các biến `X` để có được giá trị `y` trong dữ liệu \n",
    "\n",
    "Xem thêm [Keras Sequential API](https://www.tensorflow.org/api_docs/python/tf/keras/Sequential) để xây dựng một mô hình cho dữ liệu hồi quy. Và sau đó chúng ta sẽ bước qua từng\n"
   ]
  },
  {
   "cell_type": "code",
   "execution_count": 3,
   "id": "d51aa04c",
   "metadata": {},
   "outputs": [],
   "source": [
    "from tensorflow.keras import Sequential\n",
    "from tensorflow.keras.layers import Dense"
   ]
  },
  {
   "cell_type": "markdown",
   "id": "2a6a12df",
   "metadata": {},
   "source": [
    "Thông thường khi build mô hình chúng ta sẽ sử dụng [Keras](https://keras.io/). Đây là một API được thiết kế để xây dựng mô hình deep learning dễ dàng hơn. Kể từ khi tensorflow 2.0, nó không còn rời rạc nữa mà đã được tính hợp trong `tensorflow`"
   ]
  },
  {
   "cell_type": "code",
   "execution_count": 4,
   "id": "abaef7b6",
   "metadata": {},
   "outputs": [
    {
     "data": {
      "text/plain": [
       "<tensorflow.python.keras.callbacks.History at 0x7f840813d2e0>"
      ]
     },
     "execution_count": 4,
     "metadata": {},
     "output_type": "execute_result"
    }
   ],
   "source": [
    "tf.random.set_seed(42)\n",
    "# Tạo mô hình sử dụng Sequential API\n",
    "model_1 = Sequential()\n",
    "model_1.add(Dense(1))\n",
    "\n",
    "# Compile mô hình\n",
    "model_1.compile(\n",
    "    loss=\"mae\", # mae is short for mean absolute error\n",
    "    optimizer=\"sgd\",# SGD is short for stochastic gradient descent\n",
    "    metrics=[\"mae\"]\n",
    ")\n",
    "\n",
    "model_1.fit(X,y,epochs=10,verbose=0)"
   ]
  },
  {
   "cell_type": "code",
   "execution_count": 5,
   "id": "6b4c879c",
   "metadata": {},
   "outputs": [
    {
     "data": {
      "text/plain": [
       "array([[16.501194]], dtype=float32)"
      ]
     },
     "execution_count": 5,
     "metadata": {},
     "output_type": "execute_result"
    }
   ],
   "source": [
    "# Mô hình đã được build hoàn tất, tiến hành dự đoán giá trị \n",
    "model_1.predict([20])"
   ]
  },
  {
   "cell_type": "code",
   "execution_count": 6,
   "id": "21c87e77",
   "metadata": {},
   "outputs": [
    {
     "data": {
      "text/plain": [
       "(array([-10.   ,  -6.875,  -3.75 ,  -0.625,   2.5  ,   5.625,   8.75 ,\n",
       "         11.875,  15.   ]),\n",
       " array([ 0.,  3.,  6.,  9., 12., 15., 18., 21., 24.]))"
      ]
     },
     "execution_count": 6,
     "metadata": {},
     "output_type": "execute_result"
    }
   ],
   "source": [
    "X,y"
   ]
  },
  {
   "cell_type": "markdown",
   "id": "cc59e44d",
   "metadata": {},
   "source": [
    "Opps! Có vẻ như mô hình dự đoán không chính xác, với giá trị 20 ta thường kỳ vọng một con số nào đó lớn hơn `24` thậm chí có thể là `30`"
   ]
  },
  {
   "cell_type": "markdown",
   "id": "183ce5f3",
   "metadata": {},
   "source": [
    "## 4. Đánh giá mô hình"
   ]
  },
  {
   "cell_type": "markdown",
   "id": "5e2f11b7",
   "metadata": {},
   "source": [
    "Đánh giá mô hình là một trong những công việc rất quan trọng, sau khi xây dựng mô hình xong, chúng ta phải xem mô hình đó hoạt động có chính xác hay đối chiếu các ý định đã đề ra trước khi xây dựng mô hình, hoặc bằng kinh nghiệm của bản thân...\n",
    "\n",
    "Do đó, thông thường khi đánh giá mô hình ai cũng cần phải trải qua một quá trình lặp đi lặp lại nhiều lần cho đến khi cảm thấy `ổn nhất` có thể.\n",
    "\n",
    "> B1 : Xây dựng mô hình -> B2: Đánh giá mô hình -> B3 : Cải thiện mô hình (thay đổi trên mô hình đã được xây ở B1) -> B4 : Đánh giá mô hình -> Cải thiện mô hình tiếp tục hoặc hài lòng với mô hình này -> ....\n",
    "\n",
    "Đặc biệt, cần phải quan sát những gì mà mô hình đã xảy ra trong lúc train bằng đồ thị.\n",
    "\n"
   ]
  },
  {
   "cell_type": "markdown",
   "id": "2295a54c",
   "metadata": {},
   "source": [
    "## Tạo dữ liệu lớn hơn và thực hiện các bước xây dựng và đánh giá mô hình"
   ]
  },
  {
   "cell_type": "markdown",
   "id": "a3e0c0e7",
   "metadata": {},
   "source": [
    "### Tạo dữ liệu"
   ]
  },
  {
   "cell_type": "code",
   "execution_count": 7,
   "id": "1bfe9cc8",
   "metadata": {
    "scrolled": false
   },
   "outputs": [
    {
     "data": {
      "text/plain": [
       "(array([-100,  -96,  -92,  -88,  -84,  -80,  -76,  -72,  -68,  -64]),\n",
       " array([-90, -86, -82, -78, -74, -70, -66, -62, -58, -54]))"
      ]
     },
     "execution_count": 7,
     "metadata": {},
     "output_type": "execute_result"
    }
   ],
   "source": [
    "# Tạo dữ liệu lớn hơn\n",
    "X = np.arange(-100, 200, 4)\n",
    "y = np.arange(-90,210,4)\n",
    "\n",
    "X[:10],y[:10]"
   ]
  },
  {
   "cell_type": "code",
   "execution_count": 8,
   "id": "7e611f1f",
   "metadata": {},
   "outputs": [
    {
     "data": {
      "text/plain": [
       "(75, 75)"
      ]
     },
     "execution_count": 8,
     "metadata": {},
     "output_type": "execute_result"
    }
   ],
   "source": [
    "len(X), len(y)"
   ]
  },
  {
   "cell_type": "code",
   "execution_count": 9,
   "id": "8f585943",
   "metadata": {},
   "outputs": [
    {
     "data": {
      "text/plain": [
       "<matplotlib.collections.PathCollection at 0x7f84001c3eb0>"
      ]
     },
     "execution_count": 9,
     "metadata": {},
     "output_type": "execute_result"
    },
    {
     "data": {
      "image/png": "[encoded data removed]",
      "text/plain": [
       "<Figure size 432x288 with 1 Axes>"
      ]
     },
     "metadata": {
      "needs_background": "light"
     },
     "output_type": "display_data"
    }
   ],
   "source": [
    "plt.scatter(X,y)"
   ]
  },
  {
   "cell_type": "markdown",
   "id": "8657e85d",
   "metadata": {},
   "source": [
    "### Tách dữ liệu thành train và test\n",
    "\n",
    "Một trong những bước quan trong nhất trong các dự án ML đó là tách dữ liệu thành các tập dữ liệu để `trainning` và `test` ( nếu cần thiết thì có thể chia thêm `validation`)\n",
    "\n",
    "Mỗi tập dữ liệu đóng vai trò khác nhau : \n",
    "\n",
    "- Trainning : Mô hình sẽ học dựa trên dữ liệu này, thông thường nó chiếm 70% - 80% trong tổng số dữ liệu\n",
    "- Validation : Khi học xong, mô hình sẽ tiến hành làm bài `test thử` để đánh giá `năng lực` đến đâu, tại đây nó sẽ thay đổi khi đoán sai. Chiếm 10% - 15% tổng số dữ liệu.\n",
    "- Test : Sau khi kết thúc khóa học trainning và thi thử validation, mô hình sẽ bắt đầu thi thực sự. Lúc này, nó sẽ được đánh giá sau một quá trình học tập. Chiếm 10% - 15% tổng số dữ liệu."
   ]
  },
  {
   "cell_type": "code",
   "execution_count": 10,
   "id": "9a21f8ba",
   "metadata": {},
   "outputs": [
    {
     "data": {
      "text/plain": [
       "75"
      ]
     },
     "execution_count": 10,
     "metadata": {},
     "output_type": "execute_result"
    }
   ],
   "source": [
    "len(X)"
   ]
  },
  {
   "cell_type": "code",
   "execution_count": 11,
   "id": "a309959d",
   "metadata": {},
   "outputs": [
    {
     "data": {
      "text/plain": [
       "((60,), (15,))"
      ]
     },
     "execution_count": 11,
     "metadata": {},
     "output_type": "execute_result"
    }
   ],
   "source": [
    "train_length = int(0.8 * len(X))\n",
    "# Tách dữ liệu thánh trainning và test thủ công\n",
    "X_train = X[:train_length]\n",
    "y_train = y[:train_length]\n",
    "\n",
    "X_test = X[train_length:]\n",
    "y_test = y[train_length:]\n",
    "\n",
    "X_train.shape, X_test.shape"
   ]
  },
  {
   "cell_type": "markdown",
   "id": "524622b0",
   "metadata": {},
   "source": [
    "### 3. Quan sát dữ liệu "
   ]
  },
  {
   "cell_type": "code",
   "execution_count": 12,
   "id": "7db245af",
   "metadata": {},
   "outputs": [
    {
     "data": {
      "text/plain": [
       "<matplotlib.legend.Legend at 0x7f840013de50>"
      ]
     },
     "execution_count": 12,
     "metadata": {},
     "output_type": "execute_result"
    },
    {
     "data": {
      "image/png": "[encoded data removed]",
      "text/plain": [
       "<Figure size 864x576 with 1 Axes>"
      ]
     },
     "metadata": {
      "needs_background": "light"
     },
     "output_type": "display_data"
    }
   ],
   "source": [
    "plt.figure(figsize=(12,8))\n",
    "plt.scatter(X_train, y_train, label=\"Trainning\")\n",
    "plt.scatter(X_test, y_test,  label=\"Test\") \n",
    "plt.legend()"
   ]
  },
  {
   "cell_type": "markdown",
   "id": "4cf36e74",
   "metadata": {},
   "source": [
    "### 4. Xây dựng mô hình"
   ]
  },
  {
   "cell_type": "code",
   "execution_count": 13,
   "id": "a823c2e4",
   "metadata": {},
   "outputs": [
    {
     "name": "stdout",
     "output_type": "stream",
     "text": [
      "Epoch 1/10\n",
      "2/2 [==============================] - 1s 7ms/step - loss: 21.7962 - mae: 21.7962\n",
      "Epoch 2/10\n",
      "2/2 [==============================] - 0s 5ms/step - loss: 22.4194 - mae: 22.4194\n",
      "Epoch 3/10\n",
      "2/2 [==============================] - 0s 5ms/step - loss: 19.3555 - mae: 19.3555\n",
      "Epoch 4/10\n",
      "2/2 [==============================] - 0s 5ms/step - loss: 15.3823 - mae: 15.3823\n",
      "Epoch 5/10\n",
      "2/2 [==============================] - 0s 8ms/step - loss: 18.2901 - mae: 18.2901\n",
      "Epoch 6/10\n",
      "2/2 [==============================] - 0s 9ms/step - loss: 19.8417 - mae: 19.8417\n",
      "Epoch 7/10\n",
      "2/2 [==============================] - 0s 14ms/step - loss: 26.9859 - mae: 26.9859\n",
      "Epoch 8/10\n",
      "2/2 [==============================] - 0s 8ms/step - loss: 17.3711 - mae: 17.3711\n",
      "Epoch 9/10\n",
      "2/2 [==============================] - 0s 8ms/step - loss: 16.5436 - mae: 16.5436\n",
      "Epoch 10/10\n",
      "2/2 [==============================] - 0s 12ms/step - loss: 17.0294 - mae: 17.0294\n"
     ]
    },
    {
     "data": {
      "text/plain": [
       "<tensorflow.python.keras.callbacks.History at 0x7f8400115790>"
      ]
     },
     "execution_count": 13,
     "metadata": {},
     "output_type": "execute_result"
    }
   ],
   "source": [
    "tf.random.set_seed(42)\n",
    "\n",
    "model = Sequential()\n",
    "model.add(Dense(1))\n",
    "\n",
    "model.compile(\n",
    "    loss=\"mae\",\n",
    "    optimizer=\"sgd\",\n",
    "    metrics=[\"mae\"]\n",
    ")\n",
    "\n",
    "model.fit(X_train, y_train, epochs=10)"
   ]
  },
  {
   "cell_type": "markdown",
   "id": "7c7d33d5",
   "metadata": {},
   "source": [
    "Sau khi fit mô hình, bạn có thể xem các layers và shape của mô hình bằng phương thức [`summary()`](https://www.tensorflow.org/api_docs/python/tf/keras/Model#summary) trong nó.\n",
    "\n",
    "> 🔑 **Note:** Quan sát một mô hình đặc biệt hữu ích khi bạn gặp sự cố không khớp hình dạng đầu vào và đầu ra."
   ]
  },
  {
   "cell_type": "code",
   "execution_count": 14,
   "id": "bae764f4",
   "metadata": {},
   "outputs": [
    {
     "name": "stdout",
     "output_type": "stream",
     "text": [
      "Model: \"sequential_1\"\n",
      "_________________________________________________________________\n",
      "Layer (type)                 Output Shape              Param #   \n",
      "=================================================================\n",
      "dense_1 (Dense)              (None, 1)                 2         \n",
      "=================================================================\n",
      "Total params: 2\n",
      "Trainable params: 2\n",
      "Non-trainable params: 0\n",
      "_________________________________________________________________\n"
     ]
    }
   ],
   "source": [
    "model.summary()"
   ]
  },
  {
   "cell_type": "markdown",
   "id": "929c318d",
   "metadata": {},
   "source": [
    "`summary()` cho chúng ta thấy một số thứ sau : \n",
    "\n",
    "- **Model: \"sequential_1\"** : Tên của mô hình, thông thường nó sẽ tự đặt tên mặc định, nhưng bạn có thể đặt tên cho nó.\n",
    "- **Total params** : Tổng số tham số trong mô hình.\n",
    "- **Trainable parameters** :  Đây là những tham số mà mô hình có thể update khi nó train.\n",
    "- **Non-trainable parameters** : Những tham số này không được update trong suốt quá trình train( điều này là trường hợp điển hình khi bạn sử dụng mô hình đã được học trước đó hay gọi là transfer learning)\n",
    "\n",
    "> 📖 **Nguồn:** Để có cái nhìn tổng quan sâu hơn về các thông số có thể đào tạo trong một lớp, hãy xem\n",
    "[MIT's introduction to deep learning video](https://youtu.be/njKP3FqW3Sk)."
   ]
  },
  {
   "cell_type": "markdown",
   "id": "b1178901",
   "metadata": {},
   "source": [
    "### Quan sát các dự đoán"
   ]
  },
  {
   "cell_type": "code",
   "execution_count": 15,
   "id": "2e5943ab",
   "metadata": {},
   "outputs": [],
   "source": [
    "y_preds = model.predict(X_test)"
   ]
  },
  {
   "cell_type": "code",
   "execution_count": 16,
   "id": "dba51aae",
   "metadata": {
    "scrolled": true
   },
   "outputs": [],
   "source": [
    "def plot_prediction(train_data=X_train, train_labels=y_train, test_data=X_test, test_labels=y_test, predictions=y_preds) : \n",
    "    plt.figure(figsize=(12,8))\n",
    "    plt.scatter(train_data, train_labels, label=\"Train\")\n",
    "    plt.scatter(test_data, test_labels, label=\"Test\")\n",
    "    plt.scatter(test_data, predictions, label=\"Predict\")\n",
    "    plt.legend()"
   ]
  },
  {
   "cell_type": "code",
   "execution_count": 17,
   "id": "13412ad6",
   "metadata": {},
   "outputs": [
    {
     "data": {
      "image/png": "[encoded data removed]",
      "text/plain": [
       "<Figure size 864x576 with 1 Axes>"
      ]
     },
     "metadata": {
      "needs_background": "light"
     },
     "output_type": "display_data"
    }
   ],
   "source": [
    "plot_prediction()"
   ]
  },
  {
   "cell_type": "markdown",
   "id": "a2f9c471",
   "metadata": {},
   "source": [
    "### Đánh giá kết quả dự đoán\n",
    "Bên cạnh quan sát bằng đồ thị, công đơn vị đánh giá cũng là sự thay thế hoàn hảo cho việc đánh giá mô hình.\n",
    "\n",
    "Tùy vào bài toán cần giải quyết sẽ có nhiều phương pháp đánh giá khác nhau\n",
    "\n",
    "Đối với vấn đề về hồi quy thì có phương pháp đánh giá sau : \n",
    "\n",
    "- **Mean squared error(MSE)** : sự khác biệt trung bình bình phương giữa các dự đoán (sử dụng nếu sai số lớn hơn bất lợi hơn sai số nhỏ hơn)\n",
    "- **Mean absolute error(MAE)** : sự khác biệt trung bình giữa mỗi dự đoán.\n",
    "    "
   ]
  },
  {
   "cell_type": "code",
   "execution_count": 18,
   "id": "ffa88ad9",
   "metadata": {},
   "outputs": [],
   "source": [
    "# Tạo hàm MAE, MSE\n",
    "\n",
    "def mae(y_true, y_preds) : \n",
    "    return tf.keras.metrics.MAE(y_true, y_preds)\n",
    "\n",
    "def mse(y_true, y_preds) : \n",
    "    return tf.keras.metrics.MSE(y_true, y_preds)\n",
    "\n"
   ]
  },
  {
   "cell_type": "code",
   "execution_count": 19,
   "id": "049459cc",
   "metadata": {},
   "outputs": [
    {
     "data": {
      "text/plain": [
       "(array([150, 154, 158, 162, 166, 170, 174, 178, 182, 186, 190, 194, 198,\n",
       "        202, 206]),\n",
       " (15,))"
      ]
     },
     "execution_count": 19,
     "metadata": {},
     "output_type": "execute_result"
    }
   ],
   "source": [
    "# Kiểm tra giá trị tensor của test label \n",
    "y_test, y_test.shape"
   ]
  },
  {
   "cell_type": "code",
   "execution_count": 20,
   "id": "7b74896e",
   "metadata": {},
   "outputs": [
    {
     "data": {
      "text/plain": [
       "(array([[ 94.19833 ],\n",
       "        [ 96.887856],\n",
       "        [ 99.57738 ],\n",
       "        [102.26691 ],\n",
       "        [104.95643 ]], dtype=float32),\n",
       " (15, 1))"
      ]
     },
     "execution_count": 20,
     "metadata": {},
     "output_type": "execute_result"
    }
   ],
   "source": [
    "# Kiểm tra giá trị tensor dự đoán\n",
    "y_preds[:5], y_preds.shape"
   ]
  },
  {
   "cell_type": "code",
   "execution_count": 21,
   "id": "4408ed6f",
   "metadata": {
    "scrolled": true
   },
   "outputs": [
    {
     "data": {
      "text/plain": [
       "(array([[ 94.19833 ],\n",
       "        [ 96.887856],\n",
       "        [ 99.57738 ],\n",
       "        [102.26691 ],\n",
       "        [104.95643 ]], dtype=float32),\n",
       " (15, 1))"
      ]
     },
     "execution_count": 21,
     "metadata": {},
     "output_type": "execute_result"
    }
   ],
   "source": [
    "y_preds[:5], y_preds.shape"
   ]
  },
  {
   "cell_type": "markdown",
   "id": "2bbf17fd",
   "metadata": {},
   "source": [
    "Ở `y_test` có dạng (10,), trong khi `y_preds` lại có dạng (10,1). Khi so sánh giá trị dự đoán với giá trị thực tế, các biến này cần có chung hình dạng, kích thước. Vì vậy, chúng ta cần đưa `y_preds` về dạng (10,).\n",
    "\n",
    "Trong Numpy và Tensorflow có một phương thức để giảm số chiều, đó là `squeeze()`"
   ]
  },
  {
   "cell_type": "code",
   "execution_count": 22,
   "id": "6ee266a5",
   "metadata": {},
   "outputs": [
    {
     "data": {
      "text/plain": [
       "(array([ 94.19833 ,  96.887856,  99.57738 , 102.26691 , 104.95643 ,\n",
       "        107.64595 , 110.33547 , 113.024994, 115.71452 , 118.404045,\n",
       "        121.09357 , 123.7831  , 126.47262 , 129.16214 , 131.85167 ],\n",
       "       dtype=float32),\n",
       " (15,))"
      ]
     },
     "execution_count": 22,
     "metadata": {},
     "output_type": "execute_result"
    }
   ],
   "source": [
    "y_preds = np.squeeze(y_preds)\n",
    "y_preds, y_preds.shape"
   ]
  },
  {
   "cell_type": "markdown",
   "id": "bd6341b9",
   "metadata": {},
   "source": [
    "Như vậy, `y_preds` đã có kích thước giống với `y_test`. Lúc này, ta có thể sử dụng các công cụ so sánh để đo lường độ chính xác của mô hình dự đoán."
   ]
  },
  {
   "cell_type": "code",
   "execution_count": 23,
   "id": "194bac4a",
   "metadata": {},
   "outputs": [
    {
     "data": {
      "text/plain": [
       "(<tf.Tensor: shape=(), dtype=float32, numpy=64.975>,\n",
       " <tf.Tensor: shape=(), dtype=float32, numpy=4253.808>)"
      ]
     },
     "execution_count": 23,
     "metadata": {},
     "output_type": "execute_result"
    }
   ],
   "source": [
    "mae_ = mae(y_test, y_preds)\n",
    "mse_ = mse(y_test, y_preds)\n",
    "\n",
    "mae_, mse_"
   ]
  },
  {
   "cell_type": "markdown",
   "id": "0f7ab8c4",
   "metadata": {},
   "source": [
    "### Cải thiện mô hình\n",
    "\n",
    "Từ các phương pháp đánh giá mô hình hồi quy như `mae`, `mse`, tất cả đều cho giá trị rất lớn, điều đó cho thấy mô hình dự đoán không tốt. Do đó, chúng ta cần cải thiện mô hình để nó có thể dự đoán tốt hơn.\n",
    "\n",
    "Nhớ rằng có rất nhiều cách để cải thiện mô hình, nhưng có 3 cách sử dụng rất phổ biến\n",
    "\n",
    "1. Thêm dữ liệu : Khi có càng nhiều dữ liệu được đưa vào mô hình train, thì mô hình sẽ học được nhiều hơn -> tăng thêm khả năng dự đoán chính xác hơn.\n",
    "2. Làm cho mô hình lớn hơn hoặc phức tạp hơn : Để làm được điều này, ta cần tăng số lượng hidden layer hoặc các hidden units (neurol) trong layer nhiều hơn.\n",
    "3. Train mô hình lâu hơn : Thay vì ở mô hình trước chỉ cho mô hình học 10 lần, thì có thể tăng số lần học nhiều hơn bằng cách tăng epochs\n",
    "\n",
    "Vì chúng ta đã tự tạo tập dữ liệu, nên có thể dễ dàng tạo thêm dữ liệu nhưng điều này không phải lúc nào cũng xảy ra khi làm việc với tập dữ liệu trong thế giới thực.\n",
    "\n",
    "Vì vậy, chúng ta có thể cải thiện mô hình của mình bằng thay đổi mô hình 1 bằng cách thêm vào một số cách cải thiện mô hình như sau : \n",
    "\n",
    "1. `model_1` : giống như mô hình trước, với 1 layer nhưng train 100 epochs\n",
    "2. `model_2` : 2 layers, 100 epochs\n",
    "3. `model_3` : 3 layers, 500 epochs"
   ]
  },
  {
   "cell_type": "code",
   "execution_count": 24,
   "id": "444c2681",
   "metadata": {},
   "outputs": [
    {
     "data": {
      "text/plain": [
       "array([-90, -86, -82, -78, -74, -70, -66, -62, -58, -54, -50, -46, -42,\n",
       "       -38, -34, -30, -26, -22, -18, -14, -10,  -6,  -2,   2,   6,  10,\n",
       "        14,  18,  22,  26,  30,  34,  38,  42,  46,  50,  54,  58,  62,\n",
       "        66,  70,  74,  78,  82,  86,  90,  94,  98, 102, 106, 110, 114,\n",
       "       118, 122, 126, 130, 134, 138, 142, 146])"
      ]
     },
     "execution_count": 24,
     "metadata": {},
     "output_type": "execute_result"
    }
   ],
   "source": [
    "y_train"
   ]
  },
  {
   "cell_type": "markdown",
   "id": "d7b00e32",
   "metadata": {},
   "source": [
    "#### Build mô hình 1 "
   ]
  },
  {
   "cell_type": "code",
   "execution_count": 25,
   "id": "734381c6",
   "metadata": {},
   "outputs": [
    {
     "data": {
      "text/plain": [
       "<tensorflow.python.keras.callbacks.History at 0x7f83e077a8b0>"
      ]
     },
     "execution_count": 25,
     "metadata": {},
     "output_type": "execute_result"
    }
   ],
   "source": [
    "# model_1 \n",
    "tf.random.set_seed(42)\n",
    "\n",
    "model_1 = Sequential()\n",
    "model_1.add(Dense(1))\n",
    "\n",
    "model_1.compile(\n",
    "    loss=\"mae\",\n",
    "    optimizer=\"sgd\",\n",
    "    metrics=[\"mae\"]\n",
    ")\n",
    "\n",
    "model_1.fit(X_train,y_train, epochs=100, verbose=0)"
   ]
  },
  {
   "cell_type": "code",
   "execution_count": 26,
   "id": "add24590",
   "metadata": {},
   "outputs": [
    {
     "name": "stdout",
     "output_type": "stream",
     "text": [
      "1/1 [==============================] - 0s 291ms/step - loss: 46.9757 - mae: 46.9757\n"
     ]
    },
    {
     "data": {
      "text/plain": [
       "[46.975650787353516, 46.975650787353516]"
      ]
     },
     "execution_count": 26,
     "metadata": {},
     "output_type": "execute_result"
    }
   ],
   "source": [
    "model_1.evaluate(X_test, y_test)"
   ]
  },
  {
   "cell_type": "code",
   "execution_count": 27,
   "id": "2cd541e4",
   "metadata": {},
   "outputs": [
    {
     "data": {
      "image/png": "[encoded data removed]",
      "text/plain": [
       "<Figure size 864x576 with 1 Axes>"
      ]
     },
     "metadata": {
      "needs_background": "light"
     },
     "output_type": "display_data"
    }
   ],
   "source": [
    "y_preds_1 = model_1.predict(X_test)\n",
    "plot_prediction(X_train, y_train, X_test, y_test, y_preds_1)"
   ]
  },
  {
   "cell_type": "code",
   "execution_count": 28,
   "id": "6e867714",
   "metadata": {},
   "outputs": [],
   "source": [
    "y_preds_1 = np.squeeze(y_preds_1)"
   ]
  },
  {
   "cell_type": "code",
   "execution_count": 29,
   "id": "cc83dcb7",
   "metadata": {},
   "outputs": [
    {
     "data": {
      "text/plain": [
       "(<tf.Tensor: shape=(), dtype=float32, numpy=46.97565>,\n",
       " <tf.Tensor: shape=(), dtype=float32, numpy=2240.2773>)"
      ]
     },
     "execution_count": 29,
     "metadata": {},
     "output_type": "execute_result"
    }
   ],
   "source": [
    "mae_1 = mae(y_test, y_preds_1)\n",
    "mse_1 = mse(y_test, y_preds_1)\n",
    "\n",
    "mae_1, mse_1"
   ]
  },
  {
   "cell_type": "markdown",
   "id": "9554aee5",
   "metadata": {},
   "source": [
    "#### Build mô hình 2"
   ]
  },
  {
   "cell_type": "code",
   "execution_count": 30,
   "id": "df3d0d4c",
   "metadata": {},
   "outputs": [
    {
     "data": {
      "text/plain": [
       "<tensorflow.python.keras.callbacks.History at 0x7f83e07bfb50>"
      ]
     },
     "execution_count": 30,
     "metadata": {},
     "output_type": "execute_result"
    }
   ],
   "source": [
    "# Set random seed\n",
    "tf.random.set_seed(42)\n",
    "\n",
    "# Replicate model_1 and add an extra layer\n",
    "model_2 = tf.keras.Sequential([\n",
    "  tf.keras.layers.Dense(1),\n",
    "  tf.keras.layers.Dense(1) # add a second layer\n",
    "])\n",
    "\n",
    "# Compile the model\n",
    "model_2.compile(loss=tf.keras.losses.mae,\n",
    "                optimizer=tf.keras.optimizers.SGD(),\n",
    "                metrics=['mae'])\n",
    "\n",
    "# Fit the model\n",
    "model_2.fit(X_train, y_train, epochs=100, verbose=0)"
   ]
  },
  {
   "cell_type": "code",
   "execution_count": 31,
   "id": "767efc0c",
   "metadata": {},
   "outputs": [
    {
     "name": "stdout",
     "output_type": "stream",
     "text": [
      "1/1 [==============================] - 0s 222ms/step - loss: 137.3578 - mae: 137.3578\n"
     ]
    },
    {
     "data": {
      "text/plain": [
       "[137.35784912109375, 137.35784912109375]"
      ]
     },
     "execution_count": 31,
     "metadata": {},
     "output_type": "execute_result"
    }
   ],
   "source": [
    "model_2.evaluate(X_test, y_test)"
   ]
  },
  {
   "cell_type": "code",
   "execution_count": 32,
   "id": "08c81077",
   "metadata": {},
   "outputs": [
    {
     "data": {
      "image/png": "[encoded data removed]",
      "text/plain": [
       "<Figure size 864x576 with 1 Axes>"
      ]
     },
     "metadata": {
      "needs_background": "light"
     },
     "output_type": "display_data"
    }
   ],
   "source": [
    "y_preds_2 = model_2.predict(X_test)\n",
    "plot_prediction(predictions = y_preds_2)"
   ]
  },
  {
   "cell_type": "code",
   "execution_count": 33,
   "id": "c50bbd6d",
   "metadata": {},
   "outputs": [],
   "source": [
    "y_preds_2 = np.squeeze(y_preds_2)"
   ]
  },
  {
   "cell_type": "code",
   "execution_count": 34,
   "id": "254b3cee",
   "metadata": {},
   "outputs": [
    {
     "data": {
      "text/plain": [
       "(<tf.Tensor: shape=(), dtype=float32, numpy=137.35785>,\n",
       " <tf.Tensor: shape=(), dtype=float32, numpy=19040.824>)"
      ]
     },
     "execution_count": 34,
     "metadata": {},
     "output_type": "execute_result"
    }
   ],
   "source": [
    "mae_2 = mae(y_test, y_preds_2)\n",
    "mse_2 = mse(y_test, y_preds_2)\n",
    "\n",
    "mae_2, mse_2"
   ]
  },
  {
   "cell_type": "markdown",
   "id": "b867046b",
   "metadata": {},
   "source": [
    "Có vẻ MAE của `model_2` có cải thiện hơn so với `model_1` nhưng vẫn không tốt."
   ]
  },
  {
   "cell_type": "markdown",
   "id": "cdf3e464",
   "metadata": {},
   "source": [
    "#### Build mô hình 3 "
   ]
  },
  {
   "cell_type": "code",
   "execution_count": 35,
   "id": "29782726",
   "metadata": {},
   "outputs": [
    {
     "data": {
      "text/plain": [
       "<tensorflow.python.keras.callbacks.History at 0x7f84080547c0>"
      ]
     },
     "execution_count": 35,
     "metadata": {},
     "output_type": "execute_result"
    }
   ],
   "source": [
    "tf.random.set_seed(42)\n",
    "\n",
    "model_3 = Sequential()\n",
    "model_3.add(Dense(1))\n",
    "model_3.add(Dense(1))\n",
    "model_3.add(Dense(1))\n",
    "\n",
    "model_3.compile(\n",
    "    loss=\"mae\",\n",
    "    optimizer=\"sgd\",\n",
    "    metrics=[\"mae\"]\n",
    ")\n",
    "\n",
    "model_3.fit(X_train, y_train, epochs=500, verbose=0)"
   ]
  },
  {
   "cell_type": "code",
   "execution_count": 36,
   "id": "ddc4dd90",
   "metadata": {},
   "outputs": [
    {
     "name": "stdout",
     "output_type": "stream",
     "text": [
      "1/1 [==============================] - 0s 320ms/step - loss: 149.1841 - mae: 149.1841\n"
     ]
    },
    {
     "data": {
      "text/plain": [
       "[149.18411254882812, 149.18411254882812]"
      ]
     },
     "execution_count": 36,
     "metadata": {},
     "output_type": "execute_result"
    }
   ],
   "source": [
    "model_3.evaluate(X_test, y_test)"
   ]
  },
  {
   "cell_type": "code",
   "execution_count": 37,
   "id": "2094e89b",
   "metadata": {},
   "outputs": [
    {
     "name": "stdout",
     "output_type": "stream",
     "text": [
      "WARNING:tensorflow:5 out of the last 5 calls to <function Model.make_predict_function.<locals>.predict_function at 0x7f83e3f22d30> triggered tf.function retracing. Tracing is expensive and the excessive number of tracings could be due to (1) creating @tf.function repeatedly in a loop, (2) passing tensors with different shapes, (3) passing Python objects instead of tensors. For (1), please define your @tf.function outside of the loop. For (2), @tf.function has experimental_relax_shapes=True option that relaxes argument shapes that can avoid unnecessary retracing. For (3), please refer to https://www.tensorflow.org/guide/function#controlling_retracing and https://www.tensorflow.org/api_docs/python/tf/function for  more details.\n"
     ]
    }
   ],
   "source": [
    "y_preds_3 = model_3.predict(X_test)\n",
    "y_preds_3 = np.squeeze(y_preds_3)"
   ]
  },
  {
   "cell_type": "code",
   "execution_count": 38,
   "id": "dfa42b59",
   "metadata": {
    "scrolled": true
   },
   "outputs": [
    {
     "data": {
      "image/png": "[encoded data removed]",
      "text/plain": [
       "<Figure size 864x576 with 1 Axes>"
      ]
     },
     "metadata": {
      "needs_background": "light"
     },
     "output_type": "display_data"
    }
   ],
   "source": [
    "plot_prediction(X_train, y_train, X_test, y_test, y_preds_3)"
   ]
  },
  {
   "cell_type": "code",
   "execution_count": 39,
   "id": "6512ae55",
   "metadata": {},
   "outputs": [
    {
     "data": {
      "text/plain": [
       "(<tf.Tensor: shape=(), dtype=float32, numpy=149.18411>,\n",
       " <tf.Tensor: shape=(), dtype=float32, numpy=22470.205>)"
      ]
     },
     "execution_count": 39,
     "metadata": {},
     "output_type": "execute_result"
    }
   ],
   "source": [
    "mae_3 = mae(y_test, y_preds_3)\n",
    "mse_3 = mse(y_test, y_preds_3)\n",
    "\n",
    "mae_3, mse_3"
   ]
  },
  {
   "cell_type": "markdown",
   "id": "da99e8bc",
   "metadata": {},
   "source": [
    "Bây giờ, sẽ lập biểu đồ so sánh các phương pháp đo lường trong từng mô hình"
   ]
  },
  {
   "cell_type": "code",
   "execution_count": 40,
   "id": "e0032082",
   "metadata": {},
   "outputs": [],
   "source": [
    "import pandas as pd"
   ]
  },
  {
   "cell_type": "code",
   "execution_count": 41,
   "id": "8b078583",
   "metadata": {},
   "outputs": [
    {
     "data": {
      "text/plain": [
       "([], [])"
      ]
     },
     "execution_count": 41,
     "metadata": {},
     "output_type": "execute_result"
    },
    {
     "data": {
      "image/png": "[encoded data removed]",
      "text/plain": [
       "<Figure size 432x288 with 1 Axes>"
      ]
     },
     "metadata": {
      "needs_background": "light"
     },
     "output_type": "display_data"
    }
   ],
   "source": [
    "models_mae = {\n",
    "    \"model_1\" : [mae_1.numpy()],\n",
    "    \"model_2\" : [mae_2.numpy()],\n",
    "    \"model_3\" : [mae_3.numpy()]\n",
    "}\n",
    "\n",
    "df = pd.DataFrame(models_mae)\n",
    "df.plot.bar()\n",
    "plt.xticks([])"
   ]
  },
  {
   "cell_type": "markdown",
   "id": "411cee48",
   "metadata": {},
   "source": [
    "Từ biểu đồ, ta có thể thấy `model_1` là tốt nhất. Tuy nhiên, nó còn có thể tốt hơn khi ta thay đổi và trải nghiệm thêm.\n",
    "\n",
    "Một điều khác bạn cũng sẽ thấy là những gì bạn nghĩ có thể hiệu quả (chẳng hạn như train dữ liệu lâu hơn hoặc thêm số layer nhiều hơn) có thể không phải lúc nào cũng hiệu quả và điều ngược lại cũng thường xảy ra.\n",
    "\n"
   ]
  },
  {
   "cell_type": "markdown",
   "id": "c8fd4e3c",
   "metadata": {},
   "source": [
    "### Theo dõi các thử nghiệm\n",
    "\n",
    "Một thói quen thực sự tốt cần có là theo dõi các thử nghiệm mô hình của bạn để xem thử nghiệm nào hoạt động tốt hơn những thử nghiệm khác.\n",
    "\n",
    "> 📖 Nguồn Nhưng khi bạn xây dựng nhiều mô hình hơn, bạn sẽ muốn xem xét việc sử dụng các công cụ như:\n",
    "> [Tensor board](https://tensorboard.dev/) : một phần của thư viên Tensorflow giúp theo dõi những thử nghiệm trên mô hình ( sẽ có ở những module sau)\n",
    "> [Weight and Bias](https://wandb.ai/site) : một công cụ để theo dõi tất cả các loại thử nghiệm cho machine learning"
   ]
  },
  {
   "cell_type": "markdown",
   "id": "0924bcfe",
   "metadata": {},
   "source": [
    "## 6. Lưu mô hình\n",
    "\n",
    "Khi train một mô hình nào đó và bạn muốn giữ mô hình đó lại để tái sử dụng cho những lần tiếp theo thay vì phải train lại từ đầu, bạn chỉ cần lưu nó lại vào nơi nào mà bạn muốn.\n",
    "\n",
    "Save Tensorflow/Keras bằng việc sử dụng `model.save()`\n",
    "\n",
    "Trong Tensorflow, có 2 cách để lưu mô hình : \n",
    "\n",
    "1. [SavedModelFormat](https://www.tensorflow.org/tutorials/keras/save_and_load#savedmodel_format)\n",
    "2. [HDF5 Format](https://www.tensorflow.org/tutorials/keras/save_and_load#hdf5_format)\n",
    "\n",
    "Sự khác biệt chính giữa cả hai là SavedModel có thể tự động lưu các đối tượng tùy chỉnh (chẳng hạn như các lớp đặc biệt) mà không cần sửa đổi bổ sung khi tải lại mô hình.\n",
    "\n",
    "Để lưu định dạng nào phù hơp nó phụ thuộc vào tình huống cần sử dụng, nhưng `SavedModelFormat` thường được sử dụng phổ biến.\n",
    "\n",
    "Cả 2 phương thức này cùng sủ dụng phương thức `call`\n"
   ]
  },
  {
   "cell_type": "code",
   "execution_count": 42,
   "id": "c67e82d0",
   "metadata": {
    "scrolled": true
   },
   "outputs": [
    {
     "name": "stdout",
     "output_type": "stream",
     "text": [
      "INFO:tensorflow:Assets written to: best_model_regression/assets\n"
     ]
    }
   ],
   "source": [
    "# Save a model using the SavedModel format\n",
    "model_1.save(\"best_model_regression\")"
   ]
  },
  {
   "cell_type": "code",
   "execution_count": 43,
   "id": "ddb5c69f",
   "metadata": {},
   "outputs": [
    {
     "name": "stdout",
     "output_type": "stream",
     "text": [
      "01_neural_network_regression.ipynb  best_model_regression.h5\r\n",
      "best_model_regression\r\n"
     ]
    }
   ],
   "source": [
    "# Kiểm tra xem thư mục hiện tại đã lưu chưa\n",
    "!ls"
   ]
  },
  {
   "cell_type": "code",
   "execution_count": 44,
   "id": "d5c3bec9",
   "metadata": {},
   "outputs": [
    {
     "name": "stdout",
     "output_type": "stream",
     "text": [
      "assets\tsaved_model.pb\tvariables\r\n"
     ]
    }
   ],
   "source": [
    "# Kiểm tra xem trong best_model_regression có chưa tập tin gì\n",
    "!ls best_model_regression"
   ]
  },
  {
   "cell_type": "markdown",
   "id": "70232ed5",
   "metadata": {},
   "source": [
    "Bây giờ, thử lưu mô hình dưới định dạng `HDF5`"
   ]
  },
  {
   "cell_type": "code",
   "execution_count": 45,
   "id": "3b0818a0",
   "metadata": {},
   "outputs": [],
   "source": [
    "model_1.save(\"best_model_regression.h5\")"
   ]
  },
  {
   "cell_type": "code",
   "execution_count": 46,
   "id": "eff67bbe",
   "metadata": {
    "scrolled": true
   },
   "outputs": [
    {
     "name": "stdout",
     "output_type": "stream",
     "text": [
      "01_neural_network_regression.ipynb  best_model_regression.h5\r\n",
      "best_model_regression\r\n"
     ]
    }
   ],
   "source": [
    "!ls"
   ]
  },
  {
   "cell_type": "markdown",
   "id": "34c19e02",
   "metadata": {},
   "source": [
    "## 7. Load mô hình\n",
    "\n",
    "Ta có thể load mô hình bằng cách sử dụng `load_model()` có sẵn trong tensorflow.\n"
   ]
  },
  {
   "cell_type": "code",
   "execution_count": 47,
   "id": "1cc48441",
   "metadata": {},
   "outputs": [
    {
     "data": {
      "text/plain": [
       "<tensorflow.python.keras.engine.sequential.Sequential at 0x7f83e2b90af0>"
      ]
     },
     "execution_count": 47,
     "metadata": {},
     "output_type": "execute_result"
    }
   ],
   "source": [
    "loaded_best_model_regression = tf.keras.models.load_model(\"best_model_regression\")\n",
    "loaded_best_model_regression"
   ]
  },
  {
   "cell_type": "markdown",
   "id": "4cc134dc",
   "metadata": {},
   "source": [
    "Bây giờ thử xem mô hình có giống như trước khi save không nhé"
   ]
  },
  {
   "cell_type": "code",
   "execution_count": 48,
   "id": "c110b585",
   "metadata": {},
   "outputs": [
    {
     "name": "stdout",
     "output_type": "stream",
     "text": [
      "1/1 [==============================] - 0s 211ms/step - loss: 46.9757 - mae: 46.9757\n"
     ]
    },
    {
     "data": {
      "text/plain": [
       "[46.975650787353516, 46.975650787353516]"
      ]
     },
     "execution_count": 48,
     "metadata": {},
     "output_type": "execute_result"
    }
   ],
   "source": [
    "loaded_best_model_regression.evaluate(X_test, y_test)"
   ]
  },
  {
   "cell_type": "code",
   "execution_count": 49,
   "id": "a4e49174",
   "metadata": {},
   "outputs": [
    {
     "name": "stdout",
     "output_type": "stream",
     "text": [
      "WARNING:tensorflow:6 out of the last 6 calls to <function Model.make_predict_function.<locals>.predict_function at 0x7f83e2ab89d0> triggered tf.function retracing. Tracing is expensive and the excessive number of tracings could be due to (1) creating @tf.function repeatedly in a loop, (2) passing tensors with different shapes, (3) passing Python objects instead of tensors. For (1), please define your @tf.function outside of the loop. For (2), @tf.function has experimental_relax_shapes=True option that relaxes argument shapes that can avoid unnecessary retracing. For (3), please refer to https://www.tensorflow.org/guide/function#controlling_retracing and https://www.tensorflow.org/api_docs/python/tf/function for  more details.\n"
     ]
    },
    {
     "data": {
      "image/png": "[encoded data removed]",
      "text/plain": [
       "<Figure size 864x576 with 1 Axes>"
      ]
     },
     "metadata": {
      "needs_background": "light"
     },
     "output_type": "display_data"
    }
   ],
   "source": [
    "y_preds = loaded_best_model_regression.predict(X_test)\n",
    "y_preds = np.squeeze(y_preds)\n",
    "plot_prediction(predictions=y_preds)"
   ]
  },
  {
   "cell_type": "code",
   "execution_count": 50,
   "id": "e95975f3",
   "metadata": {},
   "outputs": [
    {
     "data": {
      "text/plain": [
       "<tf.Tensor: shape=(), dtype=bool, numpy=True>"
      ]
     },
     "execution_count": 50,
     "metadata": {},
     "output_type": "execute_result"
    }
   ],
   "source": [
    "mae(y_test, y_preds) == mae(y_test, y_preds_1)"
   ]
  },
  {
   "cell_type": "markdown",
   "id": "8b1a4bf8",
   "metadata": {},
   "source": [
    "## Download mô hình với Google Colab\n",
    "\n",
    "Giả sử bạn muốn đưa mô hình của mình từ Google Colab vào máy cục bộ, bạn có thể thực hiện một trong những việc sau:\n",
    "\n",
    "* Click chuột vào file tìm vị trí `download` rồi tải về\n",
    "* sử dụng code "
   ]
  },
  {
   "cell_type": "code",
   "execution_count": 51,
   "id": "81079ead",
   "metadata": {
    "scrolled": true
   },
   "outputs": [
    {
     "name": "stdout",
     "output_type": "stream",
     "text": [
      "không tìm thấy module\n"
     ]
    }
   ],
   "source": [
    "try : \n",
    "    from google.colab import files\n",
    "    files.downdload(\"best_model_regression.h5\")\n",
    "except ModuleNotFoundError :\n",
    "    print(\"không tìm thấy module\")"
   ]
  },
  {
   "cell_type": "markdown",
   "id": "e0d2f97c",
   "metadata": {},
   "source": [
    "## Ví dụ với dữ liệu lớn hơn\n",
    "\n",
    "Từ những phần trước, chúng ta đã có được nền tảng để xây dựng mô hình hồi quy với Neural network trong Tensorflow. Bây giờ, chúng ta sẽ xây dựng mô hình hồi quy với dữ liệu lớn hơn, thực tế hơn xem nó sẽ dự đoán mô hình có tốt không.\n",
    "\n",
    "Ở bài này, chúng ta sẽ cố gắng dự báo chi phí bảo hiểm y tế của một người nào đó dựa trên thông tin của họ về độ tuổi (age), giới tính (sex), chỉ số bmi (bmi), số con (children), có hút thuốc hay không (smoking_status), nơi sinh sống (residental_region).\n",
    "\n",
    "Để làm được điều đó, chúng tôi sẽ tận dụng bộ dữ [Medical Cost](https://www.kaggle.com/mirichoi0218/insurance) sẵn có từ Kaggle và được lưu trữ trên [Github](https://github.com/stedy/Machine-Learning-with-R-datasets/blob/master/insurance.csv).\n"
   ]
  },
  {
   "cell_type": "code",
   "execution_count": 52,
   "id": "6afdabe4",
   "metadata": {},
   "outputs": [],
   "source": [
    "import pandas as pd\n",
    "import matplotlib.pyplot as plt\n",
    "import numpy as np\n",
    "import tensorflow as tf"
   ]
  },
  {
   "cell_type": "code",
   "execution_count": 53,
   "id": "0cb3998b",
   "metadata": {},
   "outputs": [],
   "source": [
    "insurance_data = pd.read_csv(\"https://raw.githubusercontent.com/stedy/Machine-Learning-with-R-datasets/master/insurance.csv\")"
   ]
  },
  {
   "cell_type": "code",
   "execution_count": 54,
   "id": "a1c8ed37",
   "metadata": {},
   "outputs": [
    {
     "data": {
      "text/html": [
       "<div>\n",
       "<style scoped>\n",
       "    .dataframe tbody tr th:only-of-type {\n",
       "        vertical-align: middle;\n",
       "    }\n",
       "\n",
       "    .dataframe tbody tr th {\n",
       "        vertical-align: top;\n",
       "    }\n",
       "\n",
       "    .dataframe thead th {\n",
       "        text-align: right;\n",
       "    }\n",
       "</style>\n",
       "<table border=\"1\" class=\"dataframe\">\n",
       "  <thead>\n",
       "    <tr style=\"text-align: right;\">\n",
       "      <th></th>\n",
       "      <th>age</th>\n",
       "      <th>sex</th>\n",
       "      <th>bmi</th>\n",
       "      <th>children</th>\n",
       "      <th>smoker</th>\n",
       "      <th>region</th>\n",
       "      <th>charges</th>\n",
       "    </tr>\n",
       "  </thead>\n",
       "  <tbody>\n",
       "    <tr>\n",
       "      <th>0</th>\n",
       "      <td>19</td>\n",
       "      <td>female</td>\n",
       "      <td>27.900</td>\n",
       "      <td>0</td>\n",
       "      <td>yes</td>\n",
       "      <td>southwest</td>\n",
       "      <td>16884.92400</td>\n",
       "    </tr>\n",
       "    <tr>\n",
       "      <th>1</th>\n",
       "      <td>18</td>\n",
       "      <td>male</td>\n",
       "      <td>33.770</td>\n",
       "      <td>1</td>\n",
       "      <td>no</td>\n",
       "      <td>southeast</td>\n",
       "      <td>1725.55230</td>\n",
       "    </tr>\n",
       "    <tr>\n",
       "      <th>2</th>\n",
       "      <td>28</td>\n",
       "      <td>male</td>\n",
       "      <td>33.000</td>\n",
       "      <td>3</td>\n",
       "      <td>no</td>\n",
       "      <td>southeast</td>\n",
       "      <td>4449.46200</td>\n",
       "    </tr>\n",
       "    <tr>\n",
       "      <th>3</th>\n",
       "      <td>33</td>\n",
       "      <td>male</td>\n",
       "      <td>22.705</td>\n",
       "      <td>0</td>\n",
       "      <td>no</td>\n",
       "      <td>northwest</td>\n",
       "      <td>21984.47061</td>\n",
       "    </tr>\n",
       "    <tr>\n",
       "      <th>4</th>\n",
       "      <td>32</td>\n",
       "      <td>male</td>\n",
       "      <td>28.880</td>\n",
       "      <td>0</td>\n",
       "      <td>no</td>\n",
       "      <td>northwest</td>\n",
       "      <td>3866.85520</td>\n",
       "    </tr>\n",
       "    <tr>\n",
       "      <th>5</th>\n",
       "      <td>31</td>\n",
       "      <td>female</td>\n",
       "      <td>25.740</td>\n",
       "      <td>0</td>\n",
       "      <td>no</td>\n",
       "      <td>southeast</td>\n",
       "      <td>3756.62160</td>\n",
       "    </tr>\n",
       "    <tr>\n",
       "      <th>6</th>\n",
       "      <td>46</td>\n",
       "      <td>female</td>\n",
       "      <td>33.440</td>\n",
       "      <td>1</td>\n",
       "      <td>no</td>\n",
       "      <td>southeast</td>\n",
       "      <td>8240.58960</td>\n",
       "    </tr>\n",
       "    <tr>\n",
       "      <th>7</th>\n",
       "      <td>37</td>\n",
       "      <td>female</td>\n",
       "      <td>27.740</td>\n",
       "      <td>3</td>\n",
       "      <td>no</td>\n",
       "      <td>northwest</td>\n",
       "      <td>7281.50560</td>\n",
       "    </tr>\n",
       "    <tr>\n",
       "      <th>8</th>\n",
       "      <td>37</td>\n",
       "      <td>male</td>\n",
       "      <td>29.830</td>\n",
       "      <td>2</td>\n",
       "      <td>no</td>\n",
       "      <td>northeast</td>\n",
       "      <td>6406.41070</td>\n",
       "    </tr>\n",
       "    <tr>\n",
       "      <th>9</th>\n",
       "      <td>60</td>\n",
       "      <td>female</td>\n",
       "      <td>25.840</td>\n",
       "      <td>0</td>\n",
       "      <td>no</td>\n",
       "      <td>northwest</td>\n",
       "      <td>28923.13692</td>\n",
       "    </tr>\n",
       "  </tbody>\n",
       "</table>\n",
       "</div>"
      ],
      "text/plain": [
       "   age     sex     bmi  children smoker     region      charges\n",
       "0   19  female  27.900         0    yes  southwest  16884.92400\n",
       "1   18    male  33.770         1     no  southeast   1725.55230\n",
       "2   28    male  33.000         3     no  southeast   4449.46200\n",
       "3   33    male  22.705         0     no  northwest  21984.47061\n",
       "4   32    male  28.880         0     no  northwest   3866.85520\n",
       "5   31  female  25.740         0     no  southeast   3756.62160\n",
       "6   46  female  33.440         1     no  southeast   8240.58960\n",
       "7   37  female  27.740         3     no  northwest   7281.50560\n",
       "8   37    male  29.830         2     no  northeast   6406.41070\n",
       "9   60  female  25.840         0     no  northwest  28923.13692"
      ]
     },
     "execution_count": 54,
     "metadata": {},
     "output_type": "execute_result"
    }
   ],
   "source": [
    "insurance_data.head(10)"
   ]
  },
  {
   "cell_type": "markdown",
   "id": "cfe8f153",
   "metadata": {},
   "source": [
    "Vì neural network chỉ có thể xử lý các input kiẻu `number`, nó không hiểu được các kiểu dữ liệu khác nên ta cần chuyển những cột nào không phải dạng số về kiểu `number`\n",
    "\n",
    "Có rất nhiều cách để chuyển kiểu dữ liệu về kiểu số . Chẳng hạn như trong pandas có [`pd.get_dummies()`](https://pandas.pydata.org/pandas-docs/stable/reference/api/pandas.get_dummies.html), trong sklearn có `OneHotEncoder`\n",
    "\n",
    "Trong bài này, cần chuyển cột `sex`, `smoker`, `region` thành kiểu số"
   ]
  },
  {
   "cell_type": "code",
   "execution_count": 55,
   "id": "4cb434c2",
   "metadata": {},
   "outputs": [
    {
     "data": {
      "text/html": [
       "<div>\n",
       "<style scoped>\n",
       "    .dataframe tbody tr th:only-of-type {\n",
       "        vertical-align: middle;\n",
       "    }\n",
       "\n",
       "    .dataframe tbody tr th {\n",
       "        vertical-align: top;\n",
       "    }\n",
       "\n",
       "    .dataframe thead th {\n",
       "        text-align: right;\n",
       "    }\n",
       "</style>\n",
       "<table border=\"1\" class=\"dataframe\">\n",
       "  <thead>\n",
       "    <tr style=\"text-align: right;\">\n",
       "      <th></th>\n",
       "      <th>age</th>\n",
       "      <th>bmi</th>\n",
       "      <th>children</th>\n",
       "      <th>charges</th>\n",
       "      <th>sex_female</th>\n",
       "      <th>sex_male</th>\n",
       "      <th>smoker_no</th>\n",
       "      <th>smoker_yes</th>\n",
       "      <th>region_northeast</th>\n",
       "      <th>region_northwest</th>\n",
       "      <th>region_southeast</th>\n",
       "      <th>region_southwest</th>\n",
       "    </tr>\n",
       "  </thead>\n",
       "  <tbody>\n",
       "    <tr>\n",
       "      <th>0</th>\n",
       "      <td>19</td>\n",
       "      <td>27.900</td>\n",
       "      <td>0</td>\n",
       "      <td>16884.92400</td>\n",
       "      <td>1</td>\n",
       "      <td>0</td>\n",
       "      <td>0</td>\n",
       "      <td>1</td>\n",
       "      <td>0</td>\n",
       "      <td>0</td>\n",
       "      <td>0</td>\n",
       "      <td>1</td>\n",
       "    </tr>\n",
       "    <tr>\n",
       "      <th>1</th>\n",
       "      <td>18</td>\n",
       "      <td>33.770</td>\n",
       "      <td>1</td>\n",
       "      <td>1725.55230</td>\n",
       "      <td>0</td>\n",
       "      <td>1</td>\n",
       "      <td>1</td>\n",
       "      <td>0</td>\n",
       "      <td>0</td>\n",
       "      <td>0</td>\n",
       "      <td>1</td>\n",
       "      <td>0</td>\n",
       "    </tr>\n",
       "    <tr>\n",
       "      <th>2</th>\n",
       "      <td>28</td>\n",
       "      <td>33.000</td>\n",
       "      <td>3</td>\n",
       "      <td>4449.46200</td>\n",
       "      <td>0</td>\n",
       "      <td>1</td>\n",
       "      <td>1</td>\n",
       "      <td>0</td>\n",
       "      <td>0</td>\n",
       "      <td>0</td>\n",
       "      <td>1</td>\n",
       "      <td>0</td>\n",
       "    </tr>\n",
       "    <tr>\n",
       "      <th>3</th>\n",
       "      <td>33</td>\n",
       "      <td>22.705</td>\n",
       "      <td>0</td>\n",
       "      <td>21984.47061</td>\n",
       "      <td>0</td>\n",
       "      <td>1</td>\n",
       "      <td>1</td>\n",
       "      <td>0</td>\n",
       "      <td>0</td>\n",
       "      <td>1</td>\n",
       "      <td>0</td>\n",
       "      <td>0</td>\n",
       "    </tr>\n",
       "    <tr>\n",
       "      <th>4</th>\n",
       "      <td>32</td>\n",
       "      <td>28.880</td>\n",
       "      <td>0</td>\n",
       "      <td>3866.85520</td>\n",
       "      <td>0</td>\n",
       "      <td>1</td>\n",
       "      <td>1</td>\n",
       "      <td>0</td>\n",
       "      <td>0</td>\n",
       "      <td>1</td>\n",
       "      <td>0</td>\n",
       "      <td>0</td>\n",
       "    </tr>\n",
       "    <tr>\n",
       "      <th>...</th>\n",
       "      <td>...</td>\n",
       "      <td>...</td>\n",
       "      <td>...</td>\n",
       "      <td>...</td>\n",
       "      <td>...</td>\n",
       "      <td>...</td>\n",
       "      <td>...</td>\n",
       "      <td>...</td>\n",
       "      <td>...</td>\n",
       "      <td>...</td>\n",
       "      <td>...</td>\n",
       "      <td>...</td>\n",
       "    </tr>\n",
       "    <tr>\n",
       "      <th>1333</th>\n",
       "      <td>50</td>\n",
       "      <td>30.970</td>\n",
       "      <td>3</td>\n",
       "      <td>10600.54830</td>\n",
       "      <td>0</td>\n",
       "      <td>1</td>\n",
       "      <td>1</td>\n",
       "      <td>0</td>\n",
       "      <td>0</td>\n",
       "      <td>1</td>\n",
       "      <td>0</td>\n",
       "      <td>0</td>\n",
       "    </tr>\n",
       "    <tr>\n",
       "      <th>1334</th>\n",
       "      <td>18</td>\n",
       "      <td>31.920</td>\n",
       "      <td>0</td>\n",
       "      <td>2205.98080</td>\n",
       "      <td>1</td>\n",
       "      <td>0</td>\n",
       "      <td>1</td>\n",
       "      <td>0</td>\n",
       "      <td>1</td>\n",
       "      <td>0</td>\n",
       "      <td>0</td>\n",
       "      <td>0</td>\n",
       "    </tr>\n",
       "    <tr>\n",
       "      <th>1335</th>\n",
       "      <td>18</td>\n",
       "      <td>36.850</td>\n",
       "      <td>0</td>\n",
       "      <td>1629.83350</td>\n",
       "      <td>1</td>\n",
       "      <td>0</td>\n",
       "      <td>1</td>\n",
       "      <td>0</td>\n",
       "      <td>0</td>\n",
       "      <td>0</td>\n",
       "      <td>1</td>\n",
       "      <td>0</td>\n",
       "    </tr>\n",
       "    <tr>\n",
       "      <th>1336</th>\n",
       "      <td>21</td>\n",
       "      <td>25.800</td>\n",
       "      <td>0</td>\n",
       "      <td>2007.94500</td>\n",
       "      <td>1</td>\n",
       "      <td>0</td>\n",
       "      <td>1</td>\n",
       "      <td>0</td>\n",
       "      <td>0</td>\n",
       "      <td>0</td>\n",
       "      <td>0</td>\n",
       "      <td>1</td>\n",
       "    </tr>\n",
       "    <tr>\n",
       "      <th>1337</th>\n",
       "      <td>61</td>\n",
       "      <td>29.070</td>\n",
       "      <td>0</td>\n",
       "      <td>29141.36030</td>\n",
       "      <td>1</td>\n",
       "      <td>0</td>\n",
       "      <td>0</td>\n",
       "      <td>1</td>\n",
       "      <td>0</td>\n",
       "      <td>1</td>\n",
       "      <td>0</td>\n",
       "      <td>0</td>\n",
       "    </tr>\n",
       "  </tbody>\n",
       "</table>\n",
       "<p>1338 rows × 12 columns</p>\n",
       "</div>"
      ],
      "text/plain": [
       "      age     bmi  children      charges  sex_female  sex_male  smoker_no  \\\n",
       "0      19  27.900         0  16884.92400           1         0          0   \n",
       "1      18  33.770         1   1725.55230           0         1          1   \n",
       "2      28  33.000         3   4449.46200           0         1          1   \n",
       "3      33  22.705         0  21984.47061           0         1          1   \n",
       "4      32  28.880         0   3866.85520           0         1          1   \n",
       "...   ...     ...       ...          ...         ...       ...        ...   \n",
       "1333   50  30.970         3  10600.54830           0         1          1   \n",
       "1334   18  31.920         0   2205.98080           1         0          1   \n",
       "1335   18  36.850         0   1629.83350           1         0          1   \n",
       "1336   21  25.800         0   2007.94500           1         0          1   \n",
       "1337   61  29.070         0  29141.36030           1         0          0   \n",
       "\n",
       "      smoker_yes  region_northeast  region_northwest  region_southeast  \\\n",
       "0              1                 0                 0                 0   \n",
       "1              0                 0                 0                 1   \n",
       "2              0                 0                 0                 1   \n",
       "3              0                 0                 1                 0   \n",
       "4              0                 0                 1                 0   \n",
       "...          ...               ...               ...               ...   \n",
       "1333           0                 0                 1                 0   \n",
       "1334           0                 1                 0                 0   \n",
       "1335           0                 0                 0                 1   \n",
       "1336           0                 0                 0                 0   \n",
       "1337           1                 0                 1                 0   \n",
       "\n",
       "      region_southwest  \n",
       "0                    1  \n",
       "1                    0  \n",
       "2                    0  \n",
       "3                    0  \n",
       "4                    0  \n",
       "...                ...  \n",
       "1333                 0  \n",
       "1334                 0  \n",
       "1335                 0  \n",
       "1336                 1  \n",
       "1337                 0  \n",
       "\n",
       "[1338 rows x 12 columns]"
      ]
     },
     "execution_count": 55,
     "metadata": {},
     "output_type": "execute_result"
    }
   ],
   "source": [
    "# Chuyển tất cả các cột thành kiểu số \n",
    "insurance_one_hot = pd.get_dummies(insurance_data)\n",
    "insurance_one_hot"
   ]
  },
  {
   "cell_type": "markdown",
   "id": "ab30f9aa",
   "metadata": {},
   "source": [
    "Tách dữ liệu thành `X` và `y`"
   ]
  },
  {
   "cell_type": "code",
   "execution_count": 56,
   "id": "7f3bbeff",
   "metadata": {},
   "outputs": [],
   "source": [
    "X = insurance_one_hot.drop(\"charges\",axis=1)\n",
    "y = insurance_one_hot[\"charges\"]"
   ]
  },
  {
   "cell_type": "markdown",
   "id": "cd04a6c5",
   "metadata": {},
   "source": [
    "Tách dữ liệu thành `train` và `test`. Trước đây, việc tách dữ liệu được thực hiện thủ công, việc tách dữ liệu như vậy không đem đến hiệu quả tối ưu trong quá trình train dữ liệu vì đôi khi dữ liệu được sắp xếp có thứ tự khiến cho trong qua trình train, neural network sẽ `học thuộc lòng` và khi gặp cái mới nó sẽ trở nên khó nhận biết. Do đó, cần phải xáo trộn dữ liệu để nó sẽ không `học tủ` được."
   ]
  },
  {
   "cell_type": "code",
   "execution_count": 57,
   "id": "886e5c3b",
   "metadata": {},
   "outputs": [],
   "source": [
    "from sklearn.model_selection import train_test_split"
   ]
  },
  {
   "cell_type": "code",
   "execution_count": 58,
   "id": "6e278f2d",
   "metadata": {},
   "outputs": [],
   "source": [
    "X_train, X_test, y_train, y_test = train_test_split(\n",
    "    X,\n",
    "    y,\n",
    "    train_size=0.8, \n",
    "    shuffle=True, # shuffle = True để dữ liệu được xáo trộn không theo thứ tự\n",
    "    random_state=42)"
   ]
  },
  {
   "cell_type": "markdown",
   "id": "2f662e11",
   "metadata": {},
   "source": [
    "Tiến hành build mô hình"
   ]
  },
  {
   "cell_type": "code",
   "execution_count": 59,
   "id": "3a2f247f",
   "metadata": {},
   "outputs": [
    {
     "data": {
      "text/plain": [
       "<tensorflow.python.keras.callbacks.History at 0x7f840a7b8dc0>"
      ]
     },
     "execution_count": 59,
     "metadata": {},
     "output_type": "execute_result"
    }
   ],
   "source": [
    "tf.random.set_seed(42)\n",
    "\n",
    "insurance_model_1 = Sequential()\n",
    "insurance_model_1.add(Dense(1))\n",
    "insurance_model_1.add(Dense(1))\n",
    "\n",
    "insurance_model_1.compile(\n",
    "    loss=\"mae\",\n",
    "    optimizer=\"sgd\",\n",
    "    metrics=[\"mae\"]\n",
    ")\n",
    "\n",
    "insurance_model_1.fit(X_train, y_train, epochs=100, verbose=0)"
   ]
  },
  {
   "cell_type": "code",
   "execution_count": 60,
   "id": "6ce3108e",
   "metadata": {},
   "outputs": [
    {
     "name": "stdout",
     "output_type": "stream",
     "text": [
      "WARNING:tensorflow:5 out of the last 5 calls to <function Model.make_test_function.<locals>.test_function at 0x7f83e29e64c0> triggered tf.function retracing. Tracing is expensive and the excessive number of tracings could be due to (1) creating @tf.function repeatedly in a loop, (2) passing tensors with different shapes, (3) passing Python objects instead of tensors. For (1), please define your @tf.function outside of the loop. For (2), @tf.function has experimental_relax_shapes=True option that relaxes argument shapes that can avoid unnecessary retracing. For (3), please refer to https://www.tensorflow.org/guide/function#controlling_retracing and https://www.tensorflow.org/api_docs/python/tf/function for  more details.\n",
      "9/9 [==============================] - 0s 4ms/step - loss: 8628.2402 - mae: 8628.2402\n"
     ]
    },
    {
     "data": {
      "text/plain": [
       "[8628.240234375, 8628.240234375]"
      ]
     },
     "execution_count": 60,
     "metadata": {},
     "output_type": "execute_result"
    }
   ],
   "source": [
    "insurance_model_1.evaluate(X_test, y_test)"
   ]
  },
  {
   "cell_type": "markdown",
   "id": "47150a03",
   "metadata": {},
   "source": [
    "mae của mô hình quá lớn, ta cần cải thiện mô hình này.\n",
    "\n",
    "* Tăng số layer lên 3\n",
    "* Tăng số units trong mỗi layers \n",
    "* Thay đôi optimizer từ SGD -> Adam"
   ]
  },
  {
   "cell_type": "code",
   "execution_count": 61,
   "id": "f316f83d",
   "metadata": {},
   "outputs": [],
   "source": [
    "tf.random.set_seed(42)\n",
    "\n",
    "insurance_model_2 = Sequential()\n",
    "insurance_model_2.add(Dense(10))\n",
    "insurance_model_2.add(Dense(10))\n",
    "insurance_model_2.add(Dense(1))\n",
    "\n",
    "insurance_model_2.compile(\n",
    "    loss=\"mae\",\n",
    "    optimizer=\"adam\",\n",
    "    metrics=[\"mae\"]\n",
    ")\n",
    "\n",
    "history_2 = insurance_model_2.fit(X_train, y_train, epochs=100, verbose=0)"
   ]
  },
  {
   "cell_type": "code",
   "execution_count": 62,
   "id": "e71821f3",
   "metadata": {},
   "outputs": [
    {
     "name": "stdout",
     "output_type": "stream",
     "text": [
      "9/9 [==============================] - 0s 8ms/step - loss: 6417.2144 - mae: 6417.2144\n"
     ]
    },
    {
     "data": {
      "text/plain": [
       "[6417.21435546875, 6417.21435546875]"
      ]
     },
     "execution_count": 62,
     "metadata": {},
     "output_type": "execute_result"
    }
   ],
   "source": [
    "insurance_model_2.evaluate(X_test, y_test)"
   ]
  },
  {
   "cell_type": "markdown",
   "id": "80093884",
   "metadata": {},
   "source": [
    "`model_2` có vẻ tốt hơn nhiều, Việc sử dụng mô hình lơn hơn với Adam optimizer cải thiện đáng kể cho mô hình\n",
    "\n",
    "> **🔑Lưu ý:** Đối với nhiều vấn đề, [Adam optimizer](https://www.tensorflow.org/api_docs/python/tf/keras/optimizers/Adam) là sự lựa chọn tuyệt vời."
   ]
  },
  {
   "cell_type": "code",
   "execution_count": 63,
   "id": "c9bb31aa",
   "metadata": {},
   "outputs": [
    {
     "data": {
      "text/plain": [
       "Text(0, 0.5, 'loss')"
      ]
     },
     "execution_count": 63,
     "metadata": {},
     "output_type": "execute_result"
    },
    {
     "data": {
      "image/png": "[encoded data removed]",
      "text/plain": [
       "<Figure size 432x288 with 1 Axes>"
      ]
     },
     "metadata": {
      "needs_background": "light"
     },
     "output_type": "display_data"
    }
   ],
   "source": [
    "pd.DataFrame(history_2.history).plot()\n",
    "plt.xlabel(\"epochs\")\n",
    "plt.ylabel(\"loss\")"
   ]
  },
  {
   "cell_type": "markdown",
   "id": "7cf24546",
   "metadata": {},
   "source": [
    "Từ biểu đồ, có vẻ MAE vẫn đang giảm. Như vậy, nếu train thêm lâu hơn nữa thì khả năng nó vẫn còn giảm.\n",
    "\n",
    "> Câu hỏi là chúng ta nên train mô hình này bao lâu ?\n",
    "> Nó phụ thuộc vào vấn đề đang giải quyết. Đôi khi qúa trình train đòi hỏi rất nhiều thời gian, nhưng có những quá trình không như vậy. Một phương pháp sử dụng rất phổ biến đó là thiết lập mô hình train rất lâu (chẳng hạn như 1000 epochs) nhưng thiết lập [EarlyStopping callback](https://www.tensorflow.org/api_docs/python/tf/keras/callbacks/EarlyStopping) để tự động ngưng lại khi nó thấy mô hình không thể cải thiện thêm được nữa, tức là học như vậy là đủ rồi."
   ]
  },
  {
   "cell_type": "code",
   "execution_count": 64,
   "id": "8bc5a162",
   "metadata": {},
   "outputs": [],
   "source": [
    "# Cố gắng train thêm 100 epochs\n",
    "history_2 = insurance_model_2.fit(X_train, y_train, epochs=100,verbose=0)"
   ]
  },
  {
   "cell_type": "code",
   "execution_count": 65,
   "id": "11a0e041",
   "metadata": {},
   "outputs": [
    {
     "name": "stdout",
     "output_type": "stream",
     "text": [
      "9/9 [==============================] - 0s 5ms/step - loss: 5570.6719 - mae: 5570.6719\n"
     ]
    }
   ],
   "source": [
    "insurance_model_2_loss, insurance_model_2_mae = insurance_model_2.evaluate(X_test, y_test)"
   ]
  },
  {
   "cell_type": "code",
   "execution_count": 66,
   "id": "af827872",
   "metadata": {},
   "outputs": [
    {
     "data": {
      "text/plain": [
       "<AxesSubplot:>"
      ]
     },
     "execution_count": 66,
     "metadata": {},
     "output_type": "execute_result"
    },
    {
     "data": {
      "image/png": "[encoded data removed]",
      "text/plain": [
       "<Figure size 432x288 with 1 Axes>"
      ]
     },
     "metadata": {
      "needs_background": "light"
     },
     "output_type": "display_data"
    }
   ],
   "source": [
    "pd.DataFrame(history_2.history).plot()"
   ]
  },
  {
   "cell_type": "markdown",
   "id": "2232db2c",
   "metadata": {},
   "source": [
    "Có thể thấy nó tiếp tục giảm khoảng 10% khi tăng số lượng epochs thêm 100"
   ]
  },
  {
   "cell_type": "markdown",
   "id": "041ca374",
   "metadata": {},
   "source": [
    "## Preprocessing data (normalization and standardization)\n",
    "\n",
    "Khi làm việc với neural network, không phải lúc nào các đặc tính của một đối tượng đều có cùng đơn vị đo lường giống nhau,(ví du huyết áp của bệnh nhân khác với chỉ số máu xét nghiệm) chính vì vậy nếu giá trị của thuộc tính này rất lớn, trong khi giá trị thuộc tính kia rất nhỏ nhưng thuộc tính nhỏ lại có ý nghĩa tương đương hoặc quan trọng hơn thuộc tính lớn thì cũng không thể thể hiện được ý nghĩa quyết định đến kết quả vì bị lấn át bởi giá trị lớn. Chính vì lẽ đó, ta cần chuyển tất cả các thuộc tính về phạm vi 0-1 để tất cả các đều thể hiện được đúng ý nghĩa của nó. Và phép biến đổi này được gọi là **chuẩn hóa normalization**. \n",
    "\n",
    "Cũng có một phương pháp biến đổi khác được gọi là **chuẩn hóa standardization** để chuyển đặc tính thành các phương sai (variance) và giá trung bình (mean) 0 \n",
    "\n",
    "Khi thực hiện chuyển đổi dữ liệu từ các phương pháp trên, ta gọi đó là **preprocessing pipeline** (một loạt các hàm được thực hiện để chuẩn bị cho dữ liêụ có thể sử dụng trong neural network)\n",
    "\n",
    "Một số bước chính bạn sẽ thực hiện để xử lý trước dữ liệu của mình cho Neural Network bao gồm : \n",
    "\n",
    "* Chuyển tất cả dữ liệu thành kiểu `number` ( Neural network không xử lý dữ liệu kiểu khác ngoài `number`)\n",
    "* Chắc chắn rằng dữ liệu phải có cùng shape (giữa input shape và output shape)\n",
    "* [Scale các đặc tính của đối tượng (Feature scaling)] : \n",
    "    - Chuẩn hóa dữ liệu Normolization ( Làm cho các đặc tính này dao động từ 0 - 1). Điều này được thực hiện bằng cách trừ giá trị nhỏ nhất, sau đó chia cho giá trị lớn nhất của đặc tính đó. Còn có cách gọi khác là `min-max scaling`.\n",
    "    - Chuẩn hóa dữ liệu Standardization (trung bình mean là 0, phương sai variance là 1). Điều này được thực hiện bằng cách trừ cho giá trị trung bình sau đó chia cho độ lệch chuẩn)\n",
    "    - Nên sử dụng chuẩn hóa nào ?\n",
    "        + Với Neural network thường sử dụng Normolization hơn với giá trị dao động tự 0 đến 1 ( đặc biệt khi xử lý ảnh).\n",
    "        \n",
    "> **Resource:** Để tìm hiểu thêm về Feature Scaling, xem những nguồn dưới đây:\n",
    "\n",
    "* [Scikit-Learn's documentation on preprocessing data](https://scikit-learn.org/stable/modules/preprocessing.html#preprocessing-data).\n",
    "* [Scale, Standardize or Normalize with Scikit-Learn by Jeff Hale](https://towardsdatascience.com/scale-standardize-or-normalize-with-scikit-learn-6ccc7d176a02).\n",
    "    \n",
    "\n",
    "    "
   ]
  },
  {
   "cell_type": "code",
   "execution_count": 103,
   "id": "e0689618",
   "metadata": {},
   "outputs": [],
   "source": [
    "import pandas as pd\n",
    "import numpy as np\n",
    "import matplotlib.pyplot as plt\n",
    "import tensorflow as tf"
   ]
  },
  {
   "cell_type": "code",
   "execution_count": 104,
   "id": "7ec527ed",
   "metadata": {},
   "outputs": [],
   "source": [
    "insurance = pd.read_csv(\"https://raw.githubusercontent.com/stedy/Machine-Learning-with-R-datasets/master/insurance.csv\")"
   ]
  },
  {
   "cell_type": "code",
   "execution_count": 105,
   "id": "d3905939",
   "metadata": {},
   "outputs": [
    {
     "data": {
      "text/html": [
       "<div>\n",
       "<style scoped>\n",
       "    .dataframe tbody tr th:only-of-type {\n",
       "        vertical-align: middle;\n",
       "    }\n",
       "\n",
       "    .dataframe tbody tr th {\n",
       "        vertical-align: top;\n",
       "    }\n",
       "\n",
       "    .dataframe thead th {\n",
       "        text-align: right;\n",
       "    }\n",
       "</style>\n",
       "<table border=\"1\" class=\"dataframe\">\n",
       "  <thead>\n",
       "    <tr style=\"text-align: right;\">\n",
       "      <th></th>\n",
       "      <th>age</th>\n",
       "      <th>sex</th>\n",
       "      <th>bmi</th>\n",
       "      <th>children</th>\n",
       "      <th>smoker</th>\n",
       "      <th>region</th>\n",
       "      <th>charges</th>\n",
       "    </tr>\n",
       "  </thead>\n",
       "  <tbody>\n",
       "    <tr>\n",
       "      <th>0</th>\n",
       "      <td>19</td>\n",
       "      <td>female</td>\n",
       "      <td>27.900</td>\n",
       "      <td>0</td>\n",
       "      <td>yes</td>\n",
       "      <td>southwest</td>\n",
       "      <td>16884.92400</td>\n",
       "    </tr>\n",
       "    <tr>\n",
       "      <th>1</th>\n",
       "      <td>18</td>\n",
       "      <td>male</td>\n",
       "      <td>33.770</td>\n",
       "      <td>1</td>\n",
       "      <td>no</td>\n",
       "      <td>southeast</td>\n",
       "      <td>1725.55230</td>\n",
       "    </tr>\n",
       "    <tr>\n",
       "      <th>2</th>\n",
       "      <td>28</td>\n",
       "      <td>male</td>\n",
       "      <td>33.000</td>\n",
       "      <td>3</td>\n",
       "      <td>no</td>\n",
       "      <td>southeast</td>\n",
       "      <td>4449.46200</td>\n",
       "    </tr>\n",
       "    <tr>\n",
       "      <th>3</th>\n",
       "      <td>33</td>\n",
       "      <td>male</td>\n",
       "      <td>22.705</td>\n",
       "      <td>0</td>\n",
       "      <td>no</td>\n",
       "      <td>northwest</td>\n",
       "      <td>21984.47061</td>\n",
       "    </tr>\n",
       "    <tr>\n",
       "      <th>4</th>\n",
       "      <td>32</td>\n",
       "      <td>male</td>\n",
       "      <td>28.880</td>\n",
       "      <td>0</td>\n",
       "      <td>no</td>\n",
       "      <td>northwest</td>\n",
       "      <td>3866.85520</td>\n",
       "    </tr>\n",
       "    <tr>\n",
       "      <th>...</th>\n",
       "      <td>...</td>\n",
       "      <td>...</td>\n",
       "      <td>...</td>\n",
       "      <td>...</td>\n",
       "      <td>...</td>\n",
       "      <td>...</td>\n",
       "      <td>...</td>\n",
       "    </tr>\n",
       "    <tr>\n",
       "      <th>1333</th>\n",
       "      <td>50</td>\n",
       "      <td>male</td>\n",
       "      <td>30.970</td>\n",
       "      <td>3</td>\n",
       "      <td>no</td>\n",
       "      <td>northwest</td>\n",
       "      <td>10600.54830</td>\n",
       "    </tr>\n",
       "    <tr>\n",
       "      <th>1334</th>\n",
       "      <td>18</td>\n",
       "      <td>female</td>\n",
       "      <td>31.920</td>\n",
       "      <td>0</td>\n",
       "      <td>no</td>\n",
       "      <td>northeast</td>\n",
       "      <td>2205.98080</td>\n",
       "    </tr>\n",
       "    <tr>\n",
       "      <th>1335</th>\n",
       "      <td>18</td>\n",
       "      <td>female</td>\n",
       "      <td>36.850</td>\n",
       "      <td>0</td>\n",
       "      <td>no</td>\n",
       "      <td>southeast</td>\n",
       "      <td>1629.83350</td>\n",
       "    </tr>\n",
       "    <tr>\n",
       "      <th>1336</th>\n",
       "      <td>21</td>\n",
       "      <td>female</td>\n",
       "      <td>25.800</td>\n",
       "      <td>0</td>\n",
       "      <td>no</td>\n",
       "      <td>southwest</td>\n",
       "      <td>2007.94500</td>\n",
       "    </tr>\n",
       "    <tr>\n",
       "      <th>1337</th>\n",
       "      <td>61</td>\n",
       "      <td>female</td>\n",
       "      <td>29.070</td>\n",
       "      <td>0</td>\n",
       "      <td>yes</td>\n",
       "      <td>northwest</td>\n",
       "      <td>29141.36030</td>\n",
       "    </tr>\n",
       "  </tbody>\n",
       "</table>\n",
       "<p>1338 rows × 7 columns</p>\n",
       "</div>"
      ],
      "text/plain": [
       "      age     sex     bmi  children smoker     region      charges\n",
       "0      19  female  27.900         0    yes  southwest  16884.92400\n",
       "1      18    male  33.770         1     no  southeast   1725.55230\n",
       "2      28    male  33.000         3     no  southeast   4449.46200\n",
       "3      33    male  22.705         0     no  northwest  21984.47061\n",
       "4      32    male  28.880         0     no  northwest   3866.85520\n",
       "...   ...     ...     ...       ...    ...        ...          ...\n",
       "1333   50    male  30.970         3     no  northwest  10600.54830\n",
       "1334   18  female  31.920         0     no  northeast   2205.98080\n",
       "1335   18  female  36.850         0     no  southeast   1629.83350\n",
       "1336   21  female  25.800         0     no  southwest   2007.94500\n",
       "1337   61  female  29.070         0    yes  northwest  29141.36030\n",
       "\n",
       "[1338 rows x 7 columns]"
      ]
     },
     "execution_count": 105,
     "metadata": {},
     "output_type": "execute_result"
    }
   ],
   "source": [
    "insurance"
   ]
  },
  {
   "cell_type": "markdown",
   "id": "7a9c5b64",
   "metadata": {},
   "source": [
    "Trước khi chuyển các cột không phải kiểu `number` thành `number`, chúng ta sẽ chuẩn hóa những cột nào có kiểu `number` trước.\n",
    "\n",
    "Để làm được việc này, chúng ta sẽ sử dụng vài class trong sklearn như sau: \n",
    "\n",
    "* `make_columns_transform` : xây dựng hàm tiền xử lý dữ liệu nhiều bước cho các trnasformations sau : \n",
    "    * `MinMaxScaler` : Chuẩn hóa dữ liệu có kiểu `number`\n",
    "    * `OneHotEncoder` : Đưa các cột về kiểu `number`\n",
    "    \n",
    "   "
   ]
  },
  {
   "cell_type": "code",
   "execution_count": 106,
   "id": "10f9f421",
   "metadata": {},
   "outputs": [],
   "source": [
    "from sklearn.preprocessing import MinMaxScaler, OneHotEncoder\n",
    "from sklearn.compose import make_column_transformer"
   ]
  },
  {
   "cell_type": "code",
   "execution_count": 107,
   "id": "12dbfc70",
   "metadata": {},
   "outputs": [],
   "source": [
    "X = insurance.drop(\"charges\", axis=1)\n",
    "y = insurance[\"charges\"]\n"
   ]
  },
  {
   "cell_type": "code",
   "execution_count": 108,
   "id": "be497bfb",
   "metadata": {},
   "outputs": [],
   "source": [
    "ct = make_column_transformer(\n",
    "    (MinMaxScaler(),[\"age\", \"bmi\", \"children\"]), \n",
    "    (OneHotEncoder(handle_unknown=\"ignore\"),[\"sex\", \"smoker\", \"region\"])\n",
    ")\n",
    "\n",
    "\n",
    "X = ct.fit_transform(X)"
   ]
  },
  {
   "cell_type": "markdown",
   "id": "fed86364",
   "metadata": {},
   "source": [
    "Tách dữ liệu thành `train` và `test`"
   ]
  },
  {
   "cell_type": "code",
   "execution_count": 109,
   "id": "c3558a71",
   "metadata": {},
   "outputs": [
    {
     "data": {
      "text/plain": [
       "((1070, 11), (268, 11), (1070,), (268,))"
      ]
     },
     "execution_count": 109,
     "metadata": {},
     "output_type": "execute_result"
    }
   ],
   "source": [
    "X_train, X_test, y_train, y_test = train_test_split(X,y, train_size=0.8)\n",
    "X_train.shape, X_test.shape, y_train.shape, y_test.shape "
   ]
  },
  {
   "cell_type": "markdown",
   "id": "7cf44b80",
   "metadata": {},
   "source": [
    "Dữ liệu đã được chuẩn hóa và chuyển tất cả thành kiểu `number`, bắt đầu tạo mô hình."
   ]
  },
  {
   "cell_type": "code",
   "execution_count": 119,
   "id": "31aec5b0",
   "metadata": {},
   "outputs": [],
   "source": [
    "tf.random.set_seed(42)\n",
    "\n",
    "insurance_model_3 = Sequential()\n",
    "insurance_model_3.add(Dense(100))\n",
    "insurance_model_3.add(Dense(10))\n",
    "insurance_model_3.add(Dense(10))\n",
    "insurance_model_3.add(Dense(1))\n",
    "\n",
    "insurance_model_3.compile(\n",
    "    loss=\"mae\",\n",
    "    optimizer=\"adam\",\n",
    "    metrics=[\"mae\"]\n",
    ")\n",
    "\n",
    "lr_scheduler = tf.keras.callbacks.LearningRateScheduler(lambda epoch : 1e-3 * 10 ** (epoch / 20))\n",
    "\n",
    "history_3 = insurance_model_3.fit(X_train, y_train, epochs=200, verbose=0)"
   ]
  },
  {
   "cell_type": "markdown",
   "id": "ebbcc8c3",
   "metadata": {},
   "source": [
    "đánh giá mô hình trên với dữ liệu được chuẩn hóa."
   ]
  },
  {
   "cell_type": "code",
   "execution_count": 120,
   "id": "2c7e7685",
   "metadata": {},
   "outputs": [
    {
     "name": "stdout",
     "output_type": "stream",
     "text": [
      "9/9 [==============================] - 0s 3ms/step - loss: 3673.3059 - mae: 3673.3059\n"
     ]
    },
    {
     "data": {
      "text/plain": [
       "(3673.305908203125, 3673.305908203125)"
      ]
     },
     "execution_count": 120,
     "metadata": {},
     "output_type": "execute_result"
    }
   ],
   "source": [
    "insurance_model_3_loss, insurance_model_3_mae = insurance_model_3.evaluate(X_test, y_test)\n",
    "insurance_model_3_loss, insurance_model_3_mae"
   ]
  },
  {
   "cell_type": "code",
   "execution_count": 122,
   "id": "7a237783",
   "metadata": {},
   "outputs": [
    {
     "data": {
      "text/plain": [
       "<AxesSubplot:>"
      ]
     },
     "execution_count": 122,
     "metadata": {},
     "output_type": "execute_result"
    },
    {
     "data": {
      "image/png": "[encoded data removed]",
      "text/plain": [
       "<Figure size 432x288 with 1 Axes>"
      ]
     },
     "metadata": {
      "needs_background": "light"
     },
     "output_type": "display_data"
    }
   ],
   "source": [
    "pd.DataFrame(history_3.history).plot()"
   ]
  },
  {
   "cell_type": "markdown",
   "id": "c372182b",
   "metadata": {},
   "source": [
    "chúng ta có thể thấy việc chuẩn hóa dữ liệu dẫn đến ít lỗi hơn 10% khi sử dụng cùng một mô hình so với việc không chuẩn hóa dữ liệu\n",
    "\n",
    "Đây là một trong những lợi ích của chuẩn hóa. Ngoài ra, kết quả có thể thay đổi nếu chúng ta thay đổi kiến trúc của các mô hình, ví dụ: thêm nhiều hidden layer hoặc trên mỗi layer thêm nhiều units."
   ]
  },
  {
   "cell_type": "code",
   "execution_count": null,
   "id": "3ecb8753",
   "metadata": {},
   "outputs": [],
   "source": []
  }
 ],
 "metadata": {
  "kernelspec": {
   "display_name": "Python 3",
   "language": "python",
   "name": "python3"
  },
  "language_info": {
   "codemirror_mode": {
    "name": "ipython",
    "version": 3
   },
   "file_extension": ".py",
   "mimetype": "text/x-python",
   "name": "python",
   "nbconvert_exporter": "python",
   "pygments_lexer": "ipython3",
   "version": "3.8.10"
  }
 },
 "nbformat": 4,
 "nbformat_minor": 5
}
