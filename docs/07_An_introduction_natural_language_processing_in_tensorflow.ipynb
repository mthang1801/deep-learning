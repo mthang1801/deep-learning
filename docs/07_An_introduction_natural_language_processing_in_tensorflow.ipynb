{
 "cells": [
  {
   "cell_type": "markdown",
   "metadata": {
    "id": "DebeFEevGJbu"
   },
   "source": [
    "Trong cuộc sống, để giao tiếp với nhau, chúng ta thường sử dụng lời nói, cử chỉ hoặc hành động. Và cuộc giao tiếp đó được gọi là thành công khi người nó có thể diễn đạt được toàn bộ ý nghĩa, mong muốn của mình, còn người nghe có thể hiểu được những gì mà người nói muốn truyền đạt đến. Một trong những công cụ hiệu quả nhất, phổ biến nhất mà con người dùng để giao tiếp với nhau, đó là **ngôn ngữ**, cụ thể ở đây là **ngôn ngữ tự nhiên**. \n",
    "\n",
    "> Ngôn ngữ tự nhiên (natural language) là một thuật ngữ có thể được hiểu theo nhiều cách khác nhau, nhưng giới hạn trong học máy, bạn có thể hiểu ngắn gọn như sau : \n",
    "+ Văn bản (Text) : dưới dạng chữ viết như email, status, bài báo...\n",
    "+ Giọng nói (Speech) : Thể hiện dưới dạng âm thanh bằng ngôn ngữ của người nói như đoạn ghi âm, hội thoại, giao tiếp qua lời nói...\n",
    ">\n",
    "> Cả 2 loại này thường được gọi là chuỗi *(sequence)* (trong văn bản một câu là một chuỗi nhiều từ với nhau). Vì vậy, một thuật ngữ chung mà bạn sẽ gặp trong xử lý ngôn ngữ tự nhiên (NLP) là *seq2seq*, hay nói khác đi, tìm thông tin trong một chuỗi để tạo ra chuỗi khác (ví dụ: chuyển đổi một câu thoại thành một chuỗi các bước dựa trên văn bản). \n",
    "\n",
    "Trong Machine learning, mục đích của việc sử dụng ngôn ngữ tự nhiên để xử lý một vấn đề nào đó rất đa dạng. VD : kiểm tra xem email đó có spam hay không hay status của người đó đang đề cập đến chủ đề gì, có đúng theo tiêu chuẩn cộng đồng hay không...\n",
    "\n",
    "Để thực hành NLP trong TensorFlow, chúng ta sẽ thực hành các bước mà chúng ta đã sử dụng trước đây nhưng lần này áp dụng với dữ liệu văn bản:\n",
    "\n",
    "`Văn bản -> Chuyển thành kiểu số -> Xây dựng mô hình -> Đánh giá mô hình -> Cải thiện mô hình -> Dự đoán` \n",
    "\n",
    "![](https://raw.githubusercontent.com/mrdbourke/tensorflow-deep-learning/main/images/08-example-nlp-problems.png)\n",
    "*Một số vấn đề ví dụ về xử lý ngôn ngữ tự nhiên (NLP) và hiểu ngôn ngữ tự nhiên (NLU). Đây cũng thường được gọi là các bài toán trình tự (đi từ trình tự này sang trình tự khác).*\n",
    "\n",
    "> 📖 Nguồn tham khảo : Để có cái nhìn tổng quan về NLP và các vấn đề khác nhau bên trong nó, hãy đọc bài viết [*A Simple Introduction to Natural Language Processing*](https://becominghuman.ai/a-simple-introduction-to-natural-language-processing-ea66a1747b32).\n",
    "\n",
    "Trong module này, chúng ta sẽ xây dựng mô hình nhận diện một status nào đó trên Twitter có đề cập đến thảm họa thiên nhiên hay không.\n",
    "\n",
    "Nội dung bài viết gồm :  \n",
    "\n",
    "1. Download và kiểm tra tập dữ liệu\n",
    "2. Khám phá tách dữ liệu\n",
    "3. Chuyển dữ liệu văn bản thành dữ liệu được mã hóa bằng các token\n",
    "4. Chuyển văn bản được mã hóa thành một bản nhúng\n",
    "5. Khởi tạo mô hình và train \n",
    "  * **Model 0**: Naive Bayes (baseline)\n",
    "  * **Model 1**: Feed-forward neural network (dense model)\n",
    "  * Giới thiệu về Recurrent Neural Networks (RNN's)\n",
    "  * **Model 2**: LSTM model\n",
    "  * **Model 3**: GRU model\n",
    "  * **Model 4**: Bidirectional-LSTM model\n",
    "  * **Model 5**: 1D Convolutional Neural Network\n",
    "  * **Model 6**: TensorFlow Hub Pretrained Feature Extractor\n",
    "  * **Model 7**: Same as model 6 with 10% of training data\n",
    "6. So sánh hiệu quả của các mô hình\n",
    "7. Tìm những dự đoán sai lớn nhất\n",
    "8. Dự đoán với dữ liệu test"
   ]
  },
  {
   "cell_type": "markdown",
   "metadata": {
    "id": "ypdGm32cLH5h"
   },
   "source": [
    "## 1. Download và kiểm tra tập dữ liệu\n",
    "\n",
    "Tải tập dữ liệu các đoạn status trên Twitter"
   ]
  },
  {
   "cell_type": "code",
   "execution_count": 1,
   "metadata": {
    "colab": {
     "base_uri": "https://localhost:8080/"
    },
    "id": "s6gf0ppQPurI",
    "outputId": "5dddcf82-4e37-4fef-cd2e-534c9082dec5"
   },
   "outputs": [
    {
     "name": "stdout",
     "output_type": "stream",
     "text": [
      "--2021-09-22 07:29:17--  https://www.dropbox.com/s/550c578hlcjcrf8/nlp-getting-started.zip\n",
      "Resolving www.dropbox.com (www.dropbox.com)... 162.125.3.18, 2620:100:601b:18::a27d:812\n",
      "Connecting to www.dropbox.com (www.dropbox.com)|162.125.3.18|:443... connected.\n",
      "HTTP request sent, awaiting response... 301 Moved Permanently\n",
      "Location: /s/raw/550c578hlcjcrf8/nlp-getting-started.zip [following]\n",
      "--2021-09-22 07:29:17--  https://www.dropbox.com/s/raw/550c578hlcjcrf8/nlp-getting-started.zip\n",
      "Reusing existing connection to www.dropbox.com:443.\n",
      "HTTP request sent, awaiting response... 302 Found\n",
      "Location: https://uc5689f373410491b8f1b0d4d155.dl.dropboxusercontent.com/cd/0/inline/BWrz4MATcGnszJVT4bkdfYCTPmE8l0e290QtwIsxc_hGzzjmnpvEQL69qfAHJSatRbTQQhX0jeHMFYppZlUh4jfRWbS04NBByyqda4lJSYSmKm7xMBszyBSgLyQvsfcXeCVOm7MfirjIBUwTsP5AenOY/file# [following]\n",
      "--2021-09-22 07:29:18--  https://uc5689f373410491b8f1b0d4d155.dl.dropboxusercontent.com/cd/0/inline/BWrz4MATcGnszJVT4bkdfYCTPmE8l0e290QtwIsxc_hGzzjmnpvEQL69qfAHJSatRbTQQhX0jeHMFYppZlUh4jfRWbS04NBByyqda4lJSYSmKm7xMBszyBSgLyQvsfcXeCVOm7MfirjIBUwTsP5AenOY/file\n",
      "Resolving uc5689f373410491b8f1b0d4d155.dl.dropboxusercontent.com (uc5689f373410491b8f1b0d4d155.dl.dropboxusercontent.com)... 162.125.3.15, 2620:100:601b:15::a27d:80f\n",
      "Connecting to uc5689f373410491b8f1b0d4d155.dl.dropboxusercontent.com (uc5689f373410491b8f1b0d4d155.dl.dropboxusercontent.com)|162.125.3.15|:443... connected.\n",
      "HTTP request sent, awaiting response... 302 Found\n",
      "Location: /cd/0/inline2/BWqIpUdHVmudg5CoQbo6K32aSH4aT5MH_GOj2jpjmlIfOfnWXP1Acar80CI0bfJaIPLDJk0_eucVPtcf-bVzgLaE8UIWU7R-Cz8Wyc7uwaGqyruwjPOTWUcx4igr7aDbcJTKQye0ozEY21ucHaOKMgp-EyhRS5LioRYgyXuro0fBKjd-_CmrqD5gvLFU52f-jP1Jl2hX8RXWTGZbXUfCqozyUBcD8U8PB89STpp6_BQ-Y6edmdg58lpUgIH6QdLujDTHNsqFSGyEUkAKAwY1fsvae-swdZ52IgnkW0H4wNdAPMSby7rbjSZiqF4dwXnpbAZsbPOm648qDvVubQmVUVmUH6odpvnxRKQRZvwBZusbgADzeYp4CnOw7wuhWFJGS4M/file [following]\n",
      "--2021-09-22 07:29:18--  https://uc5689f373410491b8f1b0d4d155.dl.dropboxusercontent.com/cd/0/inline2/BWqIpUdHVmudg5CoQbo6K32aSH4aT5MH_GOj2jpjmlIfOfnWXP1Acar80CI0bfJaIPLDJk0_eucVPtcf-bVzgLaE8UIWU7R-Cz8Wyc7uwaGqyruwjPOTWUcx4igr7aDbcJTKQye0ozEY21ucHaOKMgp-EyhRS5LioRYgyXuro0fBKjd-_CmrqD5gvLFU52f-jP1Jl2hX8RXWTGZbXUfCqozyUBcD8U8PB89STpp6_BQ-Y6edmdg58lpUgIH6QdLujDTHNsqFSGyEUkAKAwY1fsvae-swdZ52IgnkW0H4wNdAPMSby7rbjSZiqF4dwXnpbAZsbPOm648qDvVubQmVUVmUH6odpvnxRKQRZvwBZusbgADzeYp4CnOw7wuhWFJGS4M/file\n",
      "Reusing existing connection to uc5689f373410491b8f1b0d4d155.dl.dropboxusercontent.com:443.\n",
      "HTTP request sent, awaiting response... 200 OK\n",
      "Length: 607343 (593K) [application/zip]\n",
      "Saving to: ‘nlp-getting-started.zip’\n",
      "\n",
      "nlp-getting-started 100%[===================>] 593.11K  --.-KB/s    in 0.1s    \n",
      "\n",
      "2021-09-22 07:29:18 (6.04 MB/s) - ‘nlp-getting-started.zip’ saved [607343/607343]\n",
      "\n"
     ]
    }
   ],
   "source": [
    "!wget https://www.dropbox.com/s/550c578hlcjcrf8/nlp-getting-started.zip"
   ]
  },
  {
   "cell_type": "markdown",
   "metadata": {
    "id": "-bmwI_WJP0HP"
   },
   "source": [
    "Tải `utility_function.py` đã được sử dụng ở những bài trước."
   ]
  },
  {
   "cell_type": "code",
   "execution_count": 2,
   "metadata": {
    "colab": {
     "base_uri": "https://localhost:8080/"
    },
    "id": "D3-s-N8SQ9Ws",
    "outputId": "1cddde06-3a4e-48c3-842e-b4fadde061a1"
   },
   "outputs": [
    {
     "name": "stdout",
     "output_type": "stream",
     "text": [
      "--2021-09-22 07:29:19--  https://www.dropbox.com/s/v4sla7jvi9cltg8/utility_functions.py\n",
      "Resolving www.dropbox.com (www.dropbox.com)... 162.125.3.18, 2620:100:601b:18::a27d:812\n",
      "Connecting to www.dropbox.com (www.dropbox.com)|162.125.3.18|:443... connected.\n",
      "HTTP request sent, awaiting response... 301 Moved Permanently\n",
      "Location: /s/raw/v4sla7jvi9cltg8/utility_functions.py [following]\n",
      "--2021-09-22 07:29:19--  https://www.dropbox.com/s/raw/v4sla7jvi9cltg8/utility_functions.py\n",
      "Reusing existing connection to www.dropbox.com:443.\n",
      "HTTP request sent, awaiting response... 302 Found\n",
      "Location: https://ucbc523a2493e04db471fd875e29.dl.dropboxusercontent.com/cd/0/inline/BWr4TK1T5EZlcbBOI7VXr8q_Lyz3O7LR36lgQsxTnu9XYzV0DFCKxPr3TxxY1BkN69h8Pr8vE0Ynh8ftHKlfIxccV0nAlnzOBZfPmCC2Kzn72bPd_NEMKixBb0B-9bidxocfcLq6ABOil7uRmfOrKDw_/file# [following]\n",
      "--2021-09-22 07:29:19--  https://ucbc523a2493e04db471fd875e29.dl.dropboxusercontent.com/cd/0/inline/BWr4TK1T5EZlcbBOI7VXr8q_Lyz3O7LR36lgQsxTnu9XYzV0DFCKxPr3TxxY1BkN69h8Pr8vE0Ynh8ftHKlfIxccV0nAlnzOBZfPmCC2Kzn72bPd_NEMKixBb0B-9bidxocfcLq6ABOil7uRmfOrKDw_/file\n",
      "Resolving ucbc523a2493e04db471fd875e29.dl.dropboxusercontent.com (ucbc523a2493e04db471fd875e29.dl.dropboxusercontent.com)... 162.125.3.15, 2620:100:6018:15::a27d:30f\n",
      "Connecting to ucbc523a2493e04db471fd875e29.dl.dropboxusercontent.com (ucbc523a2493e04db471fd875e29.dl.dropboxusercontent.com)|162.125.3.15|:443... connected.\n",
      "HTTP request sent, awaiting response... 200 OK\n",
      "Length: 4579 (4.5K) [text/plain]\n",
      "Saving to: ‘utility_functions.py’\n",
      "\n",
      "utility_functions.p 100%[===================>]   4.47K  --.-KB/s    in 0s      \n",
      "\n",
      "2021-09-22 07:29:19 (388 MB/s) - ‘utility_functions.py’ saved [4579/4579]\n",
      "\n"
     ]
    }
   ],
   "source": [
    "!wget https://www.dropbox.com/s/v4sla7jvi9cltg8/utility_functions.py"
   ]
  },
  {
   "cell_type": "code",
   "execution_count": 3,
   "metadata": {
    "colab": {
     "base_uri": "https://localhost:8080/"
    },
    "id": "8KqSLD4hQ_QI",
    "outputId": "3839f16c-46ea-4eeb-89fd-75c95484b170"
   },
   "outputs": [
    {
     "name": "stdout",
     "output_type": "stream",
     "text": [
      "nlp-getting-started.zip  sample_data  utility_functions.py\n"
     ]
    }
   ],
   "source": [
    "!ls "
   ]
  },
  {
   "cell_type": "markdown",
   "metadata": {
    "id": "U7nfIytMRD5K"
   },
   "source": [
    "`nlp-getting-started.zip` và `utility_functions.py` đã được tải xuống!! "
   ]
  },
  {
   "cell_type": "markdown",
   "metadata": {
    "id": "2pa4apMvRJ3E"
   },
   "source": [
    "## 2. Khám phá, tách dữ liệu\n",
    "\n",
    "### Khám phá dữ liệu\n",
    "\n",
    "Trước tiên, chúng ta cần giải nén tập tin được tải về. Sử dụng `unzip_file()` trong `utility_functions.py` để thực hiện: "
   ]
  },
  {
   "cell_type": "code",
   "execution_count": 4,
   "metadata": {
    "id": "CiBSG0P4RM4k"
   },
   "outputs": [],
   "source": [
    "from utility_functions import walk_through_directory, unzip_file"
   ]
  },
  {
   "cell_type": "code",
   "execution_count": 5,
   "metadata": {
    "colab": {
     "base_uri": "https://localhost:8080/"
    },
    "id": "CmstBPQHRrGB",
    "outputId": "db56fc2c-079f-467b-a5e4-765051ae508d"
   },
   "outputs": [
    {
     "name": "stdout",
     "output_type": "stream",
     "text": [
      "Unzipped file\n"
     ]
    }
   ],
   "source": [
    "import os \n",
    "unzip_file(\"nlp-getting-started.zip\")"
   ]
  },
  {
   "cell_type": "code",
   "execution_count": 6,
   "metadata": {
    "colab": {
     "base_uri": "https://localhost:8080/"
    },
    "id": "A9RX0OIORuwh",
    "outputId": "ab061d86-1952-46fe-fda4-639d5f360130"
   },
   "outputs": [
    {
     "name": "stdout",
     "output_type": "stream",
     "text": [
      "nlp-getting-started.zip  sample_data\t\ttest.csv   utility_functions.py\n",
      "__pycache__\t\t sample_submission.csv\ttrain.csv\n"
     ]
    }
   ],
   "source": [
    "!ls"
   ]
  },
  {
   "cell_type": "markdown",
   "metadata": {
    "id": "sIZeMc5USAzA"
   },
   "source": [
    "Trong tập dữ liệu vừa được giải nén, có thể thấy một số file `test.csv`, `train.csv`, `sample_submission.csv`. Trong đó, có 2 file bạn sẽ sử dụng để train mô hình là `train.csv` và `test.csv`, còn `sample_submission.csv` là mẫu để có thể apply dự thi trên `https://www.kaggle.com/c/nlp-getting-started`. \n",
    "\n",
    "Chúng ta sẽ sử dụng `pandas` để mở file."
   ]
  },
  {
   "cell_type": "code",
   "execution_count": 7,
   "metadata": {
    "id": "5y3jMN2KSfyP"
   },
   "outputs": [],
   "source": [
    "import pandas as pd "
   ]
  },
  {
   "cell_type": "code",
   "execution_count": 8,
   "metadata": {
    "colab": {
     "base_uri": "https://localhost:8080/",
     "height": 419
    },
    "id": "umLFkxJzTMgI",
    "outputId": "b71e018f-790c-4672-8ed5-3bd27f4d1a53"
   },
   "outputs": [
    {
     "data": {
      "text/html": [
       "<div>\n",
       "<style scoped>\n",
       "    .dataframe tbody tr th:only-of-type {\n",
       "        vertical-align: middle;\n",
       "    }\n",
       "\n",
       "    .dataframe tbody tr th {\n",
       "        vertical-align: top;\n",
       "    }\n",
       "\n",
       "    .dataframe thead th {\n",
       "        text-align: right;\n",
       "    }\n",
       "</style>\n",
       "<table border=\"1\" class=\"dataframe\">\n",
       "  <thead>\n",
       "    <tr style=\"text-align: right;\">\n",
       "      <th></th>\n",
       "      <th>id</th>\n",
       "      <th>keyword</th>\n",
       "      <th>location</th>\n",
       "      <th>text</th>\n",
       "      <th>target</th>\n",
       "    </tr>\n",
       "  </thead>\n",
       "  <tbody>\n",
       "    <tr>\n",
       "      <th>0</th>\n",
       "      <td>1</td>\n",
       "      <td>NaN</td>\n",
       "      <td>NaN</td>\n",
       "      <td>Our Deeds are the Reason of this #earthquake M...</td>\n",
       "      <td>1</td>\n",
       "    </tr>\n",
       "    <tr>\n",
       "      <th>1</th>\n",
       "      <td>4</td>\n",
       "      <td>NaN</td>\n",
       "      <td>NaN</td>\n",
       "      <td>Forest fire near La Ronge Sask. Canada</td>\n",
       "      <td>1</td>\n",
       "    </tr>\n",
       "    <tr>\n",
       "      <th>2</th>\n",
       "      <td>5</td>\n",
       "      <td>NaN</td>\n",
       "      <td>NaN</td>\n",
       "      <td>All residents asked to 'shelter in place' are ...</td>\n",
       "      <td>1</td>\n",
       "    </tr>\n",
       "    <tr>\n",
       "      <th>3</th>\n",
       "      <td>6</td>\n",
       "      <td>NaN</td>\n",
       "      <td>NaN</td>\n",
       "      <td>13,000 people receive #wildfires evacuation or...</td>\n",
       "      <td>1</td>\n",
       "    </tr>\n",
       "    <tr>\n",
       "      <th>4</th>\n",
       "      <td>7</td>\n",
       "      <td>NaN</td>\n",
       "      <td>NaN</td>\n",
       "      <td>Just got sent this photo from Ruby #Alaska as ...</td>\n",
       "      <td>1</td>\n",
       "    </tr>\n",
       "    <tr>\n",
       "      <th>...</th>\n",
       "      <td>...</td>\n",
       "      <td>...</td>\n",
       "      <td>...</td>\n",
       "      <td>...</td>\n",
       "      <td>...</td>\n",
       "    </tr>\n",
       "    <tr>\n",
       "      <th>7608</th>\n",
       "      <td>10869</td>\n",
       "      <td>NaN</td>\n",
       "      <td>NaN</td>\n",
       "      <td>Two giant cranes holding a bridge collapse int...</td>\n",
       "      <td>1</td>\n",
       "    </tr>\n",
       "    <tr>\n",
       "      <th>7609</th>\n",
       "      <td>10870</td>\n",
       "      <td>NaN</td>\n",
       "      <td>NaN</td>\n",
       "      <td>@aria_ahrary @TheTawniest The out of control w...</td>\n",
       "      <td>1</td>\n",
       "    </tr>\n",
       "    <tr>\n",
       "      <th>7610</th>\n",
       "      <td>10871</td>\n",
       "      <td>NaN</td>\n",
       "      <td>NaN</td>\n",
       "      <td>M1.94 [01:04 UTC]?5km S of Volcano Hawaii. htt...</td>\n",
       "      <td>1</td>\n",
       "    </tr>\n",
       "    <tr>\n",
       "      <th>7611</th>\n",
       "      <td>10872</td>\n",
       "      <td>NaN</td>\n",
       "      <td>NaN</td>\n",
       "      <td>Police investigating after an e-bike collided ...</td>\n",
       "      <td>1</td>\n",
       "    </tr>\n",
       "    <tr>\n",
       "      <th>7612</th>\n",
       "      <td>10873</td>\n",
       "      <td>NaN</td>\n",
       "      <td>NaN</td>\n",
       "      <td>The Latest: More Homes Razed by Northern Calif...</td>\n",
       "      <td>1</td>\n",
       "    </tr>\n",
       "  </tbody>\n",
       "</table>\n",
       "<p>7613 rows × 5 columns</p>\n",
       "</div>"
      ],
      "text/plain": [
       "         id keyword  ...                                               text target\n",
       "0         1     NaN  ...  Our Deeds are the Reason of this #earthquake M...      1\n",
       "1         4     NaN  ...             Forest fire near La Ronge Sask. Canada      1\n",
       "2         5     NaN  ...  All residents asked to 'shelter in place' are ...      1\n",
       "3         6     NaN  ...  13,000 people receive #wildfires evacuation or...      1\n",
       "4         7     NaN  ...  Just got sent this photo from Ruby #Alaska as ...      1\n",
       "...     ...     ...  ...                                                ...    ...\n",
       "7608  10869     NaN  ...  Two giant cranes holding a bridge collapse int...      1\n",
       "7609  10870     NaN  ...  @aria_ahrary @TheTawniest The out of control w...      1\n",
       "7610  10871     NaN  ...  M1.94 [01:04 UTC]?5km S of Volcano Hawaii. htt...      1\n",
       "7611  10872     NaN  ...  Police investigating after an e-bike collided ...      1\n",
       "7612  10873     NaN  ...  The Latest: More Homes Razed by Northern Calif...      1\n",
       "\n",
       "[7613 rows x 5 columns]"
      ]
     },
     "execution_count": 8,
     "metadata": {},
     "output_type": "execute_result"
    }
   ],
   "source": [
    "train_df = pd.read_csv(\"train.csv\")\n",
    "train_df"
   ]
  },
  {
   "cell_type": "code",
   "execution_count": 145,
   "metadata": {
    "colab": {
     "base_uri": "https://localhost:8080/",
     "height": 419
    },
    "id": "QKczQJe3TSRG",
    "outputId": "28430c91-3a0d-4ee2-84b1-e650bde6a9a9"
   },
   "outputs": [
    {
     "data": {
      "text/html": [
       "<div>\n",
       "<style scoped>\n",
       "    .dataframe tbody tr th:only-of-type {\n",
       "        vertical-align: middle;\n",
       "    }\n",
       "\n",
       "    .dataframe tbody tr th {\n",
       "        vertical-align: top;\n",
       "    }\n",
       "\n",
       "    .dataframe thead th {\n",
       "        text-align: right;\n",
       "    }\n",
       "</style>\n",
       "<table border=\"1\" class=\"dataframe\">\n",
       "  <thead>\n",
       "    <tr style=\"text-align: right;\">\n",
       "      <th></th>\n",
       "      <th>id</th>\n",
       "      <th>keyword</th>\n",
       "      <th>location</th>\n",
       "      <th>text</th>\n",
       "    </tr>\n",
       "  </thead>\n",
       "  <tbody>\n",
       "    <tr>\n",
       "      <th>0</th>\n",
       "      <td>0</td>\n",
       "      <td>NaN</td>\n",
       "      <td>NaN</td>\n",
       "      <td>Just happened a terrible car crash</td>\n",
       "    </tr>\n",
       "    <tr>\n",
       "      <th>1</th>\n",
       "      <td>2</td>\n",
       "      <td>NaN</td>\n",
       "      <td>NaN</td>\n",
       "      <td>Heard about #earthquake is different cities, s...</td>\n",
       "    </tr>\n",
       "    <tr>\n",
       "      <th>2</th>\n",
       "      <td>3</td>\n",
       "      <td>NaN</td>\n",
       "      <td>NaN</td>\n",
       "      <td>there is a forest fire at spot pond, geese are...</td>\n",
       "    </tr>\n",
       "    <tr>\n",
       "      <th>3</th>\n",
       "      <td>9</td>\n",
       "      <td>NaN</td>\n",
       "      <td>NaN</td>\n",
       "      <td>Apocalypse lighting. #Spokane #wildfires</td>\n",
       "    </tr>\n",
       "    <tr>\n",
       "      <th>4</th>\n",
       "      <td>11</td>\n",
       "      <td>NaN</td>\n",
       "      <td>NaN</td>\n",
       "      <td>Typhoon Soudelor kills 28 in China and Taiwan</td>\n",
       "    </tr>\n",
       "    <tr>\n",
       "      <th>...</th>\n",
       "      <td>...</td>\n",
       "      <td>...</td>\n",
       "      <td>...</td>\n",
       "      <td>...</td>\n",
       "    </tr>\n",
       "    <tr>\n",
       "      <th>3258</th>\n",
       "      <td>10861</td>\n",
       "      <td>NaN</td>\n",
       "      <td>NaN</td>\n",
       "      <td>EARTHQUAKE SAFETY LOS ANGELES ÛÒ SAFETY FASTE...</td>\n",
       "    </tr>\n",
       "    <tr>\n",
       "      <th>3259</th>\n",
       "      <td>10865</td>\n",
       "      <td>NaN</td>\n",
       "      <td>NaN</td>\n",
       "      <td>Storm in RI worse than last hurricane. My city...</td>\n",
       "    </tr>\n",
       "    <tr>\n",
       "      <th>3260</th>\n",
       "      <td>10868</td>\n",
       "      <td>NaN</td>\n",
       "      <td>NaN</td>\n",
       "      <td>Green Line derailment in Chicago http://t.co/U...</td>\n",
       "    </tr>\n",
       "    <tr>\n",
       "      <th>3261</th>\n",
       "      <td>10874</td>\n",
       "      <td>NaN</td>\n",
       "      <td>NaN</td>\n",
       "      <td>MEG issues Hazardous Weather Outlook (HWO) htt...</td>\n",
       "    </tr>\n",
       "    <tr>\n",
       "      <th>3262</th>\n",
       "      <td>10875</td>\n",
       "      <td>NaN</td>\n",
       "      <td>NaN</td>\n",
       "      <td>#CityofCalgary has activated its Municipal Eme...</td>\n",
       "    </tr>\n",
       "  </tbody>\n",
       "</table>\n",
       "<p>3263 rows × 4 columns</p>\n",
       "</div>"
      ],
      "text/plain": [
       "         id keyword location                                               text\n",
       "0         0     NaN      NaN                 Just happened a terrible car crash\n",
       "1         2     NaN      NaN  Heard about #earthquake is different cities, s...\n",
       "2         3     NaN      NaN  there is a forest fire at spot pond, geese are...\n",
       "3         9     NaN      NaN           Apocalypse lighting. #Spokane #wildfires\n",
       "4        11     NaN      NaN      Typhoon Soudelor kills 28 in China and Taiwan\n",
       "...     ...     ...      ...                                                ...\n",
       "3258  10861     NaN      NaN  EARTHQUAKE SAFETY LOS ANGELES ÛÒ SAFETY FASTE...\n",
       "3259  10865     NaN      NaN  Storm in RI worse than last hurricane. My city...\n",
       "3260  10868     NaN      NaN  Green Line derailment in Chicago http://t.co/U...\n",
       "3261  10874     NaN      NaN  MEG issues Hazardous Weather Outlook (HWO) htt...\n",
       "3262  10875     NaN      NaN  #CityofCalgary has activated its Municipal Eme...\n",
       "\n",
       "[3263 rows x 4 columns]"
      ]
     },
     "execution_count": 145,
     "metadata": {},
     "output_type": "execute_result"
    }
   ],
   "source": [
    "test_df = pd.read_csv(\"test.csv\")\n",
    "test_df"
   ]
  },
  {
   "cell_type": "markdown",
   "metadata": {
    "id": "bKjA5-9vTVYC"
   },
   "source": [
    "Bạn có thấy sự khác biệt giữa `train_df` và `test_df` là gì không ? Trong `train_df` chúng ta thấy có sự xuất hiện cột `target`, còn `test_df` thì không. Như vậy chúng ta sẽ không sử dụng `test_df` để kiểm định mô hình được. Điều đó đồng nghĩa rằng chúng ta phải tách dữ liệu trong `train_df` thành 2 phần, một phần để train, một phần để kiểm định mô hình (validation). Việc này chúng ta sẽ làm sau. Tiếp theo, kiểm tra `target` của `train_df`"
   ]
  },
  {
   "cell_type": "code",
   "execution_count": 10,
   "metadata": {
    "colab": {
     "base_uri": "https://localhost:8080/"
    },
    "id": "qcMk9nhrVGSE",
    "outputId": "51ad72c2-0edb-4170-8398-c27ab6b7bb5d"
   },
   "outputs": [
    {
     "data": {
      "text/plain": [
       "0    4342\n",
       "1    3271\n",
       "Name: target, dtype: int64"
      ]
     },
     "execution_count": 10,
     "metadata": {},
     "output_type": "execute_result"
    }
   ],
   "source": [
    "train_df[\"target\"].value_counts()"
   ]
  },
  {
   "cell_type": "code",
   "execution_count": 11,
   "metadata": {
    "colab": {
     "base_uri": "https://localhost:8080/"
    },
    "id": "M9qhLKVwZtYw",
    "outputId": "bc2574c6-bb8d-4d93-d940-fe07906f96de"
   },
   "outputs": [
    {
     "name": "stdout",
     "output_type": "stream",
     "text": [
      "Tổng số dữ liệu train : 7613\n",
      "Tổng số dữ liệu test : 3263\n",
      "Tổng số dữ : 10876\n"
     ]
    }
   ],
   "source": [
    "print(f\"Tổng số dữ liệu train : {len(train_df)}\")\n",
    "print(f\"Tổng số dữ liệu test : {len(test_df)}\")\n",
    "print(f\"Tổng số dữ : {len(train_df) + len(test_df)}\")"
   ]
  },
  {
   "cell_type": "code",
   "execution_count": 12,
   "metadata": {
    "colab": {
     "base_uri": "https://localhost:8080/",
     "height": 279
    },
    "id": "p9pdyT6xVMQ5",
    "outputId": "9f070068-1943-4bdc-a0c0-adfa533502a1"
   },
   "outputs": [
    {
     "data": {
      "text/plain": [
       "<matplotlib.axes._subplots.AxesSubplot at 0x7f749b5e2f10>"
      ]
     },
     "execution_count": 12,
     "metadata": {},
     "output_type": "execute_result"
    },
    {
     "data": {
      "image/png": "[encoded data removed]",
      "text/plain": [
       "<Figure size 432x288 with 1 Axes>"
      ]
     },
     "metadata": {
      "needs_background": "light"
     },
     "output_type": "display_data"
    }
   ],
   "source": [
    "train_df[\"target\"].value_counts().plot.bar()"
   ]
  },
  {
   "cell_type": "markdown",
   "metadata": {
    "id": "4UjA1UxPVR3k"
   },
   "source": [
    "`target` chỉ có 2 loại  là `0` và `1` giúp chúng ta có thể có một vài ý tưởng: \n",
    "+ Vấn đề nhị phân\n",
    "+ `0` có nghĩa là không xảy ra thảm họa chiếm 4342 dữ liệu , chiếm ~57% dữ liệu.\n",
    "+ `1` có nghĩa là có xảy ra thảm hòa chiếm 3271, chiếm ~43% dữ liệu.\n"
   ]
  },
  {
   "cell_type": "markdown",
   "metadata": {
    "id": "RQFVqDtUV5gT"
   },
   "source": [
    "Hiển thị text ngẫu nhiên kèm theo target của nó. "
   ]
  },
  {
   "cell_type": "code",
   "execution_count": 13,
   "metadata": {
    "colab": {
     "base_uri": "https://localhost:8080/"
    },
    "id": "y9m9N09EXgie",
    "outputId": "66bd36bb-adca-40af-e439-ec86e55c5101"
   },
   "outputs": [
    {
     "name": "stdout",
     "output_type": "stream",
     "text": [
      "Xảy ra thảm họa\n",
      "Text: Barbados #Bridgetown JAMAICA ÛÒ Two cars set ablaze: SANTA CRUZ ÛÓ Head of the St Elizabeth Police Superintende...  http://t.co/wDUEaj8Q4J\n",
      "\n",
      "==================================\n",
      "\n",
      "Không xảy ra thảm họa\n",
      "Text: Ablaze for you Lord :D\n",
      "\n",
      "==================================\n",
      "\n",
      "Không xảy ra thảm họa\n",
      "Text: Check these out: http://t.co/rOI2NSmEJJ http://t.co/3Tj8ZjiN21 http://t.co/YDUiXEfIpE http://t.co/LxTjc87KLS #nsfw\n",
      "\n",
      "==================================\n",
      "\n",
      "Không xảy ra thảm họa\n",
      "Text: on the outside you're ablaze and alive\n",
      "but you're dead inside\n",
      "\n",
      "==================================\n",
      "\n",
      "Không xảy ra thảm họa\n",
      "Text: Had an awesome time visiting the CFC head office the ancop site and ablaze. Thanks to Tita Vida for taking care of us ??\n",
      "\n",
      "==================================\n",
      "\n"
     ]
    }
   ],
   "source": [
    "import random \n",
    "\n",
    "random_index = random.randint(0,len(train_df) - 5 ) \n",
    "for row in train_df[[\"text\", \"target\"]][random_index:random_index+5].itertuples() : \n",
    "  _, text, target = row \n",
    "  print(f\"{'Xảy ra thảm họa' if target == 1 else 'Không xảy ra thảm họa'}\")\n",
    "  print(f\"Text: {text}\")\n",
    "  print(f\"\\n==================================\\n\")"
   ]
  },
  {
   "cell_type": "markdown",
   "metadata": {
    "id": "N-gcVEqeYfO0"
   },
   "source": [
    "### Tách dữ liệu \n",
    "\n",
    "Vì tập dữ liệu `test` không có label, nên chúng ta không thể làm bất cứ điều gì để train mô hình với nó. Dữ liệu `test` này sẽ chỉ được sử dụng ở phần cuối cùng, khi mọi thứ đã hoàn chỉnh, chúng ta tiến hành dự đoán và submit nếu cần thiết. \n",
    "\n",
    "Vì lẽ đó, chúng ta chỉ còn cách là tách dữ liệu `train` thành 2 phần để mô hình train sau đó nó sẽ tự kiểm định lại quá trình train của nó. Cụ thể, chúng ta sẽ sử dụng 85% dữ liệu để train, còn 15% dữ liệu còn lại để tiến hành kiểm định\n",
    "\n",
    "`train_test_split` trong `sklearn.model_selection()` sẽ tách dữ liệu và đảo lộn thứ tự dữ liệu. "
   ]
  },
  {
   "cell_type": "code",
   "execution_count": 14,
   "metadata": {
    "colab": {
     "base_uri": "https://localhost:8080/"
    },
    "id": "bedsCWxlaXlS",
    "outputId": "98911c34-2d25-46f8-e8c6-b2b7e889e81f"
   },
   "outputs": [
    {
     "data": {
      "text/plain": [
       "((6471,), (1142,), (6471,), (1142,))"
      ]
     },
     "execution_count": 14,
     "metadata": {},
     "output_type": "execute_result"
    }
   ],
   "source": [
    "from sklearn.model_selection import train_test_split\n",
    "\n",
    "train_text, valid_text, train_target, valid_target = train_test_split(train_df[\"text\"].values, \n",
    "                                                                      train_df[\"target\"].values, \n",
    "                                                                      random_state=42, \n",
    "                                                                      train_size=0.85)\n",
    "\n",
    "train_text.shape, valid_text.shape, train_target.shape, valid_target.shape"
   ]
  },
  {
   "cell_type": "code",
   "execution_count": 15,
   "metadata": {
    "colab": {
     "base_uri": "https://localhost:8080/"
    },
    "id": "iBCiNpr3brhr",
    "outputId": "80fe478b-7a21-4022-ba5b-50cce2b26436"
   },
   "outputs": [
    {
     "name": "stdout",
     "output_type": "stream",
     "text": [
      "Số dữ liệu train có xảy ra thảm họa : 2780 (42.96%)\n",
      "Số dữ liệu train không xảy ra thảm họa : 3691 (57.04%)\n",
      "Số dữ liệu valid có xảy ra thảm họa : 491 (42.99%)\n",
      "Số dữ liệu valid không xảy ra thảm họa : 651 (57.01%)\n"
     ]
    }
   ],
   "source": [
    "print(f\"Số dữ liệu train có xảy ra thảm họa : {sum(train_target)} ({sum(train_target) / len(train_target)*100:.2f}%)\")\n",
    "print(f\"Số dữ liệu train không xảy ra thảm họa : {len(train_target) - sum(train_target)} ({(len(train_target) - sum(train_target)) / len(train_target) * 100:.2f}%)\")\n",
    "print(f\"Số dữ liệu valid có xảy ra thảm họa : {sum(valid_target)} ({sum(valid_target) / len(valid_target)*100:.2f}%)\")\n",
    "print(f\"Số dữ liệu valid không xảy ra thảm họa : {len(valid_target) - sum(valid_target)} ({(len(valid_target) - sum(valid_target)) / len(valid_target) * 100:.2f}%)\")"
   ]
  },
  {
   "cell_type": "markdown",
   "metadata": {
    "id": "_5kS0Ytzd0G2"
   },
   "source": [
    "## 3. Chuyển dữ liệu văn bản thành dữ liệu được mã hóa bằng các token\n",
    "\n",
    "> **🤔 Câu hỏi**: Bạn nghĩ chúng ta phải làm gì trước khi có thể sử dụng thuật toán machine learning với dữ liệu văn bản của mình? Liệu machine learning có hiểu ngôn ngữ của con người không? \n",
    "\n",
    "Máy tính dĩ nhiên nó sẽ không hiểu con ngôn ngữ của con người, nhưng nó hiểu được những con số vì bản chất của học máy chính là tìm những điểm đặc biệt từ những con số đó. \n",
    "\n",
    "Trong NLP, có hai khái niệm chính để chuyển văn bản thành số:\n",
    "\n",
    "+ **Tokenization** (Mã hóa thành các token):  Một phép ánh xạ thẳng các từ trong văn bản thành các ký tự. Có ba mức độ mã hóa chính : \n",
    "  + 1. Sử dụng **word-level tokenization** (Mã hóa từ) : chẳng hạn như `Today is a good day` thì `Today` là `0`, `is` là `1`, `a` là `2`, `good` là `3`, `day` là `4`. Mỗi từ trong câu được xem như một token duy nhất.\n",
    "  + 2. Sử dụng **Character-level tokenization** (Mã hóa ký tự) : chuyển các chữ cái trong câu gồm các ký tự từ `a-z` thành định dạng 26 số. Trong trường hợp này, mọi ký tự trong một chuỗi được coi là một token duy nhất.\n",
    "  + 3. Sử dụng **Sub-word tokenization** (Mã hóa từ phụ) : nằm giữa **word-level và character-level tokenization**. Nó liên quan đến việc chia nhỏ các từ vô nghĩa thành các phần nhỏ hơn và sau đó chuyển các phần nhỏ hơn đó thành số. Chẳng hạn như, \"my favourite food is pineapple pizza\" có thể trở thành \"my, fav, avour, rite, fo, oo, od, is, pin, ine, app, le, piz, za\". Các từ phụ này sau đó sẽ được ánh xạ tới một giá trị số. Trong trường hợp này, mỗi từ có thể được xem như token đa năng. \n",
    "+ **Embeddings** (Nhúng) : Phép nhúng là một biểu diễn của ngôn ngữ tự nhiên có thể học được dưới dạng một vector đặc trưng. Ví dụ: từ \"dance\" có thể được biểu thị bằng vectơ 5 chiều `[-0.8547, 0.4559, -0.3332, 0.9877, 0.1112]`. Điều quan trọng cần lưu ý ở đây, kích thước của vector đặc trưng có thể điều chỉnh được. Có hai cách để sử dụng nhúng:\n",
    "  + 1. **Tạo riêng phép nhúng** : Khi văn bản của bạn đã được chuyển thành số (bắt buộc đối trước khi nhúng), bạn có thể đưa chúng qua một lớp nhúng (chẳng hạn như  [`tf.keras.layers.Embedding`](https://www.tensorflow.org/api_docs/python/tf/keras/layers/Embedding) và biểu diễn nhúng sẽ được học trong quá trình train mô hình.\n",
    "  + 2. **Tái sử dụng phép nhúng đã được train trước đó**: Nhiều phương pháp nhúng đã được train trước đó. Thông thường các phương pháp này được học trên các kho văn bản lớn (chẳng hạn như tất cả Wikipedia) và do đó có sự thể hiện tốt cơ bản của ngôn ngữ tự nhiên. Bạn có thể sử dụng phương pháp nhúng được train trước để khởi tạo mô hình của mình và tinh chỉnh nó cho phù hợp với từng việc cụ thể của riêng bạn.\n",
    "\n",
    "\n",
    "![](https://raw.githubusercontent.com/mrdbourke/tensorflow-deep-learning/main/images/08-tokenization-vs-embedding.png)\n",
    "*Ví dụ về **tokenization** (ánh xạ thẳng từ từ sang số) và **nhúng** (thể hiện phong phú hơn các mối quan hệ giữa các mã thông báo).*\n",
    "\n",
    "🤔 **Câu hỏi:** Tôi nên sử dụng mức độ mã hóa token nào? Tôi nên chọn cách nhúng nào?\n",
    "\n",
    "Còn phụ thuộc vào vấn đề của bạn. Bạn có thể thử mã hóa/ nhúng một vài mức độ khác nhau và xem cái nào hoạt động tốt nhất. Bạn thậm chí có thể thử xếp chồng chúng (ví dụ: kết hợp đầu ra của các layer nhúng của bạn bằng cách sử dụng [`tf.keras.layers.concatenate`](https://www.tensorflow.org/api_docs/python/tf/keras/layers/concatenate))\n",
    "\n",
    "Để tìm kiếm mô hình đã được train trước đó, bạn có thể tham khảo tại đây, [Word2vec embeddings](http://jalammar.github.io/illustrated-word2vec/), [GloVe embeddings](https://nlp.stanford.edu/projects/glove/) và nhiều mô hình có sẵn khác trên [TensorFlow Hub](https://tfhub.dev/s?module-type=text-embedding).\n",
    "\n",
    "\n",
    "\n"
   ]
  },
  {
   "cell_type": "markdown",
   "metadata": {
    "id": "Fu8_tYg2eFvL"
   },
   "source": [
    "### Vector hóa văn bản (mã hóa văn bản thành token)\n",
    "\n",
    "Để vector hóa văn bản, chúng ta sẽ sử dụng [`tf.keras.layers.experimental.preprocessing.TextVectorization`](https://www.tensorflow.org/api_docs/python/tf/keras/layers/experimental/preprocessing/TextVectorization)`. \n",
    "\n",
    "Trong layer `TextVectorization` gồm các tham số sau : \n",
    "+ `max_tokens` : Có tồi đa bao nhiêu từ mà bạn muốn để đưa vào trong danh sách từ vựng của toàn bộ văn bản. (VD: 30000 từ khác nhau trong văn bản) bao gồm một giá trị cho token OOV (out of vocabulary).\n",
    "+ `standardize` : Phương thức để chuẩn hóa văn bản. Mặc định là `lower_and_strip_punctuation` để đưa tất cả chữ cái về chữ in thường và loại bỏ dấu chấm câu. \n",
    "+ `split` : Định nghĩa cách tách đoạn văn bản, mặc định `whitespace` để tách văn bản theo khoảng trắng. \n",
    "+ `ngrams` : Có bao nhiêu từ để chứa trên một lần tách token,VD : `ngrams=2` sẽ tách thành các chuỗi liên tục gồm 2 token\n",
    "+ `output_mode` : Định nghĩa output của token sẽ như thế nào, có thể là `int`, `binary`, `count`, `tf-idf`...\n",
    "+ `output_sequence_length`: Độ dài output của trình tự được mã hóa. VD nếu `output_sequence_length=150`, tất cả các chuỗi được mã hóa sẽ có độ dài là 150 token.\n",
    "+ `pad_to_max_tokens` : Mặc định `False` , nếu đặt là `True`, đặc tính output sẽ được đệm vào `max_tokens`, ngay cả khi số lượng token duy nhất trong từ vựng ít hơn `max_tokens`. Chỉ hợp lệ trong một số chế độ nhất định\n",
    "\n"
   ]
  },
  {
   "cell_type": "code",
   "execution_count": 16,
   "metadata": {
    "id": "kOTdwbj4-con"
   },
   "outputs": [],
   "source": [
    "from tensorflow.keras.layers import TextVectorization\n",
    "\n",
    "text_vectorizer = TextVectorization(max_tokens=None, # có bao nhiêu từ trong từ vựng (None dùng cho tất cả các từ khác nhau trong văn bản của bạn)\n",
    "                                    standardize=\"lower_and_strip_punctuation\", # cách xử lý văn bản\n",
    "                                    split=\"whitespace\", # Cách tách tokens\n",
    "                                    ngrams=None, # Tạo nhóm gồm n từ\n",
    "                                    output_mode=\"int\", # cách ánh xạ token thành số\n",
    "                                    output_sequence_length=None, # Trình tự output của các tokens nên dài bao nhiêu?\n",
    "                                    pad_to_max_tokens=False # Không hợp lệ nếu sử dụng max_tokens=None\n",
    "                                    ) "
   ]
  },
  {
   "cell_type": "markdown",
   "metadata": {
    "id": "OncDHrr8-RlF"
   },
   "source": [
    "Phần trên là cài đặt mặc định cho quá trình khởi tạo `TextVectorization`. Nhưng chúng ta sẽ cần cài đặt một số tham số cụ thể cho phù hợp với công việc hiện tại. Cụ thể, chúng ta sẽ thay đổi `max_tokens` và `output_sequence_length`. \n",
    "\n",
    "Với `max_tokens` (số lượng từ tối đa được lưu trong danh sách từ vựng để token), bội số của 10.000 (10.000, 20.000, 30.000) hoặc số từ duy nhất chính xác trong văn bản của bạn (ví dụ: 32,179) là các giá trị phổ biến. \n",
    "\n",
    "Trong trường hợp này, chúng ta sẽ sử dụng `30000` \n",
    "\n",
    "Còn `output_sequence_length`, chúng tôi sẽ sử dụng số lượng, chúng ta sẽ tìm số từ trung bình của một câu trong tập dữ liệu train. Đầu tiên chúng ta sẽ tìm tổng số từ trong một câu của tất cả các câu. "
   ]
  },
  {
   "cell_type": "code",
   "execution_count": 17,
   "metadata": {
    "id": "wjAdqXQWGM8a"
   },
   "outputs": [],
   "source": [
    "import numpy as np"
   ]
  },
  {
   "cell_type": "code",
   "execution_count": 18,
   "metadata": {
    "colab": {
     "base_uri": "https://localhost:8080/"
    },
    "id": "kXtzEONeFRQC",
    "outputId": "1c86434b-bc56-4e88-bc7e-7b37bdd9ef05"
   },
   "outputs": [
    {
     "data": {
      "text/plain": [
       "15.0"
      ]
     },
     "execution_count": 18,
     "metadata": {},
     "output_type": "execute_result"
    }
   ],
   "source": [
    "train_sentence_length = [len(sentence.split()) for sentence in train_text]\n",
    "output_seq_length = np.round(np.mean(train_sentence_length))\n",
    "output_seq_length"
   ]
  },
  {
   "cell_type": "code",
   "execution_count": 19,
   "metadata": {
    "id": "vBvEwJlcGQHk"
   },
   "outputs": [],
   "source": [
    "text_vectorizer = TextVectorization(\n",
    "    max_tokens=30000, \n",
    "    output_mode=\"int\",\n",
    "    output_sequence_length=int(output_seq_length)\n",
    ")"
   ]
  },
  {
   "cell_type": "markdown",
   "metadata": {
    "id": "ffkzXeigGeHN"
   },
   "source": [
    "Để ánh xạ thực thể của `TextVectorization` là  `text_vectorizer` vào dữ liệu của, chúng ta có thể gọi phương thức `adapt()` và truyền dữ liệu train vào đó. "
   ]
  },
  {
   "cell_type": "code",
   "execution_count": 20,
   "metadata": {
    "id": "p8ThqCEXGasY"
   },
   "outputs": [],
   "source": [
    "text_vectorizer.adapt(train_text)"
   ]
  },
  {
   "cell_type": "markdown",
   "metadata": {
    "id": "CYluM2bpHHqA"
   },
   "source": [
    "Dữ liệu train đã được ánh xạ! `text_vectorizer` đã lưu trữ những từ vựng từ các câu trong văn bản mà chúng ta truyền vào. "
   ]
  },
  {
   "cell_type": "code",
   "execution_count": 21,
   "metadata": {
    "colab": {
     "base_uri": "https://localhost:8080/"
    },
    "id": "qsyUuLgYHXkq",
    "outputId": "c5808d97-027a-4832-d114-8f13db8dd290"
   },
   "outputs": [
    {
     "name": "stdout",
     "output_type": "stream",
     "text": [
      "Câu ban đầu : Warne shocked over Australia's epic collapse at Trent Bridge: Johannesburg Aug 06 (ANI): Legendary Australian... http://t.co/LwwoJXtTIV\n",
      "Câu được vector hóa: [[ 6597  8184    59  3952  2038   168    17  1284   424  5076   923  1659\n",
      "  19477  4989  3953]]\n",
      "Hình dạng câu được vector hóa: (1, 15)\n"
     ]
    }
   ],
   "source": [
    "import random\n",
    "random_sentence = random.choice(train_text)\n",
    "print(f\"Câu ban đầu : {random_sentence}\")\n",
    "vectorized_sentence = text_vectorizer([random_sentence])\n",
    "print(f\"Câu được vector hóa: {vectorized_sentence}\")\n",
    "print(f\"Hình dạng câu được vector hóa: {vectorized_sentence.shape}\")"
   ]
  },
  {
   "cell_type": "markdown",
   "metadata": {
    "id": "7TvxU-y5HZkP"
   },
   "source": [
    "## 4. Chuyển văn bản được mã hóa thành một bản nhúng\n",
    "\n",
    "Văn bản đã được mã hóa thành các token, nhưng như vậy vẫn chưa thể đưa vào mô hình train được. Chúng ta cần thực hiện nhúng dữ liệu số này, có thể hiểu rõ hơn là thay vì đưa dữ liệu tĩnh vào mô hình (e.g. 1 = I, 2 = love, 3 = TensorFlow), nhúng có thể biểu diễn số của một từ có thể được cải thiện khi một mô hình đi qua các mẫu dữ liệu.\n",
    "\n",
    "Chúng ta có thể thấy việc nhúng một từ trông như thế nào bằng cách sử dụng [`tf.keras.layers.Embedding`](https://www.tensorflow.org/api_docs/python/tf/keras/layers/Embedding) layer.\n",
    "\n",
    "Các tham số trong `Embbeding` : \n",
    "+ `input_dim` : Kích thước của từ vựng (ví dụ: len (`text_vectorizer.get_vocabulary()`).\n",
    "+ `output_dim` : Kích thước output của vectơ nhúng, ví dụ, giá trị `100` sẽ xuất ra vectơ đặc trưng có kích thước 100 cho mỗi từ.\n",
    "+ `embeddings_initializer` : Cách khởi tạo ma trận nhúng, mặc định là `uniform` cái mà ngẫu nhiên tạo ra ma trận nhúng với phân phối đều. Điều này có thể được thay đổi để sử dụng các phương pháp nhúng đã học trước.\n",
    "+ `input_length` : Độ dài của các trình tự được chuyển đến layer nhúng.\n",
    "\n"
   ]
  },
  {
   "cell_type": "code",
   "execution_count": 22,
   "metadata": {
    "id": "Ga5CfY_WlmpL"
   },
   "outputs": [],
   "source": [
    "from tensorflow.keras.layers import Embedding\n",
    "\n",
    "text_embed = Embedding(input_dim=30000,\n",
    "                       output_dim=128, \n",
    "                       input_length=int(output_seq_length))"
   ]
  },
  {
   "cell_type": "code",
   "execution_count": 23,
   "metadata": {
    "colab": {
     "base_uri": "https://localhost:8080/"
    },
    "id": "6AP2VBh5o1P6",
    "outputId": "717a472a-8a7f-4abf-a81e-153b587c8433"
   },
   "outputs": [
    {
     "name": "stdout",
     "output_type": "stream",
     "text": [
      "Câu ban đầu : Warne shocked over Australia's epic collapse at Trent Bridge: Johannesburg Aug 06 (ANI): Legendary Australian... http://t.co/LwwoJXtTIV\n",
      "Câu được vector hóa: [[ 6597  8184    59  3952  2038   168    17  1284   424  5076   923  1659\n",
      "  19477  4989  3953]]\n",
      "Hình dạng câu được vector hóa: (1, 15)\n",
      "Câu được nhúng : [[[-0.0183266   0.02140368 -0.03477343 ...  0.04220751  0.04881438\n",
      "    0.01650289]\n",
      "  [-0.01411332 -0.04692836  0.04610455 ... -0.00929552  0.02968038\n",
      "    0.02986714]\n",
      "  [-0.03691707  0.02502085  0.02349157 ...  0.01935584  0.04455152\n",
      "    0.01924365]\n",
      "  ...\n",
      "  [ 0.03421381 -0.02060624  0.02614741 ...  0.01592362 -0.04319835\n",
      "    0.04912032]\n",
      "  [ 0.00353263  0.02916402 -0.01041354 ... -0.01470497  0.01063567\n",
      "    0.04587127]\n",
      "  [-0.00161459 -0.01660439 -0.03275844 ...  0.03398123 -0.02895815\n",
      "    0.03668911]]]\n",
      "Kich thước câu được nhúng : (1, 15, 128)\n"
     ]
    }
   ],
   "source": [
    "print(f\"Câu ban đầu : {random_sentence}\")\n",
    "vectorized_sentence = text_vectorizer([random_sentence])\n",
    "print(f\"Câu được vector hóa: {vectorized_sentence}\")\n",
    "print(f\"Hình dạng câu được vector hóa: {vectorized_sentence.shape}\")\n",
    "embed_sentence = text_embed(vectorized_sentence)\n",
    "print(f\"Câu được nhúng : {embed_sentence}\")\n",
    "print(f\"Kich thước câu được nhúng : {embed_sentence.shape}\")"
   ]
  },
  {
   "cell_type": "markdown",
   "metadata": {
    "id": "5dQrW9qLpKd1"
   },
   "source": [
    "Mỗi token trong một câu đại diện cho một từ, và nó được nhúng thành  vector đặc trưng có độ dài 128. \n",
    "\n",
    "Những giá trị này có thể không có nhiều ý nghĩa đối với chúng ta nhưng chúng là những gì máy tính có thể hiểu được. Khi mô hình của tìm kiếm các đặc trưng trong các mẫu khác nhau, các giá trị này sẽ được cập nhật khi cần thiết.\n",
    "\n",
    "> Hai khái niệm trước (mã hóa và nhúng) là nền tảng cho nhiều tác vụ NLP. Vì vậy, nếu bạn không chắc chắn về bất cứ điều gì, hãy chắc chắn nghiên cứu và tiến hành các thử nghiệm của riêng bạn để giúp hiểu thêm của bạn."
   ]
  },
  {
   "cell_type": "markdown",
   "metadata": {
    "id": "k3RhCD_cpaBQ"
   },
   "source": [
    "## 5. Khởi tạo mô hình và train\n",
    "\n",
    "Bây giờ chúng ta đã có một cách để biến dữ liệu văn bản của mình thành số, có thể bắt đầu xây dựng các mô hình học máy để mô hình hóa nó.\n",
    "\n",
    "Để có nhiều thực hành, chúng ta sẽ xây dựng một loạt các mô hình khác nhau, mỗi mô hình là một thử nghiệm của riêng nó. Sau đó, chúng ta sẽ so sánh kết quả của từng mô hình và xem mô hình nào hoạt động tốt nhất.\n",
    "\n"
   ]
  },
  {
   "cell_type": "markdown",
   "metadata": {
    "id": "cCQwBJvtqYIf"
   },
   "source": [
    "### Model 0: Naive Bayes (baseline)\n",
    "\n",
    "Như với tất cả các thử nghiệm mô hình học máy, điều quan trọng là tạo mô hình cơ sở để bạn có điểm chuẩn cho các thử nghiệm trong tương lai để có thể đối chiếu, so sánh.\n",
    "\n",
    "Để tạo mô hình cơ sở, chúng ta sẽ sử dụng Scikit-Learn Pipeline để nối TF-IDF (term frequency-inverse document frequency), một công thức để chuyển đổi các từ của thành số và sau đó lập mô hình với [Multinomial Naive Bayes algorithm](https://scikit-learn.org/stable/modules/generated/sklearn.naive_bayes.MultinomialNB.html#sklearn.naive_bayes.MultinomialNB). Mô hình này được tham khảo từ [Scikit-Learn machine learning map](https://scikit-learn.org/stable/tutorial/machine_learning_map/index.html).\n",
    "\n",
    "> 📖 **Tham khảo:** Thông tin chi tiết của thuật toán TF-IDF nằm ngoài phạm vi của notebook này, tuy nhiên, có thể tham khảo tại [Scikit-Learn documentation for more](https://scikit-learn.org/stable/modules/feature_extraction.html#tfidf-term-weighting)"
   ]
  },
  {
   "cell_type": "code",
   "execution_count": 24,
   "metadata": {
    "colab": {
     "base_uri": "https://localhost:8080/"
    },
    "id": "akEE3bU6qcR3",
    "outputId": "24a800e9-c0e5-42a9-e24e-50b448ccd28c"
   },
   "outputs": [
    {
     "data": {
      "text/plain": [
       "Pipeline(memory=None,\n",
       "         steps=[('tfidf',\n",
       "                 TfidfVectorizer(analyzer='word', binary=False,\n",
       "                                 decode_error='strict',\n",
       "                                 dtype=<class 'numpy.float64'>,\n",
       "                                 encoding='utf-8', input='content',\n",
       "                                 lowercase=True, max_df=1.0, max_features=None,\n",
       "                                 min_df=1, ngram_range=(1, 1), norm='l2',\n",
       "                                 preprocessor=None, smooth_idf=True,\n",
       "                                 stop_words=None, strip_accents=None,\n",
       "                                 sublinear_tf=False,\n",
       "                                 token_pattern='(?u)\\\\b\\\\w\\\\w+\\\\b',\n",
       "                                 tokenizer=None, use_idf=True,\n",
       "                                 vocabulary=None)),\n",
       "                ('clf',\n",
       "                 MultinomialNB(alpha=1.0, class_prior=None, fit_prior=True))],\n",
       "         verbose=False)"
      ]
     },
     "execution_count": 24,
     "metadata": {},
     "output_type": "execute_result"
    }
   ],
   "source": [
    "from sklearn.naive_bayes import MultinomialNB\n",
    "from sklearn.pipeline import Pipeline\n",
    "from sklearn.feature_extraction.text import TfidfVectorizer\n",
    "\n",
    "model_0 = Pipeline([\n",
    "                    (\"tfidf\", TfidfVectorizer()), \n",
    "                    (\"clf\", MultinomialNB())\n",
    "])\n",
    "\n",
    "model_0.fit(\n",
    "    train_text, \n",
    "    train_target\n",
    ")"
   ]
  },
  {
   "cell_type": "code",
   "execution_count": 25,
   "metadata": {
    "colab": {
     "base_uri": "https://localhost:8080/"
    },
    "id": "zDbVAbhpsV9U",
    "outputId": "ff0d8130-c1a4-4a19-b601-9b2dc2cef8f2"
   },
   "outputs": [
    {
     "name": "stdout",
     "output_type": "stream",
     "text": [
      "Mô hình cơ sở đạt độ chính xác : 78.63%\n"
     ]
    }
   ],
   "source": [
    "baseline_score = model_0.score(valid_text, valid_target)\n",
    "print(f\"Mô hình cơ sở đạt độ chính xác : {baseline_score*100:.2f}%\")"
   ]
  },
  {
   "cell_type": "markdown",
   "metadata": {
    "id": "dgZ6oamguSeM"
   },
   "source": [
    "Dự đoán với dữ liệu kiểm định "
   ]
  },
  {
   "cell_type": "code",
   "execution_count": 26,
   "metadata": {
    "colab": {
     "base_uri": "https://localhost:8080/"
    },
    "id": "qjHxwJpkufiC",
    "outputId": "947ff302-c1c0-4545-f6ed-dfd290730ed7"
   },
   "outputs": [
    {
     "data": {
      "text/plain": [
       "array([0, 0, 0, ..., 1, 0, 0])"
      ]
     },
     "execution_count": 26,
     "metadata": {},
     "output_type": "execute_result"
    }
   ],
   "source": [
    "model_0_pred_labels = model_0.predict(valid_text)\n",
    "model_0_pred_labels"
   ]
  },
  {
   "cell_type": "markdown",
   "metadata": {
    "id": "KhUZ5hoEsm_9"
   },
   "source": [
    "Tuy mô hình đạt độ chính xác khá ấn tượng, nhưng ngoài phương pháp đánh giá trung bình, chúng ta cần đánh giá kỹ hơn bằng một số phương pháp khác khi làm việc với vấn đề phân loại. Cụ thể, bên cạnh `accuracy`, chúng ta sẽ sử dụng thêm `recall`, `precision`, `f1-score`. Vì những mô hình sau này cũng sẽ sử dụng phương pháp đánh giá tương tự, nên chúng ta cần tạo hàm để tái sử dụng được nhiều lần. "
   ]
  },
  {
   "cell_type": "code",
   "execution_count": 27,
   "metadata": {
    "id": "w2lpF4kutU7D"
   },
   "outputs": [],
   "source": [
    "from sklearn.metrics import accuracy_score, precision_recall_fscore_support\n",
    "\n",
    "def calculate_measure_results(y_true, y_preds) : \n",
    "  accuracy = accuracy_score(y_true, y_preds)\n",
    "  precision, recall, f1,_ = precision_recall_fscore_support(y_true, y_preds,average=\"weighted\")\n",
    "  return {\n",
    "      \"accuracy\" : accuracy, \n",
    "      \"precision\" : precision, \n",
    "      \"recall\" : recall, \n",
    "      \"f1-score\" : f1\n",
    "  }"
   ]
  },
  {
   "cell_type": "markdown",
   "metadata": {
    "id": "JZIoyLnfuopY"
   },
   "source": [
    "Chúng ta sẽ tiến hành đo lường độ chính xác của mô hình với 4 phương pháp thông qua hàm `calculate_measure_results()` với các tham số : \n",
    "+ `y_true` : Target thực của dữ liệu ( có `valid_target`)\n",
    "+ `y_preds` : Target được dự đoán ( có `model_0_pred_labels`) \n"
   ]
  },
  {
   "cell_type": "code",
   "execution_count": 28,
   "metadata": {
    "colab": {
     "base_uri": "https://localhost:8080/"
    },
    "id": "GQYinM4avEn6",
    "outputId": "4243aa97-73aa-4597-c69c-642cc8fce995"
   },
   "outputs": [
    {
     "data": {
      "text/plain": [
       "{'accuracy': 0.7863397548161121,\n",
       " 'f1-score': 0.779110157064876,\n",
       " 'precision': 0.7974494722979458,\n",
       " 'recall': 0.7863397548161121}"
      ]
     },
     "execution_count": 28,
     "metadata": {},
     "output_type": "execute_result"
    }
   ],
   "source": [
    "baseline_results = calculate_measure_results(valid_target,model_0_pred_labels )\n",
    "baseline_results"
   ]
  },
  {
   "cell_type": "markdown",
   "metadata": {
    "id": "1eCcIlWIvPnW"
   },
   "source": [
    "### Model 1: Feed-forward neural network (dense model)\n",
    "\n",
    "Mô hình \"học sâu\" đầu tiên mà chúng ta sẽ xây dựng là một dense layer. Trên thực tế, nó sẽ hầu như không có một layer duy nhất.\n",
    "\n",
    "Nó sẽ lấy văn bản và label làm input, mã hóa văn bản, tạo nhúng, tìm mức trung bình của nhúng (sử dụng `GlobalMaxPool1D`) và sau đó chuyển mức trung bình qua một Dense layer được kết nối đầy đủ với một đơn vị đầu ra và có activation function là `sigmoid` \n",
    "\n",
    "> 📖 Tham khảo : Đọc tài liệu tại [TensorFlow LSTM layer](https://www.tensorflow.org/api_docs/python/tf/keras/layers/LSTM) bạn sẽ tìm thấy rất nhiều thông số. Nhiều trong số này đã được điều chỉnh để đảm bảo chúng tính toán nhanh nhất có thể. Những thứ chính mà bạn sẽ tìm kiếm để điều chỉnh là `units` (số lượng neurons ẩn) và` return_sequences` (đặt giá trị này thành `True` khi xếp chồng LSTM hoặc các lớp lặp lại khác)."
   ]
  },
  {
   "cell_type": "code",
   "execution_count": 29,
   "metadata": {
    "id": "3vlYy06PvghO"
   },
   "outputs": [],
   "source": [
    "from tensorflow.keras import Model, layers\n",
    "\n",
    "inputs = layers.Input(shape=(1,), dtype=\"string\")\n",
    "text_vectors = text_vectorizer(inputs)\n",
    "text_embeddings = text_embed(text_vectors)\n",
    "x = layers.GlobalMaxPool1D()(text_embeddings)\n",
    "outputs = layers.Dense(1, activation=\"sigmoid\")(x)\n",
    "\n",
    "model_1 = Model(inputs, outputs) "
   ]
  },
  {
   "cell_type": "markdown",
   "metadata": {
    "id": "w214_ZqLzjGx"
   },
   "source": [
    "Chúng ta đã tạo mô hình, trước khi `compile` và `fit`, cùng xem qua tổng quan của mô hình này  có gì : "
   ]
  },
  {
   "cell_type": "code",
   "execution_count": 30,
   "metadata": {
    "colab": {
     "base_uri": "https://localhost:8080/"
    },
    "id": "3C-pwJHUx9Ol",
    "outputId": "b959ce1a-135b-4434-ae2d-b1866db8c20e"
   },
   "outputs": [
    {
     "name": "stdout",
     "output_type": "stream",
     "text": [
      "Model: \"model\"\n",
      "_________________________________________________________________\n",
      "Layer (type)                 Output Shape              Param #   \n",
      "=================================================================\n",
      "input_1 (InputLayer)         [(None, 1)]               0         \n",
      "_________________________________________________________________\n",
      "text_vectorization_1 (TextVe (None, 15)                0         \n",
      "_________________________________________________________________\n",
      "embedding (Embedding)        (None, 15, 128)           3840000   \n",
      "_________________________________________________________________\n",
      "global_max_pooling1d (Global (None, 128)               0         \n",
      "_________________________________________________________________\n",
      "dense (Dense)                (None, 1)                 129       \n",
      "=================================================================\n",
      "Total params: 3,840,129\n",
      "Trainable params: 3,840,129\n",
      "Non-trainable params: 0\n",
      "_________________________________________________________________\n"
     ]
    }
   ],
   "source": [
    "model_1.summary()"
   ]
  },
  {
   "cell_type": "markdown",
   "metadata": {
    "id": "PrYDCCTD0SeA"
   },
   "source": [
    "Hầu hết các tham số có thể train được chứa trong layer nhúng. Nhớ lại, chúng ta đã tạo một nhúng có kích thước 128 (output_dim = 128) cho từ vựng có kích thước 30.000 (input_dim = 30.000), do đó có 3.840.000 tham số có thể đào tạo. \n",
    "\n",
    "Tiếp theo, chúng ta sẽ biên dịch mô hình `compile` trước khi `fit` mô hình, và sử dụng `tensor_board_callback()` để lưu kết quả vào `tensorboard`\n"
   ]
  },
  {
   "cell_type": "code",
   "execution_count": 31,
   "metadata": {
    "id": "cR7g9cad1OGV"
   },
   "outputs": [],
   "source": [
    "from utility_functions import create_tensorboard_callback, plot_loss_curves\n",
    "import tensorflow as tf\n",
    "\n",
    "TENSORBOARD_DIR = \"tensorboard\""
   ]
  },
  {
   "cell_type": "code",
   "execution_count": 32,
   "metadata": {
    "id": "48Ym0qOi0rYc"
   },
   "outputs": [],
   "source": [
    "model_1.compile(\n",
    "    loss=\"binary_crossentropy\" ,\n",
    "    optimizer=\"adam\",\n",
    "    metrics=[\"accuracy\"]\n",
    ")"
   ]
  },
  {
   "cell_type": "code",
   "execution_count": 33,
   "metadata": {
    "colab": {
     "base_uri": "https://localhost:8080/"
    },
    "id": "LJFGq4fa0yx5",
    "outputId": "41da6d40-76a2-42d3-f4f6-e60767735c81"
   },
   "outputs": [
    {
     "name": "stdout",
     "output_type": "stream",
     "text": [
      "Đã lưu tensorboard vào tensorboard/model_1_simple_dense/22092021-072930\n",
      "Epoch 1/5\n",
      "203/203 [==============================] - 6s 12ms/step - loss: 0.6409 - accuracy: 0.6378 - val_loss: 0.5860 - val_accuracy: 0.7609\n",
      "Epoch 2/5\n",
      "203/203 [==============================] - 2s 10ms/step - loss: 0.4783 - accuracy: 0.8314 - val_loss: 0.4947 - val_accuracy: 0.7881\n",
      "Epoch 3/5\n",
      "203/203 [==============================] - 2s 10ms/step - loss: 0.3341 - accuracy: 0.8826 - val_loss: 0.4711 - val_accuracy: 0.8004\n",
      "Epoch 4/5\n",
      "203/203 [==============================] - 2s 10ms/step - loss: 0.2333 - accuracy: 0.9244 - val_loss: 0.4724 - val_accuracy: 0.7960\n",
      "Epoch 5/5\n",
      "203/203 [==============================] - 2s 10ms/step - loss: 0.1613 - accuracy: 0.9536 - val_loss: 0.4838 - val_accuracy: 0.7933\n"
     ]
    }
   ],
   "source": [
    "model_1_history = model_1.fit(\n",
    "    train_text, \n",
    "    train_target, \n",
    "    epochs=5, \n",
    "    validation_data=(valid_text, valid_target), \n",
    "    callbacks=[\n",
    "               create_tensorboard_callback(TENSORBOARD_DIR, \"model_1_simple_dense\")\n",
    "    ]\n",
    ")"
   ]
  },
  {
   "cell_type": "markdown",
   "metadata": {
    "id": "YYTJOtev0LrE"
   },
   "source": [
    "Vì chúng ta đang sử dụng một mô hình đơn giản như vậy, nên mỗi epoch xử lý rất nhanh.\n",
    "\n",
    "Kiểm tra hiệu suất của mô hình trên tập dữ liệu kiểm định."
   ]
  },
  {
   "cell_type": "code",
   "execution_count": 34,
   "metadata": {
    "colab": {
     "base_uri": "https://localhost:8080/"
    },
    "id": "6IjYTdNO1tB2",
    "outputId": "7dd275c8-37e9-4bfa-cb17-23e7e6c7f926"
   },
   "outputs": [
    {
     "name": "stdout",
     "output_type": "stream",
     "text": [
      "36/36 [==============================] - 0s 4ms/step - loss: 0.4838 - accuracy: 0.7933\n"
     ]
    },
    {
     "data": {
      "text/plain": [
       "[0.4838148355484009, 0.793345034122467]"
      ]
     },
     "execution_count": 34,
     "metadata": {},
     "output_type": "execute_result"
    }
   ],
   "source": [
    "model_1.evaluate(valid_text,valid_target)"
   ]
  },
  {
   "cell_type": "code",
   "execution_count": 35,
   "metadata": {
    "colab": {
     "base_uri": "https://localhost:8080/",
     "height": 390
    },
    "id": "FBMKghkF15WW",
    "outputId": "c40477e8-4fb6-4460-ab57-d54085e389c2"
   },
   "outputs": [
    {
     "data": {
      "image/png": "[encoded data removed]",
      "text/plain": [
       "<Figure size 1152x432 with 2 Axes>"
      ]
     },
     "metadata": {
      "needs_background": "light"
     },
     "output_type": "display_data"
    }
   ],
   "source": [
    "plot_loss_curves(model_1_history)"
   ]
  },
  {
   "cell_type": "markdown",
   "metadata": {
    "id": "QsPkjANYMgYP"
   },
   "source": [
    "Dự đoán xác suất của `valid_text`, đối với vấn đề nhị phân, nếu xác suất <0.5 thì dự đoán là `0`, >0.5 thì dự đoán là `1`"
   ]
  },
  {
   "cell_type": "code",
   "execution_count": 36,
   "metadata": {
    "colab": {
     "base_uri": "https://localhost:8080/"
    },
    "id": "-JmYMAlJ2g1g",
    "outputId": "ad7bfe7d-c02c-458c-ab86-f4c213cad6c6"
   },
   "outputs": [
    {
     "name": "stdout",
     "output_type": "stream",
     "text": [
      "36/36 [==============================] - 0s 3ms/step\n"
     ]
    },
    {
     "data": {
      "text/plain": [
       "array([[0.02242202],\n",
       "       [0.14217353],\n",
       "       [0.7164327 ],\n",
       "       ...,\n",
       "       [0.9053507 ],\n",
       "       [0.02762889],\n",
       "       [0.15634298]], dtype=float32)"
      ]
     },
     "execution_count": 36,
     "metadata": {},
     "output_type": "execute_result"
    }
   ],
   "source": [
    "model_1_pred_probs = model_1.predict(valid_text, verbose=1)\n",
    "model_1_pred_probs"
   ]
  },
  {
   "cell_type": "markdown",
   "metadata": {
    "id": "Ty2DVyMJM__U"
   },
   "source": [
    "Sau khi có xác suất, chúng ta sẽ tiến hành làm tròn xác suất dự đoán để lấy giá trị `0` hoặc `1`"
   ]
  },
  {
   "cell_type": "code",
   "execution_count": 37,
   "metadata": {
    "colab": {
     "base_uri": "https://localhost:8080/"
    },
    "id": "Z0QJWCRu2nMV",
    "outputId": "1d531890-c512-4f4a-c23e-e6c2f3e4540e"
   },
   "outputs": [
    {
     "data": {
      "text/plain": [
       "array([0., 0., 1., ..., 1., 0., 0.], dtype=float32)"
      ]
     },
     "execution_count": 37,
     "metadata": {},
     "output_type": "execute_result"
    }
   ],
   "source": [
    "model_1_pred_labels = tf.round(tf.reduce_max(model_1_pred_probs,axis=1)).numpy()\n",
    "model_1_pred_labels"
   ]
  },
  {
   "cell_type": "code",
   "execution_count": 38,
   "metadata": {
    "colab": {
     "base_uri": "https://localhost:8080/"
    },
    "id": "_hhQyHjE3UW0",
    "outputId": "feef037f-ac6d-4e71-b5a6-b790b989a003"
   },
   "outputs": [
    {
     "data": {
      "text/plain": [
       "{'accuracy': 0.7933450087565674,\n",
       " 'f1-score': 0.7921158219410827,\n",
       " 'precision': 0.7926893540478026,\n",
       " 'recall': 0.7933450087565674}"
      ]
     },
     "execution_count": 38,
     "metadata": {},
     "output_type": "execute_result"
    }
   ],
   "source": [
    "model_1_results = calculate_measure_results(valid_target, model_1_pred_labels)\n",
    "model_1_results"
   ]
  },
  {
   "cell_type": "markdown",
   "metadata": {
    "id": "I9k-Svj33jDR"
   },
   "source": [
    "Chúng ta đã có một bộ đánh giá hiệu suất mô hình `model_1`, điều cần làm là so sánh với mô hình cơ sở. Vì còn rất nhiều mô hình sẽ được xây dựng và đánh giá tương tự, nên chúng ta sẽ taọ hàm để tái sử dụng. "
   ]
  },
  {
   "cell_type": "code",
   "execution_count": 39,
   "metadata": {
    "id": "lWdRWupW4Avb"
   },
   "outputs": [],
   "source": [
    "def compare_baseline_to_new_model(baseline_results, new_model_results) : \n",
    "  for key, value in baseline_results.items() : \n",
    "    print(f\"{key} Baseline  : {value:.3f}, new model : {new_model_results[key]:.3f}, diff : {(new_model_results[key] - value) :.3f}\")"
   ]
  },
  {
   "cell_type": "code",
   "execution_count": 40,
   "metadata": {
    "colab": {
     "base_uri": "https://localhost:8080/"
    },
    "id": "I7na8yrg4u1J",
    "outputId": "defcd93f-6ea3-4ff9-8792-9714c21e72e4"
   },
   "outputs": [
    {
     "name": "stdout",
     "output_type": "stream",
     "text": [
      "accuracy Baseline  : 0.786, new model : 0.793, diff : 0.007\n",
      "precision Baseline  : 0.797, new model : 0.793, diff : -0.005\n",
      "recall Baseline  : 0.786, new model : 0.793, diff : 0.007\n",
      "f1-score Baseline  : 0.779, new model : 0.792, diff : 0.013\n"
     ]
    }
   ],
   "source": [
    "compare_baseline_to_new_model(baseline_results, model_1_results)"
   ]
  },
  {
   "cell_type": "markdown",
   "metadata": {
    "id": "ac7ftIui3ZNk"
   },
   "source": [
    "Có thể thấy kết quả đo lường của mô hình cơ sở và `model_1` khá tương đồng với nhau, độ chính xác chênh lệch không đáng kể."
   ]
  },
  {
   "cell_type": "markdown",
   "metadata": {
    "id": "2f4yUbMk3CSx"
   },
   "source": [
    "Chúng ta có thể xem các trọng số trong layer `embedding` của mô hình đã học được gì bằng :"
   ]
  },
  {
   "cell_type": "code",
   "execution_count": 41,
   "metadata": {
    "colab": {
     "base_uri": "https://localhost:8080/"
    },
    "id": "bVxo582GzApT",
    "outputId": "39eb9d49-9e79-400a-aa79-7e349456592f"
   },
   "outputs": [
    {
     "data": {
      "text/plain": [
       "(array([[-0.08770169, -0.0896696 , -0.01998542, ..., -0.01417057,\n",
       "         -0.0407733 , -0.06835398],\n",
       "        [-0.01682156,  0.04324749,  0.00779691, ...,  0.01894185,\n",
       "          0.01890439,  0.04964003],\n",
       "        [-0.0584141 , -0.03390941, -0.026013  , ..., -0.0097933 ,\n",
       "         -0.03761758, -0.03427625],\n",
       "        ...,\n",
       "        [ 0.03307093,  0.03941299,  0.02966693, ...,  0.01946965,\n",
       "         -0.0452813 ,  0.01724882],\n",
       "        [-0.02470913,  0.04786363,  0.0462488 , ...,  0.02784437,\n",
       "         -0.03830426, -0.03233713],\n",
       "        [-0.01651341,  0.04750242,  0.0197933 , ...,  0.04229147,\n",
       "         -0.03408734,  0.03911105]], dtype=float32), (30000, 128))"
      ]
     },
     "execution_count": 41,
     "metadata": {},
     "output_type": "execute_result"
    }
   ],
   "source": [
    "embed_weights = model_1.get_layer(\"embedding\").get_weights()[0]\n",
    "embed_weights,embed_weights.shape"
   ]
  },
  {
   "cell_type": "markdown",
   "metadata": {
    "id": "5ydaR8lB3PtY"
   },
   "source": [
    "### Giới thiệu về Recurrent Neural Network (RNN) \n",
    "\n",
    "Đối với loạt thử nghiệm mô hình hóa tiếp theo của chúng ta sẽ sử dụng một loại mạng nơ-ron đặc biệt được gọi là Recurrent Neural Network (RNN) hay có thể dich nôm na là mạng nơ-ron tuần hoàn.\n",
    "\n",
    "Tiền đề của một RNN rất đơn giản: sử dụng thông tin từ quá khứ để dự đoán trong tương lai (đây là nguồn gốc của thuật ngữ lặp lại). Nói cách khác, lấy một input (X) và tính toán một output (y) dựa trên tất cả các input trước đó.\n",
    "\n",
    "Khái niệm này đặc biệt hữu ích khi xử lý các chuỗi như các đoạn văn bản bằng ngôn ngữ tự nhiên (chẳng hạn như Tweet, status).\n",
    "\n",
    "Ví dụ : 'Cái bàn này rất đẹp, tôi đã mua nó tại cửa hàng gần nhà. Nhờ có nó, tôi làm việc rất thoải mái', từ 'nó' ở câu sau chúng ta có thể hiểu được nhờ bối cảnh câu trước đã gợi mở cho chúng ta về nó. \n",
    "\n",
    "Khi một RNN xem xét một chuỗi văn bản (đã ở dạng số), các đặc trưng mà nó học được liên tục cập nhật dựa trên thứ tự của chuỗi.\n",
    "\n",
    "VD đơn giản : \n",
    "\n",
    "1. Massive earthquake last week, no? (Một trận động đất lớn vào cuối tuần qua, có phải không?)\n",
    "2. No massive earthquake last week.(Không có trận động đất lớn nào vào cuối tuần qua)\n",
    "\n",
    "Cả hai đều chứa những từ giống hệt nhau nhưng ý nghĩa khác nhau. Thứ tự của các từ xác định ý nghĩa (người ta có thể tranh luận các dấu câu cũng quyết định ý nghĩa nhưng vì đơn giản, chúng ta hãy tập trung vào các từ).\n",
    "\n",
    "RNN có thể được sử dụng cho một số vấn đề dựa trên trình tự:\n",
    "+ **One to one**: một input, một output (như đưa vào một hình ảnh để phân loại)\n",
    "+ **One to many** : một input, nhiều output (như đưa vào một hình ảnh, tạo ra nhiều bối cảnh khác nhau)\n",
    "+ **Many to one** : nhiều input, một output (như phân loại văn bản, taọ một trong Tweet, dự đoán có xảy ra thiên tai hay không)\n",
    "+ **Many to many** : nhiều input, nhiều output (như máy dịch, dịch từ tiếng Anh sang tiếng Việt) hoặc giọng nói (tần sóng âm thanh là input, văn bản là output). \n",
    "\n",
    "Khi bạn gặp RNN, rất có thể bạn sẽ bắt gặp các biến thể của những thứ sau:\n",
    "+ Long short-term memory cells (LSTMs) \n",
    "+ Gated recurrent units (GRU)\n",
    "+ Bidirectional (chuyển tới và lùi theo một trình tự, từ trái sang phải và từ phải sang trái).\n",
    "\n",
    "Để hiểu sâu hơn về những gì đang xảy ra đằng sau đoạn mã mà chúng ta sắp viết,  bạn nên tham khảo các nguồn sau : \n",
    "\n",
    "> 📖 **Nguồn tham khảo:**\n",
    "> * [MIT Deep Learning Lecture on Recurrent Neural Networks](https://youtu.be/SEnXr6v2ifU) - giải thích nền tảng của RNN và giới thiệu LSTM.\n",
    "> * [The Unreasonable Effectiveness of Recurrent Neural Networks](http://karpathy.github.io/2015/05/21/rnn-effectiveness/) by Andrej Karpathy - thể hiện sức mạnh của RNN với các ví dụ tạo ra các chuỗi khác nhau.\n",
    "> * [Understanding LSTMs](https://colah.github.io/posts/2015-08-Understanding-LSTMs/) by Chris Olah - một cái nhìn chuyên sâu (và kỹ thuật) về cơ chế của ô LSTM, có thể là khối xây dựng RNN phổ biến nhất.\n",
    "\n",
    "\n"
   ]
  },
  {
   "cell_type": "markdown",
   "metadata": {
    "id": "ckxz8VzhF0zs"
   },
   "source": [
    "### Model 2 : LSTM\n",
    "\n",
    "Chúng ta sẽ bắt đầu với LSTM một layer được tạo nên từ sức mạnh của RNN.\n",
    "\n",
    "![](https://raw.githubusercontent.com/mrdbourke/tensorflow-deep-learning/main/images/08-RNN-architecture-coloured-block-edition.png)\n",
    "\n",
    "Mô hình của chúng ta sẽ có cấu trúc rất giống với `model_1`:\n",
    "\n",
    "```\n",
    "Input (text) -> Tokenize -> Embedding -> Layers -> Output (label probability)\n",
    "```\n",
    "\n",
    "Sự khác biệt chính là chúng ta sẽ thêm một layer LSTM giữa nhúng và output. \n"
   ]
  },
  {
   "cell_type": "code",
   "execution_count": 42,
   "metadata": {
    "id": "wTWfR73wIE9v"
   },
   "outputs": [],
   "source": [
    "inputs = layers.Input(shape=(1,), dtype=\"string\")\n",
    "token_vectors = text_vectorizer(inputs)\n",
    "token_embeddings = text_embed(token_vectors)\n",
    "x = layers.LSTM(units=128)(token_embeddings)\n",
    "outputs = layers.Dense(1, activation=\"sigmoid\")(x)\n",
    "\n",
    "model_2 = Model(inputs, outputs)"
   ]
  },
  {
   "cell_type": "markdown",
   "metadata": {
    "id": "Y44tX6j_Jbe5"
   },
   "source": [
    "`model_2` đã được khởi tạo, tiếp theo trước khi tiến hành train mô hình, chúng ta sẽ xem tổng quan kiến trúc của `model_2`. "
   ]
  },
  {
   "cell_type": "code",
   "execution_count": 43,
   "metadata": {
    "colab": {
     "base_uri": "https://localhost:8080/"
    },
    "id": "x2dMKW_mJs4P",
    "outputId": "a82df80d-95e5-4d85-a16b-1bff3218b2d9"
   },
   "outputs": [
    {
     "name": "stdout",
     "output_type": "stream",
     "text": [
      "Model: \"model_1\"\n",
      "_________________________________________________________________\n",
      "Layer (type)                 Output Shape              Param #   \n",
      "=================================================================\n",
      "input_2 (InputLayer)         [(None, 1)]               0         \n",
      "_________________________________________________________________\n",
      "text_vectorization_1 (TextVe (None, 15)                0         \n",
      "_________________________________________________________________\n",
      "embedding (Embedding)        (None, 15, 128)           3840000   \n",
      "_________________________________________________________________\n",
      "lstm (LSTM)                  (None, 128)               131584    \n",
      "_________________________________________________________________\n",
      "dense_1 (Dense)              (None, 1)                 129       \n",
      "=================================================================\n",
      "Total params: 3,971,713\n",
      "Trainable params: 3,971,713\n",
      "Non-trainable params: 0\n",
      "_________________________________________________________________\n"
     ]
    }
   ],
   "source": [
    "model_2.summary()"
   ]
  },
  {
   "cell_type": "markdown",
   "metadata": {
    "id": "dLjqd2w1Jtvl"
   },
   "source": [
    "Trước khi train mô hình hoặc có bất kỳ thay đổi trong kiến trúc của mô hình, chúng ta sẽ cần biên dịch lại mô hình"
   ]
  },
  {
   "cell_type": "code",
   "execution_count": 44,
   "metadata": {
    "id": "41hk5FkyKiwt"
   },
   "outputs": [],
   "source": [
    "model_2.compile(\n",
    "    loss=\"binary_crossentropy\", \n",
    "    optimizer=\"adam\",\n",
    "    metrics=[\"accuracy\"]\n",
    ")"
   ]
  },
  {
   "cell_type": "code",
   "execution_count": 45,
   "metadata": {
    "colab": {
     "base_uri": "https://localhost:8080/"
    },
    "id": "xSrhva1QKn_W",
    "outputId": "1d6213d2-c666-4758-f340-a679dc5009be"
   },
   "outputs": [
    {
     "name": "stdout",
     "output_type": "stream",
     "text": [
      "Đã lưu tensorboard vào tensorboard/model_2_lstm/22092021-072954\n",
      "Epoch 1/5\n",
      "203/203 [==============================] - 9s 20ms/step - loss: 0.3306 - accuracy: 0.8632 - val_loss: 0.4945 - val_accuracy: 0.7977\n",
      "Epoch 2/5\n",
      "203/203 [==============================] - 3s 14ms/step - loss: 0.1525 - accuracy: 0.9456 - val_loss: 0.5962 - val_accuracy: 0.7758\n",
      "Epoch 3/5\n",
      "203/203 [==============================] - 3s 15ms/step - loss: 0.0794 - accuracy: 0.9717 - val_loss: 0.7042 - val_accuracy: 0.7391\n",
      "Epoch 4/5\n",
      "203/203 [==============================] - 3s 14ms/step - loss: 0.0551 - accuracy: 0.9824 - val_loss: 0.9082 - val_accuracy: 0.7434\n",
      "Epoch 5/5\n",
      "203/203 [==============================] - 3s 14ms/step - loss: 0.0329 - accuracy: 0.9896 - val_loss: 0.9536 - val_accuracy: 0.7653\n"
     ]
    }
   ],
   "source": [
    "model_2_history = model_2.fit(\n",
    "    train_text,\n",
    "    train_target, \n",
    "    epochs=5, \n",
    "    validation_data=(valid_text, valid_target) ,\n",
    "    callbacks=[\n",
    "               create_tensorboard_callback(TENSORBOARD_DIR, \"model_2_lstm\")\n",
    "    ]\n",
    ")"
   ]
  },
  {
   "cell_type": "code",
   "execution_count": 46,
   "metadata": {
    "colab": {
     "base_uri": "https://localhost:8080/"
    },
    "id": "bn3LKvkzLKxc",
    "outputId": "ddc91ddc-824f-42bf-bd59-f0cc649ef777"
   },
   "outputs": [
    {
     "name": "stdout",
     "output_type": "stream",
     "text": [
      "36/36 [==============================] - 0s 5ms/step - loss: 0.9536 - accuracy: 0.7653\n"
     ]
    },
    {
     "data": {
      "text/plain": [
       "[0.9536372423171997, 0.7653239965438843]"
      ]
     },
     "execution_count": 46,
     "metadata": {},
     "output_type": "execute_result"
    }
   ],
   "source": [
    "model_2.evaluate(valid_text, valid_target)"
   ]
  },
  {
   "cell_type": "code",
   "execution_count": 47,
   "metadata": {
    "colab": {
     "base_uri": "https://localhost:8080/",
     "height": 390
    },
    "id": "I9D3yldCLGb0",
    "outputId": "4e5d45ee-05e0-4014-f31a-c32eb5d28d18"
   },
   "outputs": [
    {
     "data": {
      "image/png": "[encoded data removed]",
      "text/plain": [
       "<Figure size 1152x432 with 2 Axes>"
      ]
     },
     "metadata": {
      "needs_background": "light"
     },
     "output_type": "display_data"
    }
   ],
   "source": [
    "plot_loss_curves(model_2_history)"
   ]
  },
  {
   "cell_type": "markdown",
   "metadata": {
    "id": "x7J8OeeRLJyE"
   },
   "source": [
    "Dự đoán xác suất của `valid_text`: \n"
   ]
  },
  {
   "cell_type": "code",
   "execution_count": 48,
   "metadata": {
    "colab": {
     "base_uri": "https://localhost:8080/"
    },
    "id": "PmJtuE1vMj-G",
    "outputId": "0d1a9acf-6208-4804-c7b6-cfb44731808e"
   },
   "outputs": [
    {
     "name": "stdout",
     "output_type": "stream",
     "text": [
      "36/36 [==============================] - 1s 3ms/step\n"
     ]
    },
    {
     "data": {
      "text/plain": [
       "array([[7.1870154e-06],\n",
       "       [2.8684214e-01],\n",
       "       [4.8961064e-01],\n",
       "       ...,\n",
       "       [9.1709644e-01],\n",
       "       [2.2750231e-04],\n",
       "       [1.2442978e-02]], dtype=float32)"
      ]
     },
     "execution_count": 48,
     "metadata": {},
     "output_type": "execute_result"
    }
   ],
   "source": [
    "model_2_pred_probs = model_2.predict(valid_text, verbose=1) \n",
    "model_2_pred_probs"
   ]
  },
  {
   "cell_type": "code",
   "execution_count": 49,
   "metadata": {
    "colab": {
     "base_uri": "https://localhost:8080/"
    },
    "id": "Re9qjZnCMoXW",
    "outputId": "cff34b34-97ba-43ef-c36a-0562cd70754f"
   },
   "outputs": [
    {
     "data": {
      "text/plain": [
       "array([0., 0., 0., ..., 1., 0., 0.], dtype=float32)"
      ]
     },
     "execution_count": 49,
     "metadata": {},
     "output_type": "execute_result"
    }
   ],
   "source": [
    "model_2_pred_labels = tf.round(tf.reduce_max(model_2_pred_probs,axis=1)).numpy()\n",
    "model_2_pred_labels"
   ]
  },
  {
   "cell_type": "code",
   "execution_count": 50,
   "metadata": {
    "colab": {
     "base_uri": "https://localhost:8080/"
    },
    "id": "jPieEGcgMwA2",
    "outputId": "1d1f3640-be18-4ff1-f96e-9c6382ea7ce7"
   },
   "outputs": [
    {
     "data": {
      "text/plain": [
       "{'accuracy': 0.7653239929947461,\n",
       " 'f1-score': 0.7651409005317682,\n",
       " 'precision': 0.7650004579648076,\n",
       " 'recall': 0.7653239929947461}"
      ]
     },
     "execution_count": 50,
     "metadata": {},
     "output_type": "execute_result"
    }
   ],
   "source": [
    "model_2_results = calculate_measure_results(valid_target, model_2_pred_labels)\n",
    "model_2_results"
   ]
  },
  {
   "cell_type": "markdown",
   "metadata": {
    "id": "GlS4QNpDNRff"
   },
   "source": [
    "So sánh các kết quả đo lường của `model_2` với mô hình cơ sở"
   ]
  },
  {
   "cell_type": "code",
   "execution_count": 51,
   "metadata": {
    "colab": {
     "base_uri": "https://localhost:8080/"
    },
    "id": "i2iN0zqXNZ_H",
    "outputId": "5c667232-fa8b-4ce3-ff8d-5b329460c03e"
   },
   "outputs": [
    {
     "name": "stdout",
     "output_type": "stream",
     "text": [
      "accuracy Baseline  : 0.786, new model : 0.765, diff : -0.021\n",
      "precision Baseline  : 0.797, new model : 0.765, diff : -0.032\n",
      "recall Baseline  : 0.786, new model : 0.765, diff : -0.021\n",
      "f1-score Baseline  : 0.779, new model : 0.765, diff : -0.014\n"
     ]
    }
   ],
   "source": [
    "compare_baseline_to_new_model(baseline_results, model_2_results)"
   ]
  },
  {
   "cell_type": "markdown",
   "metadata": {
    "id": "izWETXPINe2R"
   },
   "source": [
    "Có thể thấy `model_2` đạt hiêu quả chính xác kém hơn so với mô hình cơ sở. "
   ]
  },
  {
   "cell_type": "markdown",
   "metadata": {
    "id": "cDwm5VySNn2w"
   },
   "source": [
    "### Model 3 : GRU \n",
    "\n",
    "Chúng ta sẽ sử dụng một biến thể thứ 2 của RNN là layer[`tensorflow.keras.layers.GRU()`](https://www.tensorflow.org/api_docs/python/tf/keras/layers/GRU)để xây dựng mô hình dự đoán văn bản. Trình tự vẫn được lặp lại như `model_2` chỉ thay thế layer `LSTM` thành `GRU`. Cụ thể như sau : "
   ]
  },
  {
   "cell_type": "code",
   "execution_count": 52,
   "metadata": {
    "id": "obmHuiXuNtku"
   },
   "outputs": [],
   "source": [
    "inputs = layers.Input(shape=(1,), dtype=\"string\")\n",
    "token_vectors = text_vectorizer(inputs)\n",
    "token_embeddings = text_embed(token_vectors)\n",
    "gru = layers.GRU(128)(token_embeddings)\n",
    "outputs = layers.Dense(1, activation=\"sigmoid\")(gru)\n",
    "\n",
    "model_3 = Model(inputs, outputs)"
   ]
  },
  {
   "cell_type": "code",
   "execution_count": 53,
   "metadata": {
    "colab": {
     "base_uri": "https://localhost:8080/"
    },
    "id": "4qUYauQpOllO",
    "outputId": "fba5bc24-5184-487c-aa90-3d56341e5b7a"
   },
   "outputs": [
    {
     "name": "stdout",
     "output_type": "stream",
     "text": [
      "Model: \"model_2\"\n",
      "_________________________________________________________________\n",
      "Layer (type)                 Output Shape              Param #   \n",
      "=================================================================\n",
      "input_3 (InputLayer)         [(None, 1)]               0         \n",
      "_________________________________________________________________\n",
      "text_vectorization_1 (TextVe (None, 15)                0         \n",
      "_________________________________________________________________\n",
      "embedding (Embedding)        (None, 15, 128)           3840000   \n",
      "_________________________________________________________________\n",
      "gru (GRU)                    (None, 128)               99072     \n",
      "_________________________________________________________________\n",
      "dense_2 (Dense)              (None, 1)                 129       \n",
      "=================================================================\n",
      "Total params: 3,939,201\n",
      "Trainable params: 3,939,201\n",
      "Non-trainable params: 0\n",
      "_________________________________________________________________\n"
     ]
    }
   ],
   "source": [
    "model_3.summary()"
   ]
  },
  {
   "cell_type": "code",
   "execution_count": 54,
   "metadata": {
    "id": "vMxEYNQPOmpg"
   },
   "outputs": [],
   "source": [
    "model_3.compile(\n",
    "    loss=\"binary_crossentropy\", \n",
    "    optimizer=\"adam\",\n",
    "    metrics=[\"accuracy\"]\n",
    ")"
   ]
  },
  {
   "cell_type": "code",
   "execution_count": 55,
   "metadata": {
    "colab": {
     "base_uri": "https://localhost:8080/"
    },
    "id": "yUkKLt_8Ov9U",
    "outputId": "0a9279c5-2f9b-46ce-bee8-0c066dd93a08"
   },
   "outputs": [
    {
     "name": "stdout",
     "output_type": "stream",
     "text": [
      "Đã lưu tensorboard vào tensorboard/model_3_gru/22092021-073016\n",
      "Epoch 1/5\n",
      "203/203 [==============================] - 6s 19ms/step - loss: 0.1154 - accuracy: 0.9555 - val_loss: 0.7931 - val_accuracy: 0.7688\n",
      "Epoch 2/5\n",
      "203/203 [==============================] - 3s 13ms/step - loss: 0.0356 - accuracy: 0.9889 - val_loss: 1.1319 - val_accuracy: 0.7180\n",
      "Epoch 3/5\n",
      "203/203 [==============================] - 3s 14ms/step - loss: 0.0272 - accuracy: 0.9903 - val_loss: 0.9449 - val_accuracy: 0.7671\n",
      "Epoch 4/5\n",
      "203/203 [==============================] - 3s 14ms/step - loss: 0.0206 - accuracy: 0.9917 - val_loss: 0.8458 - val_accuracy: 0.7592\n",
      "Epoch 5/5\n",
      "203/203 [==============================] - 3s 15ms/step - loss: 0.0160 - accuracy: 0.9926 - val_loss: 0.9566 - val_accuracy: 0.7408\n"
     ]
    }
   ],
   "source": [
    "model_3_history = model_3.fit(\n",
    "    train_text, \n",
    "    train_target,\n",
    "    epochs=5, \n",
    "    validation_data=(valid_text, valid_target),\n",
    "    callbacks=[\n",
    "               create_tensorboard_callback(TENSORBOARD_DIR, \"model_3_gru\")\n",
    "    ]\n",
    ")"
   ]
  },
  {
   "cell_type": "code",
   "execution_count": 56,
   "metadata": {
    "colab": {
     "base_uri": "https://localhost:8080/",
     "height": 390
    },
    "id": "0ih8HRGUO8wd",
    "outputId": "d1583846-0d53-4a7d-ed52-1d941c840032"
   },
   "outputs": [
    {
     "data": {
      "image/png": "[encoded data removed]",
      "text/plain": [
       "<Figure size 1152x432 with 2 Axes>"
      ]
     },
     "metadata": {
      "needs_background": "light"
     },
     "output_type": "display_data"
    }
   ],
   "source": [
    "plot_loss_curves(model_3_history)"
   ]
  },
  {
   "cell_type": "code",
   "execution_count": 57,
   "metadata": {
    "colab": {
     "base_uri": "https://localhost:8080/"
    },
    "id": "0PA6D4zrPB8u",
    "outputId": "f5614ea9-34fc-41a5-b929-53dbc3e70642"
   },
   "outputs": [
    {
     "name": "stdout",
     "output_type": "stream",
     "text": [
      "36/36 [==============================] - 1s 3ms/step\n"
     ]
    },
    {
     "data": {
      "text/plain": [
       "array([[7.2790594e-05],\n",
       "       [7.9159391e-01],\n",
       "       [4.4220400e-01],\n",
       "       ...,\n",
       "       [9.7632897e-01],\n",
       "       [1.1481475e-04],\n",
       "       [4.7221583e-01]], dtype=float32)"
      ]
     },
     "execution_count": 57,
     "metadata": {},
     "output_type": "execute_result"
    }
   ],
   "source": [
    "model_3_pred_probs = model_3.predict(valid_text, verbose=1)\n",
    "model_3_pred_probs"
   ]
  },
  {
   "cell_type": "code",
   "execution_count": 58,
   "metadata": {
    "colab": {
     "base_uri": "https://localhost:8080/"
    },
    "id": "M70ACSANPHpT",
    "outputId": "a79f1497-026d-4bc3-dff6-8eee2d40adad"
   },
   "outputs": [
    {
     "data": {
      "text/plain": [
       "array([0., 1., 0., ..., 1., 0., 0.], dtype=float32)"
      ]
     },
     "execution_count": 58,
     "metadata": {},
     "output_type": "execute_result"
    }
   ],
   "source": [
    "model_3_pred_labels = tf.round(tf.reduce_max(model_3_pred_probs,axis=1)).numpy()\n",
    "model_3_pred_labels\n"
   ]
  },
  {
   "cell_type": "code",
   "execution_count": 59,
   "metadata": {
    "colab": {
     "base_uri": "https://localhost:8080/"
    },
    "id": "SjZC8wKKPNXA",
    "outputId": "8a29af50-f46a-4cdb-81fc-b413bfab483a"
   },
   "outputs": [
    {
     "data": {
      "text/plain": [
       "{'accuracy': 0.7408056042031523,\n",
       " 'f1-score': 0.7419530994399646,\n",
       " 'precision': 0.7464051890746005,\n",
       " 'recall': 0.7408056042031523}"
      ]
     },
     "execution_count": 59,
     "metadata": {},
     "output_type": "execute_result"
    }
   ],
   "source": [
    "model_3_results = calculate_measure_results(valid_target, model_3_pred_labels)\n",
    "model_3_results"
   ]
  },
  {
   "cell_type": "code",
   "execution_count": 60,
   "metadata": {
    "colab": {
     "base_uri": "https://localhost:8080/"
    },
    "id": "0J5v3_FHPRDl",
    "outputId": "f6cf3703-1346-41c1-ba22-f5e9b973db61"
   },
   "outputs": [
    {
     "name": "stdout",
     "output_type": "stream",
     "text": [
      "accuracy Baseline  : 0.786, new model : 0.741, diff : -0.046\n",
      "precision Baseline  : 0.797, new model : 0.746, diff : -0.051\n",
      "recall Baseline  : 0.786, new model : 0.741, diff : -0.046\n",
      "f1-score Baseline  : 0.779, new model : 0.742, diff : -0.037\n"
     ]
    }
   ],
   "source": [
    "compare_baseline_to_new_model(baseline_results, model_3_results)"
   ]
  },
  {
   "cell_type": "markdown",
   "metadata": {
    "id": "D0LtgOLMQJYX"
   },
   "source": [
    "với GRU, `model_3` vẫn không thể dư đoán tốt bằng mô hình cơ sở. "
   ]
  },
  {
   "cell_type": "markdown",
   "metadata": {
    "id": "IeUG-q98QWBr"
   },
   "source": [
    "### Model 4 : Bidirectional-LSTM model (Mô hình LSTM hai chiều)\n",
    "\n",
    "Một RNN tiêu chuẩn sẽ xử lý một trình tự từ trái sang phải, trái lại một RNN hai chiều sẽ xử lý trình tự từ trái sang phải và sau đó lại từ phải sang trái.\n",
    "\n",
    "Theo trực giác, điều này có thể được hiểu như thể bạn đang đọc một câu lần đầu tiên theo cách thông thường (từ trái sang phải) nhưng vì lý do nào đó nó không có ý nghĩa nên bạn lướt qua các từ và quay lại chúng một lần nữa (phải sang trái). \n",
    "\n",
    "Trong thực tế, nhiều mô hình trình tự thường thấy và cải thiện hiệu suất khi sử dụng RNN hai chiều.\n",
    "\n",
    "Tuy nhiên, việc cải thiện hiệu suất này thường đi kèm với cái giá là thời gian đào train hơn và tăng các tham train trong mô hình (vì mô hình đi từ trái sang phải và từ phải sang trái, số lượng thông số có thể train tăng gấp đôi).\n",
    "\n",
    "Một lần nữa, TensorFlow giúp chúng ta bằng cách cung cấp  layer `tensorflow.keras.layers.Bidirectional()`. Chúng ta có thể sử dụng layer `bidirectional` để bọc các RNN hiện có của mình, ngay lập tức làm cho chúng có hai chiều."
   ]
  },
  {
   "cell_type": "code",
   "execution_count": 61,
   "metadata": {
    "id": "LMPZp1_qQeJJ"
   },
   "outputs": [],
   "source": [
    "inputs = layers.Input(shape=(1,), dtype=\"string\")\n",
    "token_vectors = text_vectorizer(inputs)\n",
    "token_embeddings = text_embed(token_vectors)\n",
    "token_bi_lstm = layers.Bidirectional(layers.LSTM(128))(token_embeddings)\n",
    "outputs = layers.Dense(1, activation=\"sigmoid\")(token_bi_lstm)\n",
    "\n",
    "model_4 = Model(inputs, outputs)"
   ]
  },
  {
   "cell_type": "code",
   "execution_count": 62,
   "metadata": {
    "colab": {
     "base_uri": "https://localhost:8080/"
    },
    "id": "7M4EcYnqSI2R",
    "outputId": "66df284f-8254-40a4-e800-14bc6bca4909"
   },
   "outputs": [
    {
     "name": "stdout",
     "output_type": "stream",
     "text": [
      "Model: \"model_3\"\n",
      "_________________________________________________________________\n",
      "Layer (type)                 Output Shape              Param #   \n",
      "=================================================================\n",
      "input_4 (InputLayer)         [(None, 1)]               0         \n",
      "_________________________________________________________________\n",
      "text_vectorization_1 (TextVe (None, 15)                0         \n",
      "_________________________________________________________________\n",
      "embedding (Embedding)        (None, 15, 128)           3840000   \n",
      "_________________________________________________________________\n",
      "bidirectional (Bidirectional (None, 256)               263168    \n",
      "_________________________________________________________________\n",
      "dense_3 (Dense)              (None, 1)                 257       \n",
      "=================================================================\n",
      "Total params: 4,103,425\n",
      "Trainable params: 4,103,425\n",
      "Non-trainable params: 0\n",
      "_________________________________________________________________\n"
     ]
    }
   ],
   "source": [
    "model_4.summary()"
   ]
  },
  {
   "cell_type": "code",
   "execution_count": 63,
   "metadata": {
    "id": "E_9EIg7MS2hQ"
   },
   "outputs": [],
   "source": [
    "model_4.compile(\n",
    "    loss=\"binary_crossentropy\",\n",
    "    optimizer=\"adam\",\n",
    "    metrics=[\"accuracy\"]\n",
    ")"
   ]
  },
  {
   "cell_type": "code",
   "execution_count": 64,
   "metadata": {
    "colab": {
     "base_uri": "https://localhost:8080/"
    },
    "id": "MSCEhn2gS8GV",
    "outputId": "d3d6ba4b-d105-4adc-8cb2-1273fb31137f"
   },
   "outputs": [
    {
     "name": "stdout",
     "output_type": "stream",
     "text": [
      "Đã lưu tensorboard vào tensorboard/model_4_bi_lstm/22092021-073041\n",
      "Epoch 1/5\n",
      "203/203 [==============================] - 9s 26ms/step - loss: 0.0640 - accuracy: 0.9847 - val_loss: 0.9054 - val_accuracy: 0.7347\n",
      "Epoch 2/5\n",
      "203/203 [==============================] - 4s 19ms/step - loss: 0.0230 - accuracy: 0.9912 - val_loss: 0.9159 - val_accuracy: 0.7653\n",
      "Epoch 3/5\n",
      "203/203 [==============================] - 4s 19ms/step - loss: 0.0206 - accuracy: 0.9921 - val_loss: 0.9205 - val_accuracy: 0.7469\n",
      "Epoch 4/5\n",
      "203/203 [==============================] - 4s 19ms/step - loss: 0.0134 - accuracy: 0.9934 - val_loss: 1.2470 - val_accuracy: 0.7601\n",
      "Epoch 5/5\n",
      "203/203 [==============================] - 4s 19ms/step - loss: 0.0145 - accuracy: 0.9934 - val_loss: 1.1426 - val_accuracy: 0.7504\n"
     ]
    }
   ],
   "source": [
    "model_4_history = model_4.fit(\n",
    "    train_text,\n",
    "    train_target, \n",
    "    epochs=5, \n",
    "    validation_data=(valid_text, valid_target), \n",
    "    callbacks=[\n",
    "               create_tensorboard_callback(TENSORBOARD_DIR, \"model_4_bi_lstm\")\n",
    "    ]\n",
    ")"
   ]
  },
  {
   "cell_type": "code",
   "execution_count": 65,
   "metadata": {
    "colab": {
     "base_uri": "https://localhost:8080/",
     "height": 390
    },
    "id": "NAZfzznoTG8B",
    "outputId": "6790be98-22ae-4536-cfbf-fa8c9cd56b1f"
   },
   "outputs": [
    {
     "data": {
      "image/png": "[encoded data removed]",
      "text/plain": [
       "<Figure size 1152x432 with 2 Axes>"
      ]
     },
     "metadata": {
      "needs_background": "light"
     },
     "output_type": "display_data"
    }
   ],
   "source": [
    "plot_loss_curves(model_4_history)"
   ]
  },
  {
   "cell_type": "code",
   "execution_count": 66,
   "metadata": {
    "colab": {
     "base_uri": "https://localhost:8080/"
    },
    "id": "xiblKvuZSRbX",
    "outputId": "2799d853-2ff3-4439-c785-ef3d1a84e3cc"
   },
   "outputs": [
    {
     "name": "stdout",
     "output_type": "stream",
     "text": [
      "36/36 [==============================] - 1s 5ms/step\n"
     ]
    },
    {
     "data": {
      "text/plain": [
       "array([[9.9363329e-05],\n",
       "       [4.8480147e-01],\n",
       "       [1.6339307e-01],\n",
       "       ...,\n",
       "       [1.4854184e-02],\n",
       "       [1.7129823e-04],\n",
       "       [1.9157290e-01]], dtype=float32)"
      ]
     },
     "execution_count": 66,
     "metadata": {},
     "output_type": "execute_result"
    }
   ],
   "source": [
    "model_4_pred_probs = model_4.predict(valid_text, verbose=1)\n",
    "model_4_pred_probs"
   ]
  },
  {
   "cell_type": "code",
   "execution_count": 67,
   "metadata": {
    "colab": {
     "base_uri": "https://localhost:8080/"
    },
    "id": "8DgeDMZoSkMr",
    "outputId": "e858442d-4d89-4342-eb5a-a4e7f2c5fc31"
   },
   "outputs": [
    {
     "data": {
      "text/plain": [
       "array([0., 0., 0., ..., 0., 0., 0.], dtype=float32)"
      ]
     },
     "execution_count": 67,
     "metadata": {},
     "output_type": "execute_result"
    }
   ],
   "source": [
    "model_4_pred_labels = tf.round(tf.reduce_max(model_4_pred_probs,axis=1)).numpy()\n",
    "model_4_pred_labels"
   ]
  },
  {
   "cell_type": "code",
   "execution_count": 68,
   "metadata": {
    "colab": {
     "base_uri": "https://localhost:8080/"
    },
    "id": "zg7rgWIxSnGY",
    "outputId": "17d6d1d0-01ed-49b0-c30b-152746597d8f"
   },
   "outputs": [
    {
     "data": {
      "text/plain": [
       "{'accuracy': 0.7504378283712785,\n",
       " 'f1-score': 0.7499973559906006,\n",
       " 'precision': 0.7497534359937165,\n",
       " 'recall': 0.7504378283712785}"
      ]
     },
     "execution_count": 68,
     "metadata": {},
     "output_type": "execute_result"
    }
   ],
   "source": [
    "model_4_results = calculate_measure_results(valid_target, model_4_pred_labels)\n",
    "model_4_results"
   ]
  },
  {
   "cell_type": "code",
   "execution_count": 69,
   "metadata": {
    "colab": {
     "base_uri": "https://localhost:8080/"
    },
    "id": "6-RXX5HDSuV6",
    "outputId": "34596941-4bce-4322-c809-70efd1cb1c1b"
   },
   "outputs": [
    {
     "name": "stdout",
     "output_type": "stream",
     "text": [
      "accuracy Baseline  : 0.786, new model : 0.750, diff : -0.036\n",
      "precision Baseline  : 0.797, new model : 0.750, diff : -0.048\n",
      "recall Baseline  : 0.786, new model : 0.750, diff : -0.036\n",
      "f1-score Baseline  : 0.779, new model : 0.750, diff : -0.029\n"
     ]
    }
   ],
   "source": [
    "compare_baseline_to_new_model(baseline_results, model_4_results)"
   ]
  },
  {
   "cell_type": "markdown",
   "metadata": {
    "id": "lm99yo9VVFoj"
   },
   "source": [
    "### Model 5: 1D Convolutional Neural Network\n",
    "\n",
    "Trước khi chúng ta xây dựng mô hình CNN 1 chiều đầy đủ, chúng ta sẽ mô phỏng quá trình thực thực hiện của mô hình khi đưa dữ liệu vào. \n",
    "\n",
    "Trước tiên, chúng ta sẽ tạo một bản nhúng của một mẫu văn bản và thử nghiệm chuyển nó qua lớp `Conv1D()` và lớp `GlobalMaxPool1D()`.\n"
   ]
  },
  {
   "cell_type": "code",
   "execution_count": 70,
   "metadata": {
    "colab": {
     "base_uri": "https://localhost:8080/"
    },
    "id": "Ef5XcLzwZ-DR",
    "outputId": "c2303875-d2a1-4e07-80c6-d1e4c087e201"
   },
   "outputs": [
    {
     "data": {
      "text/plain": [
       "(TensorShape([1, 15, 128]),\n",
       " TensorShape([None, 11, 32]),\n",
       " TensorShape([None, 32]))"
      ]
     },
     "execution_count": 70,
     "metadata": {},
     "output_type": "execute_result"
    }
   ],
   "source": [
    "text_embeddings_example = text_embed(text_vectorizer([random_sentence]))\n",
    "conv_1d = layers.Conv1D(filters=32, kernel_size=5, activation=\"relu\")\n",
    "conv_1d_output = conv_1d(text_embeddings)\n",
    "max_pool = layers.GlobalMaxPool1D()\n",
    "max_pool_outputs = max_pool(conv_1d_output)\n",
    "\n",
    "text_embeddings_example.shape, conv_1d_output.shape, max_pool_outputs.shape"
   ]
  },
  {
   "cell_type": "markdown",
   "metadata": {
    "id": "-9JRV09vbtfm"
   },
   "source": [
    "Lưu ý các hình dạng outputs của mỗi layers. \n",
    "\n",
    "Trong layer nhúng có kích thước hình dạng output là `input_length = 15` và `output_dim = 128`. \n",
    "\n",
    "Đến layer CNN 1 chiều, output của nó đã được nén nội tuyến với các tham số trong nó. Và điều tương tự cũng xảy ra đối với output của layer `max_pool`. \n",
    "\n",
    "Văn bản của chúng ta bắt đầu dưới dạng một chuỗi nhưng được chuyển đổi thành vectơ đặc trưng có độ dài 64 thông qua các bước chuyển đổi khác nhau (từ mã hóa đến nhúng sang tích chập 1 chiều thành nhóm tối đa).\n",
    "\n",
    "OK, chúng ta sẽ tiến hành đặt các layer trên lại với nhau để xây dựng mô hình \n"
   ]
  },
  {
   "cell_type": "code",
   "execution_count": 71,
   "metadata": {
    "id": "KDeBwKoVcze_"
   },
   "outputs": [],
   "source": [
    "inputs = layers.Input(shape=(1,), dtype=\"string\") \n",
    "token_vectors = text_vectorizer(inputs)\n",
    "token_embeddings = text_embed(token_vectors)\n",
    "token_conv1d = layers.Conv1D(filters=128, kernel_size=5, activation=\"relu\")(token_embeddings)\n",
    "token_max_pool = layers.GlobalMaxPool1D()(token_conv1d)\n",
    "outputs = layers.Dense(1, activation=\"sigmoid\")(token_max_pool)\n",
    "\n",
    "model_5 = Model(inputs, outputs)"
   ]
  },
  {
   "cell_type": "code",
   "execution_count": 72,
   "metadata": {
    "colab": {
     "base_uri": "https://localhost:8080/"
    },
    "id": "k1WwO7R-dXi0",
    "outputId": "1f4be431-7054-4f4b-fa14-bd91df98c420"
   },
   "outputs": [
    {
     "name": "stdout",
     "output_type": "stream",
     "text": [
      "Model: \"model_4\"\n",
      "_________________________________________________________________\n",
      "Layer (type)                 Output Shape              Param #   \n",
      "=================================================================\n",
      "input_5 (InputLayer)         [(None, 1)]               0         \n",
      "_________________________________________________________________\n",
      "text_vectorization_1 (TextVe (None, 15)                0         \n",
      "_________________________________________________________________\n",
      "embedding (Embedding)        (None, 15, 128)           3840000   \n",
      "_________________________________________________________________\n",
      "conv1d_1 (Conv1D)            (None, 11, 128)           82048     \n",
      "_________________________________________________________________\n",
      "global_max_pooling1d_2 (Glob (None, 128)               0         \n",
      "_________________________________________________________________\n",
      "dense_4 (Dense)              (None, 1)                 129       \n",
      "=================================================================\n",
      "Total params: 3,922,177\n",
      "Trainable params: 3,922,177\n",
      "Non-trainable params: 0\n",
      "_________________________________________________________________\n"
     ]
    }
   ],
   "source": [
    "model_5.summary()"
   ]
  },
  {
   "cell_type": "markdown",
   "metadata": {
    "id": "uhAmdc6IdY5l"
   },
   "source": [
    "Lưu ý rằng số lượng các tham số có thể train cho lớp tích chập 1 chiều tương tự như của lớp LSTM trong mô `model_2`. \n",
    "\n"
   ]
  },
  {
   "cell_type": "code",
   "execution_count": 73,
   "metadata": {
    "id": "jvQmYWNvdsb8"
   },
   "outputs": [],
   "source": [
    "model_5.compile(\n",
    "    loss=\"binary_crossentropy\",\n",
    "    optimizer=\"adam\",\n",
    "    metrics=[\"accuracy\"]\n",
    ")"
   ]
  },
  {
   "cell_type": "code",
   "execution_count": 74,
   "metadata": {
    "colab": {
     "base_uri": "https://localhost:8080/"
    },
    "id": "gtmcwW2pdxRR",
    "outputId": "53eeca2f-9acf-470e-eca5-f8bc3e7f1495"
   },
   "outputs": [
    {
     "name": "stdout",
     "output_type": "stream",
     "text": [
      "Đã lưu tensorboard vào tensorboard/model_5_conv1d/22092021-073128\n",
      "Epoch 1/5\n",
      "203/203 [==============================] - 30s 14ms/step - loss: 0.0685 - accuracy: 0.9824 - val_loss: 1.0182 - val_accuracy: 0.7469\n",
      "Epoch 2/5\n",
      "203/203 [==============================] - 2s 11ms/step - loss: 0.0254 - accuracy: 0.9915 - val_loss: 1.0490 - val_accuracy: 0.7539\n",
      "Epoch 3/5\n",
      "203/203 [==============================] - 2s 11ms/step - loss: 0.0199 - accuracy: 0.9917 - val_loss: 1.1127 - val_accuracy: 0.7426\n",
      "Epoch 4/5\n",
      "203/203 [==============================] - 2s 10ms/step - loss: 0.0183 - accuracy: 0.9929 - val_loss: 1.1061 - val_accuracy: 0.7609\n",
      "Epoch 5/5\n",
      "203/203 [==============================] - 2s 10ms/step - loss: 0.0174 - accuracy: 0.9929 - val_loss: 1.1109 - val_accuracy: 0.7513\n"
     ]
    }
   ],
   "source": [
    "model_5_history = model_5.fit(\n",
    "    train_text,\n",
    "    train_target, \n",
    "    epochs=5, \n",
    "    validation_data=(valid_text, valid_target),\n",
    "    callbacks=[\n",
    "               create_tensorboard_callback(TENSORBOARD_DIR, \"model_5_conv1d\")\n",
    "    ]\n",
    ")"
   ]
  },
  {
   "cell_type": "code",
   "execution_count": 75,
   "metadata": {
    "colab": {
     "base_uri": "https://localhost:8080/",
     "height": 390
    },
    "id": "QqmUE33Ed7vP",
    "outputId": "cff5bce1-6d42-4a87-dc1d-ce42126ac639"
   },
   "outputs": [
    {
     "data": {
      "image/png": "[encoded data removed]",
      "text/plain": [
       "<Figure size 1152x432 with 2 Axes>"
      ]
     },
     "metadata": {
      "needs_background": "light"
     },
     "output_type": "display_data"
    }
   ],
   "source": [
    "plot_loss_curves(model_5_history)"
   ]
  },
  {
   "cell_type": "code",
   "execution_count": 76,
   "metadata": {
    "colab": {
     "base_uri": "https://localhost:8080/"
    },
    "id": "OwTRP15Wd-aT",
    "outputId": "ceca7385-411a-4cf5-a1b1-8dec029bc399"
   },
   "outputs": [
    {
     "name": "stdout",
     "output_type": "stream",
     "text": [
      "36/36 [==============================] - 0s 3ms/step\n"
     ]
    },
    {
     "data": {
      "text/plain": [
       "array([[6.0055079e-03],\n",
       "       [4.0842474e-01],\n",
       "       [1.3958932e-03],\n",
       "       ...,\n",
       "       [8.6612326e-01],\n",
       "       [9.8911905e-06],\n",
       "       [4.9681973e-02]], dtype=float32)"
      ]
     },
     "execution_count": 76,
     "metadata": {},
     "output_type": "execute_result"
    }
   ],
   "source": [
    "model_5_pred_probs= model_5.predict(valid_text,verbose=1)\n",
    "model_5_pred_probs"
   ]
  },
  {
   "cell_type": "code",
   "execution_count": 77,
   "metadata": {
    "colab": {
     "base_uri": "https://localhost:8080/"
    },
    "id": "jbIr56n7eJWB",
    "outputId": "d0f0a97e-6cd0-410f-989a-7961725a1eee"
   },
   "outputs": [
    {
     "data": {
      "text/plain": [
       "array([0., 0., 0., ..., 1., 0., 0.], dtype=float32)"
      ]
     },
     "execution_count": 77,
     "metadata": {},
     "output_type": "execute_result"
    }
   ],
   "source": [
    "model_5_pred_labels = tf.round(tf.reduce_max(model_5_pred_probs, axis=1)).numpy()\n",
    "model_5_pred_labels"
   ]
  },
  {
   "cell_type": "code",
   "execution_count": 78,
   "metadata": {
    "colab": {
     "base_uri": "https://localhost:8080/"
    },
    "id": "Om3u2hJ0eT-1",
    "outputId": "07bb8d77-b15f-440b-c757-8773a1b4a824"
   },
   "outputs": [
    {
     "data": {
      "text/plain": [
       "{'accuracy': 0.7513134851138353,\n",
       " 'f1-score': 0.7511194617575454,\n",
       " 'precision': 0.7509672620703818,\n",
       " 'recall': 0.7513134851138353}"
      ]
     },
     "execution_count": 78,
     "metadata": {},
     "output_type": "execute_result"
    }
   ],
   "source": [
    "model_5_results = calculate_measure_results(valid_target, model_5_pred_labels)\n",
    "model_5_results"
   ]
  },
  {
   "cell_type": "code",
   "execution_count": 79,
   "metadata": {
    "colab": {
     "base_uri": "https://localhost:8080/"
    },
    "id": "E2Hwikrieays",
    "outputId": "b660712e-d30b-4589-ac31-6c137a9627be"
   },
   "outputs": [
    {
     "name": "stdout",
     "output_type": "stream",
     "text": [
      "accuracy Baseline  : 0.786, new model : 0.751, diff : -0.035\n",
      "precision Baseline  : 0.797, new model : 0.751, diff : -0.046\n",
      "recall Baseline  : 0.786, new model : 0.751, diff : -0.035\n",
      "f1-score Baseline  : 0.779, new model : 0.751, diff : -0.028\n"
     ]
    }
   ],
   "source": [
    "compare_baseline_to_new_model(baseline_results, model_5_results)"
   ]
  },
  {
   "cell_type": "markdown",
   "metadata": {
    "id": "Un7acX5QeipF"
   },
   "source": [
    "### Model 6: TensorFlow Hub Pretrained Feature Extractor\n",
    "\n",
    "Đối với tất cả mô hình deep learning trước đây, chúng ta đều tự tây sử dụng các bản nhúng để xây dựng và train mô hình. Tuy nhiên, khả năng học của mô hình chỉ dừng tại mức 75%-80%. Trong quá khứ thiên tai, thảm họa là chủ đề luôn được các nhà khoa học quan tâm, họ cũng đã xây dựng những mô hình dự đoán để phục vụ cho quá trình phân tích trên lượng dữ liệu khổng lồ mà họ đã thu thập. Và đương nhiên, mô hình mà họ đã train trước đó cũng có độ phức tạp cao hơn nhiều so với những mô hình của chúng ta, vì thế khả năng mô hình học của chúng có thể sẽ rất tốt. \n",
    "\n",
    "Đối với mô hình tiếp theo của, thay vì sử dụng layer nhúng mà chúng ta tạo ra, chúng ta sẽ thay thế nó bằng một layer nhúng được train trước đó.\n",
    "\n",
    "Đặc biệt hơn, chúng ta sẽ sử dụng [Universal Sentence Encoder](https://www.aclweb.org/anthology/D18-2029.pdf) từ [TensorFlow Hub](https://tfhub.dev/google/universal-sentence-encoder/4)(một nguồn tài nguyên tuyệt vời chứa rất nhiều tài nguyên mô hình được train trước cho nhiều nhiệm vụ khác nhau).\n",
    "\n",
    "> 🔑 **Lưu ý:** Có nhiều tùy chọn nhúng văn bản tiền xử lý trước khác nhau trên TensorFlow Hub, tuy nhiên, một số yêu cầu mức xử lý trước văn bản khác với các tùy chọn khác. Tốt nhất hãy thử nghiệm với một số và xem cái nào phù hợp nhất với trường hợp sử dụng của bạn.\n",
    "\n",
    "Sự khác biệt chính giữa layer nhúng mà chúng ta đã tạo và Universal Sentence Encode là thay vì tạo kiểu nhúng cấp độ từ (word-level embedding), Universal Sentence Encode lại tạo ra một kiểu nhúng toàn bộ cấp độ câu. (sentence-level embedding).\n",
    "\n",
    "Layer nhúng của chúng ta cũng xuất ra một vectơ 128 chiều cho mỗi từ, trong khi đó, Universal Sentence Encode xuất ra một vectơ 512 chiều cho mỗi câu.\n",
    "\n",
    "\n",
    "![](https://raw.githubusercontent.com/mrdbourke/tensorflow-deep-learning/main/images/08-USE-tensorflow-hub-encoder-decoder-model.png)\n",
    "*Mô hình trình trích xuất đặc tính mà chúng ta đang xây dựng thông qua mô hình **bộ mã hóa / bộ giải mã**.*\n",
    "\n",
    "> 🔑 **Lưu ý:** Một **bộ mã hóa (encoder)** là tên của một mô hình chuyển đổi dữ liệu thô như văn bản thành biểu diễn số (vectơ đặc trưng), một **bộ giải mã (decoder)** giúp chuyển đổi dữ liệu biểu diễn dưới dạng số thành output như mong muốn.\n",
    "\n",
    "Bạn có thể tải trong mô-đun TensorFlow Hub bằng cách sử dụng [`hub.load()`](https://www.tensorflow.org/hub/api_docs/python/hub/load) và truyền vào URL đích cho mô-đun mà chúng ta muốn sử dụng, trong trường hợp của chúng ta là https://tfhub.dev/google/universal-sentence-encoder/4\n",
    "\n",
    "\n",
    "\n"
   ]
  },
  {
   "cell_type": "code",
   "execution_count": 80,
   "metadata": {
    "id": "dSxKlTyBestr"
   },
   "outputs": [],
   "source": [
    "import tensorflow_hub as hub\n",
    "\n",
    "pretrained_embedding = hub.load(\"https://tfhub.dev/google/universal-sentence-encoder/4\")"
   ]
  },
  {
   "cell_type": "markdown",
   "metadata": {
    "id": "U3S7dYvsishZ"
   },
   "source": [
    "Mã nhúng được train trước đã được load xuống, chúng ta sẽ thử nghiệm với một text bất kỳ trong train_text"
   ]
  },
  {
   "cell_type": "code",
   "execution_count": 81,
   "metadata": {
    "colab": {
     "base_uri": "https://localhost:8080/"
    },
    "id": "P0MjcnRmiivk",
    "outputId": "2d95b3c5-5c2c-4f5b-a512-f39d8b54509d"
   },
   "outputs": [
    {
     "name": "stdout",
     "output_type": "stream",
     "text": [
      "Text ban đầu : WWI WWII JAPANESE ARMY NAVY MILITARY JAPAN LEATHER WATCH WAR MIDO WW1 2 - Full read by eBay http://t.co/F9j3l2Yjl4 http://t.co/mwwWOWCayO\n",
      "Text sau khi được đưa qua trình nhúng : [-0.03044281  0.01581856  0.00134035  0.00863503 -0.00559442  0.04981313\n",
      "  0.01506585  0.05701551 -0.030074   -0.02970834  0.06973495 -0.05663311\n",
      "  0.06022958 -0.04602449  0.04764451  0.02369825 -0.01512087  0.02305916\n",
      " -0.00713952  0.01581034  0.02766969  0.03719183  0.03417041  0.02941948\n",
      "  0.04948907  0.06511479  0.034182   -0.02813621 -0.02527089 -0.01344577\n",
      "  0.0650821  -0.0651933   0.06065701 -0.01511771  0.06313758  0.07080024\n",
      " -0.00198632 -0.06720072 -0.04833446 -0.06668052  0.02474172 -0.06294521\n",
      "  0.00654026 -0.01747344  0.03193644 -0.02624837  0.02046614  0.04166235\n",
      " -0.02762615  0.02517514 -0.04471124 -0.00645435 -0.06003043 -0.00998051\n",
      "  0.06492233 -0.03638563 -0.03932678  0.00576998 -0.04325168 -0.04816242\n",
      " -0.00121299  0.06398901  0.04804118 -0.03234267  0.05050661 -0.02753097\n",
      "  0.01175145 -0.06040216 -0.06827845 -0.05019694  0.04626796  0.05039554\n",
      "  0.01395423  0.00060943  0.05661468]\n",
      "Kích thước của text sau khi đưa qua trình nhúng: (1, 512)\n"
     ]
    }
   ],
   "source": [
    "import random \n",
    "\n",
    "random_sentence = random.choice(train_text)\n",
    "print(f\"Text ban đầu : {random_sentence}\")\n",
    "print(f\"Text sau khi được đưa qua trình nhúng : {pretrained_embedding([random_sentence])[0][:75]}\")\n",
    "print(f\"Kích thước của text sau khi đưa qua trình nhúng: {pretrained_embedding([random_sentence]).shape}\")"
   ]
  },
  {
   "cell_type": "markdown",
   "metadata": {
    "id": "PLJq-tUJjjKR"
   },
   "source": [
    "Việc nhúng các câu vào Universal Sentence Encoder (USE) để mã hóa chúng thành vector 512 chiều sẽ giúp cho mô hình có thể học được các đặc trưng từ bản nhúng đó. \n",
    "\n",
    "Chúng ta có thể chuyển đổi mô-đun TensorFlow Hub USE thành một layer Keras bằng cách sử dụng [`hub.KerasLayer`](https://www.tensorflow.org/hub/api_docs/python/hub/KerasLayer).\n",
    "\n",
    "\n"
   ]
  },
  {
   "cell_type": "code",
   "execution_count": 88,
   "metadata": {
    "id": "Qe5G2OQhZo2C"
   },
   "outputs": [],
   "source": [
    "universal_sentence_encoder_layer = hub.KerasLayer(\"https://tfhub.dev/google/universal-sentence-encoder/4\",trainable=False)"
   ]
  },
  {
   "cell_type": "code",
   "execution_count": 86,
   "metadata": {
    "id": "uLMFd_b-bo94"
   },
   "outputs": [],
   "source": [
    "inputs = layers.Input(shape=(), dtype=\"string\")\n",
    "tf_hub_embeddings = universal_sentence_encoder_layer(inputs)\n",
    "x = layers.Dense(128,activation=\"relu\")(tf_hub_embeddings)\n",
    "outputs = layers.Dense(1, activation=\"sigmoid\")(x)\n",
    "\n",
    "model_6 = Model(inputs, outputs)"
   ]
  },
  {
   "cell_type": "code",
   "execution_count": 87,
   "metadata": {
    "colab": {
     "base_uri": "https://localhost:8080/"
    },
    "id": "OA52C-tqcQIA",
    "outputId": "b445f132-8f5d-49b2-dff8-4975a172aecf"
   },
   "outputs": [
    {
     "name": "stdout",
     "output_type": "stream",
     "text": [
      "Model: \"model_5\"\n",
      "_________________________________________________________________\n",
      "Layer (type)                 Output Shape              Param #   \n",
      "=================================================================\n",
      "input_8 (InputLayer)         [(None,)]                 0         \n",
      "_________________________________________________________________\n",
      "keras_layer_1 (KerasLayer)   (None, 512)               256797824 \n",
      "_________________________________________________________________\n",
      "dense_7 (Dense)              (None, 128)               65664     \n",
      "_________________________________________________________________\n",
      "dense_8 (Dense)              (None, 1)                 129       \n",
      "=================================================================\n",
      "Total params: 256,863,617\n",
      "Trainable params: 65,793\n",
      "Non-trainable params: 256,797,824\n",
      "_________________________________________________________________\n"
     ]
    }
   ],
   "source": [
    "model_6.summary()"
   ]
  },
  {
   "cell_type": "code",
   "execution_count": 89,
   "metadata": {
    "id": "w90AIUMicRHs"
   },
   "outputs": [],
   "source": [
    "model_6.compile(\n",
    "    loss=\"binary_crossentropy\" ,\n",
    "    optimizer=\"adam\", \n",
    "    metrics=[\"accuracy\"]\n",
    ")"
   ]
  },
  {
   "cell_type": "code",
   "execution_count": 90,
   "metadata": {
    "colab": {
     "base_uri": "https://localhost:8080/"
    },
    "id": "H9y54wcCccuQ",
    "outputId": "939ab816-6fd0-44c6-b58b-e58d076adf85"
   },
   "outputs": [
    {
     "name": "stdout",
     "output_type": "stream",
     "text": [
      "Đã lưu tensorboard vào tensorboard/model_6_tf_hub_pretrained_feature_extractor/22092021-074027\n",
      "Epoch 1/5\n",
      "203/203 [==============================] - 12s 44ms/step - loss: 0.4861 - accuracy: 0.7892 - val_loss: 0.4321 - val_accuracy: 0.8161\n",
      "Epoch 2/5\n",
      "203/203 [==============================] - 4s 21ms/step - loss: 0.4105 - accuracy: 0.8169 - val_loss: 0.4177 - val_accuracy: 0.8161\n",
      "Epoch 3/5\n",
      "203/203 [==============================] - 4s 21ms/step - loss: 0.3946 - accuracy: 0.8243 - val_loss: 0.4195 - val_accuracy: 0.8187\n",
      "Epoch 4/5\n",
      "203/203 [==============================] - 4s 21ms/step - loss: 0.3838 - accuracy: 0.8312 - val_loss: 0.4206 - val_accuracy: 0.8161\n",
      "Epoch 5/5\n",
      "203/203 [==============================] - 4s 21ms/step - loss: 0.3730 - accuracy: 0.8365 - val_loss: 0.4144 - val_accuracy: 0.8292\n"
     ]
    }
   ],
   "source": [
    "model_6_history = model_6.fit(\n",
    "    train_text,\n",
    "    train_target, \n",
    "    epochs=5, \n",
    "    validation_data=(valid_text, valid_target),\n",
    "    callbacks=[\n",
    "               create_tensorboard_callback(TENSORBOARD_DIR, \"model_6_tf_hub_pretrained_feature_extractor\")\n",
    "    ]\n",
    ")"
   ]
  },
  {
   "cell_type": "code",
   "execution_count": 91,
   "metadata": {
    "colab": {
     "base_uri": "https://localhost:8080/"
    },
    "id": "6QxAKAaHct2-",
    "outputId": "236f54fe-6891-485a-d2f2-e8a7bfb40ffb"
   },
   "outputs": [
    {
     "name": "stdout",
     "output_type": "stream",
     "text": [
      "36/36 [==============================] - 1s 18ms/step - loss: 0.4144 - accuracy: 0.8292\n"
     ]
    },
    {
     "data": {
      "text/plain": [
       "[0.414387583732605, 0.8292469382286072]"
      ]
     },
     "execution_count": 91,
     "metadata": {},
     "output_type": "execute_result"
    }
   ],
   "source": [
    "model_6.evaluate(valid_text, valid_target)"
   ]
  },
  {
   "cell_type": "code",
   "execution_count": 92,
   "metadata": {
    "colab": {
     "base_uri": "https://localhost:8080/",
     "height": 390
    },
    "id": "8UdwGKgic5cr",
    "outputId": "7353a037-4516-4609-ad7b-2175b2a397a3"
   },
   "outputs": [
    {
     "data": {
      "image/png": "[encoded data removed]",
      "text/plain": [
       "<Figure size 1152x432 with 2 Axes>"
      ]
     },
     "metadata": {
      "needs_background": "light"
     },
     "output_type": "display_data"
    }
   ],
   "source": [
    "plot_loss_curves(model_6_history)"
   ]
  },
  {
   "cell_type": "markdown",
   "metadata": {
    "id": "iLuqmXN4c7_h"
   },
   "source": [
    "Các đường `train` và `valid` của 2 biểu đồ trong mô hình có vẻ tốt hơn so với những mô hình trước. \n",
    "\n",
    "Chúng ta sẽ đánh giá mô hình bằng 4 phương pháp, nhưng trước tiên cần phải dự đoán label của dữ liệu `valid`. "
   ]
  },
  {
   "cell_type": "code",
   "execution_count": 93,
   "metadata": {
    "colab": {
     "base_uri": "https://localhost:8080/"
    },
    "id": "4-uyheFZdTdL",
    "outputId": "6fb902de-9a45-4fe4-cd39-349a93652a72"
   },
   "outputs": [
    {
     "name": "stdout",
     "output_type": "stream",
     "text": [
      "36/36 [==============================] - 1s 15ms/step\n"
     ]
    },
    {
     "data": {
      "text/plain": [
       "array([[0.08179197],\n",
       "       [0.09328664],\n",
       "       [0.3607355 ],\n",
       "       ...,\n",
       "       [0.81709486],\n",
       "       [0.05123212],\n",
       "       [0.21489322]], dtype=float32)"
      ]
     },
     "execution_count": 93,
     "metadata": {},
     "output_type": "execute_result"
    }
   ],
   "source": [
    "model_6_pred_probs = model_6.predict(valid_text,verbose=1)\n",
    "model_6_pred_probs"
   ]
  },
  {
   "cell_type": "code",
   "execution_count": 94,
   "metadata": {
    "colab": {
     "base_uri": "https://localhost:8080/"
    },
    "id": "i9XzL-pxdlkn",
    "outputId": "e32cd993-6627-4d99-f49a-238cbc7e35b7"
   },
   "outputs": [
    {
     "data": {
      "text/plain": [
       "array([0., 0., 0., ..., 1., 0., 0.], dtype=float32)"
      ]
     },
     "execution_count": 94,
     "metadata": {},
     "output_type": "execute_result"
    }
   ],
   "source": [
    "model_6_pred_labels = tf.round(tf.reduce_max(model_6_pred_probs, axis=1)).numpy()\n",
    "model_6_pred_labels"
   ]
  },
  {
   "cell_type": "code",
   "execution_count": 95,
   "metadata": {
    "colab": {
     "base_uri": "https://localhost:8080/"
    },
    "id": "9jjy0LuGdqm1",
    "outputId": "b8f3cf92-f1ea-4b19-9aa9-b2ee48dc729a"
   },
   "outputs": [
    {
     "data": {
      "text/plain": [
       "{'accuracy': 0.829246935201401,\n",
       " 'f1-score': 0.8279988975266545,\n",
       " 'precision': 0.8294144974743118,\n",
       " 'recall': 0.829246935201401}"
      ]
     },
     "execution_count": 95,
     "metadata": {},
     "output_type": "execute_result"
    }
   ],
   "source": [
    "model_6_results = calculate_measure_results(valid_target, model_6_pred_labels)\n",
    "model_6_results"
   ]
  },
  {
   "cell_type": "code",
   "execution_count": 96,
   "metadata": {
    "colab": {
     "base_uri": "https://localhost:8080/"
    },
    "id": "zbj5lY_2dwB4",
    "outputId": "3fc92623-a328-4f58-aeb3-73c1924e5dcf"
   },
   "outputs": [
    {
     "name": "stdout",
     "output_type": "stream",
     "text": [
      "accuracy Baseline  : 0.786, new model : 0.829, diff : 0.043\n",
      "precision Baseline  : 0.797, new model : 0.829, diff : 0.032\n",
      "recall Baseline  : 0.786, new model : 0.829, diff : 0.043\n",
      "f1-score Baseline  : 0.779, new model : 0.828, diff : 0.049\n"
     ]
    }
   ],
   "source": [
    "compare_baseline_to_new_model(baseline_results, model_6_results)"
   ]
  },
  {
   "cell_type": "markdown",
   "metadata": {
    "id": "gK-mW4urd2g6"
   },
   "source": [
    "So với mô hình cơ sở, có thể thấy `model_6` sử dụng layer nhúng đã được train trước đó có khả năng dự đoán tốt hơn khá nhiều (~4%)."
   ]
  },
  {
   "cell_type": "markdown",
   "metadata": {
    "id": "GfH2IJUed0SB"
   },
   "source": [
    "### Model 7: Same as model 6 with 10% of training data\n",
    "\n",
    "Một trong những ưu điểm của việc sử dụng những mô hình đã được train trước đó, chẳng hạn như trong trường hợp của chúng ta là các layer nhúng trong USE thì có khả năng thu lại kết quả dự đoán khá tốt dù chỉ train trên lượng dữ liệu tương đối nhỏ. Để kiểm chứng cho điều này, chúng ta sẽ sử dụng chỉ với 10% dữ liệu train để đưa vào mô hình train xem nó có thực sự hiệu quả như vậy không? \n",
    "\n",
    "Đầu tiên, chúng ta sẽ lấy 10% dữ liệu train "
   ]
  },
  {
   "cell_type": "code",
   "execution_count": 97,
   "metadata": {
    "colab": {
     "base_uri": "https://localhost:8080/"
    },
    "id": "_OfgNppEeRvA",
    "outputId": "1771ffe9-663d-4387-90cd-1bf894d76c1e"
   },
   "outputs": [
    {
     "data": {
      "text/plain": [
       "((647,), (647,))"
      ]
     },
     "execution_count": 97,
     "metadata": {},
     "output_type": "execute_result"
    }
   ],
   "source": [
    "train_text_10_percent, train_text_90_percent, train_target_10_percent, train_target_90_percent = train_test_split(train_text, \n",
    "                                                                                                                  train_target, \n",
    "                                                                                                                  train_size=0.1, \n",
    "                                                                                                                  random_state=42)\n",
    "train_text_10_percent.shape, train_target_10_percent.shape"
   ]
  },
  {
   "cell_type": "markdown",
   "metadata": {
    "id": "mYrLGhbBfmlX"
   },
   "source": [
    "Chúng ta sẽ sử dụng 10% (647) dữ liệu train để tiến hành train trong `model_6`. Nhưng chúng ta sẽ tạo `model_7` bằng cách nhân bản từ `model_6` để nó không lấy các trọng số mà `model_6` đã học. "
   ]
  },
  {
   "cell_type": "code",
   "execution_count": 98,
   "metadata": {
    "colab": {
     "base_uri": "https://localhost:8080/"
    },
    "id": "2sLpzwZzfwe3",
    "outputId": "a71bca7a-38e4-4eaa-b70e-839f4bb8c073"
   },
   "outputs": [
    {
     "name": "stdout",
     "output_type": "stream",
     "text": [
      "Model: \"model_5\"\n",
      "_________________________________________________________________\n",
      "Layer (type)                 Output Shape              Param #   \n",
      "=================================================================\n",
      "input_8 (InputLayer)         [(None,)]                 0         \n",
      "_________________________________________________________________\n",
      "keras_layer_1 (KerasLayer)   (None, 512)               256797824 \n",
      "_________________________________________________________________\n",
      "dense_7 (Dense)              (None, 128)               65664     \n",
      "_________________________________________________________________\n",
      "dense_8 (Dense)              (None, 1)                 129       \n",
      "=================================================================\n",
      "Total params: 256,863,617\n",
      "Trainable params: 65,793\n",
      "Non-trainable params: 256,797,824\n",
      "_________________________________________________________________\n"
     ]
    }
   ],
   "source": [
    "model_7 = tf.keras.models.clone_model(model_6)\n",
    "model_7.summary()"
   ]
  },
  {
   "cell_type": "markdown",
   "metadata": {
    "id": "ptqTTnyOgFAs"
   },
   "source": [
    "`model_7` đã được nhân bản lại kiến trúc của `model_6`. Chúng ta sẽ tiến hành compile và bắt đầu train mô hình. Lưu ý, mọi thứ vẫn giống với `model_6`, chỉ thay đổi dữ liệu train mô hình bằng 10% dữ liệu train mà chúng ta đã tạo ở trên. "
   ]
  },
  {
   "cell_type": "code",
   "execution_count": 99,
   "metadata": {
    "id": "StyR_--UgI86"
   },
   "outputs": [],
   "source": [
    "model_7.compile(\n",
    "    loss=\"binary_crossentropy\", \n",
    "    optimizer=\"adam\", \n",
    "    metrics=[\"accuracy\"]\n",
    ")"
   ]
  },
  {
   "cell_type": "code",
   "execution_count": 102,
   "metadata": {
    "colab": {
     "base_uri": "https://localhost:8080/"
    },
    "id": "5y2duntDgZtC",
    "outputId": "8046432e-3662-4222-e8c1-720071b4d072"
   },
   "outputs": [
    {
     "name": "stdout",
     "output_type": "stream",
     "text": [
      "Đã lưu tensorboard vào tensorboard/model_7_tf_hub_pretrained_embeddings_10_percent_training_data/22092021-075953\n",
      "Epoch 1/5\n",
      "21/21 [==============================] - 6s 155ms/step - loss: 0.6629 - accuracy: 0.7218 - val_loss: 0.6293 - val_accuracy: 0.7793\n",
      "Epoch 2/5\n",
      "21/21 [==============================] - 1s 49ms/step - loss: 0.5696 - accuracy: 0.8300 - val_loss: 0.5572 - val_accuracy: 0.7837\n",
      "Epoch 3/5\n",
      "21/21 [==============================] - 1s 45ms/step - loss: 0.4813 - accuracy: 0.8315 - val_loss: 0.5007 - val_accuracy: 0.7881\n",
      "Epoch 4/5\n",
      "21/21 [==============================] - 1s 44ms/step - loss: 0.4180 - accuracy: 0.8377 - val_loss: 0.4766 - val_accuracy: 0.7960\n",
      "Epoch 5/5\n",
      "21/21 [==============================] - 1s 44ms/step - loss: 0.3799 - accuracy: 0.8485 - val_loss: 0.4654 - val_accuracy: 0.7933\n"
     ]
    }
   ],
   "source": [
    "model_7_history = model_7.fit(\n",
    "    train_text_10_percent, \n",
    "    train_target_10_percent, \n",
    "    epochs=5, \n",
    "    validation_data=(valid_text, valid_target), \n",
    "    callbacks=[\n",
    "               create_tensorboard_callback(TENSORBOARD_DIR, \"model_7_tf_hub_pretrained_embeddings_10_percent_training_data\")\n",
    "    ]\n",
    ")"
   ]
  },
  {
   "cell_type": "code",
   "execution_count": 104,
   "metadata": {
    "colab": {
     "base_uri": "https://localhost:8080/",
     "height": 390
    },
    "id": "GDxW5bkNg_Kq",
    "outputId": "76c7b8a5-92fc-484c-dd8c-a9b6bb290e09"
   },
   "outputs": [
    {
     "data": {
      "image/png": "[encoded data removed]",
      "text/plain": [
       "<Figure size 1152x432 with 2 Axes>"
      ]
     },
     "metadata": {
      "needs_background": "light"
     },
     "output_type": "display_data"
    }
   ],
   "source": [
    "plot_loss_curves(model_7_history)"
   ]
  },
  {
   "cell_type": "code",
   "execution_count": 105,
   "metadata": {
    "colab": {
     "base_uri": "https://localhost:8080/"
    },
    "id": "C1YZnQOyhQ1s",
    "outputId": "ed80a0c0-9213-4b44-a50d-3c7a6fe409ae"
   },
   "outputs": [
    {
     "name": "stdout",
     "output_type": "stream",
     "text": [
      "36/36 [==============================] - 1s 15ms/step\n"
     ]
    },
    {
     "data": {
      "text/plain": [
       "array([[0.09064204],\n",
       "       [0.09403508],\n",
       "       [0.67025065],\n",
       "       ...,\n",
       "       [0.83671564],\n",
       "       [0.06275372],\n",
       "       [0.14773996]], dtype=float32)"
      ]
     },
     "execution_count": 105,
     "metadata": {},
     "output_type": "execute_result"
    }
   ],
   "source": [
    "model_7_pred_probs = model_7.predict(valid_text,verbose=1)\n",
    "model_7_pred_probs"
   ]
  },
  {
   "cell_type": "code",
   "execution_count": 107,
   "metadata": {
    "colab": {
     "base_uri": "https://localhost:8080/"
    },
    "id": "jiVIIHouhZEY",
    "outputId": "3cafa16a-4035-4cde-9357-9c37cfc89eef"
   },
   "outputs": [
    {
     "data": {
      "text/plain": [
       "array([0., 0., 1., ..., 1., 0., 0.], dtype=float32)"
      ]
     },
     "execution_count": 107,
     "metadata": {},
     "output_type": "execute_result"
    }
   ],
   "source": [
    "model_7_pred_labels = tf.round(tf.reduce_max(model_7_pred_probs, axis=1)).numpy()\n",
    "model_7_pred_labels"
   ]
  },
  {
   "cell_type": "code",
   "execution_count": 108,
   "metadata": {
    "colab": {
     "base_uri": "https://localhost:8080/"
    },
    "id": "Tr-Q__xzhdiR",
    "outputId": "05221993-5ae4-4ce1-ef6a-fc9d461939a2"
   },
   "outputs": [
    {
     "data": {
      "text/plain": [
       "{'accuracy': 0.7933450087565674,\n",
       " 'f1-score': 0.7926266094067003,\n",
       " 'precision': 0.7926223158922845,\n",
       " 'recall': 0.7933450087565674}"
      ]
     },
     "execution_count": 108,
     "metadata": {},
     "output_type": "execute_result"
    }
   ],
   "source": [
    "model_7_results = calculate_measure_results(valid_target, model_7_pred_labels)\n",
    "model_7_results"
   ]
  },
  {
   "cell_type": "code",
   "execution_count": 110,
   "metadata": {
    "colab": {
     "base_uri": "https://localhost:8080/"
    },
    "id": "80J7Vn6IhkJf",
    "outputId": "5e2c7478-a7c4-4361-c838-d7b674fe4001"
   },
   "outputs": [
    {
     "name": "stdout",
     "output_type": "stream",
     "text": [
      "accuracy Baseline  : 0.786, new model : 0.793, diff : 0.007\n",
      "precision Baseline  : 0.797, new model : 0.793, diff : -0.005\n",
      "recall Baseline  : 0.786, new model : 0.793, diff : 0.007\n",
      "f1-score Baseline  : 0.779, new model : 0.793, diff : 0.014\n"
     ]
    }
   ],
   "source": [
    "compare_baseline_to_new_model(baseline_results, model_7_results)"
   ]
  },
  {
   "cell_type": "markdown",
   "metadata": {
    "id": "wOgIFrRuhpQ0"
   },
   "source": [
    "Chỉ với 10% dữ liệu train, `model_7` cũng đã đánh bại mô hình cơ sở. "
   ]
  },
  {
   "cell_type": "markdown",
   "metadata": {
    "id": "fn9B6TFchxQ-"
   },
   "source": [
    "## 6. So sánh hiệu quả của các mô hình\n",
    "\n",
    "Chúng ta đã trải qua một chặng đường khá dài với 8 mô hình, bây giờ là lúc chúng ta cần đánh giá lại khả năng dự đoán trên tập dữ liệu kiểm định của từng mô hình để có cái nhìn rõ ràng hơn về hiệu quả từ các phương pháp xây dựng mô hình khác nhau trên dữ liệu train.  \n",
    "\n"
   ]
  },
  {
   "cell_type": "code",
   "execution_count": 111,
   "metadata": {
    "colab": {
     "base_uri": "https://localhost:8080/",
     "height": 193
    },
    "id": "Du2F8yWhh4_-",
    "outputId": "177eea49-3b00-4a4e-b180-4b15693efac7"
   },
   "outputs": [
    {
     "data": {
      "text/html": [
       "<div>\n",
       "<style scoped>\n",
       "    .dataframe tbody tr th:only-of-type {\n",
       "        vertical-align: middle;\n",
       "    }\n",
       "\n",
       "    .dataframe tbody tr th {\n",
       "        vertical-align: top;\n",
       "    }\n",
       "\n",
       "    .dataframe thead th {\n",
       "        text-align: right;\n",
       "    }\n",
       "</style>\n",
       "<table border=\"1\" class=\"dataframe\">\n",
       "  <thead>\n",
       "    <tr style=\"text-align: right;\">\n",
       "      <th></th>\n",
       "      <th>baseline_model</th>\n",
       "      <th>model_1_simple_dense</th>\n",
       "      <th>model_2_RNN_LSTM</th>\n",
       "      <th>model_3_RNN_GRU</th>\n",
       "      <th>model_4_RNN_Bi_LSTM</th>\n",
       "      <th>model_5_CNN_Conv1D</th>\n",
       "      <th>model_6_TF_Hub_USE</th>\n",
       "      <th>model_7_TF_Hub_USE_10_percent_data</th>\n",
       "    </tr>\n",
       "  </thead>\n",
       "  <tbody>\n",
       "    <tr>\n",
       "      <th>accuracy</th>\n",
       "      <td>0.786340</td>\n",
       "      <td>0.793345</td>\n",
       "      <td>0.765324</td>\n",
       "      <td>0.740806</td>\n",
       "      <td>0.750438</td>\n",
       "      <td>0.751313</td>\n",
       "      <td>0.829247</td>\n",
       "      <td>0.793345</td>\n",
       "    </tr>\n",
       "    <tr>\n",
       "      <th>precision</th>\n",
       "      <td>0.797449</td>\n",
       "      <td>0.792689</td>\n",
       "      <td>0.765000</td>\n",
       "      <td>0.746405</td>\n",
       "      <td>0.749753</td>\n",
       "      <td>0.750967</td>\n",
       "      <td>0.829414</td>\n",
       "      <td>0.792622</td>\n",
       "    </tr>\n",
       "    <tr>\n",
       "      <th>recall</th>\n",
       "      <td>0.786340</td>\n",
       "      <td>0.793345</td>\n",
       "      <td>0.765324</td>\n",
       "      <td>0.740806</td>\n",
       "      <td>0.750438</td>\n",
       "      <td>0.751313</td>\n",
       "      <td>0.829247</td>\n",
       "      <td>0.793345</td>\n",
       "    </tr>\n",
       "    <tr>\n",
       "      <th>f1-score</th>\n",
       "      <td>0.779110</td>\n",
       "      <td>0.792116</td>\n",
       "      <td>0.765141</td>\n",
       "      <td>0.741953</td>\n",
       "      <td>0.749997</td>\n",
       "      <td>0.751119</td>\n",
       "      <td>0.827999</td>\n",
       "      <td>0.792627</td>\n",
       "    </tr>\n",
       "  </tbody>\n",
       "</table>\n",
       "</div>"
      ],
      "text/plain": [
       "           baseline_model  ...  model_7_TF_Hub_USE_10_percent_data\n",
       "accuracy         0.786340  ...                            0.793345\n",
       "precision        0.797449  ...                            0.792622\n",
       "recall           0.786340  ...                            0.793345\n",
       "f1-score         0.779110  ...                            0.792627\n",
       "\n",
       "[4 rows x 8 columns]"
      ]
     },
     "execution_count": 111,
     "metadata": {},
     "output_type": "execute_result"
    }
   ],
   "source": [
    "all_models_results = pd.DataFrame({\n",
    "    \"baseline_model\" : baseline_results, \n",
    "    \"model_1_simple_dense\" : model_1_results, \n",
    "    \"model_2_RNN_LSTM\" : model_2_results, \n",
    "    \"model_3_RNN_GRU\" : model_3_results, \n",
    "    \"model_4_RNN_Bi_LSTM\" : model_4_results,\n",
    "    \"model_5_CNN_Conv1D\" : model_5_results, \n",
    "    \"model_6_TF_Hub_USE\" : model_6_results, \n",
    "    \"model_7_TF_Hub_USE_10_percent_data\" : model_7_results\n",
    "})\n",
    "\n",
    "all_models_results"
   ]
  },
  {
   "cell_type": "code",
   "execution_count": 112,
   "metadata": {
    "colab": {
     "base_uri": "https://localhost:8080/",
     "height": 297
    },
    "id": "01xhQaxckOWT",
    "outputId": "2cfd8fa2-fa5d-40bd-9d10-e3012914ffe2"
   },
   "outputs": [
    {
     "data": {
      "text/html": [
       "<div>\n",
       "<style scoped>\n",
       "    .dataframe tbody tr th:only-of-type {\n",
       "        vertical-align: middle;\n",
       "    }\n",
       "\n",
       "    .dataframe tbody tr th {\n",
       "        vertical-align: top;\n",
       "    }\n",
       "\n",
       "    .dataframe thead th {\n",
       "        text-align: right;\n",
       "    }\n",
       "</style>\n",
       "<table border=\"1\" class=\"dataframe\">\n",
       "  <thead>\n",
       "    <tr style=\"text-align: right;\">\n",
       "      <th></th>\n",
       "      <th>accuracy</th>\n",
       "      <th>precision</th>\n",
       "      <th>recall</th>\n",
       "      <th>f1-score</th>\n",
       "    </tr>\n",
       "  </thead>\n",
       "  <tbody>\n",
       "    <tr>\n",
       "      <th>baseline_model</th>\n",
       "      <td>0.786340</td>\n",
       "      <td>0.797449</td>\n",
       "      <td>0.786340</td>\n",
       "      <td>0.779110</td>\n",
       "    </tr>\n",
       "    <tr>\n",
       "      <th>model_1_simple_dense</th>\n",
       "      <td>0.793345</td>\n",
       "      <td>0.792689</td>\n",
       "      <td>0.793345</td>\n",
       "      <td>0.792116</td>\n",
       "    </tr>\n",
       "    <tr>\n",
       "      <th>model_2_RNN_LSTM</th>\n",
       "      <td>0.765324</td>\n",
       "      <td>0.765000</td>\n",
       "      <td>0.765324</td>\n",
       "      <td>0.765141</td>\n",
       "    </tr>\n",
       "    <tr>\n",
       "      <th>model_3_RNN_GRU</th>\n",
       "      <td>0.740806</td>\n",
       "      <td>0.746405</td>\n",
       "      <td>0.740806</td>\n",
       "      <td>0.741953</td>\n",
       "    </tr>\n",
       "    <tr>\n",
       "      <th>model_4_RNN_Bi_LSTM</th>\n",
       "      <td>0.750438</td>\n",
       "      <td>0.749753</td>\n",
       "      <td>0.750438</td>\n",
       "      <td>0.749997</td>\n",
       "    </tr>\n",
       "    <tr>\n",
       "      <th>model_5_CNN_Conv1D</th>\n",
       "      <td>0.751313</td>\n",
       "      <td>0.750967</td>\n",
       "      <td>0.751313</td>\n",
       "      <td>0.751119</td>\n",
       "    </tr>\n",
       "    <tr>\n",
       "      <th>model_6_TF_Hub_USE</th>\n",
       "      <td>0.829247</td>\n",
       "      <td>0.829414</td>\n",
       "      <td>0.829247</td>\n",
       "      <td>0.827999</td>\n",
       "    </tr>\n",
       "    <tr>\n",
       "      <th>model_7_TF_Hub_USE_10_percent_data</th>\n",
       "      <td>0.793345</td>\n",
       "      <td>0.792622</td>\n",
       "      <td>0.793345</td>\n",
       "      <td>0.792627</td>\n",
       "    </tr>\n",
       "  </tbody>\n",
       "</table>\n",
       "</div>"
      ],
      "text/plain": [
       "                                    accuracy  precision    recall  f1-score\n",
       "baseline_model                      0.786340   0.797449  0.786340  0.779110\n",
       "model_1_simple_dense                0.793345   0.792689  0.793345  0.792116\n",
       "model_2_RNN_LSTM                    0.765324   0.765000  0.765324  0.765141\n",
       "model_3_RNN_GRU                     0.740806   0.746405  0.740806  0.741953\n",
       "model_4_RNN_Bi_LSTM                 0.750438   0.749753  0.750438  0.749997\n",
       "model_5_CNN_Conv1D                  0.751313   0.750967  0.751313  0.751119\n",
       "model_6_TF_Hub_USE                  0.829247   0.829414  0.829247  0.827999\n",
       "model_7_TF_Hub_USE_10_percent_data  0.793345   0.792622  0.793345  0.792627"
      ]
     },
     "execution_count": 112,
     "metadata": {},
     "output_type": "execute_result"
    }
   ],
   "source": [
    "all_models_results = all_models_results.transpose()\n",
    "all_models_results"
   ]
  },
  {
   "cell_type": "code",
   "execution_count": 121,
   "metadata": {
    "colab": {
     "base_uri": "https://localhost:8080/",
     "height": 657
    },
    "id": "uAkeNzoUkSBw",
    "outputId": "d80040a8-87f7-4297-8d2e-b3ad020fb96a"
   },
   "outputs": [
    {
     "data": {
      "text/plain": [
       "<matplotlib.legend.Legend at 0x7f738e1e59d0>"
      ]
     },
     "execution_count": 121,
     "metadata": {},
     "output_type": "execute_result"
    },
    {
     "data": {
      "image/png": "[encoded data removed]",
      "text/plain": [
       "<Figure size 1440x720 with 1 Axes>"
      ]
     },
     "metadata": {
      "needs_background": "light"
     },
     "output_type": "display_data"
    }
   ],
   "source": [
    "all_models_results.sort_values(by=[\"f1-score\", \"accuracy\"],ascending=False).plot.bar(figsize=(20,10)).legend(bbox_to_anchor=([1,1]))"
   ]
  },
  {
   "cell_type": "markdown",
   "metadata": {
    "id": "MBqxWvawk9UQ"
   },
   "source": [
    "Có thể thấy `model_6_TF_Hub_USE` sử dụng mô hình nhúng đã được trước đó đạt được hiệu quả tốt nhất với mọi phương pháp đánh giá. Cùng một phương pháp trên nhưng với 10% dữ liệu train, `model_7_TF_Hub_USE_10_percent_data` lại xếp chỉ sau chính tiền thân của nó.\n",
    "\n",
    "Ngoài ra, chúng ta cũng có thể dung Tensorboard để so sánh các mô hình. "
   ]
  },
  {
   "cell_type": "code",
   "execution_count": 123,
   "metadata": {
    "colab": {
     "base_uri": "https://localhost:8080/",
     "height": 1000
    },
    "id": "t2Vp2r9ylz1j",
    "outputId": "836d01fe-41c9-4b51-c975-2409cd4e9329"
   },
   "outputs": [
    {
     "name": "stdout",
     "output_type": "stream",
     "text": [
      "2021-09-22 08:45:17.848330: I tensorflow/stream_executor/cuda/cuda_gpu_executor.cc:937] successful NUMA node read from SysFS had negative value (-1), but there must be at least one NUMA node, so returning NUMA node zero\n",
      "2021-09-22 08:45:17.873503: I tensorflow/stream_executor/cuda/cuda_gpu_executor.cc:937] successful NUMA node read from SysFS had negative value (-1), but there must be at least one NUMA node, so returning NUMA node zero\n",
      "2021-09-22 08:45:17.873987: I tensorflow/stream_executor/cuda/cuda_gpu_executor.cc:937] successful NUMA node read from SysFS had negative value (-1), but there must be at least one NUMA node, so returning NUMA node zero\n",
      "\n",
      "***** TensorBoard Uploader *****\n",
      "\n",
      "This will upload your TensorBoard logs to https://tensorboard.dev/ from\n",
      "the following directory:\n",
      "\n",
      "tensorboard\n",
      "\n",
      "This TensorBoard will be visible to everyone. Do not upload sensitive\n",
      "data.\n",
      "\n",
      "Your use of this service is subject to Google's Terms of Service\n",
      "<https://policies.google.com/terms> and Privacy Policy\n",
      "<https://policies.google.com/privacy>, and TensorBoard.dev's Terms of Service\n",
      "<https://tensorboard.dev/policy/terms/>.\n",
      "\n",
      "This notice will not be shown again while you are logged into the uploader.\n",
      "To log out, run `tensorboard dev auth revoke`.\n",
      "\n",
      "Continue? (yes/NO) y\n",
      "\n",
      "Please visit this URL to authorize this application: https://accounts.google.com/o/oauth2/auth?response_type=code&client_id=373649185512-8v619h5kft38l4456nm2dj4ubeqsrvh6.apps.googleusercontent.com&redirect_uri=urn%3Aietf%3Awg%3Aoauth%3A2.0%3Aoob&scope=openid+https%3A%2F%2Fwww.googleapis.com%2Fauth%2Fuserinfo.email&state=q7MgtvFlfKzbyR8wINzjYtebyJMfnG&prompt=consent&access_type=offline\n",
      "Enter the authorization code: 4/1AX4XfWh44Zgf6hlvlmf82eFSpNWbT3ydp2AOhCMbGSHrxaWu_oftR-XzQmI\n",
      "\n",
      "Upload started and will continue reading any new data as it's added to the logdir.\n",
      "\n",
      "To stop uploading, press Ctrl-C.\n",
      "\n",
      "New experiment created. View your TensorBoard at: https://tensorboard.dev/experiment/5GGizr5mQ4yT8J7i9zERtQ/\n",
      "\n",
      "\u001b[1m[2021-09-22T08:45:35]\u001b[0m Started scanning logdir.\n",
      "\u001b[1m[2021-09-22T08:45:41]\u001b[0m Total uploaded: 210 scalars, 0 tensors, 7 binary objects (3.0 MB)\n",
      "4/1AX4XfWh44Zgf6hlvlmf82eFSpNWbT3ydp2AOhCMbGSHrxaWu_oftR-XzQmI\n",
      "\n",
      "\n",
      "Interrupted. View your TensorBoard at https://tensorboard.dev/experiment/5GGizr5mQ4yT8J7i9zERtQ/\n",
      "Traceback (most recent call last):\n",
      "  File \"/usr/local/bin/tensorboard\", line 8, in <module>\n",
      "    sys.exit(run_main())\n",
      "  File \"/usr/local/lib/python3.7/dist-packages/tensorboard/main.py\", line 46, in run_main\n",
      "    app.run(tensorboard.main, flags_parser=tensorboard.configure)\n",
      "  File \"/usr/local/lib/python3.7/dist-packages/absl/app.py\", line 303, in run\n",
      "    _run_main(main, args)\n",
      "  File \"/usr/local/lib/python3.7/dist-packages/absl/app.py\", line 251, in _run_main\n",
      "    sys.exit(main(argv))\n",
      "  File \"/usr/local/lib/python3.7/dist-packages/tensorboard/program.py\", line 276, in main\n",
      "    return runner(self.flags) or 0\n",
      "  File \"/usr/local/lib/python3.7/dist-packages/tensorboard/uploader/uploader_subcommand.py\", line 657, in run\n",
      "    return _run(flags, self._experiment_url_callback)\n",
      "  File \"/usr/local/lib/python3.7/dist-packages/tensorboard/uploader/uploader_subcommand.py\", line 125, in _run\n",
      "    intent.execute(server_info, channel)\n",
      "KeyboardInterrupt\n"
     ]
    },
    {
     "ename": "NameError",
     "evalue": "ignored",
     "output_type": "error",
     "traceback": [
      "\u001b[0;31m---------------------------------------------------------------------------\u001b[0m",
      "\u001b[0;31mNameError\u001b[0m                                 Traceback (most recent call last)",
      "\u001b[0;32m<ipython-input-123-0256d30c6e8e>\u001b[0m in \u001b[0;36m<module>\u001b[0;34m()\u001b[0m\n\u001b[1;32m      1\u001b[0m \u001b[0mget_ipython\u001b[0m\u001b[0;34m(\u001b[0m\u001b[0;34m)\u001b[0m\u001b[0;34m.\u001b[0m\u001b[0msystem\u001b[0m\u001b[0;34m(\u001b[0m\u001b[0;34m'tensorboard dev upload --logdir tensorboard --name \"NLP models experiments\" --description \"A series of different NLP modellings experiments with various models\"'\u001b[0m\u001b[0;34m)\u001b[0m\u001b[0;34m\u001b[0m\u001b[0;34m\u001b[0m\u001b[0m\n\u001b[0;32m----> 2\u001b[0;31m \u001b[0;34m-\u001b[0m\u001b[0;34m-\u001b[0m\u001b[0mone_shot\u001b[0m\u001b[0;34m\u001b[0m\u001b[0;34m\u001b[0m\u001b[0m\n\u001b[0m",
      "\u001b[0;31mNameError\u001b[0m: name 'one_shot' is not defined"
     ]
    }
   ],
   "source": [
    "!tensorboard dev upload --logdir tensorboard \\\n",
    "--name \"NLP models experiments\" \\\n",
    "--description \"A series of different NLP modellings experiments with various models\"\n",
    "--one_shot"
   ]
  },
  {
   "cell_type": "markdown",
   "metadata": {
    "id": "f8cwBOQywY_4"
   },
   "source": [
    "## 7. Tìm những dự đoán sai lớn nhất\n",
    "\n",
    "Một trong những cách tốt nhất để kiểm tra dữ liệu của bạn là sắp xếp các dự đoán của mô hình và tìm các mẫu mà nó sai nhiều nhất, nghĩa là, những dự đoán nào có xác suất dự đoán cao nhưng hóa ra lại sai.\n",
    "\n",
    "Để làm cho mọi thứ trở nên trực quan, chúng ta hãy lấy các class và xác suất dự đoán của mô hình hoạt động tốt nhất cùng với các mẫu từ dữ liệu kiểm đinhvà kết hợp chúng trong một DataFrame.\n",
    "\n",
    "+ Nếu mô hình tốt nhất của chúng ta vẫn không hoàn hảo, thì những mẫu nào là lại bị sai?\n",
    "+ Mẫu nào sai lớn nhất ?\n",
    "+ Có một số label bị sai? Ví dụ. mô hình làm đúng nhưng label thực sự không phản ánh đúng điều này. "
   ]
  },
  {
   "cell_type": "code",
   "execution_count": 133,
   "metadata": {
    "colab": {
     "base_uri": "https://localhost:8080/",
     "height": 419
    },
    "id": "F2BD4L9Xw5x-",
    "outputId": "2bf2277c-de23-480c-d929-7b6a344363ec"
   },
   "outputs": [
    {
     "data": {
      "text/html": [
       "<div>\n",
       "<style scoped>\n",
       "    .dataframe tbody tr th:only-of-type {\n",
       "        vertical-align: middle;\n",
       "    }\n",
       "\n",
       "    .dataframe tbody tr th {\n",
       "        vertical-align: top;\n",
       "    }\n",
       "\n",
       "    .dataframe thead th {\n",
       "        text-align: right;\n",
       "    }\n",
       "</style>\n",
       "<table border=\"1\" class=\"dataframe\">\n",
       "  <thead>\n",
       "    <tr style=\"text-align: right;\">\n",
       "      <th></th>\n",
       "      <th>text</th>\n",
       "      <th>target</th>\n",
       "      <th>predict label</th>\n",
       "      <th>predict prob</th>\n",
       "    </tr>\n",
       "  </thead>\n",
       "  <tbody>\n",
       "    <tr>\n",
       "      <th>0</th>\n",
       "      <td>So you have a new weapon that can cause un-ima...</td>\n",
       "      <td>1</td>\n",
       "      <td>0</td>\n",
       "      <td>0.081792</td>\n",
       "    </tr>\n",
       "    <tr>\n",
       "      <th>1</th>\n",
       "      <td>The f$&amp;amp;@ing things I do for #GISHWHES Just...</td>\n",
       "      <td>0</td>\n",
       "      <td>0</td>\n",
       "      <td>0.093287</td>\n",
       "    </tr>\n",
       "    <tr>\n",
       "      <th>2</th>\n",
       "      <td>DT @georgegalloway: RT @Galloway4Mayor: ÛÏThe...</td>\n",
       "      <td>1</td>\n",
       "      <td>0</td>\n",
       "      <td>0.360736</td>\n",
       "    </tr>\n",
       "    <tr>\n",
       "      <th>3</th>\n",
       "      <td>Aftershock back to school kick off was great. ...</td>\n",
       "      <td>0</td>\n",
       "      <td>0</td>\n",
       "      <td>0.215357</td>\n",
       "    </tr>\n",
       "    <tr>\n",
       "      <th>4</th>\n",
       "      <td>in response to trauma Children of Addicts deve...</td>\n",
       "      <td>0</td>\n",
       "      <td>0</td>\n",
       "      <td>0.205807</td>\n",
       "    </tr>\n",
       "    <tr>\n",
       "      <th>...</th>\n",
       "      <td>...</td>\n",
       "      <td>...</td>\n",
       "      <td>...</td>\n",
       "      <td>...</td>\n",
       "    </tr>\n",
       "    <tr>\n",
       "      <th>1137</th>\n",
       "      <td>??\\nWarfighting Robots Could Reduce Civilian C...</td>\n",
       "      <td>1</td>\n",
       "      <td>1</td>\n",
       "      <td>0.816532</td>\n",
       "    </tr>\n",
       "    <tr>\n",
       "      <th>1138</th>\n",
       "      <td>@fewmoretweets all lives matter. Just not a fa...</td>\n",
       "      <td>1</td>\n",
       "      <td>1</td>\n",
       "      <td>0.569679</td>\n",
       "    </tr>\n",
       "    <tr>\n",
       "      <th>1139</th>\n",
       "      <td>WomanÛªs GPS app guides rescuers to injured b...</td>\n",
       "      <td>1</td>\n",
       "      <td>1</td>\n",
       "      <td>0.817095</td>\n",
       "    </tr>\n",
       "    <tr>\n",
       "      <th>1140</th>\n",
       "      <td>Tonight It's Going To Be Mayhem @ #4PlayThursd...</td>\n",
       "      <td>0</td>\n",
       "      <td>0</td>\n",
       "      <td>0.051232</td>\n",
       "    </tr>\n",
       "    <tr>\n",
       "      <th>1141</th>\n",
       "      <td>Why is there an ambulance right outside my work</td>\n",
       "      <td>0</td>\n",
       "      <td>0</td>\n",
       "      <td>0.214893</td>\n",
       "    </tr>\n",
       "  </tbody>\n",
       "</table>\n",
       "<p>1142 rows × 4 columns</p>\n",
       "</div>"
      ],
      "text/plain": [
       "                                                   text  ...  predict prob\n",
       "0     So you have a new weapon that can cause un-ima...  ...      0.081792\n",
       "1     The f$&amp;@ing things I do for #GISHWHES Just...  ...      0.093287\n",
       "2     DT @georgegalloway: RT @Galloway4Mayor: ÛÏThe...  ...      0.360736\n",
       "3     Aftershock back to school kick off was great. ...  ...      0.215357\n",
       "4     in response to trauma Children of Addicts deve...  ...      0.205807\n",
       "...                                                 ...  ...           ...\n",
       "1137  ??\\nWarfighting Robots Could Reduce Civilian C...  ...      0.816532\n",
       "1138  @fewmoretweets all lives matter. Just not a fa...  ...      0.569679\n",
       "1139  WomanÛªs GPS app guides rescuers to injured b...  ...      0.817095\n",
       "1140  Tonight It's Going To Be Mayhem @ #4PlayThursd...  ...      0.051232\n",
       "1141    Why is there an ambulance right outside my work  ...      0.214893\n",
       "\n",
       "[1142 rows x 4 columns]"
      ]
     },
     "execution_count": 133,
     "metadata": {},
     "output_type": "execute_result"
    }
   ],
   "source": [
    "val_df = pd.DataFrame({\n",
    "    \"text\" : valid_text,\n",
    "    \"target\" : valid_target,\n",
    "    \"predict label\" : model_6_pred_labels.astype(\"int\"), \n",
    "    \"predict prob\" : tf.squeeze(model_6_pred_probs).numpy(), \n",
    "})\n",
    "\n",
    "val_df"
   ]
  },
  {
   "cell_type": "code",
   "execution_count": 138,
   "metadata": {
    "colab": {
     "base_uri": "https://localhost:8080/",
     "height": 669
    },
    "id": "fLPtrMA809bu",
    "outputId": "31dec6ae-7551-4b11-c30a-01925093c0f2"
   },
   "outputs": [
    {
     "data": {
      "text/html": [
       "<div>\n",
       "<style scoped>\n",
       "    .dataframe tbody tr th:only-of-type {\n",
       "        vertical-align: middle;\n",
       "    }\n",
       "\n",
       "    .dataframe tbody tr th {\n",
       "        vertical-align: top;\n",
       "    }\n",
       "\n",
       "    .dataframe thead th {\n",
       "        text-align: right;\n",
       "    }\n",
       "</style>\n",
       "<table border=\"1\" class=\"dataframe\">\n",
       "  <thead>\n",
       "    <tr style=\"text-align: right;\">\n",
       "      <th></th>\n",
       "      <th>text</th>\n",
       "      <th>target</th>\n",
       "      <th>predict label</th>\n",
       "      <th>predict prob</th>\n",
       "    </tr>\n",
       "  </thead>\n",
       "  <tbody>\n",
       "    <tr>\n",
       "      <th>1005</th>\n",
       "      <td>@adorableappple No reported flooding po in the...</td>\n",
       "      <td>0</td>\n",
       "      <td>1</td>\n",
       "      <td>0.984144</td>\n",
       "    </tr>\n",
       "    <tr>\n",
       "      <th>656</th>\n",
       "      <td>Russian customs destroyed a total of 319 tons ...</td>\n",
       "      <td>0</td>\n",
       "      <td>1</td>\n",
       "      <td>0.975993</td>\n",
       "    </tr>\n",
       "    <tr>\n",
       "      <th>428</th>\n",
       "      <td>HereÛªs how media in Pakistan covered the cap...</td>\n",
       "      <td>0</td>\n",
       "      <td>1</td>\n",
       "      <td>0.945666</td>\n",
       "    </tr>\n",
       "    <tr>\n",
       "      <th>608</th>\n",
       "      <td>USW: 'The damage from abandoning the deal coul...</td>\n",
       "      <td>0</td>\n",
       "      <td>1</td>\n",
       "      <td>0.936528</td>\n",
       "    </tr>\n",
       "    <tr>\n",
       "      <th>978</th>\n",
       "      <td>Video Captures Man Removing American Flag From...</td>\n",
       "      <td>0</td>\n",
       "      <td>1</td>\n",
       "      <td>0.932455</td>\n",
       "    </tr>\n",
       "    <tr>\n",
       "      <th>158</th>\n",
       "      <td>Over half of poll respondents worry nuclear di...</td>\n",
       "      <td>0</td>\n",
       "      <td>1</td>\n",
       "      <td>0.925400</td>\n",
       "    </tr>\n",
       "    <tr>\n",
       "      <th>688</th>\n",
       "      <td>Upheaval high note for bush opera http://t.co/...</td>\n",
       "      <td>0</td>\n",
       "      <td>1</td>\n",
       "      <td>0.910114</td>\n",
       "    </tr>\n",
       "    <tr>\n",
       "      <th>1070</th>\n",
       "      <td>@writebothfists It got pretty windy here too.....</td>\n",
       "      <td>0</td>\n",
       "      <td>1</td>\n",
       "      <td>0.907004</td>\n",
       "    </tr>\n",
       "    <tr>\n",
       "      <th>1127</th>\n",
       "      <td>China's Stock Market Crash: Are There Gems In ...</td>\n",
       "      <td>0</td>\n",
       "      <td>1</td>\n",
       "      <td>0.883140</td>\n",
       "    </tr>\n",
       "    <tr>\n",
       "      <th>864</th>\n",
       "      <td>Who is Tomislav Salopek the Islamic State's Mo...</td>\n",
       "      <td>0</td>\n",
       "      <td>1</td>\n",
       "      <td>0.874839</td>\n",
       "    </tr>\n",
       "    <tr>\n",
       "      <th>384</th>\n",
       "      <td>@FoxNewsInsider All Obama is doing is giving a...</td>\n",
       "      <td>0</td>\n",
       "      <td>1</td>\n",
       "      <td>0.867180</td>\n",
       "    </tr>\n",
       "    <tr>\n",
       "      <th>934</th>\n",
       "      <td>On Thursday at 00:25 we updated our #kml of 2D...</td>\n",
       "      <td>0</td>\n",
       "      <td>1</td>\n",
       "      <td>0.862192</td>\n",
       "    </tr>\n",
       "    <tr>\n",
       "      <th>163</th>\n",
       "      <td>Putin's plan to destroy Western food en masse ...</td>\n",
       "      <td>0</td>\n",
       "      <td>1</td>\n",
       "      <td>0.856522</td>\n",
       "    </tr>\n",
       "    <tr>\n",
       "      <th>886</th>\n",
       "      <td>@StephanieMarija 'light rain' was the forecast...</td>\n",
       "      <td>0</td>\n",
       "      <td>1</td>\n",
       "      <td>0.850761</td>\n",
       "    </tr>\n",
       "    <tr>\n",
       "      <th>172</th>\n",
       "      <td>One thing you can be sure of. There will never...</td>\n",
       "      <td>0</td>\n",
       "      <td>1</td>\n",
       "      <td>0.840773</td>\n",
       "    </tr>\n",
       "    <tr>\n",
       "      <th>551</th>\n",
       "      <td>Juneau Empire - First responders turn out for ...</td>\n",
       "      <td>0</td>\n",
       "      <td>1</td>\n",
       "      <td>0.838895</td>\n",
       "    </tr>\n",
       "    <tr>\n",
       "      <th>455</th>\n",
       "      <td>I hate this damn Milwaukee IndyFest. All the c...</td>\n",
       "      <td>0</td>\n",
       "      <td>1</td>\n",
       "      <td>0.834530</td>\n",
       "    </tr>\n",
       "    <tr>\n",
       "      <th>854</th>\n",
       "      <td>Bad News for US: China Russia Bolstering Milit...</td>\n",
       "      <td>0</td>\n",
       "      <td>1</td>\n",
       "      <td>0.826625</td>\n",
       "    </tr>\n",
       "    <tr>\n",
       "      <th>458</th>\n",
       "      <td>Today was trauma on top of trauma on top of  t...</td>\n",
       "      <td>0</td>\n",
       "      <td>1</td>\n",
       "      <td>0.804898</td>\n",
       "    </tr>\n",
       "    <tr>\n",
       "      <th>136</th>\n",
       "      <td>A traumatised dog that was found buried up to ...</td>\n",
       "      <td>0</td>\n",
       "      <td>1</td>\n",
       "      <td>0.794491</td>\n",
       "    </tr>\n",
       "  </tbody>\n",
       "</table>\n",
       "</div>"
      ],
      "text/plain": [
       "                                                   text  ...  predict prob\n",
       "1005  @adorableappple No reported flooding po in the...  ...      0.984144\n",
       "656   Russian customs destroyed a total of 319 tons ...  ...      0.975993\n",
       "428   HereÛªs how media in Pakistan covered the cap...  ...      0.945666\n",
       "608   USW: 'The damage from abandoning the deal coul...  ...      0.936528\n",
       "978   Video Captures Man Removing American Flag From...  ...      0.932455\n",
       "158   Over half of poll respondents worry nuclear di...  ...      0.925400\n",
       "688   Upheaval high note for bush opera http://t.co/...  ...      0.910114\n",
       "1070  @writebothfists It got pretty windy here too.....  ...      0.907004\n",
       "1127  China's Stock Market Crash: Are There Gems In ...  ...      0.883140\n",
       "864   Who is Tomislav Salopek the Islamic State's Mo...  ...      0.874839\n",
       "384   @FoxNewsInsider All Obama is doing is giving a...  ...      0.867180\n",
       "934   On Thursday at 00:25 we updated our #kml of 2D...  ...      0.862192\n",
       "163   Putin's plan to destroy Western food en masse ...  ...      0.856522\n",
       "886   @StephanieMarija 'light rain' was the forecast...  ...      0.850761\n",
       "172   One thing you can be sure of. There will never...  ...      0.840773\n",
       "551   Juneau Empire - First responders turn out for ...  ...      0.838895\n",
       "455   I hate this damn Milwaukee IndyFest. All the c...  ...      0.834530\n",
       "854   Bad News for US: China Russia Bolstering Milit...  ...      0.826625\n",
       "458   Today was trauma on top of trauma on top of  t...  ...      0.804898\n",
       "136   A traumatised dog that was found buried up to ...  ...      0.794491\n",
       "\n",
       "[20 rows x 4 columns]"
      ]
     },
     "execution_count": 138,
     "metadata": {},
     "output_type": "execute_result"
    }
   ],
   "source": [
    "most_wrong = val_df[val_df[\"target\"] != val_df[\"predict label\"]].sort_values(\"predict prob\", ascending=False)\n",
    "most_wrong[:20]"
   ]
  },
  {
   "cell_type": "markdown",
   "metadata": {
    "id": "kn3En6E12meN"
   },
   "source": [
    "## 8. Dự đoán với dữ liệu test\n",
    "\n",
    "Từ đầu đến giờ, chúng ta vẫn chưa sử dụng đến `test_df`, bây giờ là lúc chúng ta sẽ dự đoán với dữ liệu không có label này. "
   ]
  },
  {
   "cell_type": "code",
   "execution_count": 147,
   "metadata": {
    "colab": {
     "base_uri": "https://localhost:8080/",
     "height": 419
    },
    "id": "EL9ME4hB21Td",
    "outputId": "1e4a441c-b6de-4d5e-c6a3-3bc4d22f5d28"
   },
   "outputs": [
    {
     "data": {
      "text/html": [
       "<div>\n",
       "<style scoped>\n",
       "    .dataframe tbody tr th:only-of-type {\n",
       "        vertical-align: middle;\n",
       "    }\n",
       "\n",
       "    .dataframe tbody tr th {\n",
       "        vertical-align: top;\n",
       "    }\n",
       "\n",
       "    .dataframe thead th {\n",
       "        text-align: right;\n",
       "    }\n",
       "</style>\n",
       "<table border=\"1\" class=\"dataframe\">\n",
       "  <thead>\n",
       "    <tr style=\"text-align: right;\">\n",
       "      <th></th>\n",
       "      <th>id</th>\n",
       "      <th>keyword</th>\n",
       "      <th>location</th>\n",
       "      <th>text</th>\n",
       "    </tr>\n",
       "  </thead>\n",
       "  <tbody>\n",
       "    <tr>\n",
       "      <th>0</th>\n",
       "      <td>0</td>\n",
       "      <td>NaN</td>\n",
       "      <td>NaN</td>\n",
       "      <td>Just happened a terrible car crash</td>\n",
       "    </tr>\n",
       "    <tr>\n",
       "      <th>1</th>\n",
       "      <td>2</td>\n",
       "      <td>NaN</td>\n",
       "      <td>NaN</td>\n",
       "      <td>Heard about #earthquake is different cities, s...</td>\n",
       "    </tr>\n",
       "    <tr>\n",
       "      <th>2</th>\n",
       "      <td>3</td>\n",
       "      <td>NaN</td>\n",
       "      <td>NaN</td>\n",
       "      <td>there is a forest fire at spot pond, geese are...</td>\n",
       "    </tr>\n",
       "    <tr>\n",
       "      <th>3</th>\n",
       "      <td>9</td>\n",
       "      <td>NaN</td>\n",
       "      <td>NaN</td>\n",
       "      <td>Apocalypse lighting. #Spokane #wildfires</td>\n",
       "    </tr>\n",
       "    <tr>\n",
       "      <th>4</th>\n",
       "      <td>11</td>\n",
       "      <td>NaN</td>\n",
       "      <td>NaN</td>\n",
       "      <td>Typhoon Soudelor kills 28 in China and Taiwan</td>\n",
       "    </tr>\n",
       "    <tr>\n",
       "      <th>...</th>\n",
       "      <td>...</td>\n",
       "      <td>...</td>\n",
       "      <td>...</td>\n",
       "      <td>...</td>\n",
       "    </tr>\n",
       "    <tr>\n",
       "      <th>3258</th>\n",
       "      <td>10861</td>\n",
       "      <td>NaN</td>\n",
       "      <td>NaN</td>\n",
       "      <td>EARTHQUAKE SAFETY LOS ANGELES ÛÒ SAFETY FASTE...</td>\n",
       "    </tr>\n",
       "    <tr>\n",
       "      <th>3259</th>\n",
       "      <td>10865</td>\n",
       "      <td>NaN</td>\n",
       "      <td>NaN</td>\n",
       "      <td>Storm in RI worse than last hurricane. My city...</td>\n",
       "    </tr>\n",
       "    <tr>\n",
       "      <th>3260</th>\n",
       "      <td>10868</td>\n",
       "      <td>NaN</td>\n",
       "      <td>NaN</td>\n",
       "      <td>Green Line derailment in Chicago http://t.co/U...</td>\n",
       "    </tr>\n",
       "    <tr>\n",
       "      <th>3261</th>\n",
       "      <td>10874</td>\n",
       "      <td>NaN</td>\n",
       "      <td>NaN</td>\n",
       "      <td>MEG issues Hazardous Weather Outlook (HWO) htt...</td>\n",
       "    </tr>\n",
       "    <tr>\n",
       "      <th>3262</th>\n",
       "      <td>10875</td>\n",
       "      <td>NaN</td>\n",
       "      <td>NaN</td>\n",
       "      <td>#CityofCalgary has activated its Municipal Eme...</td>\n",
       "    </tr>\n",
       "  </tbody>\n",
       "</table>\n",
       "<p>3263 rows × 4 columns</p>\n",
       "</div>"
      ],
      "text/plain": [
       "         id keyword location                                               text\n",
       "0         0     NaN      NaN                 Just happened a terrible car crash\n",
       "1         2     NaN      NaN  Heard about #earthquake is different cities, s...\n",
       "2         3     NaN      NaN  there is a forest fire at spot pond, geese are...\n",
       "3         9     NaN      NaN           Apocalypse lighting. #Spokane #wildfires\n",
       "4        11     NaN      NaN      Typhoon Soudelor kills 28 in China and Taiwan\n",
       "...     ...     ...      ...                                                ...\n",
       "3258  10861     NaN      NaN  EARTHQUAKE SAFETY LOS ANGELES ÛÒ SAFETY FASTE...\n",
       "3259  10865     NaN      NaN  Storm in RI worse than last hurricane. My city...\n",
       "3260  10868     NaN      NaN  Green Line derailment in Chicago http://t.co/U...\n",
       "3261  10874     NaN      NaN  MEG issues Hazardous Weather Outlook (HWO) htt...\n",
       "3262  10875     NaN      NaN  #CityofCalgary has activated its Municipal Eme...\n",
       "\n",
       "[3263 rows x 4 columns]"
      ]
     },
     "execution_count": 147,
     "metadata": {},
     "output_type": "execute_result"
    }
   ],
   "source": [
    "test_df"
   ]
  },
  {
   "cell_type": "code",
   "execution_count": 148,
   "metadata": {
    "colab": {
     "base_uri": "https://localhost:8080/"
    },
    "id": "fxPiZGB-30zE",
    "outputId": "ccbcc452-70e9-41cd-c15e-38b0b730bd92"
   },
   "outputs": [
    {
     "name": "stdout",
     "output_type": "stream",
     "text": [
      "102/102 [==============================] - 2s 15ms/step\n"
     ]
    },
    {
     "data": {
      "text/plain": [
       "array([[0.6626104 ],\n",
       "       [0.905122  ],\n",
       "       [0.7989303 ],\n",
       "       ...,\n",
       "       [0.94086695],\n",
       "       [0.5459349 ],\n",
       "       [0.6408198 ]], dtype=float32)"
      ]
     },
     "execution_count": 148,
     "metadata": {},
     "output_type": "execute_result"
    }
   ],
   "source": [
    "test_pred_probs = model_6.predict(test_df[\"text\"], verbose=1)\n",
    "test_pred_probs"
   ]
  },
  {
   "cell_type": "code",
   "execution_count": 150,
   "metadata": {
    "colab": {
     "base_uri": "https://localhost:8080/"
    },
    "id": "3qK64DK64mgs",
    "outputId": "c75f2c0a-85e0-4994-8dfd-96fce3e31df7"
   },
   "outputs": [
    {
     "data": {
      "text/plain": [
       "array([1., 1., 1., ..., 1., 1., 1.], dtype=float32)"
      ]
     },
     "execution_count": 150,
     "metadata": {},
     "output_type": "execute_result"
    }
   ],
   "source": [
    "test_pred_labels = tf.round(tf.reduce_max(test_pred_probs,axis=1)).numpy()\n",
    "test_pred_labels"
   ]
  },
  {
   "cell_type": "code",
   "execution_count": 155,
   "metadata": {
    "colab": {
     "base_uri": "https://localhost:8080/",
     "height": 669
    },
    "id": "2nbSjB3c4twe",
    "outputId": "ad4454a3-57f5-43e5-9057-7dc5c14a1f1d"
   },
   "outputs": [
    {
     "data": {
      "text/html": [
       "<div>\n",
       "<style scoped>\n",
       "    .dataframe tbody tr th:only-of-type {\n",
       "        vertical-align: middle;\n",
       "    }\n",
       "\n",
       "    .dataframe tbody tr th {\n",
       "        vertical-align: top;\n",
       "    }\n",
       "\n",
       "    .dataframe thead th {\n",
       "        text-align: right;\n",
       "    }\n",
       "</style>\n",
       "<table border=\"1\" class=\"dataframe\">\n",
       "  <thead>\n",
       "    <tr style=\"text-align: right;\">\n",
       "      <th></th>\n",
       "      <th>text</th>\n",
       "      <th>predict</th>\n",
       "      <th>preduct prob</th>\n",
       "    </tr>\n",
       "  </thead>\n",
       "  <tbody>\n",
       "    <tr>\n",
       "      <th>0</th>\n",
       "      <td>Just happened a terrible car crash</td>\n",
       "      <td>1.0</td>\n",
       "      <td>0.662610</td>\n",
       "    </tr>\n",
       "    <tr>\n",
       "      <th>1</th>\n",
       "      <td>Heard about #earthquake is different cities, s...</td>\n",
       "      <td>1.0</td>\n",
       "      <td>0.905122</td>\n",
       "    </tr>\n",
       "    <tr>\n",
       "      <th>2</th>\n",
       "      <td>there is a forest fire at spot pond, geese are...</td>\n",
       "      <td>1.0</td>\n",
       "      <td>0.798930</td>\n",
       "    </tr>\n",
       "    <tr>\n",
       "      <th>3</th>\n",
       "      <td>Apocalypse lighting. #Spokane #wildfires</td>\n",
       "      <td>1.0</td>\n",
       "      <td>0.952701</td>\n",
       "    </tr>\n",
       "    <tr>\n",
       "      <th>4</th>\n",
       "      <td>Typhoon Soudelor kills 28 in China and Taiwan</td>\n",
       "      <td>1.0</td>\n",
       "      <td>0.975133</td>\n",
       "    </tr>\n",
       "    <tr>\n",
       "      <th>5</th>\n",
       "      <td>We're shaking...It's an earthquake</td>\n",
       "      <td>1.0</td>\n",
       "      <td>0.615253</td>\n",
       "    </tr>\n",
       "    <tr>\n",
       "      <th>6</th>\n",
       "      <td>They'd probably still show more life than Arse...</td>\n",
       "      <td>0.0</td>\n",
       "      <td>0.072799</td>\n",
       "    </tr>\n",
       "    <tr>\n",
       "      <th>7</th>\n",
       "      <td>Hey! How are you?</td>\n",
       "      <td>0.0</td>\n",
       "      <td>0.047096</td>\n",
       "    </tr>\n",
       "    <tr>\n",
       "      <th>8</th>\n",
       "      <td>What a nice hat?</td>\n",
       "      <td>0.0</td>\n",
       "      <td>0.069280</td>\n",
       "    </tr>\n",
       "    <tr>\n",
       "      <th>9</th>\n",
       "      <td>Fuck off!</td>\n",
       "      <td>0.0</td>\n",
       "      <td>0.049423</td>\n",
       "    </tr>\n",
       "    <tr>\n",
       "      <th>10</th>\n",
       "      <td>No I don't like cold!</td>\n",
       "      <td>0.0</td>\n",
       "      <td>0.094421</td>\n",
       "    </tr>\n",
       "    <tr>\n",
       "      <th>11</th>\n",
       "      <td>NOOOOOOOOO! Don't do that!</td>\n",
       "      <td>0.0</td>\n",
       "      <td>0.104891</td>\n",
       "    </tr>\n",
       "    <tr>\n",
       "      <th>12</th>\n",
       "      <td>No don't tell me that!</td>\n",
       "      <td>0.0</td>\n",
       "      <td>0.087666</td>\n",
       "    </tr>\n",
       "    <tr>\n",
       "      <th>13</th>\n",
       "      <td>What if?!</td>\n",
       "      <td>0.0</td>\n",
       "      <td>0.199479</td>\n",
       "    </tr>\n",
       "    <tr>\n",
       "      <th>14</th>\n",
       "      <td>Awesome!</td>\n",
       "      <td>0.0</td>\n",
       "      <td>0.029075</td>\n",
       "    </tr>\n",
       "    <tr>\n",
       "      <th>15</th>\n",
       "      <td>Birmingham Wholesale Market is ablaze BBC News...</td>\n",
       "      <td>1.0</td>\n",
       "      <td>0.871243</td>\n",
       "    </tr>\n",
       "    <tr>\n",
       "      <th>16</th>\n",
       "      <td>@sunkxssedharry will you wear shorts for race ...</td>\n",
       "      <td>0.0</td>\n",
       "      <td>0.135850</td>\n",
       "    </tr>\n",
       "    <tr>\n",
       "      <th>17</th>\n",
       "      <td>#PreviouslyOnDoyinTv: Toke MakinwaÛªs marriag...</td>\n",
       "      <td>0.0</td>\n",
       "      <td>0.490747</td>\n",
       "    </tr>\n",
       "    <tr>\n",
       "      <th>18</th>\n",
       "      <td>Check these out: http://t.co/rOI2NSmEJJ http:/...</td>\n",
       "      <td>0.0</td>\n",
       "      <td>0.049542</td>\n",
       "    </tr>\n",
       "    <tr>\n",
       "      <th>19</th>\n",
       "      <td>PSA: IÛªm splitting my personalities.\\n\\n?? t...</td>\n",
       "      <td>0.0</td>\n",
       "      <td>0.182340</td>\n",
       "    </tr>\n",
       "  </tbody>\n",
       "</table>\n",
       "</div>"
      ],
      "text/plain": [
       "                                                 text  predict  preduct prob\n",
       "0                  Just happened a terrible car crash      1.0      0.662610\n",
       "1   Heard about #earthquake is different cities, s...      1.0      0.905122\n",
       "2   there is a forest fire at spot pond, geese are...      1.0      0.798930\n",
       "3            Apocalypse lighting. #Spokane #wildfires      1.0      0.952701\n",
       "4       Typhoon Soudelor kills 28 in China and Taiwan      1.0      0.975133\n",
       "5                  We're shaking...It's an earthquake      1.0      0.615253\n",
       "6   They'd probably still show more life than Arse...      0.0      0.072799\n",
       "7                                   Hey! How are you?      0.0      0.047096\n",
       "8                                    What a nice hat?      0.0      0.069280\n",
       "9                                           Fuck off!      0.0      0.049423\n",
       "10                              No I don't like cold!      0.0      0.094421\n",
       "11                         NOOOOOOOOO! Don't do that!      0.0      0.104891\n",
       "12                             No don't tell me that!      0.0      0.087666\n",
       "13                                          What if?!      0.0      0.199479\n",
       "14                                           Awesome!      0.0      0.029075\n",
       "15  Birmingham Wholesale Market is ablaze BBC News...      1.0      0.871243\n",
       "16  @sunkxssedharry will you wear shorts for race ...      0.0      0.135850\n",
       "17  #PreviouslyOnDoyinTv: Toke MakinwaÛªs marriag...      0.0      0.490747\n",
       "18  Check these out: http://t.co/rOI2NSmEJJ http:/...      0.0      0.049542\n",
       "19  PSA: IÛªm splitting my personalities.\\n\\n?? t...      0.0      0.182340"
      ]
     },
     "execution_count": 155,
     "metadata": {},
     "output_type": "execute_result"
    }
   ],
   "source": [
    "test_results = pd.DataFrame({\n",
    "    \"text\" : test_df[\"text\"], \n",
    "    \"predict\" : test_pred_labels, \n",
    "    \"preduct prob\" : tf.squeeze(test_pred_probs)\n",
    "})\n",
    "\n",
    "test_results[:20]"
   ]
  }
 ],
 "metadata": {
  "accelerator": "GPU",
  "colab": {
   "collapsed_sections": [],
   "name": "An_introduction_natural_language_processing_in_tensorflow.ipynb",
   "provenance": [],
   "toc_visible": true
  },
  "kernelspec": {
   "display_name": "Python 3",
   "language": "python",
   "name": "python3"
  },
  "language_info": {
   "codemirror_mode": {
    "name": "ipython",
    "version": 3
   },
   "file_extension": ".py",
   "mimetype": "text/x-python",
   "name": "python",
   "nbconvert_exporter": "python",
   "pygments_lexer": "ipython3",
   "version": "3.8.10"
  }
 },
 "nbformat": 4,
 "nbformat_minor": 1
}
