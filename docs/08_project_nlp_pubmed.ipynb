{
  "nbformat": 4,
  "nbformat_minor": 0,
  "metadata": {
    "accelerator": "GPU",
    "colab": {
      "name": "project_nlp_pubmed.ipynb",
      "provenance": [],
      "collapsed_sections": []
    },
    "kernelspec": {
      "display_name": "Python 3",
      "name": "python3"
    },
    "language_info": {
      "name": "python"
    }
  },
  "cells": [
    {
      "cell_type": "markdown",
      "metadata": {
        "id": "HfImY4Otsqd4"
      },
      "source": [
        "Trong module trước, chúng ta đã tìm hiểu qua một số khái niệm xử lý ngôn ngữ tự nhiên. Điểm mấu chốt của xử lý đó là là mã hóa văn bản thành token (chuyển từ thành số) và tạo nhúng (tạo biểu diễn của những từ dưới dạng số).\n",
        "\n",
        "Trong dự án này, chúng ta sẽ áp dụng những gì đã làm để xây dựng mô hình deep learning với dữ liệu phân loaị cấu trúc của một văn bản [*PubMed 200k RCT: a Dataset for Sequenctial Sentence Classification in Medical Abstracts*](https://arxiv.org/abs/1710.06071).\n",
        "\n",
        "Khi được phát hành, bài báo đã trình bày một tập dữ liệu mới có tên PubMed 200k RCT bao gồm ~200.000 bản tóm tắt Thử nghiệm có Kiểm soát Ngẫu nhiên (RCT) có sẵn label.\n",
        "\n",
        "Mục tiêu của tập dữ liệu là khám phá khả năng của các mô hình NLP để phân loại vai trò của các câu xuất hiện theo thứ tự tuần tự. Nói cách khác, với phần tóm tắt của một RCT, mỗi câu đóng vai trò nào đó trong phần tóm tắt của văn bản. \n",
        "\n",
        "![Skimlit example inputs and outputs](https://raw.githubusercontent.com/mrdbourke/tensorflow-deep-learning/main/images/09-skimlit-overview-input-and-output.png)\n",
        "* Ví dụ input ([phần tóm tắt khó đọc hơn từ PubMed] (https://pubmed.ncbi.nlm.nih.gov/28942748/)) và output ([phần tóm tắt dễ đọc hơn] (https://pubmed.ncbi.nlm .nih.gov / 32537182 /)) của mô hình chúng ta sẽ xây dựng. Mô hình sẽ lấy một một văn bản trừu tượng và dự đoán label của câu đó là gì.*\n",
        "\n",
        "Ví dụ: chúng ta có thể train một mô hình NLP lấy input sau đây (lưu ý: mẫu sau đã thay thế tất cả các ký hiệu số  bằng \"@\"):\n",
        "\n",
        "```\n",
        "To investigate the efficacy of @ weeks of daily low-dose oral prednisolone in improving pain , mobility , and systemic low-grade inflammation in the short term and whether the effect would be sustained at @ weeks in older adults with moderate to severe knee osteoarthritis ( OA ). A total of @ patients with primary knee OA were randomized @:@ ; @ received @ mg/day of prednisolone and @ received placebo for @ weeks. Outcome measures included pain reduction and improvement in function scores and systemic inflammation markers. Pain was assessed using the visual analog pain scale ( @-@ mm ).\n",
        "Secondary outcome measures included the Western Ontario and McMaster Universities Osteoarthritis Index scores , patient global assessment ( PGA ) of the severity of knee OA , and @-min walk distance ( @MWD ).,\n",
        "Serum levels of interleukin @ ( IL-@ ) , IL-@ , tumor necrosis factor ( TNF ) - , and high-sensitivity C-reactive protein ( hsCRP ) were measured.\n",
        "There was a clinically relevant reduction in the intervention group compared to the placebo group for knee pain , physical function , PGA , and @MWD at @ weeks. The mean difference between treatment arms ( @ % CI ) was @ ( @-@ @ ) , p < @ ; @ ( @-@ @ ) , p < @ ; @ ( @-@ @ ) , p < @ ; and @ ( @-@ @ ) , p < @ , respectively. Further , there was a clinically relevant reduction in the serum levels of IL-@ , IL-@ , TNF - , and hsCRP at @ weeks in the intervention group when compared to the placebo group. These differences remained significant at @ weeks. The Outcome Measures in Rheumatology Clinical Trials-Osteoarthritis Research Society International responder rate was @ % in the intervention group and @ % in the placebo group ( p < @ ). Low-dose oral prednisolone had both a short-term and a longer sustained effect resulting in less knee pain , better physical function , and attenuation of systemic inflammation in older patients with knee OA ( ClinicalTrials.gov identifier NCT@ ).\n",
        "```\n",
        "\n",
        "Và sau khi mô hình xử lý xong, chúng ta sẽ mong chờ một output như sau : \n",
        "\n",
        "```\n",
        "['###24293578\\n',\n",
        " 'OBJECTIVE\\tTo investigate the efficacy of @ weeks of daily low-dose oral prednisolone in improving pain , mobility , and systemic low-grade inflammation in the short term and whether the effect would be sustained at @ weeks in older adults with moderate to severe knee osteoarthritis ( OA ) .\\n',\n",
        " 'METHODS\\tA total of @ patients with primary knee OA were randomized @:@ ; @ received @ mg/day of prednisolone and @ received placebo for @ weeks .\\n',\n",
        " 'METHODS\\tOutcome measures included pain reduction and improvement in function scores and systemic inflammation markers .\\n',\n",
        " 'METHODS\\tPain was assessed using the visual analog pain scale ( @-@ mm ) .\\n',\n",
        " 'METHODS\\tSecondary outcome measures included the Western Ontario and McMaster Universities Osteoarthritis Index scores , patient global assessment ( PGA ) of the severity of knee OA , and @-min walk distance ( @MWD ) .\\n',\n",
        " 'METHODS\\tSerum levels of interleukin @ ( IL-@ ) , IL-@ , tumor necrosis factor ( TNF ) - , and high-sensitivity C-reactive protein ( hsCRP ) were measured .\\n',\n",
        " 'RESULTS\\tThere was a clinically relevant reduction in the intervention group compared to the placebo group for knee pain , physical function , PGA , and @MWD at @ weeks .\\n',\n",
        " 'RESULTS\\tThe mean difference between treatment arms ( @ % CI ) was @ ( @-@ @ ) , p < @ ; @ ( @-@ @ ) , p < @ ; @ ( @-@ @ ) , p < @ ; and @ ( @-@ @ ) , p < @ , respectively .\\n',\n",
        " 'RESULTS\\tFurther , there was a clinically relevant reduction in the serum levels of IL-@ , IL-@ , TNF - , and hsCRP at @ weeks in the intervention group when compared to the placebo group .\\n',\n",
        " 'RESULTS\\tThese differences remained significant at @ weeks .\\n',\n",
        " 'RESULTS\\tThe Outcome Measures in Rheumatology Clinical Trials-Osteoarthritis Research Society International responder rate was @ % in the intervention group and @ % in the placebo group ( p < @ ) .\\n',\n",
        " 'CONCLUSIONS\\tLow-dose oral prednisolone had both a short-term and a longer sustained effect resulting in less knee pain , better physical function , and attenuation of systemic inflammation in older patients with knee OA ( ClinicalTrials.gov identifier NCT@ ) .\\n',\n",
        " '\\n']\n",
        " ```\n",
        "\n",
        "**Bối cảnh** \n",
        "\n",
        "Số lượng các bài báo, tạp chí RCT được phát hành ngày càng nhiều, có những bài báo không có cấu trúc tóm tắt có thể rất khó đọc và do đó làm chậm quá trình đọc của các nhà nghiên cứu trong việc tìm hiểu tài liệu.\n",
        "\n",
        "**Giải pháp** \n",
        "\n",
        "Tạo mô hình NLP để phân loại các câu trừu tượng theo vai trò của chúng (ví dụ:  objective, methods, results, v.v.) để cho phép các nhà nghiên cứu đọc lướt qua tài liệu và đi sâu hơn khi cần thiết.\n",
        "\n",
        "> 📖 Nguồn tham khảo : \n",
        "> 1. Nguồn dữ liệu:  [*PubMed 200k RCT: a Dataset for Sequential Sentence Classification in Medical Abstracts*](https://arxiv.org/abs/1710.06071)\n",
        "> 2. Mô hình chúng ta sẽ xây dựng [*Neural networks for joint sentence\n",
        "classification in medical paper abstracts*](https://arxiv.org/pdf/1612.05251.pdf)\n",
        "\n",
        "Nội dung của bài viết này gồm : \n",
        "\n",
        "1. Download tập dữ liệu\n",
        "2. Tiền xử lý dữ liệu\n",
        "3. Khám phá dữ liệu\n",
        "4. Khởi tạo và train mô hình : \n",
        "  + Model 0 : Mô hình cơ sở (machine learning) \n",
        "  + Mô hình Deep learning với sự kết hợp các layer : nhúng từ mã hóa (token embeddings), nhúng ký tự mã hóa (character embeddings), nhúng mã được train sẵn, nhúng vị trí của câu trong văn bản. \n",
        "  + Xây dựng mô hình đa phương thức (multimodal model) (kết hợp nhiều kiểu dữ liệu input)\n",
        "    + Nhân rộng kiến ​​trúc mô hình từ https://arxiv.org/pdf/1612.05251.pdf \n",
        "5. So sánh hiệu suất của mô hình\n",
        "6. Tìm các dự đoán sai nhiều nhất\n",
        "7. Đưa ra dự đoán trên bản tóm tắt PubMed "
      ]
    },
    {
      "cell_type": "markdown",
      "metadata": {
        "id": "hQBuBSnf3Vla"
      },
      "source": [
        "## 1. Download tập dữ liệu\n",
        "\n",
        "Trước khi có thể bắt đầu xây dựng một mô hình, chúng ta cần tải xuống tập dữ liệu PubMed 200k RCT."
      ]
    },
    {
      "cell_type": "code",
      "metadata": {
        "colab": {
          "base_uri": "https://localhost:8080/"
        },
        "id": "6KpcX9zl-K6l",
        "outputId": "9774da32-0389-4091-ec83-90e59b393d14"
      },
      "source": [
        "!git clone https://github.com/Franck-Dernoncourt/pubmed-rct.git "
      ],
      "execution_count": 1,
      "outputs": [
        {
          "output_type": "stream",
          "name": "stdout",
          "text": [
            "Cloning into 'pubmed-rct'...\n",
            "remote: Enumerating objects: 33, done.\u001b[K\n",
            "remote: Counting objects: 100% (3/3), done.\u001b[K\n",
            "remote: Compressing objects: 100% (3/3), done.\u001b[K\n",
            "remote: Total 33 (delta 0), reused 0 (delta 0), pack-reused 30\u001b[K\n",
            "Unpacking objects: 100% (33/33), done.\n"
          ]
        }
      ]
    },
    {
      "cell_type": "code",
      "metadata": {
        "colab": {
          "base_uri": "https://localhost:8080/"
        },
        "id": "pZ5tLcLh-Mmv",
        "outputId": "b0a9e17b-062d-470a-a41a-ced2f170bd19"
      },
      "source": [
        "!ls"
      ],
      "execution_count": 2,
      "outputs": [
        {
          "output_type": "stream",
          "name": "stdout",
          "text": [
            "pubmed-rct  sample_data\n"
          ]
        }
      ]
    },
    {
      "cell_type": "markdown",
      "metadata": {
        "id": "DJha0F2o-dqg"
      },
      "source": [
        "Kiểm tra thư mục `pubmed-rct`, bạn có thể thấy có bốn thư mục, Mỗi một thư mục là một bản chứa phiên bản khác nhau của tập dữ liệu PubMed 200k RCT. \n",
        "\n",
        "Đọc qua [README file](https://github.com/Franck-Dernoncourt/pubmed-rct) chúng ta có thể nắm một số thông tin của tập dữ liệu như sau : \n",
        "\n",
        "* PubMed 20k là một tập con của PubMed 200k. Tức là, bất kỳ phần tóm tắt nào trong PubMed 20k cũng có trong PubMed 200k.\n",
        "* `PubMed_200k_RCT` giống như` PubMed_200k_RCT_numbers_replaced_with_at_sign`, ngoại trừ ở phần sau, tất cả các số đã được thay thế bằng `@`. (tương tự cho `PubMed_20k_RCT` so với `PubMed_20k_RCT_numbers_replaced_with_at_sign`).\n",
        "* Vì giới hạn kích thước tệp Github là 100 MiB, chúng ta phải nén `PubMed_200k_RCT\\train.7z` và `PubMed_200k_RCT_numbers_replaced_with_at_sign\\train.zip`.\n",
        "\n",
        "Thay vì làm việc với toàn bộ tập dữ liệu 200k, chúng ta sẽ để cho các thử nghiệm diễn ra nhanh chóng bằng cách bắt đầu với một tập dữ liệu có kích thước nhỏ hơn. Ngoài ra, chúng ta sẽ sử dụng tập dữ liệu `PubMed_20k_RCT_numbers_replaced_with_at_sign` thay vì dụng dữ liệu có chứa các số liệu, điều đó sẽ gây ảnh hưởng đến mô hình train ít nhiều.\n",
        "\n"
      ]
    },
    {
      "cell_type": "code",
      "metadata": {
        "colab": {
          "base_uri": "https://localhost:8080/"
        },
        "id": "lmM9OSQo_b7G",
        "outputId": "f7279368-167e-4fbf-d8d2-916d6f5361ce"
      },
      "source": [
        "!ls /content/pubmed-rct/PubMed_20k_RCT_numbers_replaced_with_at_sign"
      ],
      "execution_count": 3,
      "outputs": [
        {
          "output_type": "stream",
          "name": "stdout",
          "text": [
            "dev.txt  test.txt  train.txt\n"
          ]
        }
      ]
    },
    {
      "cell_type": "markdown",
      "metadata": {
        "id": "9EN6TzH7AXMC"
      },
      "source": [
        "Trong `PubMed_20k_RCT_numbers_replaced_with_at_sign` có 3 files gồm : \n",
        "+ train.txt : mẫu dữ liệu để train \n",
        "+ dev.txt : mẫu dữ liệu để kiểm định mô hình, dữ liệu này có tên thông thường là `validation_data` \n",
        "+ test.txt : mẫu dữ liệu không có label, được sử dụng để dự đoán mô hình. "
      ]
    },
    {
      "cell_type": "code",
      "metadata": {
        "id": "34WkdZVYA0qQ"
      },
      "source": [
        "# Bắt đầu bằng cách sử dụng tập dữ liệu 20k\n",
        "data_20k_dir = \"pubmed-rct/PubMed_20k_RCT_numbers_replaced_with_at_sign\""
      ],
      "execution_count": 4,
      "outputs": []
    },
    {
      "cell_type": "markdown",
      "metadata": {
        "id": "CjpOi7oZA-6i"
      },
      "source": [
        "Tạo đường dẫn liên kết đến các file trong `pubmed-rct/PubMed_20k_RCT_numbers_replaced_with_at_sign`"
      ]
    },
    {
      "cell_type": "code",
      "metadata": {
        "colab": {
          "base_uri": "https://localhost:8080/"
        },
        "id": "to1aZJrxA74t",
        "outputId": "de643809-dbcb-4131-872f-614fbce7de46"
      },
      "source": [
        "import os \n",
        "filepaths = [os.path.join(data_20k_dir, filename) for filename in os.listdir(data_20k_dir)]\n",
        "filepaths"
      ],
      "execution_count": 5,
      "outputs": [
        {
          "output_type": "execute_result",
          "data": {
            "text/plain": [
              "['pubmed-rct/PubMed_20k_RCT_numbers_replaced_with_at_sign/dev.txt',\n",
              " 'pubmed-rct/PubMed_20k_RCT_numbers_replaced_with_at_sign/test.txt',\n",
              " 'pubmed-rct/PubMed_20k_RCT_numbers_replaced_with_at_sign/train.txt']"
            ]
          },
          "metadata": {},
          "execution_count": 5
        }
      ]
    },
    {
      "cell_type": "markdown",
      "metadata": {
        "id": "1e48sH5mBTkC"
      },
      "source": [
        "Ngoài ra, chúng ta cũng không quên tải file `utility_functions.py` xuống : "
      ]
    },
    {
      "cell_type": "code",
      "metadata": {
        "colab": {
          "base_uri": "https://localhost:8080/"
        },
        "id": "ege9NeA0Bc-9",
        "outputId": "a72f4f31-ee90-40e7-d40d-1f406e3f5a93"
      },
      "source": [
        "!wget  https://www.dropbox.com/s/v4sla7jvi9cltg8/utility_functions.py"
      ],
      "execution_count": 6,
      "outputs": [
        {
          "output_type": "stream",
          "name": "stdout",
          "text": [
            "--2021-09-24 13:20:31--  https://www.dropbox.com/s/v4sla7jvi9cltg8/utility_functions.py\n",
            "Resolving www.dropbox.com (www.dropbox.com)... 162.125.3.18, 2620:100:601d:18::a27d:512\n",
            "Connecting to www.dropbox.com (www.dropbox.com)|162.125.3.18|:443... connected.\n",
            "HTTP request sent, awaiting response... 301 Moved Permanently\n",
            "Location: /s/raw/v4sla7jvi9cltg8/utility_functions.py [following]\n",
            "--2021-09-24 13:20:31--  https://www.dropbox.com/s/raw/v4sla7jvi9cltg8/utility_functions.py\n",
            "Reusing existing connection to www.dropbox.com:443.\n",
            "HTTP request sent, awaiting response... 302 Found\n",
            "Location: https://uc07be9c48e8ff990a5dd94c3e34.dl.dropboxusercontent.com/cd/0/inline/BWwbCyvSoe8Pq77jQDtTxXN5TbiWk3ZIxc4918YHjhpNy2ARkHuW4VNrxVA-bCKLS-yxgEhD7tw6gD6Hb1TGNqJgLz7xirm1u-xQQbb9ri5ryrZKuT_Jyg38iJqno5Y2qNIZBLyvOOpQduInmMpfBji6/file# [following]\n",
            "--2021-09-24 13:20:32--  https://uc07be9c48e8ff990a5dd94c3e34.dl.dropboxusercontent.com/cd/0/inline/BWwbCyvSoe8Pq77jQDtTxXN5TbiWk3ZIxc4918YHjhpNy2ARkHuW4VNrxVA-bCKLS-yxgEhD7tw6gD6Hb1TGNqJgLz7xirm1u-xQQbb9ri5ryrZKuT_Jyg38iJqno5Y2qNIZBLyvOOpQduInmMpfBji6/file\n",
            "Resolving uc07be9c48e8ff990a5dd94c3e34.dl.dropboxusercontent.com (uc07be9c48e8ff990a5dd94c3e34.dl.dropboxusercontent.com)... 162.125.3.15, 2620:100:601b:15::a27d:80f\n",
            "Connecting to uc07be9c48e8ff990a5dd94c3e34.dl.dropboxusercontent.com (uc07be9c48e8ff990a5dd94c3e34.dl.dropboxusercontent.com)|162.125.3.15|:443... connected.\n",
            "HTTP request sent, awaiting response... 200 OK\n",
            "Length: 4579 (4.5K) [text/plain]\n",
            "Saving to: ‘utility_functions.py’\n",
            "\n",
            "utility_functions.p 100%[===================>]   4.47K  --.-KB/s    in 0s      \n",
            "\n",
            "2021-09-24 13:20:32 (381 MB/s) - ‘utility_functions.py’ saved [4579/4579]\n",
            "\n"
          ]
        }
      ]
    },
    {
      "cell_type": "markdown",
      "metadata": {
        "id": "25yjG7xLBgcM"
      },
      "source": [
        "## 2. Tiền xử lý dữ liệu\n",
        "\n",
        "Vì dữ liệu hiên tại là dữ liệu văn bản, chúng ta sẽ xem vài bản tóm tắt trong văn bản đó trước khi tiến hành xử lý và đồng bộ dữ liệu."
      ]
    },
    {
      "cell_type": "code",
      "metadata": {
        "colab": {
          "base_uri": "https://localhost:8080/"
        },
        "id": "y1YpbEQiDSMP",
        "outputId": "4835957a-aa91-47d7-b2e2-ee9bc1fa1e7f"
      },
      "source": [
        "with open(filepaths[1]) as fs : \n",
        "  data = fs.read()\n",
        "  print(data[:2000])"
      ],
      "execution_count": 7,
      "outputs": [
        {
          "output_type": "stream",
          "name": "stdout",
          "text": [
            "###24845963\n",
            "BACKGROUND\tThis study analyzed liver function abnormalities in heart failure patients admitted with severe acute decompensated heart failure ( ADHF ) .\n",
            "RESULTS\tA post hoc analysis was conducted with the use of data from the Evaluation Study of Congestive Heart Failure and Pulmonary Artery Catheterization Effectiveness ( ESCAPE ) .\n",
            "RESULTS\tLiver function tests ( LFTs ) were measured at @ time points from baseline , at discharge , and up to @ months follow-up .\n",
            "RESULTS\tSurvival analyses were used to assess the association between admission Model of End-Stage Liver Disease Excluding International Normalized Ratio ( MELD-XI ) scores and patient outcome.There was a high prevalence of abnormal baseline ( admission ) LFTs ( albumin @ % , aspartate transaminase @ % , alanine transaminase @ % , and total bilirubin @ % ) .\n",
            "RESULTS\tThe percentage of patients with abnormal LFTs decreased significantly from baseline to @-months ' follow-up .\n",
            "RESULTS\tWhen mean hemodynamic profiles were compared in patients with abnormal versus normal LFTs , elevated total bilirubin was associated with a significantly lower cardiac index ( @ vs @ ; P < @ ) and higher central venous pressure ( @ vs @ ; P = @ ) .\n",
            "RESULTS\tMultivariable analyses revealed that patients with elevated MELD-XI scores ( @ ) had a @-fold ( hazard ratio@ @ , @ % confidence interval @-@ @ ) increased risk of death , rehospitalization , or transplantation after adjusting for baseline LFTs , age , sex , race , body mass index , diabetes , and systolic blood pressure .\n",
            "CONCLUSIONS\tAbnormal LFTs are common in the ADHF population and are a dynamic marker of an impaired hemodynamic state .\n",
            "CONCLUSIONS\tElevated MELD-XI scores are associated with poor outcomes among patients admitted with ADHF .\n",
            "\n",
            "###24469619\n",
            "BACKGROUND\tMinimally invasive endovascular aneurysm repair ( EVAR ) could be a surgical technique that improves outcome of patients with ruptured abdominal aortic aneurysm ( rAAA ) .\n",
            "BACKGROUND\tThe aim of this study w\n"
          ]
        }
      ]
    },
    {
      "cell_type": "markdown",
      "metadata": {
        "id": "vQEKzFTBEOQ-"
      },
      "source": [
        "Nhiệm vụ của chúng ta sẽ tạo một bảng thống kê với `DataFrame` để sắp xếp cấu trúc, vị trí của các thành phần theo đúng định dạng. Ngoài ra, chúng ta cần phải bổ sung tổng số dòng của một văn bản, và thứ tự của câu (dòng) đó nằm ở dòng bao nhiêu. \n",
        "\n",
        "Tóm lại, `DataFrame` chúng ta cần có các cột sau : `text`, `label`, `line_number`, `total_lines`\n",
        "\n",
        "Vì chúng ta sẽ phải xử lý đến 3 files `train.txt`, `dev.txt` và `test.txt` nên cần tạo hàm để có thể sử dụng được nhiều lần. \n",
        "\n"
      ]
    },
    {
      "cell_type": "code",
      "metadata": {
        "id": "5AfAvXmIF5vd"
      },
      "source": [
        "def get_lines(filepath) :\n",
        "  \"\"\"\n",
        "  Reads filepath (a text file) and returns the lines of text as a list.\n",
        "  Params : \n",
        "    filepath str: a string containing the target filepath to read\n",
        "  Returns : \n",
        "    A list of strings with one string per line from the target filename.\n",
        "    For example:\n",
        "    [\"this is the first line of filename\",\n",
        "      \"this is the second line of filename\",\n",
        "      \"...\"]\n",
        "  \"\"\" \n",
        "  with open(filepath, \"r\") as fs : \n",
        "    return fs.readlines()"
      ],
      "execution_count": 8,
      "outputs": []
    },
    {
      "cell_type": "code",
      "metadata": {
        "colab": {
          "base_uri": "https://localhost:8080/"
        },
        "id": "3qjCW6TnHcW3",
        "outputId": "331c43d5-81a0-4f46-8c9f-989a8e53d023"
      },
      "source": [
        "dev_lines = get_lines(os.path.join(data_20k_dir, \"dev.txt\"))\n",
        "dev_lines[:20]"
      ],
      "execution_count": 9,
      "outputs": [
        {
          "output_type": "execute_result",
          "data": {
            "text/plain": [
              "['###24290286\\n',\n",
              " 'BACKGROUND\\tIgE sensitization to Aspergillus fumigatus and a positive sputum fungal culture result are common in patients with refractory asthma .\\n',\n",
              " 'BACKGROUND\\tIt is not clear whether these patients would benefit from antifungal treatment .\\n',\n",
              " 'OBJECTIVE\\tWe sought to determine whether a @-month course of voriconazole improved asthma-related outcomes in patients with asthma who are IgE sensitized to A fumigatus .\\n',\n",
              " 'METHODS\\tAsthmatic patients who were IgE sensitized to A fumigatus with a history of at least @ severe exacerbations in the previous @ months were treated for @ months with @ mg of voriconazole twice daily , followed by observation for @ months , in a double-blind , placebo-controlled , randomized design .\\n',\n",
              " 'METHODS\\tPrimary outcomes were improvement in quality of life at the end of the treatment period and a reduction in the number of severe exacerbations over the @ months of the study .\\n',\n",
              " 'RESULTS\\tSixty-five patients were randomized .\\n',\n",
              " 'RESULTS\\tFifty-nine patients started treatment ( @ receiving voriconazole and @ receiving placebo ) and were included in an intention-to-treat analysis .\\n',\n",
              " 'RESULTS\\tFifty-six patients took the full @ months of medication .\\n',\n",
              " 'RESULTS\\tBetween the voriconazole and placebo groups , there were no significant differences in the number of severe exacerbations ( @ vs @ per patient per year , respectively ; mean difference , @ ; @ % CI , @-@ @ ) , quality of life ( change in Asthma Quality of Life Questionnaire score , @ vs @ ; mean difference between groups , @ ; @ % CI , -@ to -@ ) , or any of our secondary outcome measures .\\n',\n",
              " 'CONCLUSIONS\\tWe were unable to show a beneficial effect of @ months of treatment with voriconazole in patients with moderate-to-severe asthma who were IgE sensitized to A fumigatus on either the rate of severe exacerbations , quality of life , or other markers of asthma control .\\n',\n",
              " '\\n',\n",
              " '###24464531\\n',\n",
              " 'BACKGROUND\\tOpioid antagonists ( e.g. , naltrexone ) and positive modulators of - aminobutyric-acidA ( GABAA ) receptors ( e.g. , alprazolam ) modestly attenuate the abuse-related effects of stimulants like amphetamine .\\n',\n",
              " 'BACKGROUND\\tThe use of higher doses to achieve greater efficacy is precluded by side effects .\\n',\n",
              " 'BACKGROUND\\tCombining naltrexone and alprazolam might safely maximize efficacy while avoiding the untoward effects of the constituent compounds .\\n',\n",
              " 'OBJECTIVE\\tThe present pilot study tested the hypothesis that acute pretreatment with the combination of naltrexone and alprazolam would not produce clinically problematic physiological effects or negative subjective effects and would reduce the positive subjective effects of d-amphetamine to a greater extent than the constituent drugs alone .\\n',\n",
              " 'METHODS\\tEight nontreatment-seeking , stimulant-using individuals completed an outpatient experiment in which oral d-amphetamine ( @ , @ , and @ mg ) was administered following acute pretreatment with naltrexone ( @ and @ mg ) and alprazolam ( @ and @ mg ) .\\n',\n",
              " 'METHODS\\tSubjective effects , psychomotor task performance , and physiological measures were collected .\\n',\n",
              " 'RESULTS\\tOral d-amphetamine produced prototypical physiological and stimulant-like positive subjective effects ( e.g. , VAS ratings of Active/Alert/Energetic , Good Effect , and High ) .\\n']"
            ]
          },
          "metadata": {},
          "execution_count": 9
        }
      ]
    },
    {
      "cell_type": "markdown",
      "metadata": {
        "id": "hBqwwdxlHlT5"
      },
      "source": [
        "Trong VD mẫu bản tóm tắt trên, chúng ta có thể nhận diện một số đặc điểm của bản tóm tắt như sau  :\n",
        "+ `###` : bắt đầu bản tóm tắt, hay có thể hiểu đây là id đánh dấu của một bản tóm tắt. \n",
        "+ `BACKGROUND`, `RESULTS`, `OBJECTIVES`, `CONCLUSION` ... : chính là các label để xác định vai trò, vị trị của câu trong bản tóm tắt. \n",
        "+ Còn câu sau khi thụt lề bởi của các từ in hoa sẽ là `text` thể hiện nội dung của bản tóm tắt. \n",
        "+ Vai trò của mỗi câu được đặt trước ở đầu mỗi dòng được phân tách bằng dấu tab `(\\t)` và mỗi câu kết thúc bằng một dòng mới `(\\n)`\n",
        "+ Trước khi bắt đầu một bản tóm tắt mới sẽ có một ký hiệu newlines (`\\n`)\n",
        "\n",
        "\n",
        "Có vẻ như chúng ta phải thực hiện một số bước để  làm cho các mẫu sẵn sàng chuyển làm dữ liệu đưa vào mô hình. \n",
        "\n",
        "Chúng ta sẽ tạp một hàm để thực hiện các bước sau:\n",
        "\n",
        "+ Đọc từng dòng văn bản trong file được chỉ định thông qua hàm `get_lines()`\n",
        "+ Tạo một list để chứa vị trí, nội dung từ các đăc điểm câu qua từng dòng. \n",
        "+ Qua mỗi dòng trong một file được chỉ định:\n",
        "  + Nếu dòng đó bắt đầu với ký hiệu `###`, đó là ID của bản tóm tắt và là dấu hiệu của một bản tóm tắt mới\n",
        "    + Giữ số lượng dòng trong một mẫu.\n",
        "  + Nếu dòng đó là một newlines `\\n` nghĩa là đánh dấu sự kết thúc của một bản tóm tắt để bước sang bản khác: \n",
        "    + Giữ  tổng số dòng trong một mẫu\n",
        "  + Ghi lại văn bản trước dấu `\\t` làm label của dòng.\n",
        "  + Ghi lại văn bản sau dấu `\\t` làm text của dòng.\n",
        "+ Trả lại tất cả các dòng trong tệp văn bản đích dưới dạng danh sách các từ điển có chứa các cặp khóa / giá trị: \n",
        "  + `\"line_number\"` - vị trí của dòng trong phần tóm tắt (VD : `3`).\n",
        "  + `\"label\"` -vai trò của dòng trong phần tóm tắt (VD : `OBJECTIVE`).\n",
        "  + `\"text\"` - Đoạn text của dòng trong bản tóm tắt \n",
        "  + `\"total_lines\"`- tổng số dòng trong một mẫu tóm tắt (VD :` 14`)\n",
        "\n",
        "Ví dụ trả về mẫu đã xử lý trước (một dòng đơn từ phần tóm tắt):\n",
        "\n",
        "```\n",
        "[{'line_number': 0,\n",
        "  'target': 'OBJECTIVE',\n",
        "  'text': 'to investigate the efficacy of @ weeks of daily low-dose oral prednisolone in improving pain , mobility , and systemic low-grade inflammation in the short term and whether the effect would be sustained at @ weeks in older adults with moderate to severe knee osteoarthritis ( oa ) .',\n",
        "  'total_lines': 11},\n",
        "  ...]\n",
        "```\n",
        "\n"
      ]
    },
    {
      "cell_type": "code",
      "metadata": {
        "id": "i6e3u5EkJHmq"
      },
      "source": [
        "def preprocess_text(filepath) : \n",
        "  \"\"\"\n",
        "  Takes in filename, reads its contents and sorts through each line,\n",
        "  extracting things like the target label, the text of the sentence,\n",
        "  how many sentences are in the current abstract and what sentence number\n",
        "  the target line is.\n",
        "  Params : \n",
        "     filepath str: a string of the target text file to read and extract line data from\n",
        "  Returns : \n",
        "    A list of dictionaries each containing a line from an abstract,\n",
        "      the lines label, the lines position in the abstract and the total number\n",
        "      of lines in the abstract where the line is from. For example:\n",
        "\n",
        "      [{\"target\": 'CONCLUSION',\n",
        "        \"text\": The study couldn't have gone better, turns out people are kinder than you think\",\n",
        "        \"line_number\": 8,\n",
        "        \"total_lines\": 8}]\n",
        "  \"\"\"\n",
        "  text_lines = get_lines(filepath) \n",
        "  abstract_samples = [] \n",
        "  current_abstract = \"\" \n",
        "  for line in text_lines : \n",
        "    if line.startswith(\"###\") : \n",
        "      current_abstract = \"\"\n",
        "    elif line.isspace():  \n",
        "      splited_lines_current_abstract = current_abstract.splitlines()\n",
        "      for abstract_line_number, abstract_line in enumerate(splited_lines_current_abstract) : \n",
        "        splited_abstract_line = abstract_line.split(\"\\t\") #  split target label from text\n",
        "        abstract_data = {\n",
        "            \"label\" : splited_abstract_line[0], # get target label\n",
        "            \"text\" : splited_abstract_line[1].lower(), # get target text and lower it\n",
        "            \"line_number\" : abstract_line_number, #  what number line does the line appear in the abstract?\n",
        "            \"total_lines\" : len(splited_lines_current_abstract) - 1 # how many total lines are in the abstract? (start from 0)\n",
        "        }\n",
        "        abstract_samples.append(abstract_data)\n",
        "    else : \n",
        "      current_abstract += line\n",
        "  return abstract_samples"
      ],
      "execution_count": 10,
      "outputs": []
    },
    {
      "cell_type": "markdown",
      "metadata": {
        "id": "yZeeZuXjQz5z"
      },
      "source": [
        "Tạo hàm đã xong, bât giờ chúng ta sẽ xử lý dữ liệu cho cả 3 files"
      ]
    },
    {
      "cell_type": "code",
      "metadata": {
        "colab": {
          "base_uri": "https://localhost:8080/"
        },
        "id": "8xt9BKPOQqTF",
        "outputId": "9115e5dc-9e19-4cd6-a41f-f611440df254"
      },
      "source": [
        "%%time \n",
        "train_samples = preprocess_text(os.path.join(data_20k_dir, \"train.txt\"))\n",
        "val_samples = preprocess_text(os.path.join(data_20k_dir, \"dev.txt\"))\n",
        "test_samples = preprocess_text(os.path.join(data_20k_dir, \"test.txt\"))\n"
      ],
      "execution_count": 11,
      "outputs": [
        {
          "output_type": "stream",
          "name": "stdout",
          "text": [
            "CPU times: user 517 ms, sys: 110 ms, total: 627 ms\n",
            "Wall time: 627 ms\n"
          ]
        }
      ]
    },
    {
      "cell_type": "code",
      "metadata": {
        "colab": {
          "base_uri": "https://localhost:8080/"
        },
        "id": "hCsoJ6BvREUi",
        "outputId": "fe866d8c-aecd-40bb-d951-949d5bbc948d"
      },
      "source": [
        "train_samples[:15]"
      ],
      "execution_count": 12,
      "outputs": [
        {
          "output_type": "execute_result",
          "data": {
            "text/plain": [
              "[{'label': 'OBJECTIVE',\n",
              "  'line_number': 0,\n",
              "  'text': 'to investigate the efficacy of @ weeks of daily low-dose oral prednisolone in improving pain , mobility , and systemic low-grade inflammation in the short term and whether the effect would be sustained at @ weeks in older adults with moderate to severe knee osteoarthritis ( oa ) .',\n",
              "  'total_lines': 11},\n",
              " {'label': 'METHODS',\n",
              "  'line_number': 1,\n",
              "  'text': 'a total of @ patients with primary knee oa were randomized @:@ ; @ received @ mg/day of prednisolone and @ received placebo for @ weeks .',\n",
              "  'total_lines': 11},\n",
              " {'label': 'METHODS',\n",
              "  'line_number': 2,\n",
              "  'text': 'outcome measures included pain reduction and improvement in function scores and systemic inflammation markers .',\n",
              "  'total_lines': 11},\n",
              " {'label': 'METHODS',\n",
              "  'line_number': 3,\n",
              "  'text': 'pain was assessed using the visual analog pain scale ( @-@ mm ) .',\n",
              "  'total_lines': 11},\n",
              " {'label': 'METHODS',\n",
              "  'line_number': 4,\n",
              "  'text': 'secondary outcome measures included the western ontario and mcmaster universities osteoarthritis index scores , patient global assessment ( pga ) of the severity of knee oa , and @-min walk distance ( @mwd ) .',\n",
              "  'total_lines': 11},\n",
              " {'label': 'METHODS',\n",
              "  'line_number': 5,\n",
              "  'text': 'serum levels of interleukin @ ( il-@ ) , il-@ , tumor necrosis factor ( tnf ) - , and high-sensitivity c-reactive protein ( hscrp ) were measured .',\n",
              "  'total_lines': 11},\n",
              " {'label': 'RESULTS',\n",
              "  'line_number': 6,\n",
              "  'text': 'there was a clinically relevant reduction in the intervention group compared to the placebo group for knee pain , physical function , pga , and @mwd at @ weeks .',\n",
              "  'total_lines': 11},\n",
              " {'label': 'RESULTS',\n",
              "  'line_number': 7,\n",
              "  'text': 'the mean difference between treatment arms ( @ % ci ) was @ ( @-@ @ ) , p < @ ; @ ( @-@ @ ) , p < @ ; @ ( @-@ @ ) , p < @ ; and @ ( @-@ @ ) , p < @ , respectively .',\n",
              "  'total_lines': 11},\n",
              " {'label': 'RESULTS',\n",
              "  'line_number': 8,\n",
              "  'text': 'further , there was a clinically relevant reduction in the serum levels of il-@ , il-@ , tnf - , and hscrp at @ weeks in the intervention group when compared to the placebo group .',\n",
              "  'total_lines': 11},\n",
              " {'label': 'RESULTS',\n",
              "  'line_number': 9,\n",
              "  'text': 'these differences remained significant at @ weeks .',\n",
              "  'total_lines': 11},\n",
              " {'label': 'RESULTS',\n",
              "  'line_number': 10,\n",
              "  'text': 'the outcome measures in rheumatology clinical trials-osteoarthritis research society international responder rate was @ % in the intervention group and @ % in the placebo group ( p < @ ) .',\n",
              "  'total_lines': 11},\n",
              " {'label': 'CONCLUSIONS',\n",
              "  'line_number': 11,\n",
              "  'text': 'low-dose oral prednisolone had both a short-term and a longer sustained effect resulting in less knee pain , better physical function , and attenuation of systemic inflammation in older patients with knee oa ( clinicaltrials.gov identifier nct@ ) .',\n",
              "  'total_lines': 11},\n",
              " {'label': 'BACKGROUND',\n",
              "  'line_number': 0,\n",
              "  'text': 'emotional eating is associated with overeating and the development of obesity .',\n",
              "  'total_lines': 10},\n",
              " {'label': 'BACKGROUND',\n",
              "  'line_number': 1,\n",
              "  'text': 'yet , empirical evidence for individual ( trait ) differences in emotional eating and cognitive mechanisms that contribute to eating during sad mood remain equivocal .',\n",
              "  'total_lines': 10},\n",
              " {'label': 'OBJECTIVE',\n",
              "  'line_number': 2,\n",
              "  'text': 'the aim of this study was to test if attention bias for food moderates the effect of self-reported emotional eating during sad mood ( vs neutral mood ) on actual food intake .',\n",
              "  'total_lines': 10}]"
            ]
          },
          "metadata": {},
          "execution_count": 12
        }
      ]
    },
    {
      "cell_type": "markdown",
      "metadata": {
        "id": "W2K4xQVikeJN"
      },
      "source": [
        "Tiếp theo, chúng ta sẽ sử dụng `pd.DataFrame()` để chuyển mọi dữ liệu `_samples` trên về dạng bảng nhằm quan sát thuận tiện hơn"
      ]
    },
    {
      "cell_type": "code",
      "metadata": {
        "colab": {
          "base_uri": "https://localhost:8080/",
          "height": 419
        },
        "id": "u_lG2dR5k0nf",
        "outputId": "9be3be63-5983-4bbc-88cb-041f9fa2c199"
      },
      "source": [
        "import pandas as pd \n",
        "import numpy as np\n",
        "\n",
        "train_df = pd.DataFrame(train_samples)\n",
        "val_df = pd.DataFrame(val_samples)\n",
        "test_df = pd.DataFrame(test_samples)\n",
        "train_df"
      ],
      "execution_count": 13,
      "outputs": [
        {
          "output_type": "execute_result",
          "data": {
            "text/html": [
              "<div>\n",
              "<style scoped>\n",
              "    .dataframe tbody tr th:only-of-type {\n",
              "        vertical-align: middle;\n",
              "    }\n",
              "\n",
              "    .dataframe tbody tr th {\n",
              "        vertical-align: top;\n",
              "    }\n",
              "\n",
              "    .dataframe thead th {\n",
              "        text-align: right;\n",
              "    }\n",
              "</style>\n",
              "<table border=\"1\" class=\"dataframe\">\n",
              "  <thead>\n",
              "    <tr style=\"text-align: right;\">\n",
              "      <th></th>\n",
              "      <th>label</th>\n",
              "      <th>text</th>\n",
              "      <th>line_number</th>\n",
              "      <th>total_lines</th>\n",
              "    </tr>\n",
              "  </thead>\n",
              "  <tbody>\n",
              "    <tr>\n",
              "      <th>0</th>\n",
              "      <td>OBJECTIVE</td>\n",
              "      <td>to investigate the efficacy of @ weeks of dail...</td>\n",
              "      <td>0</td>\n",
              "      <td>11</td>\n",
              "    </tr>\n",
              "    <tr>\n",
              "      <th>1</th>\n",
              "      <td>METHODS</td>\n",
              "      <td>a total of @ patients with primary knee oa wer...</td>\n",
              "      <td>1</td>\n",
              "      <td>11</td>\n",
              "    </tr>\n",
              "    <tr>\n",
              "      <th>2</th>\n",
              "      <td>METHODS</td>\n",
              "      <td>outcome measures included pain reduction and i...</td>\n",
              "      <td>2</td>\n",
              "      <td>11</td>\n",
              "    </tr>\n",
              "    <tr>\n",
              "      <th>3</th>\n",
              "      <td>METHODS</td>\n",
              "      <td>pain was assessed using the visual analog pain...</td>\n",
              "      <td>3</td>\n",
              "      <td>11</td>\n",
              "    </tr>\n",
              "    <tr>\n",
              "      <th>4</th>\n",
              "      <td>METHODS</td>\n",
              "      <td>secondary outcome measures included the wester...</td>\n",
              "      <td>4</td>\n",
              "      <td>11</td>\n",
              "    </tr>\n",
              "    <tr>\n",
              "      <th>...</th>\n",
              "      <td>...</td>\n",
              "      <td>...</td>\n",
              "      <td>...</td>\n",
              "      <td>...</td>\n",
              "    </tr>\n",
              "    <tr>\n",
              "      <th>180035</th>\n",
              "      <td>RESULTS</td>\n",
              "      <td>for the absolute change in percent atheroma vo...</td>\n",
              "      <td>7</td>\n",
              "      <td>11</td>\n",
              "    </tr>\n",
              "    <tr>\n",
              "      <th>180036</th>\n",
              "      <td>RESULTS</td>\n",
              "      <td>for pav , a significantly greater percentage o...</td>\n",
              "      <td>8</td>\n",
              "      <td>11</td>\n",
              "    </tr>\n",
              "    <tr>\n",
              "      <th>180037</th>\n",
              "      <td>RESULTS</td>\n",
              "      <td>both strategies had acceptable side effect pro...</td>\n",
              "      <td>9</td>\n",
              "      <td>11</td>\n",
              "    </tr>\n",
              "    <tr>\n",
              "      <th>180038</th>\n",
              "      <td>CONCLUSIONS</td>\n",
              "      <td>compared with standard statin monotherapy , th...</td>\n",
              "      <td>10</td>\n",
              "      <td>11</td>\n",
              "    </tr>\n",
              "    <tr>\n",
              "      <th>180039</th>\n",
              "      <td>CONCLUSIONS</td>\n",
              "      <td>( plaque regression with cholesterol absorptio...</td>\n",
              "      <td>11</td>\n",
              "      <td>11</td>\n",
              "    </tr>\n",
              "  </tbody>\n",
              "</table>\n",
              "<p>180040 rows × 4 columns</p>\n",
              "</div>"
            ],
            "text/plain": [
              "              label  ... total_lines\n",
              "0         OBJECTIVE  ...          11\n",
              "1           METHODS  ...          11\n",
              "2           METHODS  ...          11\n",
              "3           METHODS  ...          11\n",
              "4           METHODS  ...          11\n",
              "...             ...  ...         ...\n",
              "180035      RESULTS  ...          11\n",
              "180036      RESULTS  ...          11\n",
              "180037      RESULTS  ...          11\n",
              "180038  CONCLUSIONS  ...          11\n",
              "180039  CONCLUSIONS  ...          11\n",
              "\n",
              "[180040 rows x 4 columns]"
            ]
          },
          "metadata": {},
          "execution_count": 13
        }
      ]
    },
    {
      "cell_type": "markdown",
      "metadata": {
        "id": "ghWlQEaXlHuV"
      },
      "source": [
        "Cool, việc khám phá dữ liệu lúc này đã trở nên dễ dạng hơn nhiều"
      ]
    },
    {
      "cell_type": "markdown",
      "metadata": {
        "id": "bqSiKu6glf8m"
      },
      "source": [
        "## 3. Khám phá dữ liệu\n"
      ]
    },
    {
      "cell_type": "markdown",
      "metadata": {
        "id": "53602sV5loZs"
      },
      "source": [
        "Trước tiên, chúng ta sẽ thống kê có các loại label nào và số lượng của mỗi loại label là bao nhiêu trong cấu trúc của `train_df` "
      ]
    },
    {
      "cell_type": "code",
      "metadata": {
        "colab": {
          "base_uri": "https://localhost:8080/"
        },
        "id": "SdJdOooRl5vf",
        "outputId": "f9f1c0dd-f105-4419-d58a-095fc667a765"
      },
      "source": [
        "train_df[\"label\"].unique()"
      ],
      "execution_count": 14,
      "outputs": [
        {
          "output_type": "execute_result",
          "data": {
            "text/plain": [
              "array(['OBJECTIVE', 'METHODS', 'RESULTS', 'CONCLUSIONS', 'BACKGROUND'],\n",
              "      dtype=object)"
            ]
          },
          "metadata": {},
          "execution_count": 14
        }
      ]
    },
    {
      "cell_type": "code",
      "metadata": {
        "colab": {
          "base_uri": "https://localhost:8080/"
        },
        "id": "VxLGz05Dl9jl",
        "outputId": "ecb4e195-be14-4347-d482-14562cc8ea4f"
      },
      "source": [
        "train_df[\"label\"].value_counts()"
      ],
      "execution_count": 15,
      "outputs": [
        {
          "output_type": "execute_result",
          "data": {
            "text/plain": [
              "METHODS        59353\n",
              "RESULTS        57953\n",
              "CONCLUSIONS    27168\n",
              "BACKGROUND     21727\n",
              "OBJECTIVE      13839\n",
              "Name: label, dtype: int64"
            ]
          },
          "metadata": {},
          "execution_count": 15
        }
      ]
    },
    {
      "cell_type": "code",
      "metadata": {
        "colab": {
          "base_uri": "https://localhost:8080/",
          "height": 453
        },
        "id": "f8kfnhjXmBP7",
        "outputId": "0507d095-4c4a-4b49-a635-9e3552b446b7"
      },
      "source": [
        "train_df[\"label\"].value_counts().plot.bar(figsize=(12,6))"
      ],
      "execution_count": 16,
      "outputs": [
        {
          "output_type": "execute_result",
          "data": {
            "text/plain": [
              "<matplotlib.axes._subplots.AxesSubplot at 0x7f7a65f7afd0>"
            ]
          },
          "metadata": {},
          "execution_count": 16
        },
        {
          "output_type": "display_data",
          "data": {
            "image/png": "[encoded data removed]",
            "text/plain": [
              "<Figure size 864x432 with 1 Axes>"
            ]
          },
          "metadata": {
            "needs_background": "light"
          }
        }
      ]
    },
    {
      "cell_type": "markdown",
      "metadata": {
        "id": "HD2j9l06mNKP"
      },
      "source": [
        "Có khoảng 5 loại label trong mỗi bản tóm tắt bao gồm `['OBJECTIVE', 'METHODS', 'RESULTS', 'CONCLUSIONS', 'BACKGROUND']`. Trong đó, `METHODS` và `RESULTS` chiếm số lượng lớn nhất (~ 60.000 mẫu), còn `OBJECTIVES` chiếm số lượng nhỏ nhất (~ 15.000 mẫu). \n",
        "\n",
        "Tiếp theo, chúng ta sẽ quan sát mật độ phân bố số lượng dòng của tất cả các bản tóm tắt:"
      ]
    },
    {
      "cell_type": "markdown",
      "metadata": {
        "id": "eex-MJ-Foa0K"
      },
      "source": [
        "\n",
        "\n",
        "Số dòng trong tổng số dòng của mỗi bản tóm tắt sau này sẽ giúp chúng ta cải thiện mô hình tốt hơn, cho nên đây là chi tiết quan trọng để mô hình có thể tìm được những liên kết giữa các label. "
      ]
    },
    {
      "cell_type": "code",
      "metadata": {
        "colab": {
          "base_uri": "https://localhost:8080/",
          "height": 391
        },
        "id": "spOJlsKUm2G_",
        "outputId": "96355f4f-2ba0-45c4-daed-7cb993fbaa7f"
      },
      "source": [
        "train_df[\"total_lines\"].plot.hist(figsize=(12,6))"
      ],
      "execution_count": 17,
      "outputs": [
        {
          "output_type": "execute_result",
          "data": {
            "text/plain": [
              "<matplotlib.axes._subplots.AxesSubplot at 0x7f7a5c1bf550>"
            ]
          },
          "metadata": {},
          "execution_count": 17
        },
        {
          "output_type": "display_data",
          "data": {
            "image/png": "[encoded data removed]",
            "text/plain": [
              "<Figure size 864x432 with 1 Axes>"
            ]
          },
          "metadata": {
            "needs_background": "light"
          }
        }
      ]
    },
    {
      "cell_type": "markdown",
      "metadata": {
        "id": "hjsISsFFnaks"
      },
      "source": [
        "Hầu hết số lượng dòng của mỗi bản tóm tắt đều tập trung trong khoảng 6 đến 15 dòng. \n",
        "\n",
        "Khi chúng tôi xây dựng mô hình, một trong những input chính được đưa vào mô hình học sẽ là danh sách các chuỗi được mã hóa và nhúng (các dòng của một bản tóm tắt).\n",
        "\n",
        " Chúng ta có thể dễ dàng lấy danh sách các câu từ `DataFrame` của mình bằng cách gọi phương thức `tolist()` trên cột `text` của chúng ta.\n",
        "\n",
        "\n"
      ]
    },
    {
      "cell_type": "code",
      "metadata": {
        "colab": {
          "base_uri": "https://localhost:8080/"
        },
        "id": "aCreeRZHn2dM",
        "outputId": "ba1c5e8c-bd0a-4d83-e462-180d7a094590"
      },
      "source": [
        "train_sentences = train_df[\"text\"].tolist()\n",
        "val_sentences = val_df[\"text\"].tolist()\n",
        "test_sentences = test_df[\"text\"].tolist()\n",
        "train_sentences[:5]"
      ],
      "execution_count": 18,
      "outputs": [
        {
          "output_type": "execute_result",
          "data": {
            "text/plain": [
              "['to investigate the efficacy of @ weeks of daily low-dose oral prednisolone in improving pain , mobility , and systemic low-grade inflammation in the short term and whether the effect would be sustained at @ weeks in older adults with moderate to severe knee osteoarthritis ( oa ) .',\n",
              " 'a total of @ patients with primary knee oa were randomized @:@ ; @ received @ mg/day of prednisolone and @ received placebo for @ weeks .',\n",
              " 'outcome measures included pain reduction and improvement in function scores and systemic inflammation markers .',\n",
              " 'pain was assessed using the visual analog pain scale ( @-@ mm ) .',\n",
              " 'secondary outcome measures included the western ontario and mcmaster universities osteoarthritis index scores , patient global assessment ( pga ) of the severity of knee oa , and @-min walk distance ( @mwd ) .']"
            ]
          },
          "metadata": {},
          "execution_count": 18
        }
      ]
    },
    {
      "cell_type": "markdown",
      "metadata": {
        "id": "_JQ7GHLppuct"
      },
      "source": [
        "Chúng ta đã tách các mẫu văn bản thành một danh sách. Như bạn đã biết, mô hình học sẽ chỉ học được dữ liệu dưới dạng số, cho nên chúng ta cần phải mã hóa dữ liệu văn bản hiện tại và nhúng dữ liệu đó trước khi đưa vào mô hình. \n",
        "\n",
        "Bên cạnh đó, label khi đưa vào mô hình học cũng phải được mã hóa dưới dạng số, trong khi label trong `DataFrame` vẫn chưa được chuyển. Lưu ý , chúng ta sẽ chuyển label có dạng từ thành dạng số nhưng có 2 kiểu dữ liệu label khác nhau : \n",
        "+ `one_hot` : đưa label dưới dạng một mảng gồm nhiều phần tử  để train mô hình, vị trí của label là `1`, còn lại `0`. VD: trong dữ liệu hiện tại có 5 loại label, và giả sử label là `OBJECTIVE` ở vị trí đầu tiên thì khi chuyển one_hot sẽ là `[1,0,0,0,0]`\n",
        "+ `label-encoded` : đưa label về một giá trị cụ thể nào đó (VD :trong dữ liệu hiện tại có 5 loại label, và giả sử label là `OBJECTIVE` ở vị trí đầu tiên thì label sẽ có giá trị là `0` ), dùng để kiểm định mô hình dự đoán với giá trị thực (ngoài ra còn được áp dụng cho mô hình machine learning, mô hình cơ sở sắp tới).\n",
        "\n",
        "\n"
      ]
    },
    {
      "cell_type": "code",
      "metadata": {
        "colab": {
          "base_uri": "https://localhost:8080/"
        },
        "id": "PTOmxT4Sq6pL",
        "outputId": "945cb772-c7e6-4fb7-8640-fc98432f914d"
      },
      "source": [
        "from sklearn.preprocessing import LabelEncoder , OneHotEncoder \n",
        "\n",
        "one_hot = OneHotEncoder(sparse=False)\n",
        "\n",
        "\n",
        "train_labels_one_hot = one_hot.fit_transform(train_df[\"label\"][:,np.newaxis])\n",
        "val_labels_one_hot = one_hot.fit_transform(val_df[\"label\"][:,np.newaxis])\n",
        "test_labels_one_hot = one_hot.fit_transform(test_df[\"label\"][:,np.newaxis])\n",
        "\n",
        "train_labels_one_hot"
      ],
      "execution_count": 19,
      "outputs": [
        {
          "output_type": "stream",
          "name": "stderr",
          "text": [
            "/usr/local/lib/python3.7/dist-packages/ipykernel_launcher.py:6: FutureWarning: Support for multi-dimensional indexing (e.g. `obj[:, None]`) is deprecated and will be removed in a future version.  Convert to a numpy array before indexing instead.\n",
            "  \n",
            "/usr/local/lib/python3.7/dist-packages/ipykernel_launcher.py:7: FutureWarning: Support for multi-dimensional indexing (e.g. `obj[:, None]`) is deprecated and will be removed in a future version.  Convert to a numpy array before indexing instead.\n",
            "  import sys\n",
            "/usr/local/lib/python3.7/dist-packages/ipykernel_launcher.py:8: FutureWarning: Support for multi-dimensional indexing (e.g. `obj[:, None]`) is deprecated and will be removed in a future version.  Convert to a numpy array before indexing instead.\n",
            "  \n"
          ]
        },
        {
          "output_type": "execute_result",
          "data": {
            "text/plain": [
              "array([[0., 0., 0., 1., 0.],\n",
              "       [0., 0., 1., 0., 0.],\n",
              "       [0., 0., 1., 0., 0.],\n",
              "       ...,\n",
              "       [0., 0., 0., 0., 1.],\n",
              "       [0., 1., 0., 0., 0.],\n",
              "       [0., 1., 0., 0., 0.]])"
            ]
          },
          "metadata": {},
          "execution_count": 19
        }
      ]
    },
    {
      "cell_type": "code",
      "metadata": {
        "colab": {
          "base_uri": "https://localhost:8080/"
        },
        "id": "8uxqT8Q3twJl",
        "outputId": "6dd75ccd-343d-4827-b715-5475e3e18416"
      },
      "source": [
        "label_encoder = LabelEncoder()\n",
        "train_labels_encoder = label_encoder.fit_transform(train_df[\"label\"].values)\n",
        "val_labels_encoder = label_encoder.fit_transform(val_df[\"label\"].values)\n",
        "test_labels_encoder = label_encoder.fit_transform(test_df[\"label\"].values)\n",
        "\n",
        "train_labels_encoder"
      ],
      "execution_count": 20,
      "outputs": [
        {
          "output_type": "execute_result",
          "data": {
            "text/plain": [
              "array([3, 2, 2, ..., 4, 1, 1])"
            ]
          },
          "metadata": {},
          "execution_count": 20
        }
      ]
    },
    {
      "cell_type": "markdown",
      "metadata": {
        "id": "oQaJI_VzuY9r"
      },
      "source": [
        "Bây giờ chúng ta đã tạo instance của `LabelEncoder`, chúng ta có thể lấy tên lớp và số lớp bằng cách sử dụng thuộc tính `class_`."
      ]
    },
    {
      "cell_type": "code",
      "metadata": {
        "colab": {
          "base_uri": "https://localhost:8080/"
        },
        "id": "82ST9b_EuijM",
        "outputId": "dd6999c9-40b5-417d-83c4-7f6882b79e3d"
      },
      "source": [
        "class_names = label_encoder.classes_.tolist()\n",
        "num_classes = len(class_names)\n",
        "class_names, num_classes"
      ],
      "execution_count": 21,
      "outputs": [
        {
          "output_type": "execute_result",
          "data": {
            "text/plain": [
              "(['BACKGROUND', 'CONCLUSIONS', 'METHODS', 'OBJECTIVE', 'RESULTS'], 5)"
            ]
          },
          "metadata": {},
          "execution_count": 21
        }
      ]
    },
    {
      "cell_type": "markdown",
      "metadata": {
        "id": "BBIpMsbDuypD"
      },
      "source": [
        "## 4. Khởi tạo và train mô hình\n",
        "\n",
        "Dữ liệu đã được xử lý, đã đến lúc thiết lập một loạt các thử nghiệm mô hình hóa.\n",
        "\n",
        "Chúng ta sẽ bắt đầu bằng cách tạo một mô hình cơ sở đơn giản để lấy điểm mốc tối thiểu mà những mô hình sau đó có độ phức tạp cao hơn phải vượt qua được số điểm này.  [*Neural networks for joint sentence\n",
        "classification in medical paper abstracts*](https://arxiv.org/pdf/1612.05251.pdf).\n",
        "\n",
        "Đối với mỗi mô hình, chúng ta sẽ train nó trên dữ liệu `train` và đánh giá nó trên dữ liệu `val`."
      ]
    },
    {
      "cell_type": "markdown",
      "metadata": {
        "id": "b8yHn2rnu96s"
      },
      "source": [
        "### Model 0 : Mô hình cơ sở (machine learning) train toàn bộ dữ liệu \n",
        "\n",
        "Mô hình đầu tiên của chúng ta sẽ là TF-IDF Multinomial Naive Bayes theo đề xuất [Scikit-Learn's machine learning map](https://scikit-learn.org/stable/tutorial/machine_learning_map/index.html).\n",
        "\n",
        "\n",
        "Để xây dựng nó, chúng ta sẽ tạo một Scikit-Learn `Pipeline` sử dụng [`TfidfVectorizer`](https://scikit-learn.org/stable/modules/generated/sklearn.feature_extraction.text.TfidfVectorizer.html), một lớp để chuyển đổi các câu thành dạng số bằng cách sử dụng thuật toán TF-IDF (term frequency-inverse document frequecy) và sau đó mô hình sẽ phân loại các câu bằng cách sử dụng thuật toán [`MultinomialNB`](https://scikit-learn.org/stable/modules /generated/sklearn.naive_bayes.MultinomialNB.html).\n"
      ]
    },
    {
      "cell_type": "code",
      "metadata": {
        "colab": {
          "base_uri": "https://localhost:8080/"
        },
        "id": "xwY_Wxhdv4pt",
        "outputId": "de729167-0c10-4eff-805b-5798633f29dd"
      },
      "source": [
        "from sklearn.feature_extraction.text import TfidfVectorizer\n",
        "from sklearn.pipeline import Pipeline\n",
        "from sklearn.naive_bayes import MultinomialNB\n",
        "\n",
        "model_0 = Pipeline([\n",
        "                    (\"tfidf\", TfidfVectorizer()), \n",
        "                    (\"clf\", MultinomialNB())\n",
        "])\n",
        "\n",
        "model_0.fit(train_sentences, train_labels_encoder)"
      ],
      "execution_count": 22,
      "outputs": [
        {
          "output_type": "execute_result",
          "data": {
            "text/plain": [
              "Pipeline(memory=None,\n",
              "         steps=[('tfidf',\n",
              "                 TfidfVectorizer(analyzer='word', binary=False,\n",
              "                                 decode_error='strict',\n",
              "                                 dtype=<class 'numpy.float64'>,\n",
              "                                 encoding='utf-8', input='content',\n",
              "                                 lowercase=True, max_df=1.0, max_features=None,\n",
              "                                 min_df=1, ngram_range=(1, 1), norm='l2',\n",
              "                                 preprocessor=None, smooth_idf=True,\n",
              "                                 stop_words=None, strip_accents=None,\n",
              "                                 sublinear_tf=False,\n",
              "                                 token_pattern='(?u)\\\\b\\\\w\\\\w+\\\\b',\n",
              "                                 tokenizer=None, use_idf=True,\n",
              "                                 vocabulary=None)),\n",
              "                ('clf',\n",
              "                 MultinomialNB(alpha=1.0, class_prior=None, fit_prior=True))],\n",
              "         verbose=False)"
            ]
          },
          "metadata": {},
          "execution_count": 22
        }
      ]
    },
    {
      "cell_type": "markdown",
      "metadata": {
        "id": "uB1TImipxQDQ"
      },
      "source": [
        "Đánh giá `model_0` trên dữ liệu kiểm định `val_sentences` và `val_label`"
      ]
    },
    {
      "cell_type": "code",
      "metadata": {
        "colab": {
          "base_uri": "https://localhost:8080/"
        },
        "id": "m7O0QJEvxKYK",
        "outputId": "065541de-e10e-466d-84ba-b6443097b8aa"
      },
      "source": [
        "model_0.score(val_sentences, val_labels_encoder)"
      ],
      "execution_count": 23,
      "outputs": [
        {
          "output_type": "execute_result",
          "data": {
            "text/plain": [
              "0.7218323844829869"
            ]
          },
          "metadata": {},
          "execution_count": 23
        }
      ]
    },
    {
      "cell_type": "markdown",
      "metadata": {
        "id": "rA7sap7Wxe0R"
      },
      "source": [
        "Ngoài phương pháp đánh giá độ chính xác trung bình `accuracy` khi làm việc với vấn đề phân loại, chúng ta còn có thể áp dụng phương pháp `precision`, `recall`, và `f1-score` để đánh giá mô hình\n",
        "\n",
        "![](https://machinelearningcoban.com/assets/33_evaluation/PR.png)\n",
        "\n",
        "Trước khi đánh giá cả 4 phương pháp, chúng ta cần dự đoán các label dựa trên `val_sentences` "
      ]
    },
    {
      "cell_type": "code",
      "metadata": {
        "colab": {
          "base_uri": "https://localhost:8080/"
        },
        "id": "_phYiTtYyetY",
        "outputId": "95204080-97b1-43f1-ae8f-78a2741d7724"
      },
      "source": [
        "model_0_pred_labels = model_0.predict(val_sentences)\n",
        "model_0_pred_labels"
      ],
      "execution_count": 24,
      "outputs": [
        {
          "output_type": "execute_result",
          "data": {
            "text/plain": [
              "array([4, 1, 3, ..., 4, 4, 1])"
            ]
          },
          "metadata": {},
          "execution_count": 24
        }
      ]
    },
    {
      "cell_type": "code",
      "metadata": {
        "id": "e-85n7jXxZK1"
      },
      "source": [
        "from utility_functions import calculate_results"
      ],
      "execution_count": 25,
      "outputs": []
    },
    {
      "cell_type": "code",
      "metadata": {
        "colab": {
          "base_uri": "https://localhost:8080/"
        },
        "id": "NBF0InTEyYwL",
        "outputId": "42251bf3-22a4-4d8e-d19a-a320edab0a44"
      },
      "source": [
        "baseline_results = calculate_results(val_labels_encoder, model_0_pred_labels )\n",
        "baseline_results"
      ],
      "execution_count": 26,
      "outputs": [
        {
          "output_type": "execute_result",
          "data": {
            "text/plain": [
              "{'accuracy': 0.7218323844829869,\n",
              " 'f1-score': 0.6989250353450294,\n",
              " 'precision': 0.7186466952323352,\n",
              " 'recall': 0.7218323844829869}"
            ]
          },
          "metadata": {},
          "execution_count": 26
        }
      ]
    },
    {
      "cell_type": "markdown",
      "metadata": {
        "id": "Wj3VEX1PzC0u"
      },
      "source": [
        "### Chuẩn bị dữ liệu cho mô hình deep learning\n",
        "\n",
        "Nhưng trước khi bắt đầu xây dựng các mô hình sâu hơn, chúng ta phải tạo layer vectơ hóa và layer nhúng.\n",
        "\n",
        "Layer vectơ hóa sẽ chuyển đổi văn bản thành kiểu dữ liệu số và layer nhúng sẽ nắm giữ những mối liên hệ giữa các dữ liệu số đó.\n",
        "\n",
        "Những thư viện chúng ta sẽ phải import : "
      ]
    },
    {
      "cell_type": "code",
      "metadata": {
        "id": "3lY7Vh-20zIT"
      },
      "source": [
        "import tensorflow as tf\n",
        "from tensorflow.keras import Model, layers \n",
        "from tensorflow.keras.layers import TextVectorization, Embedding"
      ],
      "execution_count": 27,
      "outputs": []
    },
    {
      "cell_type": "markdown",
      "metadata": {
        "id": "wzfqtzjQRO2V"
      },
      "source": [
        "Vì chúng ta sẽ chuyển các câu của mình thành số, nên bạn cần tìm ra bao nhiêu từ trong mỗi câu.\n",
        "\n",
        "Khi mô hình đi qua từng câu, nó hoạt động tốt nhất khi  có cùng độ dài như nhau(điều này rất quan trọng để tạo ra các cụm có cùng kích thước).\n",
        "\n",
        "Ví dụ, nếu một câu dài 8 từ và một câu khác dài 29 từ, chúng ta sẽ chèn câu tám từ bằng các số 0 để nó có cùng độ dài với câu 29 từ.\n",
        "\n",
        "Do đó, chúng ta sẽ tìm dài trung bình của các câu trong dữ liệu `train`\n",
        "\n",
        "\n"
      ]
    },
    {
      "cell_type": "code",
      "metadata": {
        "colab": {
          "base_uri": "https://localhost:8080/"
        },
        "id": "_x4mJrr_R1w0",
        "outputId": "c9dec96c-5a2b-45cf-bed3-931d5ae5711f"
      },
      "source": [
        "train_sentence_length = [len(sentence.split()) for sentence in train_sentences]\n",
        "train_sentence_avg_length = np.mean(train_sentence_length)\n",
        "train_sentence_avg_length"
      ],
      "execution_count": 28,
      "outputs": [
        {
          "output_type": "execute_result",
          "data": {
            "text/plain": [
              "26.338269273494777"
            ]
          },
          "metadata": {},
          "execution_count": 28
        }
      ]
    },
    {
      "cell_type": "code",
      "metadata": {
        "colab": {
          "base_uri": "https://localhost:8080/",
          "height": 350
        },
        "id": "dPZw5ZSqR2HD",
        "outputId": "3e5b3029-c9e8-473c-fb83-26dffb741145"
      },
      "source": [
        "import matplotlib.pyplot as plt\n",
        "plt.hist(train_sentence_length)"
      ],
      "execution_count": 29,
      "outputs": [
        {
          "output_type": "execute_result",
          "data": {
            "text/plain": [
              "(array([1.25846e+05, 4.78220e+04, 5.37600e+03, 7.86000e+02, 1.46000e+02,\n",
              "        3.20000e+01, 1.90000e+01, 8.00000e+00, 3.00000e+00, 2.00000e+00]),\n",
              " array([  1. ,  30.5,  60. ,  89.5, 119. , 148.5, 178. , 207.5, 237. ,\n",
              "        266.5, 296. ]),\n",
              " <a list of 10 Patch objects>)"
            ]
          },
          "metadata": {},
          "execution_count": 29
        },
        {
          "output_type": "display_data",
          "data": {
            "image/png": "[encoded data removed]",
            "text/plain": [
              "<Figure size 432x288 with 1 Axes>"
            ]
          },
          "metadata": {
            "needs_background": "light"
          }
        }
      ]
    },
    {
      "cell_type": "markdown",
      "metadata": {
        "id": "rg0mNXgNSVlT"
      },
      "source": [
        "Số từ trong một câu dao động từ 0 - 50, chúng ta sẽ lấy 95% độ dài của từ trong câu để tạo độ dài chuỗi output cho vector hóa "
      ]
    },
    {
      "cell_type": "code",
      "metadata": {
        "colab": {
          "base_uri": "https://localhost:8080/"
        },
        "id": "SMJYMBC2S3tY",
        "outputId": "17d9202b-7ae7-49f1-f037-b631baf507a8"
      },
      "source": [
        "output_seq_length = np.percentile(train_sentence_length,95)\n",
        "output_seq_length"
      ],
      "execution_count": 30,
      "outputs": [
        {
          "output_type": "execute_result",
          "data": {
            "text/plain": [
              "55.0"
            ]
          },
          "metadata": {},
          "execution_count": 30
        }
      ]
    },
    {
      "cell_type": "markdown",
      "metadata": {
        "id": "skbKfEFLS9w7"
      },
      "source": [
        "95% số từ trong một câu trong `train_sentences` có độ dài từ 55 tokens trở xuống.\n",
        "\n",
        "Khi tạo layer mã hóa, chúng ta sẽ sử dụng giá trị này để biến tất cả các câu thành cùng một độ dài. Nghĩa là mỗi một câu sẽ được chuyển thành một ma trần có độ dài  55, câu nào không đủ 55 từ sẽ được chèn thêm số 0 vào vị trí đó và các câu có độ dài trên 55 sẽ bị bỏ đi. \n",
        "\n",
        "> 🤔 **Câu hỏi**: Tại sao lại là 95%?\n",
        "\n",
        "Trong thống kê 95% có nhiều ý nghĩa, nhưng điều quan trọng nhất là nó bỏ đi các giá trị ngoại lai, những giá trị khiến mô hình thống kê mất đi độ chính xác nhiều nhất. \n"
      ]
    },
    {
      "cell_type": "markdown",
      "metadata": {
        "id": "n2lx3epxdKCw"
      },
      "source": [
        "#### Tạo layer mã hóa văn bản"
      ]
    },
    {
      "cell_type": "markdown",
      "metadata": {
        "id": "btY5iYULOuU9"
      },
      "source": [
        "Chúng ta sẽ định nghĩa layer [`TextVectorization`](https://www.tensorflow.org/api_docs/python/tf/keras/layers/experimental/preprocessing/TextVectorization) để khi đưa mô hình, nó sẽ chuyển tất cả inputs thành số. \n",
        "\n",
        "tất cả các tham số mặc định được giữ lại ngoại trừ `max_tokens` (số lượng những từ khác nhau trong tập dữ liệu) và` output_sequence_length` (độ dài output mong muốn cho mỗi câu được vector hóa).\n",
        "\n",
        "Theo tài liệu [Pubmed 200 RTC](https://arxiv.org/pdf/1612.05251.pdf) cho biết kích thước từ vựng của tập dữ liệu PubMed 20k là 68.000, vì vậy `max_tokens` sẽ là 68.000"
      ]
    },
    {
      "cell_type": "code",
      "metadata": {
        "id": "Si8XrQBZQg7p"
      },
      "source": [
        "MAX_TOKENS = 68000 #@param {type:\"slider\", min:60000, max:70000, step:1000}"
      ],
      "execution_count": 31,
      "outputs": []
    },
    {
      "cell_type": "code",
      "metadata": {
        "id": "rA0_OxlD07UQ"
      },
      "source": [
        "text_vectorizer = TextVectorization(\n",
        "    max_tokens=MAX_TOKENS, \n",
        "    output_sequence_length=int(output_seq_length)\n",
        ")"
      ],
      "execution_count": 32,
      "outputs": []
    },
    {
      "cell_type": "markdown",
      "metadata": {
        "id": "YaGCr6ujZo6c"
      },
      "source": [
        "sử dụng phương thức `adapt()` để instance `text_vectorizer` đưa danh sách các từ từ dữ liệu `train` vào trong nó. "
      ]
    },
    {
      "cell_type": "code",
      "metadata": {
        "id": "B-Hbt1HzaHTG"
      },
      "source": [
        "text_vectorizer.adapt(train_sentences)"
      ],
      "execution_count": 33,
      "outputs": []
    },
    {
      "cell_type": "markdown",
      "metadata": {
        "id": "DqOz5WYSaP8M"
      },
      "source": [
        "Như vậy `text_vectorizer` đã ghi lại danh sách các từ và nó sẽ sắp xếp tuần suất của những từ đó trong câu theo thứ tự từ cao xuống thấp. "
      ]
    },
    {
      "cell_type": "code",
      "metadata": {
        "colab": {
          "base_uri": "https://localhost:8080/"
        },
        "id": "fWwdK8K-aK0R",
        "outputId": "63837606-e2ae-4fa3-c38b-bd02e1108dc4"
      },
      "source": [
        "rct_20k_text_vocab = text_vectorizer.get_vocabulary()\n",
        "print(f\"Số từ khác nhau : {len(rct_20k_text_vocab)}\")\n",
        "print(f\"Những từ được sử dụng nhiều nhất : {rct_20k_text_vocab[:10]}\")\n",
        "print(f\"Những từ được sử dụng ít nhất : {rct_20k_text_vocab[-10:]}\")"
      ],
      "execution_count": 34,
      "outputs": [
        {
          "output_type": "stream",
          "name": "stdout",
          "text": [
            "Số từ khác nhau : 64841\n",
            "Những từ được sử dụng nhiều nhất : ['', '[UNK]', 'the', 'and', 'of', 'in', 'to', 'with', 'a', 'were']\n",
            "Những từ được sử dụng ít nhất : ['aarm', 'aaqol', 'aaq', 'aanhui', 'aana', 'aainduced', 'aaigroup', 'aachener', 'aachen', 'aaacp']\n"
          ]
        }
      ]
    },
    {
      "cell_type": "code",
      "metadata": {
        "colab": {
          "base_uri": "https://localhost:8080/"
        },
        "id": "b29kSifTcPTD",
        "outputId": "6090235a-fc5e-4d7c-921c-0e3a2a6e8f21"
      },
      "source": [
        "import random\n",
        "random_training_sentence = random.choice(train_sentences)\n",
        "vectorized_sentence = text_vectorizer([random_training_sentence])\n",
        "print(f\"origin sentence : {random_training_sentence}\")\n",
        "print(f\"Vectorized sentence : {vectorized_sentence}\")\n",
        "print(f\"Vectorized sentence Shape : {vectorized_sentence.shape}\")"
      ],
      "execution_count": 35,
      "outputs": [
        {
          "output_type": "stream",
          "name": "stdout",
          "text": [
            "origin sentence : results for other outcomes were mixed with no differences in several measures .\n",
            "Vectorized sentence : [[117  11 168  75   9 832   7  33 102   5 881 213   0   0   0   0   0   0\n",
            "    0   0   0   0   0   0   0   0   0   0   0   0   0   0   0   0   0   0\n",
            "    0   0   0   0   0   0   0   0   0   0   0   0   0   0   0   0   0   0\n",
            "    0]]\n",
            "Vectorized sentence Shape : (1, 55)\n"
          ]
        }
      ]
    },
    {
      "cell_type": "markdown",
      "metadata": {
        "id": "0BWTfnj6cssf"
      },
      "source": [
        "Và nếu bạn muốn tìm cấu hình của `text_vectorizer` thì có thể sử dụng phương thức `get_config()`"
      ]
    },
    {
      "cell_type": "code",
      "metadata": {
        "colab": {
          "base_uri": "https://localhost:8080/"
        },
        "id": "qi5BixyYc8hk",
        "outputId": "5b085c22-b492-4bde-ce74-510b589e4438"
      },
      "source": [
        "text_vectorizer.get_config()"
      ],
      "execution_count": 36,
      "outputs": [
        {
          "output_type": "execute_result",
          "data": {
            "text/plain": [
              "{'batch_input_shape': (None,),\n",
              " 'dtype': 'string',\n",
              " 'max_tokens': 68000,\n",
              " 'name': 'text_vectorization',\n",
              " 'ngrams': None,\n",
              " 'output_mode': 'int',\n",
              " 'output_sequence_length': 55,\n",
              " 'pad_to_max_tokens': False,\n",
              " 'split': 'whitespace',\n",
              " 'standardize': 'lower_and_strip_punctuation',\n",
              " 'trainable': True}"
            ]
          },
          "metadata": {},
          "execution_count": 36
        }
      ]
    },
    {
      "cell_type": "markdown",
      "metadata": {
        "id": "_DhRY0lcc-We"
      },
      "source": [
        "#### Tạo layer nhúng dữ liệu được mã hóa\n",
        "\n",
        "Layer `token_vectorization` có chỉ có chức năng mã hóa văn bản, hay có thể hiểu là văn bản được ánh xạ trực tiếp thành các con số, nó không nắm được mối liên hệ giữa các con số. \n",
        "\n",
        "Để tạo cho những văn bản được mã hóa này được phong phú hơn, chi tiết hơn các đặc điểm của token, chúng ta cần sử dụng phương pháp **nhúng**.\n",
        "\n",
        "Khi mô hình học (bằng cách xem qua nhiều mẫu dữ liệu khác nhau trong các câu và label), layer nhúng có chức năng cập nhật mối liên hệ giữa các token để nó có thể cải thiện tốt hơn. \n",
        "\n",
        "Chúng ta có thể tạo một layer với  [`Embedding`](https://www.tensorflow.org/tutorials/text/word_embeddings) trong TensorFlow.\n",
        "\n",
        "Một số tham số trong layer này cần quan tâm : \n",
        "\n",
        "+ `input_dim` : Xác định kích thước của từ khác nhau trong văn bản. \n",
        "+ `output_dim` : Kích thước output của đầu ra\n",
        "+ `input_length` : Độ dài của mỗi một văn bản được chuyển thành token (VD : 55). Nó thường bằng với `output_sequence_length` của `text_vectorizer` \n",
        "\n",
        "Layer nhúng sẽ lấy các inputs từ `text_vectorizer` layer và chuyển đổi chúng thành các vectơ đặc trưng có kích thước` output_dim`.\n"
      ]
    },
    {
      "cell_type": "code",
      "metadata": {
        "id": "urQeMT4RdXXg"
      },
      "source": [
        "token_embed = Embedding(input_dim=len(text_vectorizer.get_vocabulary()),\n",
        "                        input_length=output_seq_length, \n",
        "                        mask_zero=True, # Sử dụng mask để xử lý độ dài chuỗi thay đổi (tiết kiệm dung lượng)\n",
        "                        output_dim=300\n",
        "                      )\n"
      ],
      "execution_count": 37,
      "outputs": []
    },
    {
      "cell_type": "code",
      "metadata": {
        "colab": {
          "base_uri": "https://localhost:8080/"
        },
        "id": "vXiN-iqygqfz",
        "outputId": "4d835bcd-3436-4d4b-8ce0-d51f9bad0539"
      },
      "source": [
        "print(f\"Origin sentece : {random_training_sentence}\\n\\n\")\n",
        "print(f\"Vectorized sentence : {vectorized_sentence}\")\n",
        "print(f\"Vectorized sentence shape : {vectorized_sentence.shape}\\n\\n\")\n",
        "print(f\"Embedded sentence : {token_embed(vectorized_sentence)}\")\n",
        "print(f\"Embedded sentence shape : {token_embed(vectorized_sentence).shape}\")"
      ],
      "execution_count": 38,
      "outputs": [
        {
          "output_type": "stream",
          "name": "stdout",
          "text": [
            "Origin sentece : results for other outcomes were mixed with no differences in several measures .\n",
            "\n",
            "\n",
            "Vectorized sentence : [[117  11 168  75   9 832   7  33 102   5 881 213   0   0   0   0   0   0\n",
            "    0   0   0   0   0   0   0   0   0   0   0   0   0   0   0   0   0   0\n",
            "    0   0   0   0   0   0   0   0   0   0   0   0   0   0   0   0   0   0\n",
            "    0]]\n",
            "Vectorized sentence shape : (1, 55)\n",
            "\n",
            "\n",
            "Embedded sentence : [[[-0.0471453   0.00827867  0.02207244 ...  0.04793492 -0.00345132\n",
            "    0.02792015]\n",
            "  [-0.03746655  0.04896399  0.00033245 ...  0.00828452 -0.02570326\n",
            "   -0.03078792]\n",
            "  [-0.00778638 -0.0198203  -0.0377888  ... -0.04458637  0.00299859\n",
            "   -0.00095188]\n",
            "  ...\n",
            "  [-0.04543149 -0.01877358 -0.00513818 ...  0.01727045  0.00893285\n",
            "    0.03257588]\n",
            "  [-0.04543149 -0.01877358 -0.00513818 ...  0.01727045  0.00893285\n",
            "    0.03257588]\n",
            "  [-0.04543149 -0.01877358 -0.00513818 ...  0.01727045  0.00893285\n",
            "    0.03257588]]]\n",
            "Embedded sentence shape : (1, 55, 300)\n"
          ]
        }
      ]
    },
    {
      "cell_type": "markdown",
      "metadata": {
        "id": "B6BuMvADl_T0"
      },
      "source": [
        "#### Tạo bộ dữ liệu phân cụm\n",
        "\n",
        "Chúng tôi đã trải qua tất cả khó khăn nhất khi xử lý dữ liệu. Nhưng nếu cứ để một lượng dữ liệu lớn như vậy đưa vào mô hình train, sẽ có những hạn chế khiến mô hình train chậm hơn, kém hiệu quả hơn và đặc biệt có thể làm bộ nhớ không đủ khả năng lưu trữ. \n",
        "\n",
        "Để giúp cho mô hình có thể train tối ưu các hạn chế trên, chúng ta cần phân tán dữ liệu thành từng cụm, mỗi cụm chứa khoảng 32 mẫu dữ liệu chẳng hạn như vậy. Thì khi mô hình tiến hành train, nó không train liên tục tất cả dữ liệu, mà lúc này nó sẽ xử lý từng cụm, tức là xử lý 32 mẫu dữ liệu tại một thời điểm. Sau khi xử lý xong, nó sẽ đi qua cụm tiếp theo và cứ như vậy cho đến khi kết thúc. Ngoài ra, khi mô hình tiến hành xử lý cụm này, thì dữ liệu trong cụm tiếp theo sẽ được chuẩn bị để khi cụm này xử lý xong thì ngay lập tức cụm sau nối tiếp mà không cần phải mất thời gian chờ chuẩn bị. \n",
        "\n",
        "Cụ thể, API `tf.data` sẽ cung cấp các phương pháp cho phép tải dữ liệu nhanh hơn.\n",
        "\n",
        "> 📖 **Tham khảo:** Để biết các phương pháp tốt nhất về load dữ liệu trong TensorFlow, hãy xem phần sau:\n",
        "> * [tf.data: Build TensorFlow input pipelines](https://www.tensorflow.org/guide/data)\n",
        "> * [Better performance with the tf.data API](https://www.tensorflow.org/guide/data_performance)\n",
        "\n",
        "Đảm bảo TensorFlow load dữ liệu lên GPU nhanh nhất có thể, từ đó dẫn đến thời gian train nhanh hơn.\n",
        "\n",
        "- Để phân tán dữ liệu thành từng cụm, sử dụng [`batch()`](https://www.tensorflow.org/api_docs/python/tf/data/Dataset#batch)\n",
        "- Để chuẩn bị dữ liệu cho quá trình xử lý tiếp theo trong khi mô hình vẫn đang train cụm dữ liệu hiện tại sử dụng [`prefetch()`](https://www.tensorflow.org/api_docs/python/tf/data/Dataset#prefetch) với tham số [`tf.data.AUTOTUNE`](https://www.tensorflow.org/api_docs/python/tf/data#AUTOTUNE) \n"
      ]
    },
    {
      "cell_type": "code",
      "metadata": {
        "colab": {
          "base_uri": "https://localhost:8080/"
        },
        "id": "CjhyElLFoCHH",
        "outputId": "0d3b0ed0-17bd-467b-a53b-7f53fb840c6c"
      },
      "source": [
        "# sử dụng `from_tensor_slices` để gộp 2 loại dữ liệu vào 1 tuple\n",
        "train_dataset = tf.data.Dataset.from_tensor_slices((train_sentences, train_labels_one_hot))\n",
        "val_dataset = tf.data.Dataset.from_tensor_slices((val_sentences, val_labels_one_hot))\n",
        "test_dataset = tf.data.Dataset.from_tensor_slices((test_sentences, test_labels_one_hot))\n",
        "train_dataset, val_dataset, test_dataset"
      ],
      "execution_count": 39,
      "outputs": [
        {
          "output_type": "execute_result",
          "data": {
            "text/plain": [
              "(<TensorSliceDataset shapes: ((), (5,)), types: (tf.string, tf.float64)>,\n",
              " <TensorSliceDataset shapes: ((), (5,)), types: (tf.string, tf.float64)>,\n",
              " <TensorSliceDataset shapes: ((), (5,)), types: (tf.string, tf.float64)>)"
            ]
          },
          "metadata": {},
          "execution_count": 39
        }
      ]
    },
    {
      "cell_type": "code",
      "metadata": {
        "colab": {
          "base_uri": "https://localhost:8080/"
        },
        "id": "FRCmtkfMp8It",
        "outputId": "328806f9-7031-4120-8106-86507ef76749"
      },
      "source": [
        "BATCH_SIZE=32 # Vì dữ liệu dưới dạng văn bản khá nhẹ so với dữ liệu hình ảnh, chúng ta có thể lấy kích thước lớn hơn\n",
        "# Phân tán dữ liệu thành từng cụm và tối ưu quá trình chuẩn bị cho cụm tiếp theo với prefetch \n",
        "train_dataset = train_dataset.batch(BATCH_SIZE).shuffle(1000).prefetch(tf.data.AUTOTUNE) # rieeng với train_dataset có thể xáo trộn dữ liệu \n",
        "val_dataset = val_dataset.batch(BATCH_SIZE).prefetch(tf.data.AUTOTUNE)\n",
        "test_dataset = test_dataset.batch(BATCH_SIZE).prefetch(tf.data.AUTOTUNE)\n",
        "\n",
        "train_dataset, val_dataset, test_dataset"
      ],
      "execution_count": 40,
      "outputs": [
        {
          "output_type": "execute_result",
          "data": {
            "text/plain": [
              "(<PrefetchDataset shapes: ((None,), (None, 5)), types: (tf.string, tf.float64)>,\n",
              " <PrefetchDataset shapes: ((None,), (None, 5)), types: (tf.string, tf.float64)>,\n",
              " <PrefetchDataset shapes: ((None,), (None, 5)), types: (tf.string, tf.float64)>)"
            ]
          },
          "metadata": {},
          "execution_count": 40
        }
      ]
    },
    {
      "cell_type": "markdown",
      "metadata": {
        "id": "wZXCokzNqqT4"
      },
      "source": [
        "### Model 1: Deep learning Conv1D với layer nhúng token trong câu với 20% dữ liệu\n",
        "\n",
        "Mô hình đầu tiên chúng ta sẽ xây dựng là Convolution Neural Network 1 chiều.\n",
        "\n",
        "Tất cả các mô Deep learning đối với dữ liệu văn bản sẽ tuân theo cấu trúc tương tự:\n",
        "\n",
        "```Input (text) -> Tokenize -> Embedding -> Layers -> Output (label probability)```\n",
        "\n",
        "Các bước thực hiện theo quy trình học máy tiêu chuẩn : \n",
        "+ Xây dựng mô hình\n",
        "+ Train mô hình\n",
        "+ Đánh giá mô hình (đưa ra dự đoán và so sánh với giá trị thưc)"
      ]
    },
    {
      "cell_type": "code",
      "metadata": {
        "id": "5-8P3Fdqra3V"
      },
      "source": [
        "# Tạo mô hình CNN 1D để xử lý trình tự\n",
        "inputs = layers.Input(shape=(1,), dtype=\"string\")\n",
        "text_vectors = text_vectorizer(inputs)\n",
        "token_embeddings = token_embed(text_vectors)\n",
        "conv1d_layer = layers.Conv1D(filters=256, kernel_size=5, activation=\"relu\")(token_embeddings)\n",
        "max_pool_layer = layers.GlobalMaxPool1D()(conv1d_layer)\n",
        "outputs = layers.Dense(num_classes, activation=\"softmax\")(max_pool_layer)\n",
        "model_1 = Model(inputs, outputs)\n",
        "\n",
        "# Biên dich mô hình\n",
        "model_1.compile(\n",
        "    loss=\"categorical_crossentropy\", \n",
        "    optimizer=\"adam\",\n",
        "    metrics=[\"accuracy\"]\n",
        ")"
      ],
      "execution_count": 41,
      "outputs": []
    },
    {
      "cell_type": "markdown",
      "metadata": {
        "id": "oIqC0S2ptC2l"
      },
      "source": [
        "Tổng quan kiến trúc `model_1` : "
      ]
    },
    {
      "cell_type": "code",
      "metadata": {
        "colab": {
          "base_uri": "https://localhost:8080/"
        },
        "id": "gtVX9eRHtYE2",
        "outputId": "73d8fea7-e8c0-412b-e926-b48bfb457e65"
      },
      "source": [
        "model_1.summary()"
      ],
      "execution_count": 42,
      "outputs": [
        {
          "output_type": "stream",
          "name": "stdout",
          "text": [
            "Model: \"model\"\n",
            "_________________________________________________________________\n",
            "Layer (type)                 Output Shape              Param #   \n",
            "=================================================================\n",
            "input_1 (InputLayer)         [(None, 1)]               0         \n",
            "_________________________________________________________________\n",
            "text_vectorization (TextVect (None, 55)                0         \n",
            "_________________________________________________________________\n",
            "embedding (Embedding)        (None, 55, 300)           19452300  \n",
            "_________________________________________________________________\n",
            "conv1d (Conv1D)              (None, 51, 256)           384256    \n",
            "_________________________________________________________________\n",
            "global_max_pooling1d (Global (None, 256)               0         \n",
            "_________________________________________________________________\n",
            "dense (Dense)                (None, 5)                 1285      \n",
            "=================================================================\n",
            "Total params: 19,837,841\n",
            "Trainable params: 19,837,841\n",
            "Non-trainable params: 0\n",
            "_________________________________________________________________\n"
          ]
        }
      ]
    },
    {
      "cell_type": "markdown",
      "metadata": {
        "id": "WfYgdc4JtY-G"
      },
      "source": [
        "Việc Kiểm tra tổng quan mô hình sẽ giúp bạn nhận thấy phần lớn các tham số có thể train nằm trong layer `embedding`. Nếu chúng ta tăng kích thước của việc nhúng (bằng cách tăng tham số `output_dim` của layer Embedding), số lượng các tham số có thể train sẽ tăng lên đáng kể.\n",
        "\n",
        "Vì dữ liệu train chứa gần 200.000 câu, nên quá trình train của mô hình có thể mất một lúc ngay cả với GPU. Vì vậy, để giữ cho các thử nghiệm diễn ra nhanh chóng, chúng ta sẽ chạy chúng trên một tập dữ liệu con của tập dữ liệu train.\n",
        "\n",
        "Cụ thể hơn, chúng ta sẽ chỉ sử dụng 20% cụm đầu tiên (khoảng 35.000 dữ liệu mẫu) của bộ train và 10% cụm đầu tiên của tập dũ liệu `val_dataset` để kiểm định quá trình học của mô hình. \n",
        "\n",
        "> 🔑 **Lưu ý** : Chia nhỏ dữ liệu train là phương pháp tiêu chuẩn trong học máy để kiểm tra các mô hình của bạn có hoạt động đúng như mong muốn hay không trước khi train với dữ liệu lớn hơn. Bạn nên đặt mục tiêu chạy nhiều thử nghiệm nhỏ hơn thay vì chỉ một số ít các thử nghiệm lớn. Một trong những cách tốt nhất để chạy các thử nghiệm nhỏ hơn là giảm lượng dữ liệu bạn đang làm việc (10% - 20% của tập dữ liệu đầy đủ thường là một số lượng tốt, miễn là nó bao gồm đầy đủ thông tin có trong dữ liệu đầy đủ)."
      ]
    },
    {
      "cell_type": "code",
      "metadata": {
        "colab": {
          "base_uri": "https://localhost:8080/"
        },
        "id": "OaiP47VFt5J6",
        "outputId": "0a642995-9522-4fc4-e655-f46092a60872"
      },
      "source": [
        "model_1_history = model_1.fit(\n",
        "    train_dataset,\n",
        "    steps_per_epoch=int(0.2 * len(train_dataset)), # thiết lập 20% dữ liệu train tại đây\n",
        "    epochs=5, \n",
        "    validation_data=val_dataset,\n",
        "    validation_steps=int(0.1 * len(val_dataset))\n",
        ")"
      ],
      "execution_count": 43,
      "outputs": [
        {
          "output_type": "stream",
          "name": "stdout",
          "text": [
            "Epoch 1/5\n",
            "1125/1125 [==============================] - 60s 25ms/step - loss: 0.6629 - accuracy: 0.7508 - val_loss: 0.5411 - val_accuracy: 0.7892\n",
            "Epoch 2/5\n",
            "1125/1125 [==============================] - 28s 25ms/step - loss: 0.5434 - accuracy: 0.8006 - val_loss: 0.5056 - val_accuracy: 0.8088\n",
            "Epoch 3/5\n",
            "1125/1125 [==============================] - 28s 25ms/step - loss: 0.5148 - accuracy: 0.8111 - val_loss: 0.5029 - val_accuracy: 0.8145\n",
            "Epoch 4/5\n",
            "1125/1125 [==============================] - 28s 25ms/step - loss: 0.5131 - accuracy: 0.8109 - val_loss: 0.4677 - val_accuracy: 0.8295\n",
            "Epoch 5/5\n",
            "1125/1125 [==============================] - 28s 25ms/step - loss: 0.4899 - accuracy: 0.8225 - val_loss: 0.4883 - val_accuracy: 0.8145\n"
          ]
        }
      ]
    },
    {
      "cell_type": "code",
      "metadata": {
        "id": "Fl4D9UT6wRoy",
        "colab": {
          "base_uri": "https://localhost:8080/"
        },
        "outputId": "9b913b5f-39b3-4fd9-c049-bd8711c73995"
      },
      "source": [
        "model_1.evaluate(val_dataset)"
      ],
      "execution_count": 44,
      "outputs": [
        {
          "output_type": "stream",
          "name": "stdout",
          "text": [
            "945/945 [==============================] - 6s 6ms/step - loss: 0.4856 - accuracy: 0.8135\n"
          ]
        },
        {
          "output_type": "execute_result",
          "data": {
            "text/plain": [
              "[0.4855518341064453, 0.8134515881538391]"
            ]
          },
          "metadata": {},
          "execution_count": 44
        }
      ]
    },
    {
      "cell_type": "code",
      "metadata": {
        "colab": {
          "base_uri": "https://localhost:8080/",
          "height": 390
        },
        "id": "CarR84H2Ag3o",
        "outputId": "dc3eb80f-4e28-4acb-f6b8-d25b482c7112"
      },
      "source": [
        "from utility_functions import plot_loss_curves \n",
        "plot_loss_curves(model_1_history)"
      ],
      "execution_count": 45,
      "outputs": [
        {
          "output_type": "display_data",
          "data": {
            "image/png": "[encoded data removed]",
            "text/plain": [
              "<Figure size 1152x432 with 2 Axes>"
            ]
          },
          "metadata": {
            "needs_background": "light"
          }
        }
      ]
    },
    {
      "cell_type": "markdown",
      "metadata": {
        "id": "jHXLEGWoAuEM"
      },
      "source": [
        "Mô hình có khả năng dự đoán chính xác ~82% trên tập dữ liệu kiểm định (dữ liệu chưa được học). Và quan sát trên biểu đồ learning curves, 2 đường train và test có hướng di chuyển khá tương đồng với nhau nên không xảy ra hiện tượng `overfitting` hoặc `underfitting`\n",
        "\n",
        "Chúng ta sẽ đánh giá bằng 4 phương pháp, nhưng trước tiên cần dự đoán label của dữ liệu kiểm định"
      ]
    },
    {
      "cell_type": "code",
      "metadata": {
        "colab": {
          "base_uri": "https://localhost:8080/"
        },
        "id": "4lV1C14kAlwn",
        "outputId": "c9736ee1-18ed-42da-809c-bc78ee7107a1"
      },
      "source": [
        "model_4_pred_probs = model_1.predict(val_dataset, verbose=1)\n",
        "model_4_pred_probs"
      ],
      "execution_count": 46,
      "outputs": [
        {
          "output_type": "stream",
          "name": "stdout",
          "text": [
            "945/945 [==============================] - 3s 3ms/step\n"
          ]
        },
        {
          "output_type": "execute_result",
          "data": {
            "text/plain": [
              "array([[2.6840132e-01, 3.1499156e-01, 1.3662837e-02, 3.8729855e-01,\n",
              "        1.5645782e-02],\n",
              "       [2.2723265e-01, 2.4734086e-01, 6.1619026e-04, 5.2137512e-01,\n",
              "        3.4352099e-03],\n",
              "       [1.0594544e-01, 3.9630681e-03, 3.7941005e-04, 8.8968486e-01,\n",
              "        2.7266067e-05],\n",
              "       ...,\n",
              "       [1.6134480e-05, 3.7915667e-04, 3.8358234e-03, 3.2569085e-05,\n",
              "        9.9573624e-01],\n",
              "       [3.2728653e-02, 6.6263878e-01, 4.2857803e-02, 5.0014637e-02,\n",
              "        2.1176016e-01],\n",
              "       [1.5142208e-03, 9.9549723e-01, 1.1576720e-03, 1.6296525e-04,\n",
              "        1.6678977e-03]], dtype=float32)"
            ]
          },
          "metadata": {},
          "execution_count": 46
        }
      ]
    },
    {
      "cell_type": "code",
      "metadata": {
        "colab": {
          "base_uri": "https://localhost:8080/"
        },
        "id": "6qjNtC9DBeQi",
        "outputId": "0e3176ae-2ef7-4d8a-c249-159404122ed9"
      },
      "source": [
        "model_4_pred_probs.shape"
      ],
      "execution_count": 47,
      "outputs": [
        {
          "output_type": "execute_result",
          "data": {
            "text/plain": [
              "(30212, 5)"
            ]
          },
          "metadata": {},
          "execution_count": 47
        }
      ]
    },
    {
      "cell_type": "markdown",
      "metadata": {
        "id": "kR9rkPUkBiRp"
      },
      "source": [
        "Tập dữ liệu kiểm định `val_dataset` có 30212 phần tử tương ứng 3012 câu, mỗi phần tử là một mảng gồm 5 phần tử thể hiện giá trị xác suất xảy ra cho mỗi label. Chúng ta sẽ lấy vị trí có giá trị xác suất cao nhất trong mảng con này."
      ]
    },
    {
      "cell_type": "code",
      "metadata": {
        "colab": {
          "base_uri": "https://localhost:8080/"
        },
        "id": "jWwzcPvjB3c-",
        "outputId": "160dc260-1164-4d09-c3a6-92f194d0dc97"
      },
      "source": [
        "model_1_pred_labels = tf.argmax(model_4_pred_probs,axis=1).numpy()\n",
        "model_1_pred_labels"
      ],
      "execution_count": 48,
      "outputs": [
        {
          "output_type": "execute_result",
          "data": {
            "text/plain": [
              "array([3, 3, 3, ..., 4, 1, 1])"
            ]
          },
          "metadata": {},
          "execution_count": 48
        }
      ]
    },
    {
      "cell_type": "markdown",
      "metadata": {
        "id": "5VmZKB5uCFrD"
      },
      "source": [
        "Sau khi có đủ label dự đoán và label thực trong tập dữ liệu kiểm định, lúc này chúng ta có thể đánh khả năng dự đoán của mô hình vơi 4 phương pháp trong phân loại"
      ]
    },
    {
      "cell_type": "code",
      "metadata": {
        "colab": {
          "base_uri": "https://localhost:8080/"
        },
        "id": "FDllx5fQCZ_m",
        "outputId": "343a08ef-dc65-4180-e487-d5a29e3339f7"
      },
      "source": [
        "model_1_results = calculate_results(val_labels_encoder, model_1_pred_labels)\n",
        "model_1_results"
      ],
      "execution_count": 49,
      "outputs": [
        {
          "output_type": "execute_result",
          "data": {
            "text/plain": [
              "{'accuracy': 0.8134516086323316,\n",
              " 'f1-score': 0.8065543917888655,\n",
              " 'precision': 0.8165749000298814,\n",
              " 'recall': 0.8134516086323316}"
            ]
          },
          "metadata": {},
          "execution_count": 49
        }
      ]
    },
    {
      "cell_type": "markdown",
      "metadata": {
        "id": "VZBEV4voCfK3"
      },
      "source": [
        "### Model 2 : Deep learning Conv1D với layer nhúng ký tự trong câu với 20% dữ liệu\n",
        "\n",
        "Với model 1, chúng ta sẽ mã hóa từng từ trong câu thành các token, sau đó nhúng bộ mã hóa đó để tạo những mối liên kết giữa các token với nhau. Ngoài ra, chúng ta còn có thể mã hóa từng ký tự trong một câu thay vì từng từ như `model_1`. Trong mục này, chúng ta sẽ thử nghiệm với trường hợp này. \n",
        "\n",
        "Bước đầu tiên, mọi câu trong văn bản cần phải tách ra thành từng ký tự thay vì từng từ"
      ]
    },
    {
      "cell_type": "code",
      "metadata": {
        "colab": {
          "base_uri": "https://localhost:8080/",
          "height": 52
        },
        "id": "8M8MUsrXHccq",
        "outputId": "e969c09f-dce3-486a-bb8c-c48c75a44a21"
      },
      "source": [
        "def split_chars(text) : \n",
        "  return \" \".join(list(text))\n",
        "split_chars(random_training_sentence)"
      ],
      "execution_count": 50,
      "outputs": [
        {
          "output_type": "execute_result",
          "data": {
            "application/vnd.google.colaboratory.intrinsic+json": {
              "type": "string"
            },
            "text/plain": [
              "'r e s u l t s   f o r   o t h e r   o u t c o m e s   w e r e   m i x e d   w i t h   n o   d i f f e r e n c e s   i n   s e v e r a l   m e a s u r e s   .'"
            ]
          },
          "metadata": {},
          "execution_count": 50
        }
      ]
    },
    {
      "cell_type": "code",
      "metadata": {
        "colab": {
          "base_uri": "https://localhost:8080/"
        },
        "id": "eO5thcgPHoKe",
        "outputId": "48d636d5-4eb4-46f4-a7ac-93ce6dc74488"
      },
      "source": [
        "train_chars = [split_chars(sentence) for sentence in train_sentences]\n",
        "val_chars = [ split_chars(sentence) for sentence in val_sentences]\n",
        "test_chars = [ split_chars(sentence) for sentence in test_sentences]\n",
        "train_chars[:5]"
      ],
      "execution_count": 51,
      "outputs": [
        {
          "output_type": "execute_result",
          "data": {
            "text/plain": [
              "['t o   i n v e s t i g a t e   t h e   e f f i c a c y   o f   @   w e e k s   o f   d a i l y   l o w - d o s e   o r a l   p r e d n i s o l o n e   i n   i m p r o v i n g   p a i n   ,   m o b i l i t y   ,   a n d   s y s t e m i c   l o w - g r a d e   i n f l a m m a t i o n   i n   t h e   s h o r t   t e r m   a n d   w h e t h e r   t h e   e f f e c t   w o u l d   b e   s u s t a i n e d   a t   @   w e e k s   i n   o l d e r   a d u l t s   w i t h   m o d e r a t e   t o   s e v e r e   k n e e   o s t e o a r t h r i t i s   (   o a   )   .',\n",
              " 'a   t o t a l   o f   @   p a t i e n t s   w i t h   p r i m a r y   k n e e   o a   w e r e   r a n d o m i z e d   @ : @   ;   @   r e c e i v e d   @   m g / d a y   o f   p r e d n i s o l o n e   a n d   @   r e c e i v e d   p l a c e b o   f o r   @   w e e k s   .',\n",
              " 'o u t c o m e   m e a s u r e s   i n c l u d e d   p a i n   r e d u c t i o n   a n d   i m p r o v e m e n t   i n   f u n c t i o n   s c o r e s   a n d   s y s t e m i c   i n f l a m m a t i o n   m a r k e r s   .',\n",
              " 'p a i n   w a s   a s s e s s e d   u s i n g   t h e   v i s u a l   a n a l o g   p a i n   s c a l e   (   @ - @   m m   )   .',\n",
              " 's e c o n d a r y   o u t c o m e   m e a s u r e s   i n c l u d e d   t h e   w e s t e r n   o n t a r i o   a n d   m c m a s t e r   u n i v e r s i t i e s   o s t e o a r t h r i t i s   i n d e x   s c o r e s   ,   p a t i e n t   g l o b a l   a s s e s s m e n t   (   p g a   )   o f   t h e   s e v e r i t y   o f   k n e e   o a   ,   a n d   @ - m i n   w a l k   d i s t a n c e   (   @ m w d   )   .']"
            ]
          },
          "metadata": {},
          "execution_count": 51
        }
      ]
    },
    {
      "cell_type": "markdown",
      "metadata": {
        "id": "ldze2HusLLi9"
      },
      "source": [
        "Chúng ta cần xác định giá `max_tokens` là bao nhiêu ? Nếu là từ thì có sẽ có rất nhiều từ khác nhau trong một câu cho đến trong một văn bản. Nhưng nếu là ký tự thì chỉ có 26 chữ cái, thêm vào đó là ký tự đặc biệt. Vì vậy chúng ta sẽ liệt kê các ký tự khác nhau bao gồm chữ cái với module `string`. Lưu ý, chúng ta đã chuyển câu thành ký tự thường trong phần `preprocess_text` nên không cần lấy ký tự in hoa. "
      ]
    },
    {
      "cell_type": "code",
      "metadata": {
        "colab": {
          "base_uri": "https://localhost:8080/",
          "height": 35
        },
        "id": "2e3tBGPUDZeF",
        "outputId": "c753c33e-62d5-414f-cba3-c7cde3c157db"
      },
      "source": [
        "import string \n",
        "\n",
        "alphabets = string.ascii_lowercase + string.punctuation + string.digits\n",
        "alphabets"
      ],
      "execution_count": 52,
      "outputs": [
        {
          "output_type": "execute_result",
          "data": {
            "application/vnd.google.colaboratory.intrinsic+json": {
              "type": "string"
            },
            "text/plain": [
              "'abcdefghijklmnopqrstuvwxyz!\"#$%&\\'()*+,-./:;<=>?@[\\\\]^_`{|}~0123456789'"
            ]
          },
          "metadata": {},
          "execution_count": 52
        }
      ]
    },
    {
      "cell_type": "code",
      "metadata": {
        "id": "CPLiYeBFFm66"
      },
      "source": [
        "MAX_CHAR_TOKENS = len(alphabets) + 2 ## Bao gồm khoảng trắng và  OOV token"
      ],
      "execution_count": 53,
      "outputs": []
    },
    {
      "cell_type": "markdown",
      "metadata": {
        "id": "ixkrcqDfG5-4"
      },
      "source": [
        "Tiếp theo, `output_sequence_length` để xác định kích thước output cho bộ mã hóa ký tự. Chúng ta cần xác định độ dài của các ký tự trong mỗi câu của văn bản."
      ]
    },
    {
      "cell_type": "code",
      "metadata": {
        "colab": {
          "base_uri": "https://localhost:8080/"
        },
        "id": "IDP0iVGHIHVq",
        "outputId": "fcee1dfe-ae29-42de-8408-d1c3f496e896"
      },
      "source": [
        "train_chars_length = [len(sentence) for sentence in train_sentences]\n",
        "train_chars_avg_length = np.mean(train_chars_length)\n",
        "train_chars_avg_length"
      ],
      "execution_count": 54,
      "outputs": [
        {
          "output_type": "execute_result",
          "data": {
            "text/plain": [
              "149.3662574983337"
            ]
          },
          "metadata": {},
          "execution_count": 54
        }
      ]
    },
    {
      "cell_type": "code",
      "metadata": {
        "colab": {
          "base_uri": "https://localhost:8080/",
          "height": 367
        },
        "id": "3Z54UIZfKb7x",
        "outputId": "ff08034c-5916-4d59-c85b-1f5fc21ca868"
      },
      "source": [
        "plt.hist(train_chars_length)"
      ],
      "execution_count": 55,
      "outputs": [
        {
          "output_type": "execute_result",
          "data": {
            "text/plain": [
              "(array([9.2691e+04, 7.6343e+04, 9.6890e+03, 1.0890e+03, 1.6700e+02,\n",
              "        4.2000e+01, 1.3000e+01, 3.0000e+00, 2.0000e+00, 1.0000e+00]),\n",
              " array([1.0000e+00, 1.3950e+02, 2.7800e+02, 4.1650e+02, 5.5500e+02,\n",
              "        6.9350e+02, 8.3200e+02, 9.7050e+02, 1.1090e+03, 1.2475e+03,\n",
              "        1.3860e+03]),\n",
              " <a list of 10 Patch objects>)"
            ]
          },
          "metadata": {},
          "execution_count": 55
        },
        {
          "output_type": "display_data",
          "data": {
            "image/png": "[encoded data removed]",
            "text/plain": [
              "<Figure size 432x288 with 1 Axes>"
            ]
          },
          "metadata": {
            "needs_background": "light"
          }
        }
      ]
    },
    {
      "cell_type": "markdown",
      "metadata": {
        "id": "JyuEDAe7H9w2"
      },
      "source": [
        "Trong mỗi câu, có trung bình ~150 từ, và tập trung nhiều nhất trong khoảng [0-250] chúng ta sẽ tìm khoảng 95% số từ sẽ là bao nhiêu "
      ]
    },
    {
      "cell_type": "code",
      "metadata": {
        "colab": {
          "base_uri": "https://localhost:8080/"
        },
        "id": "IF_isx-WIW4o",
        "outputId": "eaf7170b-7289-4111-ff9a-db57ea440fc8"
      },
      "source": [
        "output_seq_length = np.percentile(train_chars_length, 95).astype(\"int\")\n",
        "output_seq_length"
      ],
      "execution_count": 56,
      "outputs": [
        {
          "output_type": "execute_result",
          "data": {
            "text/plain": [
              "290"
            ]
          },
          "metadata": {},
          "execution_count": 56
        }
      ]
    },
    {
      "cell_type": "markdown",
      "metadata": {
        "id": "sDlO9ig9Kie8"
      },
      "source": [
        "Sau khi có 2 tham số trên đủ để tạo instance cho `TextVectorization` "
      ]
    },
    {
      "cell_type": "code",
      "metadata": {
        "id": "uSIz2C_LK5Za"
      },
      "source": [
        "char_vectorizer = TextVectorization(\n",
        "    max_tokens=MAX_TOKENS, \n",
        "    output_sequence_length=int(output_seq_length),    \n",
        ")"
      ],
      "execution_count": 57,
      "outputs": []
    },
    {
      "cell_type": "code",
      "metadata": {
        "id": "WrxjneCNL9_c"
      },
      "source": [
        "char_vectorizer.adapt(train_chars)"
      ],
      "execution_count": 58,
      "outputs": []
    },
    {
      "cell_type": "code",
      "metadata": {
        "colab": {
          "base_uri": "https://localhost:8080/"
        },
        "id": "kpsKoAHNM8X6",
        "outputId": "dca7c292-50aa-487d-b132-7f7e5d5a6740"
      },
      "source": [
        "chars_20k_rtc_vocab = char_vectorizer.get_vocabulary()\n",
        "print(f\"Số ký tự được vector hóa :{len(chars_20k_rtc_vocab)}\")\n",
        "print(f\"Những ký tự xuất hiện nhiều nhất: {chars_20k_rtc_vocab[:10]}\")\n",
        "print(f\"Những ký tự xuất hiện ít nhất: {chars_20k_rtc_vocab[-10:]}\")"
      ],
      "execution_count": 59,
      "outputs": [
        {
          "output_type": "stream",
          "name": "stdout",
          "text": [
            "Số ký tự được vector hóa :28\n",
            "Những ký tự xuất hiện nhiều nhất: ['', '[UNK]', 'e', 't', 'i', 'a', 'n', 'o', 'r', 's']\n",
            "Những ký tự xuất hiện ít nhất: ['g', 'y', 'w', 'v', 'b', 'k', 'x', 'z', 'q', 'j']\n"
          ]
        }
      ]
    },
    {
      "cell_type": "markdown",
      "metadata": {
        "id": "7vMseugWgiQw"
      },
      "source": [
        "Giống như bộ nhúng mã hóa token, chúng ta cũng tạo bộ nhúng mã hóa các ký tự với  [`tensorflow.keras.layers.Embedding`](https://www.tensorflow.org/api_docs/python/tf/keras/layers/Embedding). \n",
        "\n",
        "`input_dim` sẽ bằng số ký tự khác nhau trong `char_vocab` (28). Và vì chúng ta đang theo cấu trúc của mô hình trong Hình 1 [*Neural Networks for Joint Sentence Classification\n",
        "in Medical Paper Abstracts*](https://arxiv.org/pdf/1612.05251.pdf) nên kích thước output của ký tự nhúng (`output_dim`) là 25\n",
        "\n"
      ]
    },
    {
      "cell_type": "code",
      "metadata": {
        "id": "Ac0iudJLhzXQ"
      },
      "source": [
        "char_embed = Embedding(\n",
        "    input_dim=len(char_vectorizer.get_vocabulary()), \n",
        "    input_length=output_seq_length, \n",
        "    output_dim=25\n",
        ")"
      ],
      "execution_count": 60,
      "outputs": []
    },
    {
      "cell_type": "markdown",
      "metadata": {
        "id": "BlT0-uY6jU_J"
      },
      "source": [
        "Chúng ta đã tạo được 2 layer giúp chuyển đổi ký tự thành thành dạng số, và nhúng các những bản số này để tạo mối liên hệ giữa chúng với nhau. Trước khi xây dựng mô hình, nên thử một mẫu với 2 layer này :"
      ]
    },
    {
      "cell_type": "code",
      "metadata": {
        "colab": {
          "base_uri": "https://localhost:8080/"
        },
        "id": "t2_erBVejPfe",
        "outputId": "69b8b55b-e2b2-443b-fd66-245f69013ccc"
      },
      "source": [
        "import random \n",
        "random_train_chars = random.choice(train_chars)\n",
        "print(f\"Chuỗi ký tự ban đầu :{random_train_chars}\\n\\n\")\n",
        "vectorized_train_chars_example = char_vectorizer([random_train_chars])\n",
        "print(f\"Chuỗi ký tự được mã hóa : {vectorized_train_chars_example}\")\n",
        "print(f\"Kích thước chuỗi ký tự được mã hóa :{vectorized_train_chars_example.shape}\\n\\n\")\n",
        "embed_train_chars_exaple = char_embed(vectorized_train_chars_example)\n",
        "print(f\"Nhúng chuỗi ký tự được mã hóa: {embed_train_chars_exaple} \")\n",
        "print(f\"Kích thước bản nhúng chuỗi ký tự được mã hóa: {embed_train_chars_exaple.shape} \")"
      ],
      "execution_count": 61,
      "outputs": [
        {
          "output_type": "stream",
          "name": "stdout",
          "text": [
            "Chuỗi ký tự ban đầu :b o t h   g r o u p s   w e r e   c o n t a c t e d   a f t e r   t h e i r   f r a c t u r e   a n d   w e r e   a s k e d   t o   a n s w e r   a   q u e s t i o n n a i r e   a n d   w e r e   i n f o r m e d   a b o u t   t h e   p o s s i b l e   r e l a t i o n s h i p   b e t w e e n   d r f   a n d   o p   .\n",
            "\n",
            "\n",
            "Chuỗi ký tự được mã hóa : [[22  7  3 13 18  8  7 16 14  9 20  2  8  2 11  7  6  3  5 11  3  2 10  5\n",
            "  17  3  2  8  3 13  2  4  8 17  8  5 11  3 16  8  2  5  6 10 20  2  8  2\n",
            "   5  9 23  2 10  3  7  5  6  9 20  2  8  5 26 16  2  9  3  4  7  6  6  5\n",
            "   4  8  2  5  6 10 20  2  8  2  4  6 17  7  8 15  2 10  5 22  7 16  3  3\n",
            "  13  2 14  7  9  9  4 22 12  2  8  2 12  5  3  4  7  6  9 13  4 14 22  2\n",
            "   3 20  2  2  6 10  8 17  5  6 10  7 14  0  0  0  0  0  0  0  0  0  0  0\n",
            "   0  0  0  0  0  0  0  0  0  0  0  0  0  0  0  0  0  0  0  0  0  0  0  0\n",
            "   0  0  0  0  0  0  0  0  0  0  0  0  0  0  0  0  0  0  0  0  0  0  0  0\n",
            "   0  0  0  0  0  0  0  0  0  0  0  0  0  0  0  0  0  0  0  0  0  0  0  0\n",
            "   0  0  0  0  0  0  0  0  0  0  0  0  0  0  0  0  0  0  0  0  0  0  0  0\n",
            "   0  0  0  0  0  0  0  0  0  0  0  0  0  0  0  0  0  0  0  0  0  0  0  0\n",
            "   0  0  0  0  0  0  0  0  0  0  0  0  0  0  0  0  0  0  0  0  0  0  0  0\n",
            "   0  0]]\n",
            "Kích thước chuỗi ký tự được mã hóa :(1, 290)\n",
            "\n",
            "\n",
            "Nhúng chuỗi ký tự được mã hóa: [[[ 0.01515336 -0.03467057 -0.02187357 ...  0.0348937   0.0077351\n",
            "    0.03098639]\n",
            "  [ 0.01583045 -0.02849801 -0.0129325  ...  0.04390227 -0.0038348\n",
            "    0.00188831]\n",
            "  [-0.02944977 -0.03317527 -0.00680833 ... -0.01915562 -0.02575905\n",
            "   -0.04588964]\n",
            "  ...\n",
            "  [-0.01795895 -0.04250299  0.02751874 ... -0.04136742  0.03736954\n",
            "   -0.01940662]\n",
            "  [-0.01795895 -0.04250299  0.02751874 ... -0.04136742  0.03736954\n",
            "   -0.01940662]\n",
            "  [-0.01795895 -0.04250299  0.02751874 ... -0.04136742  0.03736954\n",
            "   -0.01940662]]] \n",
            "Kích thước bản nhúng chuỗi ký tự được mã hóa: (1, 290, 25) \n"
          ]
        }
      ]
    },
    {
      "cell_type": "markdown",
      "metadata": {
        "id": "BxDXlQJ1kplQ"
      },
      "source": [
        "Cool, Bây giờ chúng ta đã có một cách để biến các chuỗi cấp độ ký tự của chúng ta thành số (char_vectorizer) cũng như biểu diễn chúng bằng số dưới dạng nhúng (char_embed). Tiếp theo chúng ta sẽ tiến hành khởi tạo và train mô hình.\n",
        "\n",
        "Mô hình sẽ có cấu trúc giống như mô hình nhúng mã token (`model_1`) ngoại trừ nó sẽ lấy chuỗi cấp ký tự làm input thay vì chuỗi cấp token.\n",
        "\n"
      ]
    },
    {
      "cell_type": "code",
      "metadata": {
        "id": "Hf4l-ADbk9ie"
      },
      "source": [
        "inputs = layers.Input(shape=(1,), dtype=\"string\")\n",
        "char_vectors = char_vectorizer(inputs)\n",
        "char_embeddings = char_embed(char_vectors)\n",
        "conv1d_layer = layers.Conv1D(filters=128, kernel_size=5, activation=\"relu\")(char_embeddings)\n",
        "max_pool_layer = layers.GlobalMaxPool1D()(conv1d_layer)\n",
        "outputs = layers.Dense(num_classes, activation=\"softmax\")(max_pool_layer)\n",
        "\n",
        "model_2 = Model(inputs, outputs)\n",
        "\n",
        "model_2.compile(\n",
        "    loss=\"categorical_crossentropy\", \n",
        "    optimizer=\"adam\",\n",
        "    metrics=[\"accuracy\"]\n",
        ")"
      ],
      "execution_count": 62,
      "outputs": []
    },
    {
      "cell_type": "code",
      "metadata": {
        "colab": {
          "base_uri": "https://localhost:8080/"
        },
        "id": "fhD9y0YomI2j",
        "outputId": "b9a2b206-59b9-4a3f-ae2b-fdc9537095b0"
      },
      "source": [
        "model_2.summary()"
      ],
      "execution_count": 63,
      "outputs": [
        {
          "output_type": "stream",
          "name": "stdout",
          "text": [
            "Model: \"model_1\"\n",
            "_________________________________________________________________\n",
            "Layer (type)                 Output Shape              Param #   \n",
            "=================================================================\n",
            "input_2 (InputLayer)         [(None, 1)]               0         \n",
            "_________________________________________________________________\n",
            "text_vectorization_1 (TextVe (None, 290)               0         \n",
            "_________________________________________________________________\n",
            "embedding_1 (Embedding)      (None, 290, 25)           700       \n",
            "_________________________________________________________________\n",
            "conv1d_1 (Conv1D)            (None, 286, 128)          16128     \n",
            "_________________________________________________________________\n",
            "global_max_pooling1d_1 (Glob (None, 128)               0         \n",
            "_________________________________________________________________\n",
            "dense_1 (Dense)              (None, 5)                 645       \n",
            "=================================================================\n",
            "Total params: 17,473\n",
            "Trainable params: 17,473\n",
            "Non-trainable params: 0\n",
            "_________________________________________________________________\n"
          ]
        }
      ]
    },
    {
      "cell_type": "markdown",
      "metadata": {
        "id": "k6-o6RKimPn6"
      },
      "source": [
        "Có thể thấy số tham số có thể train trong `model_2` rất nhỏ so với `model_1` vì danh sách từ trong layer nhúng chỉ có 28 so với >64.000 của `model_1`. \n",
        "\n",
        "Trước khi train mô hình, chúng ta đưa tập dữ liệu phân tán theo từng cụm giống như cách đã làm trong `model_1` "
      ]
    },
    {
      "cell_type": "code",
      "metadata": {
        "colab": {
          "base_uri": "https://localhost:8080/"
        },
        "id": "hwaMLEPXmmin",
        "outputId": "30f3bd1a-6e4c-4b55-a538-15e52045ce4e"
      },
      "source": [
        "BATCH_SIZE=32\n",
        "\n",
        "train_chars_dataset = tf.data.Dataset.from_tensor_slices((train_chars, train_labels_one_hot)).batch(BATCH_SIZE).shuffle(1000).prefetch(tf.data.AUTOTUNE)\n",
        "val_chars_dataset = tf.data.Dataset.from_tensor_slices((val_chars, val_labels_one_hot)).batch(BATCH_SIZE).prefetch(tf.data.AUTOTUNE)\n",
        "test_chars_dataset = tf.data.Dataset.from_tensor_slices((test_chars, test_labels_one_hot)).batch(BATCH_SIZE).prefetch(tf.data.AUTOTUNE)\n",
        "train_chars_dataset, val_chars_dataset, test_chars_dataset"
      ],
      "execution_count": 64,
      "outputs": [
        {
          "output_type": "execute_result",
          "data": {
            "text/plain": [
              "(<PrefetchDataset shapes: ((None,), (None, 5)), types: (tf.string, tf.float64)>,\n",
              " <PrefetchDataset shapes: ((None,), (None, 5)), types: (tf.string, tf.float64)>,\n",
              " <PrefetchDataset shapes: ((None,), (None, 5)), types: (tf.string, tf.float64)>)"
            ]
          },
          "metadata": {},
          "execution_count": 64
        }
      ]
    },
    {
      "cell_type": "code",
      "metadata": {
        "colab": {
          "base_uri": "https://localhost:8080/"
        },
        "id": "5SUfc2tmnztP",
        "outputId": "e800da91-ed16-4e11-b584-ce915d0de17a"
      },
      "source": [
        "model_2_history = model_2.fit(\n",
        "    train_chars_dataset, \n",
        "    steps_per_epoch=int(0.2 * len(train_chars_dataset)), \n",
        "    epochs=5, \n",
        "    validation_data= val_chars_dataset, \n",
        "    validation_steps=int(0.1*len(val_chars_dataset))\n",
        ")"
      ],
      "execution_count": 65,
      "outputs": [
        {
          "output_type": "stream",
          "name": "stdout",
          "text": [
            "Epoch 1/5\n",
            "1125/1125 [==============================] - 13s 11ms/step - loss: 1.0808 - accuracy: 0.5664 - val_loss: 0.8854 - val_accuracy: 0.6439\n",
            "Epoch 2/5\n",
            "1125/1125 [==============================] - 12s 10ms/step - loss: 0.8431 - accuracy: 0.6709 - val_loss: 0.7859 - val_accuracy: 0.6928\n",
            "Epoch 3/5\n",
            "1125/1125 [==============================] - 12s 11ms/step - loss: 0.7858 - accuracy: 0.6972 - val_loss: 0.7302 - val_accuracy: 0.7234\n",
            "Epoch 4/5\n",
            "1125/1125 [==============================] - 12s 11ms/step - loss: 0.7505 - accuracy: 0.7131 - val_loss: 0.7122 - val_accuracy: 0.7277\n",
            "Epoch 5/5\n",
            "1125/1125 [==============================] - 12s 11ms/step - loss: 0.7259 - accuracy: 0.7240 - val_loss: 0.6957 - val_accuracy: 0.7360\n"
          ]
        }
      ]
    },
    {
      "cell_type": "code",
      "metadata": {
        "colab": {
          "base_uri": "https://localhost:8080/"
        },
        "id": "j_3OtDtToFKm",
        "outputId": "483e3421-9ae1-4c9b-a029-448f56d9e40c"
      },
      "source": [
        "model_2.evaluate(val_chars_dataset)"
      ],
      "execution_count": 66,
      "outputs": [
        {
          "output_type": "stream",
          "name": "stdout",
          "text": [
            "945/945 [==============================] - 6s 6ms/step - loss: 0.6983 - accuracy: 0.7362\n"
          ]
        },
        {
          "output_type": "execute_result",
          "data": {
            "text/plain": [
              "[0.6983143091201782, 0.7361975312232971]"
            ]
          },
          "metadata": {},
          "execution_count": 66
        }
      ]
    },
    {
      "cell_type": "code",
      "metadata": {
        "colab": {
          "base_uri": "https://localhost:8080/",
          "height": 390
        },
        "id": "U6WMaacdoN1n",
        "outputId": "391c8111-f30e-4998-8060-968fbe458831"
      },
      "source": [
        "plot_loss_curves(model_2_history)"
      ],
      "execution_count": 67,
      "outputs": [
        {
          "output_type": "display_data",
          "data": {
            "image/png": "[encoded data removed]",
            "text/plain": [
              "<Figure size 1152x432 with 2 Axes>"
            ]
          },
          "metadata": {
            "needs_background": "light"
          }
        }
      ]
    },
    {
      "cell_type": "markdown",
      "metadata": {
        "id": "_nNUTthMoapm"
      },
      "source": [
        "Khả năng dự đoán của mô hình trên tập dữ liệu kiểm định `val_dataset` đã được chuyển thành ký tự trong câu ~73%, khá thấp so với mô hình trước. \n",
        "\n",
        "Dự đoán xác suất với tập dữ liệu kiểm định đã được chuyển thành ký tự"
      ]
    },
    {
      "cell_type": "code",
      "metadata": {
        "colab": {
          "base_uri": "https://localhost:8080/"
        },
        "id": "GQ9kVrUuoRAw",
        "outputId": "e134936e-b4d8-43a5-cdb1-4ed0b8fadadc"
      },
      "source": [
        "model_2_pred_probs = model_2.predict(val_chars_dataset, verbose=1)\n",
        "model_2_pred_probs"
      ],
      "execution_count": 68,
      "outputs": [
        {
          "output_type": "stream",
          "name": "stdout",
          "text": [
            "945/945 [==============================] - 3s 3ms/step\n"
          ]
        },
        {
          "output_type": "execute_result",
          "data": {
            "text/plain": [
              "array([[0.25148502, 0.46842912, 0.03696045, 0.23571391, 0.00741157],\n",
              "       [0.1982581 , 0.7365472 , 0.0013997 , 0.04525565, 0.0185394 ],\n",
              "       [0.14428805, 0.08040813, 0.02530293, 0.74279815, 0.00720281],\n",
              "       ...,\n",
              "       [0.01004212, 0.01647402, 0.06773176, 0.01475533, 0.89099675],\n",
              "       [0.04501824, 0.10039485, 0.52687424, 0.05572644, 0.27198622],\n",
              "       [0.22873226, 0.6475133 , 0.10686341, 0.01331619, 0.00357494]],\n",
              "      dtype=float32)"
            ]
          },
          "metadata": {},
          "execution_count": 68
        }
      ]
    },
    {
      "cell_type": "code",
      "metadata": {
        "colab": {
          "base_uri": "https://localhost:8080/"
        },
        "id": "S4bW4IZNo8TT",
        "outputId": "11f609fd-b2a6-4124-8129-1cf05fcab2f8"
      },
      "source": [
        "model_2_pred_labels = tf.argmax(model_2_pred_probs, axis=1).numpy()\n",
        "model_2_pred_labels"
      ],
      "execution_count": 69,
      "outputs": [
        {
          "output_type": "execute_result",
          "data": {
            "text/plain": [
              "array([1, 1, 3, ..., 4, 2, 1])"
            ]
          },
          "metadata": {},
          "execution_count": 69
        }
      ]
    },
    {
      "cell_type": "markdown",
      "metadata": {
        "id": "qoEjlVaepBqw"
      },
      "source": [
        "Đánh giá khả năng dự đoán của mô hình phân loại với 4 phương pháp,"
      ]
    },
    {
      "cell_type": "code",
      "metadata": {
        "colab": {
          "base_uri": "https://localhost:8080/"
        },
        "id": "DPFL_tVtpMLO",
        "outputId": "5a91f587-4e24-4621-c406-9f0666eb4843"
      },
      "source": [
        "model_2_results = calculate_results(val_labels_encoder, model_2_pred_labels)\n",
        "model_2_results"
      ],
      "execution_count": 70,
      "outputs": [
        {
          "output_type": "execute_result",
          "data": {
            "text/plain": [
              "{'accuracy': 0.7361975374023567,\n",
              " 'f1-score': 0.7335719794528628,\n",
              " 'precision': 0.7350226954506693,\n",
              " 'recall': 0.7361975374023567}"
            ]
          },
          "metadata": {},
          "execution_count": 70
        }
      ]
    },
    {
      "cell_type": "markdown",
      "metadata": {
        "id": "JtslZMcspSrh"
      },
      "source": [
        "### Model 3 : Sử dụng bộ nhúng token đã được train trước đó với 20% dữ liệu\n",
        "\n",
        "Vì chúng ta đang hướng tới việc tái tạo kiến ​​trúc mô hình [*Neural Networks for Joint Sentence Classification\n",
        "in Medical Paper Abstracts*](https://arxiv.org/pdf/1612.05251.pdf), nó đề cập đến việc họ đã sử dụng  [pretrained GloVe embedding](https://nlp.stanford.edu/projects/glove/) được train trước như một cách để khởi tạo bộ nhúng token. \n",
        "\n",
        "Để mô phỏng điều này,chúng ta sẽ sử dụng bộ nhúng token e [ Universal Sentence Encoder embeddings](https://tfhub.dev/google/universal-sentence-encoder/4)\n",
        "\n",
        "> Bạn có thể sử dụng bộ nhúng token [GloVe embeddings](https://keras.io/examples/nlp/pretrained_word_embeddings/) theo như chỉ dẫn từ [Neural Networks for Joint Sentence Classification\n",
        "in Medical Paper Abstracts](https://arxiv.org/pdf/1612.05251.pdf)\n",
        "\n",
        "\n",
        "Cấu trúc mô hình sẽ giống như sau:\n",
        "```\n",
        "Inputs (string) -> Pretrained embeddings from TensorFlow Hub (Universal Sentence Encoder) -> Layers -> Output (prediction probabilities)\n",
        "```\n",
        "\n",
        "Bạn sẽ nhận thấy thiếu lớp mã hóa văn bản `text_vectorizer` mà chúng tôi đã sử dụng trong mô hình trước đó. Điều này là do `USE` đã mã hóa trước khi nhúng dữ liệu dùm chúng ta. \n",
        "\n",
        "Loại mô hình này được gọi là transfer learning, hay cụ thể hơn là **transfer learning trích xuất đặc trưng**. Nói cách khác, lấy các mẫu mà một mô hình đã được train ở nơi khác và áp dụng nó vào vấn đề của chính chúng ta.\n",
        "\n",
        "![TensorFlow Hub Universal Feature Encoder feature extractor model we're building](https://raw.githubusercontent.com/mrdbourke/tensorflow-deep-learning/main/images/09-model-tf-hub-USE-to-dense-layer.png)\n",
        "*Mô hình trình trích xuất đặc trưng mà chúng ta đang xây dựng bằng cách sử dụng phương pháp nhúng được đào tạo trước từ TensorFlow Hub.*\n"
      ]
    },
    {
      "cell_type": "code",
      "metadata": {
        "id": "pCKKdL3yq5nv"
      },
      "source": [
        "import tensorflow_hub as hub \n",
        "tf_hub_embedding_layer = hub.KerasLayer(\"https://tfhub.dev/google/universal-sentence-encoder/4\")"
      ],
      "execution_count": 71,
      "outputs": []
    },
    {
      "cell_type": "markdown",
      "metadata": {
        "id": "HobflktFsOqI"
      },
      "source": [
        "USE layer đã được train đã  được tải xuống và khởi tạo dưới dạng cá thể hub.KerasLayer, chúng ta thử nghiệm nó trên một câu ngẫu nhiên."
      ]
    },
    {
      "cell_type": "code",
      "metadata": {
        "colab": {
          "base_uri": "https://localhost:8080/"
        },
        "id": "LyonjtB8sKm-",
        "outputId": "7f516b63-465a-4588-d815-d2495aee83ed"
      },
      "source": [
        "print(f\"Random training sentence : {random_training_sentence}\")\n",
        "random_sentence_embeddings_example = tf_hub_embedding_layer([random_training_sentence])\n",
        "print(f\"Embedded random sentence : {random_sentence_embeddings_example[0][:20]}\")\n",
        "print(f\"Embedded random sentence shape : {random_sentence_embeddings_example.shape}\")"
      ],
      "execution_count": 72,
      "outputs": [
        {
          "output_type": "stream",
          "name": "stdout",
          "text": [
            "Random training sentence : results for other outcomes were mixed with no differences in several measures .\n",
            "Embedded random sentence : [-0.05078599 -0.02508917 -0.03489947  0.00267961  0.06034454 -0.02412634\n",
            " -0.05086981  0.02798234 -0.01563233  0.07969769 -0.00398502  0.01326018\n",
            "  0.06402071  0.04782172  0.01156459 -0.00723527 -0.01015743  0.02014014\n",
            " -0.01752777  0.00472679]\n",
            "Embedded random sentence shape : (1, 512)\n"
          ]
        }
      ]
    },
    {
      "cell_type": "markdown",
      "metadata": {
        "id": "MRjMQkZDs3zz"
      },
      "source": [
        "layer USE quan tâm đến việc mã hóa văn bản và nhúng các vecto mã hóa để tạo  ra output với số chiều là 512.\n",
        "\n",
        "Bây giờ xây dựng mô hình thôi : "
      ]
    },
    {
      "cell_type": "code",
      "metadata": {
        "id": "U2XKhPautehZ"
      },
      "source": [
        "inputs = layers.Input(shape=(), dtype=\"string\")\n",
        "token_embeddings = tf_hub_embedding_layer(inputs)\n",
        "dense_layer = layers.Dense(200, activation=\"relu\")(token_embeddings)\n",
        "outputs = layers.Dense(num_classes, activation=\"softmax\")(dense_layer)\n",
        "\n",
        "model_3 = Model(inputs, outputs)\n",
        "\n",
        "model_3.compile(\n",
        "    loss=\"categorical_crossentropy\", \n",
        "    optimizer=\"adam\",\n",
        "    metrics=[\"accuracy\"]\n",
        ")"
      ],
      "execution_count": 73,
      "outputs": []
    },
    {
      "cell_type": "code",
      "metadata": {
        "colab": {
          "base_uri": "https://localhost:8080/"
        },
        "id": "AFubEForuYdT",
        "outputId": "e843426b-8cb3-4e62-cb53-36da4cddd922"
      },
      "source": [
        "model_3.summary()"
      ],
      "execution_count": 74,
      "outputs": [
        {
          "output_type": "stream",
          "name": "stdout",
          "text": [
            "Model: \"model_2\"\n",
            "_________________________________________________________________\n",
            "Layer (type)                 Output Shape              Param #   \n",
            "=================================================================\n",
            "input_3 (InputLayer)         [(None,)]                 0         \n",
            "_________________________________________________________________\n",
            "keras_layer (KerasLayer)     (None, 512)               256797824 \n",
            "_________________________________________________________________\n",
            "dense_2 (Dense)              (None, 200)               102600    \n",
            "_________________________________________________________________\n",
            "dense_3 (Dense)              (None, 5)                 1005      \n",
            "=================================================================\n",
            "Total params: 256,901,429\n",
            "Trainable params: 103,605\n",
            "Non-trainable params: 256,797,824\n",
            "_________________________________________________________________\n"
          ]
        }
      ]
    },
    {
      "cell_type": "markdown",
      "metadata": {
        "id": "yJfImM82umP0"
      },
      "source": [
        "Trong mô hình này, chúng ta sẽ sử dụng bộ dữ liệu chuyển đổi văn bản thành token tương tự như `model_1`."
      ]
    },
    {
      "cell_type": "code",
      "metadata": {
        "colab": {
          "base_uri": "https://localhost:8080/"
        },
        "id": "xhzf3T__vpOD",
        "outputId": "be8aa1fe-3c90-4123-e30a-1bef43204cab"
      },
      "source": [
        "model_3_history = model_3.fit(\n",
        "    train_dataset, \n",
        "    steps_per_epoch=int(0.2*len(train_dataset)),\n",
        "    epochs=5, \n",
        "    validation_data=val_dataset, \n",
        "    validation_steps=int(0.1 * len(val_dataset))\n",
        ")"
      ],
      "execution_count": 75,
      "outputs": [
        {
          "output_type": "stream",
          "name": "stdout",
          "text": [
            "Epoch 1/5\n",
            "1125/1125 [==============================] - 24s 19ms/step - loss: 0.8342 - accuracy: 0.6777 - val_loss: 0.7477 - val_accuracy: 0.7134\n",
            "Epoch 2/5\n",
            "1125/1125 [==============================] - 21s 19ms/step - loss: 0.7263 - accuracy: 0.7213 - val_loss: 0.6899 - val_accuracy: 0.7387\n",
            "Epoch 3/5\n",
            "1125/1125 [==============================] - 21s 19ms/step - loss: 0.7011 - accuracy: 0.7308 - val_loss: 0.6613 - val_accuracy: 0.7453\n",
            "Epoch 4/5\n",
            "1125/1125 [==============================] - 21s 19ms/step - loss: 0.6655 - accuracy: 0.7452 - val_loss: 0.6382 - val_accuracy: 0.7586\n",
            "Epoch 5/5\n",
            "1125/1125 [==============================] - 21s 19ms/step - loss: 0.6592 - accuracy: 0.7490 - val_loss: 0.6305 - val_accuracy: 0.7593\n"
          ]
        }
      ]
    },
    {
      "cell_type": "code",
      "metadata": {
        "id": "ePr3vlDSv52N",
        "colab": {
          "base_uri": "https://localhost:8080/"
        },
        "outputId": "614d27f7-9721-420e-9e4f-8ec2b30e07ab"
      },
      "source": [
        "model_3.evaluate(val_dataset)"
      ],
      "execution_count": 76,
      "outputs": [
        {
          "output_type": "stream",
          "name": "stdout",
          "text": [
            "945/945 [==============================] - 17s 18ms/step - loss: 0.6392 - accuracy: 0.7562\n"
          ]
        },
        {
          "output_type": "execute_result",
          "data": {
            "text/plain": [
              "[0.6392302513122559, 0.756222665309906]"
            ]
          },
          "metadata": {},
          "execution_count": 76
        }
      ]
    },
    {
      "cell_type": "code",
      "metadata": {
        "colab": {
          "base_uri": "https://localhost:8080/",
          "height": 390
        },
        "id": "EAd78jDowtRM",
        "outputId": "d2c30af5-ca87-4340-e963-1fe46c4e92dd"
      },
      "source": [
        "plot_loss_curves(model_3_history)"
      ],
      "execution_count": 77,
      "outputs": [
        {
          "output_type": "display_data",
          "data": {
            "image/png": "[encoded data removed]",
            "text/plain": [
              "<Figure size 1152x432 with 2 Axes>"
            ]
          },
          "metadata": {
            "needs_background": "light"
          }
        }
      ]
    },
    {
      "cell_type": "markdown",
      "metadata": {
        "id": "GyrIlLXnwwrK"
      },
      "source": [
        "Với 20% dữ liệu train trong mỗi epoch, mô hình dự đoán trên tập dữ liệu kiểm định đạt độ chính xác ~75%.\n",
        "\n",
        "Dự đoán label của từ các câu trong dữ liệu kiểm định \n",
        "\n"
      ]
    },
    {
      "cell_type": "code",
      "metadata": {
        "colab": {
          "base_uri": "https://localhost:8080/"
        },
        "id": "Ryp4D6oexQOW",
        "outputId": "b4ef7fe4-d1b5-4992-d2ad-1e38cf54b95d"
      },
      "source": [
        "model_3_pred_probs = model_3.predict(val_dataset,verbose=1)\n",
        "model_3_pred_probs"
      ],
      "execution_count": 78,
      "outputs": [
        {
          "output_type": "stream",
          "name": "stdout",
          "text": [
            "945/945 [==============================] - 15s 16ms/step\n"
          ]
        },
        {
          "output_type": "execute_result",
          "data": {
            "text/plain": [
              "array([[5.58147371e-01, 2.93077797e-01, 3.16932186e-04, 1.43710300e-01,\n",
              "        4.74753557e-03],\n",
              "       [4.35469866e-01, 4.56002921e-01, 3.03056650e-03, 1.04606025e-01,\n",
              "        8.90609052e-04],\n",
              "       [4.83765155e-01, 2.95735504e-02, 2.99987681e-02, 4.39995527e-01,\n",
              "        1.66669544e-02],\n",
              "       ...,\n",
              "       [6.65313564e-04, 4.55319474e-04, 1.52931148e-02, 1.34073460e-04,\n",
              "        9.83452141e-01],\n",
              "       [8.02398846e-03, 5.20799868e-02, 1.90680534e-01, 1.96691253e-03,\n",
              "        7.47248590e-01],\n",
              "       [8.03453326e-02, 8.61115038e-01, 5.50645627e-02, 4.54679102e-04,\n",
              "        3.02041462e-03]], dtype=float32)"
            ]
          },
          "metadata": {},
          "execution_count": 78
        }
      ]
    },
    {
      "cell_type": "code",
      "metadata": {
        "colab": {
          "base_uri": "https://localhost:8080/"
        },
        "id": "sS_3YarJxT_q",
        "outputId": "c0ea67d8-d0df-4797-a956-29243d18ef5f"
      },
      "source": [
        "model_3_pred_labels = tf.argmax(model_3_pred_probs, axis=1).numpy()\n",
        "model_3_pred_labels"
      ],
      "execution_count": 79,
      "outputs": [
        {
          "output_type": "execute_result",
          "data": {
            "text/plain": [
              "array([0, 1, 0, ..., 4, 4, 1])"
            ]
          },
          "metadata": {},
          "execution_count": 79
        }
      ]
    },
    {
      "cell_type": "code",
      "metadata": {
        "colab": {
          "base_uri": "https://localhost:8080/"
        },
        "id": "KR4_9aLcxYTb",
        "outputId": "68632454-306c-45e6-f27e-2f4bb4d40123"
      },
      "source": [
        "model_3_results = calculate_results(val_labels_encoder, model_3_pred_labels)\n",
        "model_3_results"
      ],
      "execution_count": 80,
      "outputs": [
        {
          "output_type": "execute_result",
          "data": {
            "text/plain": [
              "{'accuracy': 0.7562226929696809,\n",
              " 'f1-score': 0.7513187977066608,\n",
              " 'precision': 0.7504646335457706,\n",
              " 'recall': 0.7562226929696809}"
            ]
          },
          "metadata": {},
          "execution_count": 80
        }
      ]
    },
    {
      "cell_type": "markdown",
      "metadata": {
        "id": "JWbXmvzKxeLm"
      },
      "source": [
        "### Model 4 : Kết hợp bộ nhúng token được train trước đó và bộ nhúng ký tự (nhúng kết hợp)\n",
        "\n",
        "Khi tiến gần hơn đến việc xây dựng một mô hình tương tự như trong Hình 1 của [*Neural Networks for Joint Sentence Classification\n",
        "in Medical Paper Abstracts*](https://arxiv.org/pdf/1612.05251.pdf), đã đến lúc chúng ta giải quyết layer nhúng kết hợp mà họ nói đến.\n",
        "\n",
        "Layer nhúng kết hợp này là sự kết hợp của bộ nhúng token và nhúng ký tự. Nói cách khác, chúng ta sẽ tạo ra một bộ nhúng xếp chồng lên nhau để đại diện cho các trình tự trước khi chuyển chúng đến layer output.\n",
        "\n",
        "Cho đến nay, chúng ta đã xây dựng hai mô hình sử dụng layer nhúng token và nhúng cấp độ ký tự. Tuy nhiên, hai mô hình này đã sử dụng riêng cho từng cách nhúng này.\n",
        "\n",
        "Chúng ta sẽ mô phỏng (tái tạo) mô hình trong Hình 1, bằng cách thực hiện các bước sau:\n",
        "1. Tạo mô hình với layer nhúng token (tương tự như `model_1`)\n",
        "2. Tạo mô hình với layer nhúng ký tự sử dụng RNN(tương tự như `model_2`)\n",
        "3. Kết hợp (sử dụng [`layers.Concatenate`](https://www.tensorflow.org/api_docs/python/tf/keras/layers/Concatenate)) output của 2 mô hình trên \n",
        "4. Xây dựng một loạt các layer phái trên cùng của 3 layer tương tự như Hình 1 và phần 4.2 của  [*Neural Networks for Joint Sentence Classification\n",
        "in Medical Paper Abstracts*](https://arxiv.org/pdf/1612.05251.pdf)\n",
        "5. Xây dựng một mô hình lấy chuỗi token và cấp độ ký tự làm input và tạo ra xác suất cho các label như một output\n"
      ]
    },
    {
      "cell_type": "code",
      "metadata": {
        "id": "zDcOsmgc1NuK"
      },
      "source": [
        "# Tạo mô hình với layer nhúng token (tương tự như model_1)\n",
        "token_inputs = layers.Input(shape=(),dtype=\"string\")\n",
        "token_embeddings = tf_hub_embedding_layer(token_inputs)\n",
        "token_outputs = layers.Dense(300, activation=\"relu\")(token_embeddings)\n",
        "token_model = Model(token_inputs, token_outputs)\n",
        "\n",
        "# Tạo mô hình với layer nhúng ký tự sử dụng RNN (tương tự như `model_2`)\n",
        "char_inputs = layers.Input(shape=(1,) , dtype=\"string\")\n",
        "char_vectors = char_vectorizer(char_inputs)\n",
        "char_embeddings = char_embed(char_vectors)\n",
        "char_bi_lstm = layers.Bidirectional(layers.LSTM(25))(char_embeddings)\n",
        "char_model = Model(char_inputs, char_bi_lstm)\n",
        "\n",
        "hybrid_token_embeddings = layers.Concatenate(name=\"hybrid_token_embeddings\")([token_model.output, char_model.output])\n",
        "\n",
        "combined_dropout = layers.Dropout(0.5)(hybrid_token_embeddings)\n",
        "combined_dense = layers.Dense(200, activation=\"relu\")(combined_dropout)\n",
        "final_dropout = layers.Dropout(0.5)(combined_dense)\n",
        "outputs = layers.Dense(num_classes, activation=\"softmax\")(final_dropout)\n",
        "\n",
        "model_4 = Model(inputs=[\n",
        "                        token_model.input,\n",
        "                        char_model.input\n",
        "], outputs= outputs)\n",
        "\n",
        "model_4.compile(\n",
        "    loss=\"categorical_crossentropy\", \n",
        "    optimizer=\"adam\", \n",
        "    metrics=[\"accuracy\"]\n",
        ")"
      ],
      "execution_count": 81,
      "outputs": []
    },
    {
      "cell_type": "markdown",
      "metadata": {
        "id": "YgXvdO1f7Cu4"
      },
      "source": [
        "Tổng quan kiến trúc mô hình"
      ]
    },
    {
      "cell_type": "code",
      "metadata": {
        "colab": {
          "base_uri": "https://localhost:8080/"
        },
        "id": "t_YOko-w7Ace",
        "outputId": "8139f8be-58f1-4c84-ca8b-d40504c206d8"
      },
      "source": [
        "model_4.summary()"
      ],
      "execution_count": 82,
      "outputs": [
        {
          "output_type": "stream",
          "name": "stdout",
          "text": [
            "Model: \"model_5\"\n",
            "__________________________________________________________________________________________________\n",
            "Layer (type)                    Output Shape         Param #     Connected to                     \n",
            "==================================================================================================\n",
            "input_5 (InputLayer)            [(None, 1)]          0                                            \n",
            "__________________________________________________________________________________________________\n",
            "input_4 (InputLayer)            [(None,)]            0                                            \n",
            "__________________________________________________________________________________________________\n",
            "text_vectorization_1 (TextVecto (None, 290)          0           input_5[0][0]                    \n",
            "__________________________________________________________________________________________________\n",
            "keras_layer (KerasLayer)        (None, 512)          256797824   input_4[0][0]                    \n",
            "__________________________________________________________________________________________________\n",
            "embedding_1 (Embedding)         (None, 290, 25)      700         text_vectorization_1[1][0]       \n",
            "__________________________________________________________________________________________________\n",
            "dense_4 (Dense)                 (None, 300)          153900      keras_layer[1][0]                \n",
            "__________________________________________________________________________________________________\n",
            "bidirectional (Bidirectional)   (None, 50)           10200       embedding_1[1][0]                \n",
            "__________________________________________________________________________________________________\n",
            "hybrid_token_embeddings (Concat (None, 350)          0           dense_4[0][0]                    \n",
            "                                                                 bidirectional[0][0]              \n",
            "__________________________________________________________________________________________________\n",
            "dropout (Dropout)               (None, 350)          0           hybrid_token_embeddings[0][0]    \n",
            "__________________________________________________________________________________________________\n",
            "dense_5 (Dense)                 (None, 200)          70200       dropout[0][0]                    \n",
            "__________________________________________________________________________________________________\n",
            "dropout_1 (Dropout)             (None, 200)          0           dense_5[0][0]                    \n",
            "__________________________________________________________________________________________________\n",
            "dense_6 (Dense)                 (None, 5)            1005        dropout_1[0][0]                  \n",
            "==================================================================================================\n",
            "Total params: 257,033,829\n",
            "Trainable params: 236,005\n",
            "Non-trainable params: 256,797,824\n",
            "__________________________________________________________________________________________________\n"
          ]
        }
      ]
    },
    {
      "cell_type": "markdown",
      "metadata": {
        "id": "xUUYBz6G7E1G"
      },
      "source": [
        "Kiến trúc mô hình có vẻ phức tạp, rất khó để có thể thấy được sự kết hợp của 2 mô hình, chúng ta sẽ sử dụng `plot_model` của  tensorflow để có thể nhìn rõ hơn về sự kết hợp này :"
      ]
    },
    {
      "cell_type": "code",
      "metadata": {
        "colab": {
          "base_uri": "https://localhost:8080/",
          "height": 856
        },
        "id": "zGl0EdDv7YBZ",
        "outputId": "ad6f49f0-0682-4076-cd80-0a9e5d35b56b"
      },
      "source": [
        "from tensorflow.keras.utils import plot_model\n",
        "\n",
        "plot_model(model_4)"
      ],
      "execution_count": 83,
      "outputs": [
        {
          "output_type": "execute_result",
          "data": {
            "image/png": "[encoded data removed]",
            "text/plain": [
              "<IPython.core.display.Image object>"
            ]
          },
          "metadata": {},
          "execution_count": 83
        }
      ]
    },
    {
      "cell_type": "markdown",
      "metadata": {
        "id": "1gZt-sFU7kpb"
      },
      "source": [
        "Có thể thấy kiến trúc kết hợp 2 mô hình này đã giống như mô tả. \n",
        "\n",
        "Trước khi train mô hình, chúng ta cần phải tạo tập dữ liệu. Vì đây là mô hình kết hợp giữa nhúng token và nhúng dựa trên ký tự nên tập dữ liệu mới cần chứa cả 2 tập dữ liệu trên."
      ]
    },
    {
      "cell_type": "code",
      "metadata": {
        "colab": {
          "base_uri": "https://localhost:8080/"
        },
        "id": "T24Ij7wX7thE",
        "outputId": "69cbc811-080a-4da7-abd2-c2a6ac9fef1a"
      },
      "source": [
        "train_token_chars_dataset = tf.data.Dataset.from_tensor_slices((train_sentences, train_chars))\n",
        "train_labels_dataset = tf.data.Dataset.from_tensor_slices(train_labels_one_hot)\n",
        "train_hybrid_token_embeddings_dataset = tf.data.Dataset.zip((train_token_chars_dataset, train_labels_dataset)).batch(BATCH_SIZE).prefetch(tf.data.AUTOTUNE)\n",
        "\n",
        "val_token_chars_dataset = tf.data.Dataset.from_tensor_slices((val_sentences, val_chars))\n",
        "val_labels_dataset = tf.data.Dataset.from_tensor_slices(val_labels_one_hot)\n",
        "val_hybrid_token_embeddings_dataset = tf.data.Dataset.zip((val_token_chars_dataset, val_labels_dataset)).batch(BATCH_SIZE).prefetch(tf.data.AUTOTUNE)\n",
        "\n",
        "test_token_chars_dataset = tf.data.Dataset.from_tensor_slices((test_sentences, test_chars))\n",
        "test_labels_dataset = tf.data.Dataset.from_tensor_slices(test_labels_one_hot)\n",
        "test_hybrid_token_embeddings_dataset = tf.data.Dataset.zip((test_token_chars_dataset, test_labels_dataset)).batch(BATCH_SIZE).prefetch(tf.data.AUTOTUNE)\n",
        "\n",
        "\n",
        "train_hybrid_token_embeddings_dataset, val_hybrid_token_embeddings_dataset, test_hybrid_token_embeddings_dataset\n"
      ],
      "execution_count": 84,
      "outputs": [
        {
          "output_type": "execute_result",
          "data": {
            "text/plain": [
              "(<PrefetchDataset shapes: (((None,), (None,)), (None, 5)), types: ((tf.string, tf.string), tf.float64)>,\n",
              " <PrefetchDataset shapes: (((None,), (None,)), (None, 5)), types: ((tf.string, tf.string), tf.float64)>,\n",
              " <PrefetchDataset shapes: (((None,), (None,)), (None, 5)), types: ((tf.string, tf.string), tf.float64)>)"
            ]
          },
          "metadata": {},
          "execution_count": 84
        }
      ]
    },
    {
      "cell_type": "code",
      "metadata": {
        "id": "jTL-BLvP8uv9",
        "colab": {
          "base_uri": "https://localhost:8080/"
        },
        "outputId": "a300726a-353f-480d-a997-7a4e3d54dcd6"
      },
      "source": [
        "model_4_history = model_4.fit(\n",
        "    train_hybrid_token_embeddings_dataset, \n",
        "    steps_per_epoch=int(0.2 * len(train_hybrid_token_embeddings_dataset)), \n",
        "    epochs=5,\n",
        "    validation_data=val_hybrid_token_embeddings_dataset, \n",
        "    validation_steps=int(0.1 * len(val_hybrid_token_embeddings_dataset))\n",
        ")"
      ],
      "execution_count": 85,
      "outputs": [
        {
          "output_type": "stream",
          "name": "stdout",
          "text": [
            "Epoch 1/5\n",
            "1125/1125 [==============================] - 133s 114ms/step - loss: 0.8394 - accuracy: 0.6719 - val_loss: 0.6862 - val_accuracy: 0.7380\n",
            "Epoch 2/5\n",
            "1125/1125 [==============================] - 127s 113ms/step - loss: 0.7222 - accuracy: 0.7254 - val_loss: 0.6418 - val_accuracy: 0.7600\n",
            "Epoch 3/5\n",
            "1125/1125 [==============================] - 126s 112ms/step - loss: 0.7123 - accuracy: 0.7292 - val_loss: 0.6275 - val_accuracy: 0.7660\n",
            "Epoch 4/5\n",
            "1125/1125 [==============================] - 127s 113ms/step - loss: 0.6741 - accuracy: 0.7437 - val_loss: 0.6049 - val_accuracy: 0.7733\n",
            "Epoch 5/5\n",
            "1125/1125 [==============================] - 126s 112ms/step - loss: 0.6749 - accuracy: 0.7458 - val_loss: 0.6019 - val_accuracy: 0.7766\n"
          ]
        }
      ]
    },
    {
      "cell_type": "code",
      "metadata": {
        "id": "heL6Uxas-OJs"
      },
      "source": [
        "model_4.evaluate(val_hybrid_token_embeddings_dataset)"
      ],
      "execution_count": 85,
      "outputs": []
    },
    {
      "cell_type": "code",
      "metadata": {
        "id": "QzgurqOe9JuU"
      },
      "source": [
        "plot_loss_curves(model_4_history)"
      ],
      "execution_count": 85,
      "outputs": []
    },
    {
      "cell_type": "code",
      "metadata": {
        "colab": {
          "base_uri": "https://localhost:8080/"
        },
        "id": "YtCAk4oMArso",
        "outputId": "61463b69-5abc-441e-b063-ae2cd08e0a0c"
      },
      "source": [
        "model_4_pred_probs = model_4.predict(val_hybrid_token_embeddings_dataset,verbose=1)\n",
        "model_4_pred_probs"
      ],
      "execution_count": 86,
      "outputs": [
        {
          "output_type": "stream",
          "name": "stdout",
          "text": [
            "945/945 [==============================] - 48s 49ms/step\n"
          ]
        },
        {
          "output_type": "execute_result",
          "data": {
            "text/plain": [
              "array([[5.12092888e-01, 2.84092158e-01, 9.27876099e-04, 1.98570371e-01,\n",
              "        4.31668572e-03],\n",
              "       [3.34340125e-01, 5.63546419e-01, 1.24899868e-03, 1.00227587e-01,\n",
              "        6.36798970e-04],\n",
              "       [4.62979496e-01, 3.50697502e-03, 1.46918455e-02, 5.17743528e-01,\n",
              "        1.07812218e-03],\n",
              "       ...,\n",
              "       [1.66233018e-04, 8.10465368e-04, 7.13650743e-03, 3.60476406e-05,\n",
              "        9.91850674e-01],\n",
              "       [1.56981945e-02, 9.50939134e-02, 1.35945052e-01, 5.95231913e-03,\n",
              "        7.47310460e-01],\n",
              "       [3.75084616e-02, 9.46843565e-01, 1.13746775e-02, 5.93227916e-04,\n",
              "        3.68006737e-03]], dtype=float32)"
            ]
          },
          "metadata": {},
          "execution_count": 86
        }
      ]
    },
    {
      "cell_type": "code",
      "metadata": {
        "colab": {
          "base_uri": "https://localhost:8080/"
        },
        "id": "Z8ziuHI0Av3h",
        "outputId": "eb1c3453-6745-491d-e053-61221a88145a"
      },
      "source": [
        "model_4_pred_labels = tf.argmax(model_4_pred_probs, axis=1).numpy()\n",
        "model_4_pred_labels"
      ],
      "execution_count": 87,
      "outputs": [
        {
          "output_type": "execute_result",
          "data": {
            "text/plain": [
              "array([0, 1, 3, ..., 4, 4, 1])"
            ]
          },
          "metadata": {},
          "execution_count": 87
        }
      ]
    },
    {
      "cell_type": "code",
      "metadata": {
        "colab": {
          "base_uri": "https://localhost:8080/"
        },
        "id": "YVmFzE0PA0E3",
        "outputId": "60426198-54ac-4d50-b03e-10c138ae22fb"
      },
      "source": [
        "model_4_results = calculate_results(val_labels_encoder, model_4_pred_labels)\n",
        "model_4_results"
      ],
      "execution_count": 88,
      "outputs": [
        {
          "output_type": "execute_result",
          "data": {
            "text/plain": [
              "{'accuracy': 0.7698596584138753,\n",
              " 'f1-score': 0.7665190767995294,\n",
              " 'precision': 0.7673113309073144,\n",
              " 'recall': 0.7698596584138753}"
            ]
          },
          "metadata": {},
          "execution_count": 88
        }
      ]
    },
    {
      "cell_type": "markdown",
      "metadata": {
        "id": "kyH3rPQAA7Dt"
      },
      "source": [
        "### Model 5 : Kết hợp bộ nhúng token được train trước + nhúng ký tự + nhúng vị trị của câu với 20% dữ liệu\n",
        "\n",
        "Có vẻ như việc kết hợp nhúng token và nhúng ký tự đã giúp mô hình của tăng hiệu suất một chút. Nhưng còn một mảnh ghép nữa mà chúng ta có thể thêm vào, đó là thứ tự dòng của câu trong bản tóm tắt đó. Nếu bạn để ý một chút trong bản tóm tắt, bạn có mong đợi các câu xuất hiện theo thứ tự không? Hay nó có ý nghĩa nếu chúng xuất hiện tuần tự? Ví dụ, các chuỗi có label OBJECTIVE thường xuất hiện ở đầu, trong khi CONCLUSION sẽ xuất hiện ở cuối cùng của bản tóm tắt. \n",
        "\n",
        "Bản tóm tắt thường theo thứ tự tuần tự, chẳng hạn như:\n",
        "* `OBJECTIVE` ...\n",
        "* `METHODS` ...\n",
        "* `METHODS` ...\n",
        "* `METHODS` ...\n",
        "* `RESULTS` ...\n",
        "* `CONCLUSIONS` ...\n",
        "\n",
        "hay \n",
        "\n",
        "* `BACKGROUND` ...\n",
        "* `OBJECTIVE` ...\n",
        "* `METHODS` ...\n",
        "* `METHODS` ...\n",
        "* `RESULTS` ...\n",
        "* `RESULTS` ...\n",
        "* `CONCLUSIONS` ...\n",
        "* `CONCLUSIONS` ...\n",
        "\n",
        "Chúng ta có thể mã hóa thứ tự dòng của một tập hợp các trình tự trong một bản tóm tắt. VD : \n",
        "* `Sentence 1 of 10` ...\n",
        "* `Sentence 2 of 10` ...\n",
        "* `Sentence 3 of 10` ...\n",
        "* `Sentence 4 of 10` ...\n",
        "* ...\n",
        "\n",
        "Bạn có thể đã nhận thấy điều này khi chúng ta tạo hàm `preprocess_text_with_line_numbers()` thì đã đếm số dòng của mỗi câu trong bản tóm tắt đó. \n",
        "\n",
        "\n"
      ]
    },
    {
      "cell_type": "code",
      "metadata": {
        "colab": {
          "base_uri": "https://localhost:8080/",
          "height": 204
        },
        "id": "DGfGTz8CC1mv",
        "outputId": "dff9e03d-ced8-4805-89ff-91196aaec513"
      },
      "source": [
        "train_df.head()"
      ],
      "execution_count": 130,
      "outputs": [
        {
          "output_type": "execute_result",
          "data": {
            "text/html": [
              "<div>\n",
              "<style scoped>\n",
              "    .dataframe tbody tr th:only-of-type {\n",
              "        vertical-align: middle;\n",
              "    }\n",
              "\n",
              "    .dataframe tbody tr th {\n",
              "        vertical-align: top;\n",
              "    }\n",
              "\n",
              "    .dataframe thead th {\n",
              "        text-align: right;\n",
              "    }\n",
              "</style>\n",
              "<table border=\"1\" class=\"dataframe\">\n",
              "  <thead>\n",
              "    <tr style=\"text-align: right;\">\n",
              "      <th></th>\n",
              "      <th>label</th>\n",
              "      <th>text</th>\n",
              "      <th>line_number</th>\n",
              "      <th>total_lines</th>\n",
              "    </tr>\n",
              "  </thead>\n",
              "  <tbody>\n",
              "    <tr>\n",
              "      <th>0</th>\n",
              "      <td>OBJECTIVE</td>\n",
              "      <td>to investigate the efficacy of @ weeks of dail...</td>\n",
              "      <td>0</td>\n",
              "      <td>11</td>\n",
              "    </tr>\n",
              "    <tr>\n",
              "      <th>1</th>\n",
              "      <td>METHODS</td>\n",
              "      <td>a total of @ patients with primary knee oa wer...</td>\n",
              "      <td>1</td>\n",
              "      <td>11</td>\n",
              "    </tr>\n",
              "    <tr>\n",
              "      <th>2</th>\n",
              "      <td>METHODS</td>\n",
              "      <td>outcome measures included pain reduction and i...</td>\n",
              "      <td>2</td>\n",
              "      <td>11</td>\n",
              "    </tr>\n",
              "    <tr>\n",
              "      <th>3</th>\n",
              "      <td>METHODS</td>\n",
              "      <td>pain was assessed using the visual analog pain...</td>\n",
              "      <td>3</td>\n",
              "      <td>11</td>\n",
              "    </tr>\n",
              "    <tr>\n",
              "      <th>4</th>\n",
              "      <td>METHODS</td>\n",
              "      <td>secondary outcome measures included the wester...</td>\n",
              "      <td>4</td>\n",
              "      <td>11</td>\n",
              "    </tr>\n",
              "  </tbody>\n",
              "</table>\n",
              "</div>"
            ],
            "text/plain": [
              "       label  ... total_lines\n",
              "0  OBJECTIVE  ...          11\n",
              "1    METHODS  ...          11\n",
              "2    METHODS  ...          11\n",
              "3    METHODS  ...          11\n",
              "4    METHODS  ...          11\n",
              "\n",
              "[5 rows x 4 columns]"
            ]
          },
          "metadata": {},
          "execution_count": 130
        }
      ]
    },
    {
      "cell_type": "markdown",
      "metadata": {
        "id": "9mi_HY0KEqPn"
      },
      "source": [
        "`line_number` chính là dòng của câu trong bản tóm tắt, còn `total_lines` chính là tổng số dòng (tổng số câu) của bản tóm tắt đó. Tận dụng 2 đặc tính này, chúng ta sẽ thực hiện vecto hóa và đưa vào layer nhúng. \n",
        "\n",
        "![example of engineering features into our dataset to help our model](https://raw.githubusercontent.com/mrdbourke/tensorflow-deep-learning/main/images/09-engineered-features-at-test-time.png)\n",
        "*Vì các phần tóm tắt thường có thứ tự tuần tự (ví dụ: background, objective, methods, results, conclusion), nên việc thêm số dòng của vị trí của câu cụ thể  là hợp lý. Điều tuyệt vời là, các tính năng này sẽ khả dụng vào thời điểm kiểm tra (chúng ta chỉ có thể đếm số câu trong phần tóm tắt và số lượng của mỗi câu).*\n",
        "\n",
        "Có nghĩa là nếu chúng ta dự đoán label của các chuỗi câu trong một bản tóm tắt mà mô hình của chúng ta chưa từng thấy dữ liệu đó bao giờ, chúng ta có thể đếm số lượng dòng, theo dõi vị trí của từng dòng riêng lẻ và chuyển nó vào mô hình. \n",
        "\n",
        "Vì các cột `line_number` và `total_line` đã là dạng số, chúng ta có thể truyền chúng vào mô hình. Nhưng để tránh mô hình của nghĩ rằng dòng có `line_number=5` lớn hơn năm lần so với dòng có `line_number=1`, chúng ta sẽ sử dụng one-hot encoder để mã hóa `line_number` và `total_lines`."
      ]
    },
    {
      "cell_type": "code",
      "metadata": {
        "colab": {
          "base_uri": "https://localhost:8080/",
          "height": 282
        },
        "id": "byCw4d3AF4iA",
        "outputId": "64ebfc05-13a3-4b3a-b347-03b96eccd256"
      },
      "source": [
        "train_df[\"line_number\"].plot.hist()"
      ],
      "execution_count": 131,
      "outputs": [
        {
          "output_type": "execute_result",
          "data": {
            "text/plain": [
              "<matplotlib.axes._subplots.AxesSubplot at 0x7f78eeb56490>"
            ]
          },
          "metadata": {},
          "execution_count": 131
        },
        {
          "output_type": "display_data",
          "data": {
            "image/png": "[encoded data removed]",
            "text/plain": [
              "<Figure size 432x288 with 1 Axes>"
            ]
          },
          "metadata": {
            "needs_background": "light"
          }
        }
      ]
    },
    {
      "cell_type": "markdown",
      "metadata": {
        "id": "th_KMSW_Gn41"
      },
      "source": [
        "Có thể thấy `line-number` tập trung phần lớn trong khoảng [0-15],phần còn lại có rất ít bản tóm tắt nào có số dòng lớn như vậy. Do đó, chúng ta sẽ chỉ one_hot cho `line_number` với tối đa 15 phần tử "
      ]
    },
    {
      "cell_type": "code",
      "metadata": {
        "colab": {
          "base_uri": "https://localhost:8080/"
        },
        "id": "SR9gj010GwMp",
        "outputId": "f1c198c1-619a-4b62-b879-9eb46be8988f"
      },
      "source": [
        "LINE_NUMBER_DEPTH=15\n",
        "\n",
        "train_line_number_one_hot = tf.one_hot(train_df[\"line_number\"], depth=LINE_NUMBER_DEPTH)\n",
        "val_line_number_one_hot = tf.one_hot(val_df[\"line_number\"], depth=LINE_NUMBER_DEPTH)\n",
        "test_line_number_one_hot = tf.one_hot(test_df[\"line_number\"], depth=LINE_NUMBER_DEPTH)\n",
        "train_line_number_one_hot[:5]"
      ],
      "execution_count": 132,
      "outputs": [
        {
          "output_type": "execute_result",
          "data": {
            "text/plain": [
              "<tf.Tensor: shape=(5, 15), dtype=float32, numpy=\n",
              "array([[1., 0., 0., 0., 0., 0., 0., 0., 0., 0., 0., 0., 0., 0., 0.],\n",
              "       [0., 1., 0., 0., 0., 0., 0., 0., 0., 0., 0., 0., 0., 0., 0.],\n",
              "       [0., 0., 1., 0., 0., 0., 0., 0., 0., 0., 0., 0., 0., 0., 0.],\n",
              "       [0., 0., 0., 1., 0., 0., 0., 0., 0., 0., 0., 0., 0., 0., 0.],\n",
              "       [0., 0., 0., 0., 1., 0., 0., 0., 0., 0., 0., 0., 0., 0., 0.]],\n",
              "      dtype=float32)>"
            ]
          },
          "metadata": {},
          "execution_count": 132
        }
      ]
    },
    {
      "cell_type": "markdown",
      "metadata": {
        "id": "wRewjWm6Hd06"
      },
      "source": [
        "trong `tf.one_hot()` ta thiết lập tham số `depth=15` có nghĩa là : \n",
        "+ Nếu `line_number` <= 15 thì vị trí của nó (line_number) trong một mảng gồm 15 phần tử sẽ là 1, còn lại là 0\n",
        "+ Nếu `line_number` > 15 thì mặc định tất cả 15 phần tử trong mảng đó đều là 0. "
      ]
    },
    {
      "cell_type": "markdown",
      "metadata": {
        "id": "rLJQjjlRIZnP"
      },
      "source": [
        "Tương tự, chúng ta cũng sẽ one_hot cho `total_lines`. Trước tiên sẽ xem mật độ phân bố của total trong tất cả các bản tóm tắt : \n"
      ]
    },
    {
      "cell_type": "code",
      "metadata": {
        "colab": {
          "base_uri": "https://localhost:8080/",
          "height": 284
        },
        "id": "c_TphbZJIu2J",
        "outputId": "28fd0c21-3c18-46fd-a04e-9af2cbaa50bc"
      },
      "source": [
        "train_df[\"total_lines\"].plot.hist()"
      ],
      "execution_count": 133,
      "outputs": [
        {
          "output_type": "execute_result",
          "data": {
            "text/plain": [
              "<matplotlib.axes._subplots.AxesSubplot at 0x7f78eead2d50>"
            ]
          },
          "metadata": {},
          "execution_count": 133
        },
        {
          "output_type": "display_data",
          "data": {
            "image/png": "[encoded data removed]",
            "text/plain": [
              "<Figure size 432x288 with 1 Axes>"
            ]
          },
          "metadata": {
            "needs_background": "light"
          }
        }
      ]
    },
    {
      "cell_type": "markdown",
      "metadata": {
        "id": "6ljqMGA2IyGt"
      },
      "source": [
        "`total_lines` dao động phần lớn trong khoảng [6-19]. Để rõ hơn, chúng ta sẽ lấy 98% `total_lines` sẽ ở đâu "
      ]
    },
    {
      "cell_type": "code",
      "metadata": {
        "colab": {
          "base_uri": "https://localhost:8080/"
        },
        "id": "apA1T6IYJE7I",
        "outputId": "fee96cac-eb14-438e-85f8-a9e6c42064e1"
      },
      "source": [
        "np.percentile(train_df[\"total_lines\"], 98)"
      ],
      "execution_count": 134,
      "outputs": [
        {
          "output_type": "execute_result",
          "data": {
            "text/plain": [
              "20.0"
            ]
          },
          "metadata": {},
          "execution_count": 134
        }
      ]
    },
    {
      "cell_type": "markdown",
      "metadata": {
        "id": "MXPjqsZNJXj9"
      },
      "source": [
        "Như vậy, 98% só bản tóm tắt có `total_lines` < 20. Chúng ta sẽ one_hot `total_lines` với `depth=20`"
      ]
    },
    {
      "cell_type": "code",
      "metadata": {
        "colab": {
          "base_uri": "https://localhost:8080/"
        },
        "id": "M7gBojh4JgPI",
        "outputId": "29c7963d-8dca-4809-b6b2-1f446df10a7c"
      },
      "source": [
        "TOTAL_LINES_DEPTH=20\n",
        "\n",
        "train_total_lines_one_hot = tf.one_hot(train_df[\"total_lines\"], depth=TOTAL_LINES_DEPTH)\n",
        "val_total_lines_one_hot = tf.one_hot(val_df[\"total_lines\"], depth=TOTAL_LINES_DEPTH)\n",
        "test_total_lines_one_hot = tf.one_hot(test_df[\"total_lines\"], depth=TOTAL_LINES_DEPTH)\n",
        "\n",
        "train_total_lines_one_hot[:5]"
      ],
      "execution_count": 135,
      "outputs": [
        {
          "output_type": "execute_result",
          "data": {
            "text/plain": [
              "<tf.Tensor: shape=(5, 20), dtype=float32, numpy=\n",
              "array([[0., 0., 0., 0., 0., 0., 0., 0., 0., 0., 0., 1., 0., 0., 0., 0.,\n",
              "        0., 0., 0., 0.],\n",
              "       [0., 0., 0., 0., 0., 0., 0., 0., 0., 0., 0., 1., 0., 0., 0., 0.,\n",
              "        0., 0., 0., 0.],\n",
              "       [0., 0., 0., 0., 0., 0., 0., 0., 0., 0., 0., 1., 0., 0., 0., 0.,\n",
              "        0., 0., 0., 0.],\n",
              "       [0., 0., 0., 0., 0., 0., 0., 0., 0., 0., 0., 1., 0., 0., 0., 0.,\n",
              "        0., 0., 0., 0.],\n",
              "       [0., 0., 0., 0., 0., 0., 0., 0., 0., 0., 0., 1., 0., 0., 0., 0.,\n",
              "        0., 0., 0., 0.]], dtype=float32)>"
            ]
          },
          "metadata": {},
          "execution_count": 135
        }
      ]
    },
    {
      "cell_type": "markdown",
      "metadata": {
        "id": "OTTYxJuiJ6wm"
      },
      "source": [
        "Các tensors nhúng vị trí đã sẵn sàng. Đã đến lúc xây dựng mô hình lớn nhất. Trong mô hình này, chúng ta sẽ kết hợp nhúng token, nhúng ký tự, và nhúng vị trí. \n",
        "\n",
        "Cụ thể, chúng ta sẽ đi qua các bước sau: \n",
        "1. Tạo mô hình nhúng token (tương tự `model_1`) \n",
        "2. Tạo mô hình nhúng ký tự (tương tự `model_2`)\n",
        "3. Tạo mô hình line_number (đưa tensor `line_number_one_hot` vào inputs và truyền qua một layer phi tuyến)\n",
        "4. Tạo mô hình total_lines (đưa tensor `total_lines` vào inputs và truyền qua một layer phi tuyến)\n",
        "5. Kết hợp (sử dụng [`layers.Concatenate`](https://www.tensorflow.org/api_docs/python/tf/keras/layers/Concatenate)) output của 1 và 2 thành layer nhúng token-character và chuyển chuỗi đầu ra của nó như Hình 1 và phần 4.2 trong [*Neural Networks for Joint Sentence Classification\n",
        "in Medical Paper Abstracts*](https://arxiv.org/pdf/1612.05251.pdf)\n",
        "6. Kết hợp (sử dụng [`layers.Concatenate`](https://www.tensorflow.org/api_docs/python/tf/keras/layers/Concatenate)) output của 3,4 và 5 thành layer nhúng token-character-positional \n",
        "7. Tạo một layer output để chấp nhận nhúng tribrid và taọ ra xác suất của các label được dự đoán\n",
        "8. Kết hợp các input của 1, 2, 3, 4 và output của 7 để tạo thành một mô hình. "
      ]
    },
    {
      "cell_type": "code",
      "metadata": {
        "id": "H-0eZkDJKg7z"
      },
      "source": [
        "# 1 Tạo mô hình nhúng token\n",
        "token_inputs = layers.Input(shape=(), dtype=\"string\")\n",
        "token_embeddings = tf_hub_embedding_layer(token_inputs)\n",
        "token_outputs = layers.Dense(300, activation=\"relu\")(token_embeddings)\n",
        "token_model = Model(token_inputs, token_outputs)\n",
        "# 2. Tạo mô hình nhúng ký tự \n",
        "char_inputs = layers.Input(shape=(1,), dtype=\"string\")\n",
        "char_vectors = char_vectorizer(char_inputs)\n",
        "char_embeddings = char_embed(char_vectors)\n",
        "char_bi_lstm = layers.Bidirectional(layers.LSTM(25))(char_embeddings)\n",
        "char_model = Model(char_inputs, char_bi_lstm)\n",
        "# 3. Tạo mô hình line_number \n",
        "line_number_inputs = layers.Input(shape=(LINE_NUMBER_DEPTH,))\n",
        "line_number_outputs = layers.Dense(64, activation=\"relu\")(line_number_inputs)\n",
        "line_number_model = Model(line_number_inputs, line_number_outputs)\n",
        "# 4.Tạo mô hình total_lines\n",
        "total_lines_inputs = layers.Input(shape=(TOTAL_LINES_DEPTH,))\n",
        "total_lines_outputs = layers.Dense(64, activation=\"relu\")(total_lines_inputs)\n",
        "total_lines_model = Model(total_lines_inputs, total_lines_outputs)\n",
        "# 5. Kết hợp 1 và 2 để tạo thành layer token-character\n",
        "hybrid_token_embeddings = layers.Concatenate(name=\"token_char_embedding_hybrid\")([token_model.output, char_model.output])\n",
        "hybrid_token_embeddings_dropout = layers.Dropout(0.5)(hybrid_token_embeddings) # Sử dụng dropout theo như phần 4.2\n",
        "dense_embeddings = layers.Dense(300, activation=\"relu\")(hybrid_token_embeddings_dropout)\n",
        "final_hybrid_token_embeddings_dropout = layers.Dropout(0.5)(dense_embeddings)\n",
        "# 6. Kết hợp 3,4 và 5 để tạo thành layer tribrid-token-character-position\n",
        "tribrid_token_embeddings = layers.Concatenate(name=\"token_char_embedding_tribrid\")([final_hybrid_token_embeddings_dropout, \n",
        "                                             line_number_model.output, \n",
        "                                             total_lines_model.output])\n",
        "# 7. Tạo một layer output để chấp nhận nhúng tribrid và tạo ra xác suất của các label được dự đoán\n",
        "output_layer = layers.Dense(num_classes, activation=\"softmax\")(tribrid_token_embeddings)\n",
        "\n",
        "# 8. Kết hợp các input của 1, 2, 3, 4 và output của 7 để tạo thành một mô hình. \n",
        "model_5 = Model(inputs=[token_model.input, \n",
        "                        char_model.input, \n",
        "                        line_number_model.input, \n",
        "                        total_lines_model.input], \n",
        "                outputs=output_layer)\n"
      ],
      "execution_count": 136,
      "outputs": []
    },
    {
      "cell_type": "code",
      "metadata": {
        "colab": {
          "base_uri": "https://localhost:8080/"
        },
        "id": "w6muu6AfORU6",
        "outputId": "b778499e-8947-4a74-bf5c-9a8601c01db5"
      },
      "source": [
        "model_5.summary()"
      ],
      "execution_count": 137,
      "outputs": [
        {
          "output_type": "stream",
          "name": "stdout",
          "text": [
            "Model: \"model_39\"\n",
            "__________________________________________________________________________________________________\n",
            "Layer (type)                    Output Shape         Param #     Connected to                     \n",
            "==================================================================================================\n",
            "input_33 (InputLayer)           [(None, 1)]          0                                            \n",
            "__________________________________________________________________________________________________\n",
            "input_32 (InputLayer)           [(None,)]            0                                            \n",
            "__________________________________________________________________________________________________\n",
            "text_vectorization_1 (TextVecto (None, 290)          0           input_33[0][0]                   \n",
            "__________________________________________________________________________________________________\n",
            "keras_layer (KerasLayer)        (None, 512)          256797824   input_32[0][0]                   \n",
            "__________________________________________________________________________________________________\n",
            "embedding_1 (Embedding)         (None, 290, 25)      700         text_vectorization_1[9][0]       \n",
            "__________________________________________________________________________________________________\n",
            "dense_35 (Dense)                (None, 300)          153900      keras_layer[9][0]                \n",
            "__________________________________________________________________________________________________\n",
            "bidirectional_8 (Bidirectional) (None, 50)           10200       embedding_1[9][0]                \n",
            "__________________________________________________________________________________________________\n",
            "token_char_embedding_hybrid (Co (None, 350)          0           dense_35[0][0]                   \n",
            "                                                                 bidirectional_8[0][0]            \n",
            "__________________________________________________________________________________________________\n",
            "dropout_12 (Dropout)            (None, 350)          0           token_char_embedding_hybrid[0][0]\n",
            "__________________________________________________________________________________________________\n",
            "dense_38 (Dense)                (None, 300)          105300      dropout_12[0][0]                 \n",
            "__________________________________________________________________________________________________\n",
            "input_34 (InputLayer)           [(None, 15)]         0                                            \n",
            "__________________________________________________________________________________________________\n",
            "input_35 (InputLayer)           [(None, 20)]         0                                            \n",
            "__________________________________________________________________________________________________\n",
            "dropout_13 (Dropout)            (None, 300)          0           dense_38[0][0]                   \n",
            "__________________________________________________________________________________________________\n",
            "dense_36 (Dense)                (None, 64)           1024        input_34[0][0]                   \n",
            "__________________________________________________________________________________________________\n",
            "dense_37 (Dense)                (None, 64)           1344        input_35[0][0]                   \n",
            "__________________________________________________________________________________________________\n",
            "token_char_embedding_tribrid (C (None, 428)          0           dropout_13[0][0]                 \n",
            "                                                                 dense_36[0][0]                   \n",
            "                                                                 dense_37[0][0]                   \n",
            "__________________________________________________________________________________________________\n",
            "dense_39 (Dense)                (None, 5)            2145        token_char_embedding_tribrid[0][0\n",
            "==================================================================================================\n",
            "Total params: 257,072,437\n",
            "Trainable params: 274,613\n",
            "Non-trainable params: 256,797,824\n",
            "__________________________________________________________________________________________________\n"
          ]
        }
      ]
    },
    {
      "cell_type": "code",
      "metadata": {
        "colab": {
          "base_uri": "https://localhost:8080/",
          "height": 953
        },
        "id": "EAMX_ijyN9EK",
        "outputId": "25a979ec-10be-44ea-d599-1c7fec34b270"
      },
      "source": [
        "plot_model(model_5)"
      ],
      "execution_count": 138,
      "outputs": [
        {
          "output_type": "execute_result",
          "data": {
            "image/png": "[encoded data removed]",
            "text/plain": [
              "<IPython.core.display.Image object>"
            ]
          },
          "metadata": {},
          "execution_count": 138
        }
      ]
    },
    {
      "cell_type": "markdown",
      "metadata": {
        "id": "fqUTevqdTXiq"
      },
      "source": [
        "Về cơ bản, những gì chúng ta đang làm là cố gắng mã hóa càng nhiều thông tin về chuỗi càng tốt thành các nhúng khác nhau (inputs) để mô hình có cơ hội tốt nhất để tìm ra labels nào thuộc về một chuỗi (outputs).\n",
        "\n",
        "Bạn sẽ nhận thấy mô hình của chúng ta trông rất giống với mô hình được hiển thị trong Hình 1 của [*Neural Networks for Joint Sentence Classification\n",
        "in Medical Paper Abstracts*](https://arxiv.org/pdf/1612.05251.pdf). Tuy nhiên, có một số điểm khác nhau : \n",
        "\n",
        "+ Chúng tôi đang sử dụng nhúng token trong TensorFlow Hub được train trước thay vì nhúng của GloVe.\n",
        "+ Tại `token_char_embedding_hybrid` Sử dụng Dense layer thay vì bi-LSTM layer\n",
        "+ Phần 4.2 của bài báo đề cập đến việc nhúng mã token và ký tự được cập nhật trong quá trình train, nhưng các bản nhúng trong TensorFlow được train trước đều không được quyền train.\n",
        "+ Bài báo sử dụng trình tối ưu hóa [`SGD`](https://www.tensorflow.org/api_docs/python/tf/keras/optimizers/SGD), nhưng chúng tôi sẽ sử dụng với [`Adam`](https://www.tensorflow.org/api_docs/python/tf/keras/optimizers/Adam).\n",
        "\n"
      ]
    },
    {
      "cell_type": "code",
      "metadata": {
        "colab": {
          "base_uri": "https://localhost:8080/"
        },
        "id": "vn2om-iJOUM1",
        "outputId": "ceee6fee-2648-4427-8645-ec65f1600f6b"
      },
      "source": [
        "# Check which layers of our model are trainable or not\n",
        "for layer in model_5.layers:\n",
        "  print(layer, layer.trainable)"
      ],
      "execution_count": 139,
      "outputs": [
        {
          "output_type": "stream",
          "name": "stdout",
          "text": [
            "<keras.engine.input_layer.InputLayer object at 0x7f78eeacc450> True\n",
            "<keras.engine.input_layer.InputLayer object at 0x7f78eea60790> True\n",
            "<keras.layers.preprocessing.text_vectorization.TextVectorization object at 0x7f790c272490> True\n",
            "<tensorflow_hub.keras_layer.KerasLayer object at 0x7f7984b30590> False\n",
            "<keras.layers.embeddings.Embedding object at 0x7f790c211990> True\n",
            "<keras.layers.core.Dense object at 0x7f78eea60b50> True\n",
            "<keras.layers.wrappers.Bidirectional object at 0x7f78ee9c2b90> True\n",
            "<keras.layers.merge.Concatenate object at 0x7f78f0837410> True\n",
            "<keras.layers.core.Dropout object at 0x7f78f0dacb90> True\n",
            "<keras.layers.core.Dense object at 0x7f78f0837450> True\n",
            "<keras.engine.input_layer.InputLayer object at 0x7f78f210b510> True\n",
            "<keras.engine.input_layer.InputLayer object at 0x7f78f0817210> True\n",
            "<keras.layers.core.Dropout object at 0x7f78eea4e7d0> True\n",
            "<keras.layers.core.Dense object at 0x7f78f0d46f50> True\n",
            "<keras.layers.core.Dense object at 0x7f78f0eaa190> True\n",
            "<keras.layers.merge.Concatenate object at 0x7f78ee8c6b90> True\n",
            "<keras.layers.core.Dense object at 0x7f78ee8b5d10> True\n"
          ]
        }
      ]
    },
    {
      "cell_type": "markdown",
      "metadata": {
        "id": "Sd0FXbufVbzk"
      },
      "source": [
        "Một lần nữa, để giữ cho các thử nghiệm được diễn ra nhanh chóng, chúng ta sẽ sử dụng 20k bản tóm tắt, phân tán chúng thành từng cụm. \n",
        "\n",
        "Mô hình yêu cầu bốn inputs: \n",
        "1. Train line numbers one-hot tensor (`train_line_numbers_one_hot`)\n",
        "2. Train total lines one-hot tensor (`train_total_lines_one_hot`)\n",
        "3. Token-level sequences tensor (`train_sentences`)\n",
        "4. Char-level sequences tensor (`train_chars`)\n"
      ]
    },
    {
      "cell_type": "code",
      "metadata": {
        "colab": {
          "base_uri": "https://localhost:8080/"
        },
        "id": "-hDbF0a0Ok0X",
        "outputId": "6145c7c3-f561-4e09-e7a0-90852fc5e765"
      },
      "source": [
        "train_token_char_pos_data = tf.data.Dataset.from_tensor_slices((train_sentences, train_chars, train_line_number_one_hot, train_total_lines_one_hot))\n",
        "train_token_char_pos_labels = tf.data.Dataset.from_tensor_slices(train_labels_one_hot)\n",
        "train_token_char_pos_dataset = tf.data.Dataset.zip((train_token_char_pos_data, train_token_char_pos_labels)).batch(BATCH_SIZE).prefetch(tf.data.AUTOTUNE)\n",
        "\n",
        "val_token_char_pos_data = tf.data.Dataset.from_tensor_slices((val_sentences, val_chars, val_line_number_one_hot, val_total_lines_one_hot))\n",
        "val_token_char_pos_labels = tf.data.Dataset.from_tensor_slices(val_labels_one_hot)\n",
        "val_token_char_pos_dataset = tf.data.Dataset.zip((val_token_char_pos_data, val_token_char_pos_labels)).batch(BATCH_SIZE).prefetch(tf.data.AUTOTUNE)\n",
        "\n",
        "test_token_char_pos_data = tf.data.Dataset.from_tensor_slices((test_sentences, test_chars, test_line_number_one_hot, test_total_lines_one_hot))\n",
        "test_token_char_pos_labels = tf.data.Dataset.from_tensor_slices(test_labels_one_hot)\n",
        "test_token_char_pos_dataset = tf.data.Dataset.zip((test_token_char_pos_data, test_token_char_pos_labels)).batch(BATCH_SIZE).prefetch(tf.data.AUTOTUNE)\n",
        "\n",
        "train_token_char_pos_dataset"
      ],
      "execution_count": 140,
      "outputs": [
        {
          "output_type": "execute_result",
          "data": {
            "text/plain": [
              "<PrefetchDataset shapes: (((None,), (None,), (None, 15), (None, 20)), (None, 5)), types: ((tf.string, tf.string, tf.float32, tf.float32), tf.float64)>"
            ]
          },
          "metadata": {},
          "execution_count": 140
        }
      ]
    },
    {
      "cell_type": "code",
      "metadata": {
        "id": "tXnmyH1vVMLx"
      },
      "source": [
        "# Biên dịch mô hình \n",
        "model_5.compile(\n",
        "    loss=tf.keras.losses.CategoricalCrossentropy(label_smoothing=0.2),\n",
        "    optimizer=\"adam\",\n",
        "    metrics=[\"accuracy\"]\n",
        ")"
      ],
      "execution_count": 141,
      "outputs": []
    },
    {
      "cell_type": "code",
      "metadata": {
        "colab": {
          "base_uri": "https://localhost:8080/"
        },
        "id": "QMcdlxaMPp7j",
        "outputId": "f3fb3c4e-45ee-4b6d-ddd0-db522be3834a"
      },
      "source": [
        "model_5_history = model_5.fit(\n",
        "    train_token_char_pos_dataset, \n",
        "    steps_per_epoch=int(0.2*len(train_token_char_pos_dataset)),\n",
        "    epochs=5, \n",
        "    validation_data=val_token_char_pos_dataset, \n",
        "    validation_steps=int(0.1*len(val_token_char_pos_dataset))\n",
        ")"
      ],
      "execution_count": 142,
      "outputs": [
        {
          "output_type": "stream",
          "name": "stdout",
          "text": [
            "Epoch 1/5\n",
            "1125/1125 [==============================] - 136s 117ms/step - loss: 1.0333 - accuracy: 0.7709 - val_loss: 0.9488 - val_accuracy: 0.8281\n",
            "Epoch 2/5\n",
            "1125/1125 [==============================] - 130s 116ms/step - loss: 0.9549 - accuracy: 0.8244 - val_loss: 0.9325 - val_accuracy: 0.8358\n",
            "Epoch 3/5\n",
            "1125/1125 [==============================] - 130s 115ms/step - loss: 0.9508 - accuracy: 0.8271 - val_loss: 0.9229 - val_accuracy: 0.8428\n",
            "Epoch 4/5\n",
            "1125/1125 [==============================] - 131s 116ms/step - loss: 0.9399 - accuracy: 0.8341 - val_loss: 0.9123 - val_accuracy: 0.8497\n",
            "Epoch 5/5\n",
            "1125/1125 [==============================] - 131s 117ms/step - loss: 0.9376 - accuracy: 0.8371 - val_loss: 0.9198 - val_accuracy: 0.8418\n"
          ]
        }
      ]
    },
    {
      "cell_type": "code",
      "metadata": {
        "colab": {
          "base_uri": "https://localhost:8080/"
        },
        "id": "rYeP2VGFP6iF",
        "outputId": "a807e855-5bce-4086-8b2c-99ef8158bb4f"
      },
      "source": [
        "model_5.evaluate(val_token_char_pos_dataset)"
      ],
      "execution_count": 143,
      "outputs": [
        {
          "output_type": "stream",
          "name": "stdout",
          "text": [
            "945/945 [==============================] - 53s 56ms/step - loss: 0.9135 - accuracy: 0.8466\n"
          ]
        },
        {
          "output_type": "execute_result",
          "data": {
            "text/plain": [
              "[0.9135044813156128, 0.8465510606765747]"
            ]
          },
          "metadata": {},
          "execution_count": 143
        }
      ]
    },
    {
      "cell_type": "code",
      "metadata": {
        "colab": {
          "base_uri": "https://localhost:8080/",
          "height": 390
        },
        "id": "SC9y_ZMfS5M9",
        "outputId": "2b2436ed-a851-4f34-aed2-dfd76c332152"
      },
      "source": [
        "plot_loss_curves(model_5_history)"
      ],
      "execution_count": 144,
      "outputs": [
        {
          "output_type": "display_data",
          "data": {
            "image/png": "[encoded data removed]",
            "text/plain": [
              "<Figure size 1152x432 with 2 Axes>"
            ]
          },
          "metadata": {
            "needs_background": "light"
          }
        }
      ]
    },
    {
      "cell_type": "code",
      "metadata": {
        "colab": {
          "base_uri": "https://localhost:8080/"
        },
        "id": "nh56ZFutS8ru",
        "outputId": "da07630b-924c-4b24-9c6b-caf45a13ca9f"
      },
      "source": [
        "model_5_pred_probs = model_5.predict(val_token_char_pos_dataset,verbose=1)\n",
        "model_5_pred_probs"
      ],
      "execution_count": 145,
      "outputs": [
        {
          "output_type": "stream",
          "name": "stdout",
          "text": [
            "945/945 [==============================] - 51s 52ms/step\n"
          ]
        },
        {
          "output_type": "execute_result",
          "data": {
            "text/plain": [
              "array([[0.5596566 , 0.09881553, 0.01417628, 0.2944636 , 0.03288797],\n",
              "       [0.5742848 , 0.10639202, 0.08415896, 0.21455197, 0.02061222],\n",
              "       [0.3527974 , 0.12337479, 0.06006135, 0.40468547, 0.05908103],\n",
              "       ...,\n",
              "       [0.02096361, 0.06051384, 0.02068153, 0.02835106, 0.86948997],\n",
              "       [0.02574691, 0.3007047 , 0.03855949, 0.02550375, 0.60948515],\n",
              "       [0.08094693, 0.7213978 , 0.10251644, 0.03508974, 0.06004901]],\n",
              "      dtype=float32)"
            ]
          },
          "metadata": {},
          "execution_count": 145
        }
      ]
    },
    {
      "cell_type": "code",
      "metadata": {
        "colab": {
          "base_uri": "https://localhost:8080/"
        },
        "id": "PhY9yB0aTA0D",
        "outputId": "82494048-f4a4-4106-da9f-c28fa890fdff"
      },
      "source": [
        "model_5_pred_labels = tf.argmax(model_5_pred_probs, axis=1).numpy()\n",
        "model_5_pred_labels"
      ],
      "execution_count": 146,
      "outputs": [
        {
          "output_type": "execute_result",
          "data": {
            "text/plain": [
              "array([0, 0, 3, ..., 4, 4, 1])"
            ]
          },
          "metadata": {},
          "execution_count": 146
        }
      ]
    },
    {
      "cell_type": "code",
      "metadata": {
        "colab": {
          "base_uri": "https://localhost:8080/"
        },
        "id": "8XonT6m4TFbk",
        "outputId": "2e501983-8318-4f0f-f540-d28125e58707"
      },
      "source": [
        "model_5_results = calculate_results(val_labels_encoder, model_5_pred_labels)\n",
        "model_5_results"
      ],
      "execution_count": 149,
      "outputs": [
        {
          "output_type": "execute_result",
          "data": {
            "text/plain": [
              "{'accuracy': 0.8465510393221236,\n",
              " 'f1-score': 0.8429548457340953,\n",
              " 'precision': 0.8496437022884074,\n",
              " 'recall': 0.8465510393221236}"
            ]
          },
          "metadata": {},
          "execution_count": 149
        }
      ]
    },
    {
      "cell_type": "markdown",
      "metadata": {
        "id": "qw9Jh-yUTKzJ"
      },
      "source": [
        "## So sánh hiệu suất của các mô hình\n",
        "\n",
        "chúng ta đã train đến 5 mô hình kèm theo mô hình cơ sở. Bây giờ là lúc để so sánh khả năng dự đoán của mô hình trên tập dữ liệu kiểm định với 4 phương pháp đánh giá phân loại : "
      ]
    },
    {
      "cell_type": "code",
      "metadata": {
        "colab": {
          "base_uri": "https://localhost:8080/",
          "height": 235
        },
        "id": "Z-k4mlUfaWTY",
        "outputId": "778a0be6-0113-40d7-9b38-46b43002395c"
      },
      "source": [
        "all_model_results = pd.DataFrame({\n",
        "    \"baseline_model\" : baseline_results , \n",
        "    \"model_1_token_embeddings\" : model_1_results, \n",
        "    \"model_2_char_embeddings\" : model_2_results, \n",
        "    \"model_3_pretrain_embeddings\" : model_3_results, \n",
        "    \"model_4_token_char_hybrid\" : model_4_results, \n",
        "    \"model_5_token_char_position_tribrid\" : model_5_results\n",
        "})\n",
        "all_model_results = all_model_results.transpose()\n",
        "all_model_results"
      ],
      "execution_count": 151,
      "outputs": [
        {
          "output_type": "execute_result",
          "data": {
            "text/html": [
              "<div>\n",
              "<style scoped>\n",
              "    .dataframe tbody tr th:only-of-type {\n",
              "        vertical-align: middle;\n",
              "    }\n",
              "\n",
              "    .dataframe tbody tr th {\n",
              "        vertical-align: top;\n",
              "    }\n",
              "\n",
              "    .dataframe thead th {\n",
              "        text-align: right;\n",
              "    }\n",
              "</style>\n",
              "<table border=\"1\" class=\"dataframe\">\n",
              "  <thead>\n",
              "    <tr style=\"text-align: right;\">\n",
              "      <th></th>\n",
              "      <th>accuracy</th>\n",
              "      <th>precision</th>\n",
              "      <th>recall</th>\n",
              "      <th>f1-score</th>\n",
              "    </tr>\n",
              "  </thead>\n",
              "  <tbody>\n",
              "    <tr>\n",
              "      <th>baseline_model</th>\n",
              "      <td>0.721832</td>\n",
              "      <td>0.718647</td>\n",
              "      <td>0.721832</td>\n",
              "      <td>0.698925</td>\n",
              "    </tr>\n",
              "    <tr>\n",
              "      <th>model_1_token_embeddings</th>\n",
              "      <td>0.813452</td>\n",
              "      <td>0.816575</td>\n",
              "      <td>0.813452</td>\n",
              "      <td>0.806554</td>\n",
              "    </tr>\n",
              "    <tr>\n",
              "      <th>model_2_char_embeddings</th>\n",
              "      <td>0.736198</td>\n",
              "      <td>0.735023</td>\n",
              "      <td>0.736198</td>\n",
              "      <td>0.733572</td>\n",
              "    </tr>\n",
              "    <tr>\n",
              "      <th>model_3_pretrain_embeddings</th>\n",
              "      <td>0.756223</td>\n",
              "      <td>0.750465</td>\n",
              "      <td>0.756223</td>\n",
              "      <td>0.751319</td>\n",
              "    </tr>\n",
              "    <tr>\n",
              "      <th>model_4_token_char_hybrid</th>\n",
              "      <td>0.769860</td>\n",
              "      <td>0.767311</td>\n",
              "      <td>0.769860</td>\n",
              "      <td>0.766519</td>\n",
              "    </tr>\n",
              "    <tr>\n",
              "      <th>model_5_token_char_position_tribrid</th>\n",
              "      <td>0.846551</td>\n",
              "      <td>0.849644</td>\n",
              "      <td>0.846551</td>\n",
              "      <td>0.842955</td>\n",
              "    </tr>\n",
              "  </tbody>\n",
              "</table>\n",
              "</div>"
            ],
            "text/plain": [
              "                                     accuracy  precision    recall  f1-score\n",
              "baseline_model                       0.721832   0.718647  0.721832  0.698925\n",
              "model_1_token_embeddings             0.813452   0.816575  0.813452  0.806554\n",
              "model_2_char_embeddings              0.736198   0.735023  0.736198  0.733572\n",
              "model_3_pretrain_embeddings          0.756223   0.750465  0.756223  0.751319\n",
              "model_4_token_char_hybrid            0.769860   0.767311  0.769860  0.766519\n",
              "model_5_token_char_position_tribrid  0.846551   0.849644  0.846551  0.842955"
            ]
          },
          "metadata": {},
          "execution_count": 151
        }
      ]
    },
    {
      "cell_type": "code",
      "metadata": {
        "colab": {
          "base_uri": "https://localhost:8080/",
          "height": 563
        },
        "id": "RPjKuewJazwK",
        "outputId": "522c375d-3061-4d69-9449-09e7da8a7b11"
      },
      "source": [
        "all_model_results.sort_values(by=\"f1-score\",ascending=False).plot.bar(figsize=(16,6)).legend(bbox_to_anchor=([1,1]))"
      ],
      "execution_count": 155,
      "outputs": [
        {
          "output_type": "execute_result",
          "data": {
            "text/plain": [
              "<matplotlib.legend.Legend at 0x7f78eb87c090>"
            ]
          },
          "metadata": {},
          "execution_count": 155
        },
        {
          "output_type": "display_data",
          "data": {
            "image/png": "[encoded data removed]",
            "text/plain": [
              "<Figure size 1152x432 with 1 Axes>"
            ]
          },
          "metadata": {
            "needs_background": "light"
          }
        }
      ]
    },
    {
      "cell_type": "markdown",
      "metadata": {
        "id": "7hJoKmYWbVrY"
      },
      "source": [
        "So sánh `f1-score` giữa các mô hình "
      ]
    },
    {
      "cell_type": "code",
      "metadata": {
        "colab": {
          "base_uri": "https://localhost:8080/",
          "height": 563
        },
        "id": "AkF2nzP2bhKK",
        "outputId": "f8e142bd-f351-4709-e7e6-05c9af923a55"
      },
      "source": [
        "all_model_results.sort_values(\"f1-score\",ascending=False)[\"f1-score\"].plot.bar(figsize=(14,6))"
      ],
      "execution_count": 162,
      "outputs": [
        {
          "output_type": "execute_result",
          "data": {
            "text/plain": [
              "<matplotlib.axes._subplots.AxesSubplot at 0x7f78ee82cdd0>"
            ]
          },
          "metadata": {},
          "execution_count": 162
        },
        {
          "output_type": "display_data",
          "data": {
            "image/png": "[encoded data removed]",
            "text/plain": [
              "<Figure size 1008x432 with 1 Axes>"
            ]
          },
          "metadata": {
            "needs_background": "light"
          }
        }
      ]
    },
    {
      "cell_type": "markdown",
      "metadata": {
        "id": "8ZqxUaBRb9gC"
      },
      "source": [
        "Dựa trên `f1-score`, mô hình nhúng `token_char_position_tribrid` là mô hình tốt nhất. Mặc dù vậy, `f1-score` trong mô hình của chúng ta chỉ đạt ~84% trong khi trong [*PubMed 200k RCT:\n",
        "a Dataset for Sequential Sentence Classification in Medical Abstracts*](https://arxiv.org/pdf/1710.06071.pdf) lên đến ~90%. \n",
        "\n",
        "Có một số điều cần lưu ý về sự khác biệt này: \n",
        "+ Các mô hình của chúng ta (ngoại trừ mô hình cơ sở) chỉ được train ~18.000 mẫu dữ liệu (10% số cụm) mẫu  ~180.000 mẫu đầy đủ trong tập dữ liệu 20k RCT.\n",
        "+ Các mức hiệu suất dự đoán của mô hình của chúng tôi đã được đánh giá trên tập dữ liệu xác thực chứ không phải tập dữ liệu thử nghiệm (chúng ta sẽ sớm đánh giá trên tập dữ liệu thử nghiệm).\n",
        "\n",
        "Để mô hình được đánh giá chính xác nhất, chúng ta sẽ train `model_5` với toàn bộ dữ liệu train thay vì 10% dữ liệu như trước đây và train trong 5 epochs. \n",
        "\n"
      ]
    },
    {
      "cell_type": "markdown",
      "metadata": {
        "id": "qXGMBbKMdfvl"
      },
      "source": [
        "## Train toàn bộ dữ liệu với mô hình tốt nhất\n",
        "\n",
        "Trong phần này, chúng ta sẽ train mô hình tốt nhất (`model_5`) với đầy đủ dữ liệu 20.000 bản tóm tắt (~180.000 câu), cùng với việc cho phép layer nhúng đã được train trước đó được phép train với dữ liệu của chúng ta. Đầu tiên, chúng ta sẽ mở `tf_hub_embedding_layer` được phép train"
      ]
    },
    {
      "cell_type": "code",
      "metadata": {
        "id": "kvkEokqJxuA4"
      },
      "source": [
        "tf_hub_embedding_layer.trainable = True"
      ],
      "execution_count": 197,
      "outputs": []
    },
    {
      "cell_type": "markdown",
      "metadata": {
        "id": "WqAAPEwuycbn"
      },
      "source": [
        "Kiểm tra các layer trong mô hình `model_5` đã mở train hay chưa : "
      ]
    },
    {
      "cell_type": "code",
      "metadata": {
        "colab": {
          "base_uri": "https://localhost:8080/"
        },
        "id": "OsjbEyJNyh1Q",
        "outputId": "701d8092-c5b5-4984-fe7f-1da918ef3922"
      },
      "source": [
        "for layer  in model_5.layers : \n",
        "  print(layer.name, layer.trainable)"
      ],
      "execution_count": 198,
      "outputs": [
        {
          "output_type": "stream",
          "name": "stdout",
          "text": [
            "input_33 True\n",
            "input_32 True\n",
            "text_vectorization_1 True\n",
            "keras_layer True\n",
            "embedding_1 True\n",
            "dense_35 True\n",
            "bidirectional_8 True\n",
            "token_char_embedding_hybrid True\n",
            "dropout_12 True\n",
            "dense_38 True\n",
            "input_34 True\n",
            "input_35 True\n",
            "dropout_13 True\n",
            "dense_36 True\n",
            "dense_37 True\n",
            "token_char_embedding_tribrid True\n",
            "dense_39 True\n"
          ]
        }
      ]
    },
    {
      "cell_type": "markdown",
      "metadata": {
        "id": "qzuEo_wdywFJ"
      },
      "source": [
        "`embedding_1` đã có thể train trên dữ liệu của chúng ta. Tiếp theo cần compile mô hình lại và train mô hình với đầy đủ dữ liệu trong 3 epochs"
      ]
    },
    {
      "cell_type": "code",
      "metadata": {
        "id": "4GPCVxDwdHap"
      },
      "source": [
        "model_5.compile(\n",
        "    loss=tf.keras.losses.CategoricalCrossentropy(label_smoothing=0.2),\n",
        "    optimizer=\"adam\",\n",
        "    metrics=[\"accuracy\"]\n",
        ")"
      ],
      "execution_count": 199,
      "outputs": []
    },
    {
      "cell_type": "code",
      "metadata": {
        "colab": {
          "base_uri": "https://localhost:8080/"
        },
        "id": "pEkGkgOTd7pA",
        "outputId": "7aa64a19-7919-407b-bda6-53e4f90f5617"
      },
      "source": [
        "model_5_history_full_data = model_5.fit(\n",
        "    train_token_char_pos_dataset, \n",
        "    steps_per_epoch=len(train_token_char_pos_dataset),\n",
        "    epochs=3, \n",
        "    validation_data=val_token_char_pos_dataset,\n",
        "    validation_steps=int(0.1 * len(val_token_char_pos_dataset))\n",
        ")"
      ],
      "execution_count": 200,
      "outputs": [
        {
          "output_type": "stream",
          "name": "stdout",
          "text": [
            "Epoch 1/3\n",
            "5627/5627 [==============================] - 1618s 286ms/step - loss: 0.8943 - accuracy: 0.8641 - val_loss: 0.8756 - val_accuracy: 0.8654\n",
            "Epoch 2/3\n",
            "5627/5627 [==============================] - 1607s 286ms/step - loss: 0.8080 - accuracy: 0.9213 - val_loss: 0.8917 - val_accuracy: 0.8521\n",
            "Epoch 3/3\n",
            "5627/5627 [==============================] - 1606s 285ms/step - loss: 0.7424 - accuracy: 0.9653 - val_loss: 0.9196 - val_accuracy: 0.8511\n"
          ]
        }
      ]
    },
    {
      "cell_type": "code",
      "metadata": {
        "colab": {
          "base_uri": "https://localhost:8080/"
        },
        "id": "RSrBUDUQeK7b",
        "outputId": "c207bc69-eae6-40a0-8593-5881e0c1871d"
      },
      "source": [
        "model_5.evaluate(val_token_char_pos_dataset)"
      ],
      "execution_count": 201,
      "outputs": [
        {
          "output_type": "stream",
          "name": "stdout",
          "text": [
            "945/945 [==============================] - 51s 54ms/step - loss: 0.9101 - accuracy: 0.8559\n"
          ]
        },
        {
          "output_type": "execute_result",
          "data": {
            "text/plain": [
              "[0.9100814461708069, 0.8558850884437561]"
            ]
          },
          "metadata": {},
          "execution_count": 201
        }
      ]
    },
    {
      "cell_type": "code",
      "metadata": {
        "colab": {
          "base_uri": "https://localhost:8080/",
          "height": 390
        },
        "id": "TqrrsMQIsboT",
        "outputId": "dd0929a9-a205-47e1-d53a-5639270cf327"
      },
      "source": [
        "plot_loss_curves(model_5_history_full_data)"
      ],
      "execution_count": 202,
      "outputs": [
        {
          "output_type": "display_data",
          "data": {
            "image/png": "[encoded data removed]",
            "text/plain": [
              "<Figure size 1152x432 with 2 Axes>"
            ]
          },
          "metadata": {
            "needs_background": "light"
          }
        }
      ]
    },
    {
      "cell_type": "markdown",
      "metadata": {
        "id": "Kk4Yp9s3sruH"
      },
      "source": [
        "## 8. Đánh giá mô hình trên tập dữ liệu test\n",
        "\n",
        "Để làm cho hiệu suất của mô hình có thể so sánh hơn với các kết quả được báo cáo trong Bảng 3 của [*PubMed 200k RCT:\n",
        "a Dataset for Sequential Sentence Classification in Medical Abstracts*](https://arxiv.org/pdf/1710.06071.pdf), chúng ta sẽ đưa ra dự đoán trên tập dữ liệu `test` và đánh giá chúng."
      ]
    },
    {
      "cell_type": "code",
      "metadata": {
        "colab": {
          "base_uri": "https://localhost:8080/"
        },
        "id": "vprIYWlAs0Bk",
        "outputId": "ecd53ce2-ab46-4a45-b963-81168538cafd"
      },
      "source": [
        "test_pred_probs = model_5.predict(test_token_char_pos_dataset,verbose=1)\n",
        "test_pred_probs"
      ],
      "execution_count": 203,
      "outputs": [
        {
          "output_type": "stream",
          "name": "stdout",
          "text": [
            "942/942 [==============================] - 50s 52ms/step\n"
          ]
        },
        {
          "output_type": "execute_result",
          "data": {
            "text/plain": [
              "array([[0.7620796 , 0.07212228, 0.0470728 , 0.05983428, 0.05889097],\n",
              "       [0.05471471, 0.02601075, 0.17094806, 0.09807781, 0.6502487 ],\n",
              "       [0.06175671, 0.03193549, 0.7850063 , 0.06932633, 0.05197508],\n",
              "       ...,\n",
              "       [0.03283619, 0.09082782, 0.03028124, 0.03489877, 0.81115603],\n",
              "       [0.03325703, 0.11122436, 0.03141427, 0.03372067, 0.7903837 ],\n",
              "       [0.04100868, 0.8433286 , 0.03736025, 0.02516225, 0.05314017]],\n",
              "      dtype=float32)"
            ]
          },
          "metadata": {},
          "execution_count": 203
        }
      ]
    },
    {
      "cell_type": "code",
      "metadata": {
        "colab": {
          "base_uri": "https://localhost:8080/"
        },
        "id": "VmSHlFNStNjR",
        "outputId": "76b4c728-65a0-4f1a-e82b-ffccbaa6e9f9"
      },
      "source": [
        "test_pred_labels = tf.argmax(test_pred_probs,axis=1).numpy()\n",
        "test_pred_labels"
      ],
      "execution_count": 204,
      "outputs": [
        {
          "output_type": "execute_result",
          "data": {
            "text/plain": [
              "array([0, 4, 2, ..., 4, 4, 1])"
            ]
          },
          "metadata": {},
          "execution_count": 204
        }
      ]
    },
    {
      "cell_type": "code",
      "metadata": {
        "colab": {
          "base_uri": "https://localhost:8080/"
        },
        "id": "H9ZLWgQzte7W",
        "outputId": "653d4ead-5386-48ad-aaaa-0afc7d5609d2"
      },
      "source": [
        "test_results = calculate_results(test_labels_encoder, test_pred_labels)\n",
        "test_results"
      ],
      "execution_count": 205,
      "outputs": [
        {
          "output_type": "execute_result",
          "data": {
            "text/plain": [
              "{'accuracy': 0.8486809357889498,\n",
              " 'f1-score': 0.8456306856302124,\n",
              " 'precision': 0.8487085206365422,\n",
              " 'recall': 0.8486809357889498}"
            ]
          },
          "metadata": {},
          "execution_count": 205
        }
      ]
    },
    {
      "cell_type": "markdown",
      "metadata": {
        "id": "cOea8t4stkHl"
      },
      "source": [
        "Có vẻ như mô hình tốt nhất của chúng ta (cho đến nay) vẫn không thể vượt qua được khả năng dự đoán của mô hình trong `Pubmed` (90% với f1-score)."
      ]
    },
    {
      "cell_type": "markdown",
      "metadata": {
        "id": "PEh20tyquLES"
      },
      "source": [
        "## Tìm dự đoán sai nhất\n",
        "\n",
        "Một trong những cách tốt nhất để điều tra xem mô hình của bạn đang sai ở đâu (hoặc có khả năng là dữ liệu của bạn bị sai) là tìm các dự đoán \"sai nhất\".\n",
        "\n",
        "Các dự đoán sai nhiều nhất là các mẫu trong đó mô hình đã đưa ra dự đoán với xác suất cao nhưng lại sai (dự đoán của mô hình không phù hợp với label sự thật cơ bản).\n",
        "\n",
        "Việc xem xét các dự đoán sai nhất có thể cung cấp cho chúng ta thông tin có giá trị về cách cải thiện các mô hình khác hoặc sửa các label trong dữ liệu. \n",
        "\n"
      ]
    },
    {
      "cell_type": "code",
      "metadata": {
        "id": "jZrFFvBvuvTY"
      },
      "source": [
        "test_pred_classes = [class_names[label] for label in test_pred_labels]"
      ],
      "execution_count": 206,
      "outputs": []
    },
    {
      "cell_type": "code",
      "metadata": {
        "colab": {
          "base_uri": "https://localhost:8080/",
          "height": 669
        },
        "id": "FAeumYhgvUOU",
        "outputId": "5211d61a-e9c6-444f-b918-ef7c8c96b6ae"
      },
      "source": [
        "test_df[\"predict\"] = test_pred_classes\n",
        "test_df[\"predict prob\"] = tf.reduce_max(test_pred_probs,axis=1).numpy()\n",
        "test_df[\"result\"] = test_df[\"predict\"] == test_df[\"label\"]\n",
        "test_df.head(20)"
      ],
      "execution_count": 207,
      "outputs": [
        {
          "output_type": "execute_result",
          "data": {
            "text/html": [
              "<div>\n",
              "<style scoped>\n",
              "    .dataframe tbody tr th:only-of-type {\n",
              "        vertical-align: middle;\n",
              "    }\n",
              "\n",
              "    .dataframe tbody tr th {\n",
              "        vertical-align: top;\n",
              "    }\n",
              "\n",
              "    .dataframe thead th {\n",
              "        text-align: right;\n",
              "    }\n",
              "</style>\n",
              "<table border=\"1\" class=\"dataframe\">\n",
              "  <thead>\n",
              "    <tr style=\"text-align: right;\">\n",
              "      <th></th>\n",
              "      <th>label</th>\n",
              "      <th>text</th>\n",
              "      <th>line_number</th>\n",
              "      <th>total_lines</th>\n",
              "      <th>predict</th>\n",
              "      <th>predict prob</th>\n",
              "      <th>result</th>\n",
              "    </tr>\n",
              "  </thead>\n",
              "  <tbody>\n",
              "    <tr>\n",
              "      <th>0</th>\n",
              "      <td>BACKGROUND</td>\n",
              "      <td>this study analyzed liver function abnormaliti...</td>\n",
              "      <td>0</td>\n",
              "      <td>8</td>\n",
              "      <td>BACKGROUND</td>\n",
              "      <td>0.762080</td>\n",
              "      <td>True</td>\n",
              "    </tr>\n",
              "    <tr>\n",
              "      <th>1</th>\n",
              "      <td>RESULTS</td>\n",
              "      <td>a post hoc analysis was conducted with the use...</td>\n",
              "      <td>1</td>\n",
              "      <td>8</td>\n",
              "      <td>RESULTS</td>\n",
              "      <td>0.650249</td>\n",
              "      <td>True</td>\n",
              "    </tr>\n",
              "    <tr>\n",
              "      <th>2</th>\n",
              "      <td>RESULTS</td>\n",
              "      <td>liver function tests ( lfts ) were measured at...</td>\n",
              "      <td>2</td>\n",
              "      <td>8</td>\n",
              "      <td>METHODS</td>\n",
              "      <td>0.785006</td>\n",
              "      <td>False</td>\n",
              "    </tr>\n",
              "    <tr>\n",
              "      <th>3</th>\n",
              "      <td>RESULTS</td>\n",
              "      <td>survival analyses were used to assess the asso...</td>\n",
              "      <td>3</td>\n",
              "      <td>8</td>\n",
              "      <td>METHODS</td>\n",
              "      <td>0.760401</td>\n",
              "      <td>False</td>\n",
              "    </tr>\n",
              "    <tr>\n",
              "      <th>4</th>\n",
              "      <td>RESULTS</td>\n",
              "      <td>the percentage of patients with abnormal lfts ...</td>\n",
              "      <td>4</td>\n",
              "      <td>8</td>\n",
              "      <td>RESULTS</td>\n",
              "      <td>0.842392</td>\n",
              "      <td>True</td>\n",
              "    </tr>\n",
              "    <tr>\n",
              "      <th>5</th>\n",
              "      <td>RESULTS</td>\n",
              "      <td>when mean hemodynamic profiles were compared i...</td>\n",
              "      <td>5</td>\n",
              "      <td>8</td>\n",
              "      <td>RESULTS</td>\n",
              "      <td>0.857184</td>\n",
              "      <td>True</td>\n",
              "    </tr>\n",
              "    <tr>\n",
              "      <th>6</th>\n",
              "      <td>RESULTS</td>\n",
              "      <td>multivariable analyses revealed that patients ...</td>\n",
              "      <td>6</td>\n",
              "      <td>8</td>\n",
              "      <td>RESULTS</td>\n",
              "      <td>0.860895</td>\n",
              "      <td>True</td>\n",
              "    </tr>\n",
              "    <tr>\n",
              "      <th>7</th>\n",
              "      <td>CONCLUSIONS</td>\n",
              "      <td>abnormal lfts are common in the adhf populatio...</td>\n",
              "      <td>7</td>\n",
              "      <td>8</td>\n",
              "      <td>CONCLUSIONS</td>\n",
              "      <td>0.687371</td>\n",
              "      <td>True</td>\n",
              "    </tr>\n",
              "    <tr>\n",
              "      <th>8</th>\n",
              "      <td>CONCLUSIONS</td>\n",
              "      <td>elevated meld-xi scores are associated with po...</td>\n",
              "      <td>8</td>\n",
              "      <td>8</td>\n",
              "      <td>CONCLUSIONS</td>\n",
              "      <td>0.760578</td>\n",
              "      <td>True</td>\n",
              "    </tr>\n",
              "    <tr>\n",
              "      <th>9</th>\n",
              "      <td>BACKGROUND</td>\n",
              "      <td>minimally invasive endovascular aneurysm repai...</td>\n",
              "      <td>0</td>\n",
              "      <td>12</td>\n",
              "      <td>BACKGROUND</td>\n",
              "      <td>0.573547</td>\n",
              "      <td>True</td>\n",
              "    </tr>\n",
              "    <tr>\n",
              "      <th>10</th>\n",
              "      <td>BACKGROUND</td>\n",
              "      <td>the aim of this study was to analyse the cost-...</td>\n",
              "      <td>1</td>\n",
              "      <td>12</td>\n",
              "      <td>OBJECTIVE</td>\n",
              "      <td>0.513305</td>\n",
              "      <td>False</td>\n",
              "    </tr>\n",
              "    <tr>\n",
              "      <th>11</th>\n",
              "      <td>METHODS</td>\n",
              "      <td>resource use was determined from the amsterdam...</td>\n",
              "      <td>2</td>\n",
              "      <td>12</td>\n",
              "      <td>METHODS</td>\n",
              "      <td>0.808824</td>\n",
              "      <td>True</td>\n",
              "    </tr>\n",
              "    <tr>\n",
              "      <th>12</th>\n",
              "      <td>METHODS</td>\n",
              "      <td>the analysis was performed from a provider per...</td>\n",
              "      <td>3</td>\n",
              "      <td>12</td>\n",
              "      <td>METHODS</td>\n",
              "      <td>0.796364</td>\n",
              "      <td>True</td>\n",
              "    </tr>\n",
              "    <tr>\n",
              "      <th>13</th>\n",
              "      <td>METHODS</td>\n",
              "      <td>all costs were calculated as if all patients h...</td>\n",
              "      <td>4</td>\n",
              "      <td>12</td>\n",
              "      <td>METHODS</td>\n",
              "      <td>0.798233</td>\n",
              "      <td>True</td>\n",
              "    </tr>\n",
              "    <tr>\n",
              "      <th>14</th>\n",
              "      <td>RESULTS</td>\n",
              "      <td>a total of @ patients were randomized .</td>\n",
              "      <td>5</td>\n",
              "      <td>12</td>\n",
              "      <td>RESULTS</td>\n",
              "      <td>0.809269</td>\n",
              "      <td>True</td>\n",
              "    </tr>\n",
              "    <tr>\n",
              "      <th>15</th>\n",
              "      <td>RESULTS</td>\n",
              "      <td>the @-day mortality rate was @ per cent after ...</td>\n",
              "      <td>6</td>\n",
              "      <td>12</td>\n",
              "      <td>RESULTS</td>\n",
              "      <td>0.847142</td>\n",
              "      <td>True</td>\n",
              "    </tr>\n",
              "    <tr>\n",
              "      <th>16</th>\n",
              "      <td>RESULTS</td>\n",
              "      <td>at @months , the total mortality rate for evar...</td>\n",
              "      <td>7</td>\n",
              "      <td>12</td>\n",
              "      <td>RESULTS</td>\n",
              "      <td>0.862013</td>\n",
              "      <td>True</td>\n",
              "    </tr>\n",
              "    <tr>\n",
              "      <th>17</th>\n",
              "      <td>RESULTS</td>\n",
              "      <td>the mean cost difference between evar and or w...</td>\n",
              "      <td>8</td>\n",
              "      <td>12</td>\n",
              "      <td>RESULTS</td>\n",
              "      <td>0.855894</td>\n",
              "      <td>True</td>\n",
              "    </tr>\n",
              "    <tr>\n",
              "      <th>18</th>\n",
              "      <td>RESULTS</td>\n",
              "      <td>the incremental cost-effectiveness ratio per p...</td>\n",
              "      <td>9</td>\n",
              "      <td>12</td>\n",
              "      <td>RESULTS</td>\n",
              "      <td>0.857229</td>\n",
              "      <td>True</td>\n",
              "    </tr>\n",
              "    <tr>\n",
              "      <th>19</th>\n",
              "      <td>RESULTS</td>\n",
              "      <td>there was no significant difference in quality...</td>\n",
              "      <td>10</td>\n",
              "      <td>12</td>\n",
              "      <td>RESULTS</td>\n",
              "      <td>0.846202</td>\n",
              "      <td>True</td>\n",
              "    </tr>\n",
              "  </tbody>\n",
              "</table>\n",
              "</div>"
            ],
            "text/plain": [
              "          label  ... result\n",
              "0    BACKGROUND  ...   True\n",
              "1       RESULTS  ...   True\n",
              "2       RESULTS  ...  False\n",
              "3       RESULTS  ...  False\n",
              "4       RESULTS  ...   True\n",
              "5       RESULTS  ...   True\n",
              "6       RESULTS  ...   True\n",
              "7   CONCLUSIONS  ...   True\n",
              "8   CONCLUSIONS  ...   True\n",
              "9    BACKGROUND  ...   True\n",
              "10   BACKGROUND  ...  False\n",
              "11      METHODS  ...   True\n",
              "12      METHODS  ...   True\n",
              "13      METHODS  ...   True\n",
              "14      RESULTS  ...   True\n",
              "15      RESULTS  ...   True\n",
              "16      RESULTS  ...   True\n",
              "17      RESULTS  ...   True\n",
              "18      RESULTS  ...   True\n",
              "19      RESULTS  ...   True\n",
              "\n",
              "[20 rows x 7 columns]"
            ]
          },
          "metadata": {},
          "execution_count": 207
        }
      ]
    },
    {
      "cell_type": "code",
      "metadata": {
        "colab": {
          "base_uri": "https://localhost:8080/",
          "height": 419
        },
        "id": "1bOpdn6Svump",
        "outputId": "1803b93b-7e12-4af4-ed22-108a7d663cfa"
      },
      "source": [
        "top_100_wrong = test_df[test_df[\"result\"] == False].sort_values(\"predict prob\",ascending=False)[:100]\n",
        "top_100_wrong"
      ],
      "execution_count": 208,
      "outputs": [
        {
          "output_type": "execute_result",
          "data": {
            "text/html": [
              "<div>\n",
              "<style scoped>\n",
              "    .dataframe tbody tr th:only-of-type {\n",
              "        vertical-align: middle;\n",
              "    }\n",
              "\n",
              "    .dataframe tbody tr th {\n",
              "        vertical-align: top;\n",
              "    }\n",
              "\n",
              "    .dataframe thead th {\n",
              "        text-align: right;\n",
              "    }\n",
              "</style>\n",
              "<table border=\"1\" class=\"dataframe\">\n",
              "  <thead>\n",
              "    <tr style=\"text-align: right;\">\n",
              "      <th></th>\n",
              "      <th>label</th>\n",
              "      <th>text</th>\n",
              "      <th>line_number</th>\n",
              "      <th>total_lines</th>\n",
              "      <th>predict</th>\n",
              "      <th>predict prob</th>\n",
              "      <th>result</th>\n",
              "    </tr>\n",
              "  </thead>\n",
              "  <tbody>\n",
              "    <tr>\n",
              "      <th>24909</th>\n",
              "      <td>OBJECTIVE</td>\n",
              "      <td>our objective was to evaluate the efficacy and...</td>\n",
              "      <td>0</td>\n",
              "      <td>18</td>\n",
              "      <td>BACKGROUND</td>\n",
              "      <td>0.912732</td>\n",
              "      <td>False</td>\n",
              "    </tr>\n",
              "    <tr>\n",
              "      <th>15926</th>\n",
              "      <td>OBJECTIVE</td>\n",
              "      <td>the aim is to determine , from the patient 's ...</td>\n",
              "      <td>0</td>\n",
              "      <td>18</td>\n",
              "      <td>BACKGROUND</td>\n",
              "      <td>0.899860</td>\n",
              "      <td>False</td>\n",
              "    </tr>\n",
              "    <tr>\n",
              "      <th>24764</th>\n",
              "      <td>OBJECTIVE</td>\n",
              "      <td>schools are considered an attractive setting t...</td>\n",
              "      <td>0</td>\n",
              "      <td>18</td>\n",
              "      <td>BACKGROUND</td>\n",
              "      <td>0.895462</td>\n",
              "      <td>False</td>\n",
              "    </tr>\n",
              "    <tr>\n",
              "      <th>9932</th>\n",
              "      <td>OBJECTIVE</td>\n",
              "      <td>the aim of this study was to evaluate the peri...</td>\n",
              "      <td>1</td>\n",
              "      <td>16</td>\n",
              "      <td>BACKGROUND</td>\n",
              "      <td>0.894811</td>\n",
              "      <td>False</td>\n",
              "    </tr>\n",
              "    <tr>\n",
              "      <th>27699</th>\n",
              "      <td>OBJECTIVE</td>\n",
              "      <td>clonidine is often used as a sedative in criti...</td>\n",
              "      <td>0</td>\n",
              "      <td>12</td>\n",
              "      <td>BACKGROUND</td>\n",
              "      <td>0.892765</td>\n",
              "      <td>False</td>\n",
              "    </tr>\n",
              "    <tr>\n",
              "      <th>...</th>\n",
              "      <td>...</td>\n",
              "      <td>...</td>\n",
              "      <td>...</td>\n",
              "      <td>...</td>\n",
              "      <td>...</td>\n",
              "      <td>...</td>\n",
              "      <td>...</td>\n",
              "    </tr>\n",
              "    <tr>\n",
              "      <th>19222</th>\n",
              "      <td>METHODS</td>\n",
              "      <td>results-of the @ dogs receiving maropitant , n...</td>\n",
              "      <td>6</td>\n",
              "      <td>10</td>\n",
              "      <td>RESULTS</td>\n",
              "      <td>0.859362</td>\n",
              "      <td>False</td>\n",
              "    </tr>\n",
              "    <tr>\n",
              "      <th>29834</th>\n",
              "      <td>CONCLUSIONS</td>\n",
              "      <td>waz changed over time and the predictors of ch...</td>\n",
              "      <td>9</td>\n",
              "      <td>13</td>\n",
              "      <td>RESULTS</td>\n",
              "      <td>0.859221</td>\n",
              "      <td>False</td>\n",
              "    </tr>\n",
              "    <tr>\n",
              "      <th>3665</th>\n",
              "      <td>CONCLUSIONS</td>\n",
              "      <td>there were no significant differences between ...</td>\n",
              "      <td>9</td>\n",
              "      <td>10</td>\n",
              "      <td>RESULTS</td>\n",
              "      <td>0.859136</td>\n",
              "      <td>False</td>\n",
              "    </tr>\n",
              "    <tr>\n",
              "      <th>18392</th>\n",
              "      <td>CONCLUSIONS</td>\n",
              "      <td>fao + patients tended to be more impaired and ...</td>\n",
              "      <td>8</td>\n",
              "      <td>9</td>\n",
              "      <td>RESULTS</td>\n",
              "      <td>0.858869</td>\n",
              "      <td>False</td>\n",
              "    </tr>\n",
              "    <tr>\n",
              "      <th>1136</th>\n",
              "      <td>METHODS</td>\n",
              "      <td>the time point at which the patient began to s...</td>\n",
              "      <td>5</td>\n",
              "      <td>8</td>\n",
              "      <td>RESULTS</td>\n",
              "      <td>0.858823</td>\n",
              "      <td>False</td>\n",
              "    </tr>\n",
              "  </tbody>\n",
              "</table>\n",
              "<p>100 rows × 7 columns</p>\n",
              "</div>"
            ],
            "text/plain": [
              "             label  ... result\n",
              "24909    OBJECTIVE  ...  False\n",
              "15926    OBJECTIVE  ...  False\n",
              "24764    OBJECTIVE  ...  False\n",
              "9932     OBJECTIVE  ...  False\n",
              "27699    OBJECTIVE  ...  False\n",
              "...            ...  ...    ...\n",
              "19222      METHODS  ...  False\n",
              "29834  CONCLUSIONS  ...  False\n",
              "3665   CONCLUSIONS  ...  False\n",
              "18392  CONCLUSIONS  ...  False\n",
              "1136       METHODS  ...  False\n",
              "\n",
              "[100 rows x 7 columns]"
            ]
          },
          "metadata": {},
          "execution_count": 208
        }
      ]
    },
    {
      "cell_type": "code",
      "metadata": {
        "colab": {
          "base_uri": "https://localhost:8080/",
          "height": 344
        },
        "id": "Eo-4gyCXw0S5",
        "outputId": "c0603ec0-39ac-4951-cbdb-50435fad653f"
      },
      "source": [
        "top_100_wrong[\"predict\"].value_counts().plot.bar()"
      ],
      "execution_count": 209,
      "outputs": [
        {
          "output_type": "execute_result",
          "data": {
            "text/plain": [
              "<matplotlib.axes._subplots.AxesSubplot at 0x7f78e8f610d0>"
            ]
          },
          "metadata": {},
          "execution_count": 209
        },
        {
          "output_type": "display_data",
          "data": {
            "image/png": "[encoded data removed]",
            "text/plain": [
              "<Figure size 432x288 with 1 Axes>"
            ]
          },
          "metadata": {
            "needs_background": "light"
          }
        }
      ]
    },
    {
      "cell_type": "markdown",
      "metadata": {
        "id": "KhHPOl_OwZO8"
      },
      "source": [
        "Bạn nhận thấy điều gì về những dự đoán sai nhất? một câu thuộc `RESULT` và `METHOD` thì sai nhiều nhất, có thể trong 2 trường này có những từ hoặc ký tự tương đồng với nhau khiến mô hình dễ bị nhầm lẫn."
      ]
    },
    {
      "cell_type": "code",
      "metadata": {
        "id": "D54P-zFmxg4R"
      },
      "source": [
        ""
      ],
      "execution_count": 209,
      "outputs": []
    }
  ]
}